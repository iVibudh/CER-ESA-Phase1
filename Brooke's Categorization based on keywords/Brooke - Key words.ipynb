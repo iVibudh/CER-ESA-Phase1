{
 "cells": [
  {
   "cell_type": "code",
   "execution_count": 92,
   "metadata": {},
   "outputs": [],
   "source": [
    "import pandas as pd\n",
    "import nltk\n",
    "\n",
    "from IPython.core.interactiveshell import InteractiveShell\n",
    "InteractiveShell.ast_node_interactivity = \"all\"\n",
    "# Importing libraries \n",
    "import nltk \n",
    "import re \n",
    "from sklearn.feature_extraction.text import CountVectorizer, TfidfVectorizer \n",
    "from nltk.corpus import stopwords \n",
    "from nltk.tokenize import word_tokenize \n",
    "import pandas as pd "
   ]
  },
  {
   "cell_type": "code",
   "execution_count": 93,
   "metadata": {},
   "outputs": [
    {
     "data": {
      "text/html": [
       "<div>\n",
       "<style scoped>\n",
       "    .dataframe tbody tr th:only-of-type {\n",
       "        vertical-align: middle;\n",
       "    }\n",
       "\n",
       "    .dataframe tbody tr th {\n",
       "        vertical-align: top;\n",
       "    }\n",
       "\n",
       "    .dataframe thead th {\n",
       "        text-align: right;\n",
       "    }\n",
       "</style>\n",
       "<table border=\"1\" class=\"dataframe\">\n",
       "  <thead>\n",
       "    <tr style=\"text-align: right;\">\n",
       "      <th></th>\n",
       "      <th>Application title short</th>\n",
       "      <th>Component</th>\n",
       "      <th>Component PDF Name</th>\n",
       "      <th>file_name</th>\n",
       "      <th>Component Index</th>\n",
       "    </tr>\n",
       "  </thead>\n",
       "  <tbody>\n",
       "    <tr>\n",
       "      <td>0</td>\n",
       "      <td>Application for 2021 NGTL System Expansion Pro...</td>\n",
       "      <td>Appendix A</td>\n",
       "      <td>Environmental Protection Plan</td>\n",
       "      <td>A92619-16 16 ESA Appendix A EPP - A6F4Q9</td>\n",
       "      <td>1.0</td>\n",
       "    </tr>\n",
       "    <tr>\n",
       "      <td>1</td>\n",
       "      <td>Application for 2021 NGTL System Expansion Pro...</td>\n",
       "      <td>Appendix B</td>\n",
       "      <td>Environmental Alignment Sheet Package</td>\n",
       "      <td>A92619-17 17 ESA Appendix B EAS-Part A - A6F4R0</td>\n",
       "      <td>2.0</td>\n",
       "    </tr>\n",
       "    <tr>\n",
       "      <td>2</td>\n",
       "      <td>Application for 2021 NGTL System Expansion Pro...</td>\n",
       "      <td>Appendix B</td>\n",
       "      <td>Environmental Alignment Sheet Package</td>\n",
       "      <td>A92619-18 18 ESA Appendix B EAS-Part B - A6F4R1</td>\n",
       "      <td>3.0</td>\n",
       "    </tr>\n",
       "    <tr>\n",
       "      <td>3</td>\n",
       "      <td>Application for 2021 NGTL System Expansion Pro...</td>\n",
       "      <td>Appendix C</td>\n",
       "      <td>Soil and Soil Productivity, Water Quality and ...</td>\n",
       "      <td>A92619-19 19 ESA Appendices C to K - A6F4R2</td>\n",
       "      <td>4.0</td>\n",
       "    </tr>\n",
       "    <tr>\n",
       "      <td>4</td>\n",
       "      <td>Application for 2021 NGTL System Expansion Pro...</td>\n",
       "      <td>ESA</td>\n",
       "      <td>ESA</td>\n",
       "      <td>A92619-10 10 ESA Sections 1 to 4 - A6F4Q3</td>\n",
       "      <td>5.0</td>\n",
       "    </tr>\n",
       "  </tbody>\n",
       "</table>\n",
       "</div>"
      ],
      "text/plain": [
       "                             Application title short    Component  \\\n",
       "0  Application for 2021 NGTL System Expansion Pro...  Appendix A    \n",
       "1  Application for 2021 NGTL System Expansion Pro...   Appendix B   \n",
       "2  Application for 2021 NGTL System Expansion Pro...   Appendix B   \n",
       "3  Application for 2021 NGTL System Expansion Pro...   Appendix C   \n",
       "4  Application for 2021 NGTL System Expansion Pro...          ESA   \n",
       "\n",
       "                                  Component PDF Name  \\\n",
       "0                      Environmental Protection Plan   \n",
       "1              Environmental Alignment Sheet Package   \n",
       "2              Environmental Alignment Sheet Package   \n",
       "3  Soil and Soil Productivity, Water Quality and ...   \n",
       "4                                                ESA   \n",
       "\n",
       "                                         file_name  Component Index  \n",
       "0         A92619-16 16 ESA Appendix A EPP - A6F4Q9              1.0  \n",
       "1  A92619-17 17 ESA Appendix B EAS-Part A - A6F4R0              2.0  \n",
       "2  A92619-18 18 ESA Appendix B EAS-Part B - A6F4R1              3.0  \n",
       "3      A92619-19 19 ESA Appendices C to K - A6F4R2              4.0  \n",
       "4        A92619-10 10 ESA Sections 1 to 4 - A6F4Q3              5.0  "
      ]
     },
     "execution_count": 93,
     "metadata": {},
     "output_type": "execute_result"
    },
    {
     "data": {
      "text/plain": [
       "1196"
      ]
     },
     "execution_count": 93,
     "metadata": {},
     "output_type": "execute_result"
    },
    {
     "name": "stdout",
     "output_type": "stream",
     "text": [
      "1196\n"
     ]
    },
    {
     "data": {
      "text/plain": [
       "'Environmental Alignment Sheet Package'"
      ]
     },
     "execution_count": 93,
     "metadata": {},
     "output_type": "execute_result"
    }
   ],
   "source": [
    "file = 'F://Environmental Baseline Data//Version 4 - Final//Support files//Appendices mapped with files per Project.xlsx'\n",
    "\n",
    "df = pd.read_excel(file, sheet_name=\"new\")\n",
    "df.head()\n",
    "len(df)\n",
    "#df.columns\n",
    "\n",
    "Text = df['Component PDF Name']\n",
    "print(len(Text))\n",
    "Text[1]"
   ]
  },
  {
   "cell_type": "markdown",
   "metadata": {},
   "source": [
    "# Frequency, Bigrams, Trigrams"
   ]
  },
  {
   "cell_type": "markdown",
   "metadata": {},
   "source": [
    "Ref -> https://www.geeksforgeeks.org/tf-idf-for-bigrams-trigrams/"
   ]
  },
  {
   "cell_type": "code",
   "execution_count": 145,
   "metadata": {},
   "outputs": [
    {
     "data": {
      "text/plain": [
       "1196"
      ]
     },
     "execution_count": 145,
     "metadata": {},
     "output_type": "execute_result"
    },
    {
     "data": {
      "text/plain": [
       "['',\n",
       " '',\n",
       " '',\n",
       " '',\n",
       " '',\n",
       " 'executive summary contents',\n",
       " 'introduction',\n",
       " 'introduction project description consultation relation routing siting']"
      ]
     },
     "execution_count": 145,
     "metadata": {},
     "output_type": "execute_result"
    }
   ],
   "source": [
    "#nltk.download('stopwords')\n",
    "def remove_string_special_characters(s): \n",
    "      \n",
    "    # removes special characters with ' ' \n",
    "    stripped = re.sub('[^a-zA-z\\s]', '', s) \n",
    "    stripped = re.sub('_', '', stripped) \n",
    "      \n",
    "    # Change any white space to one space \n",
    "    stripped = re.sub('\\s+', ' ', stripped) \n",
    "      \n",
    "    # Remove start and end white spaces \n",
    "    stripped = stripped.strip() \n",
    "    if stripped != '': \n",
    "            return stripped.lower() \n",
    "          \n",
    "\n",
    "# Stopword removal  \n",
    "stop_words = set(stopwords.words('english')) \n",
    "your_list = ['and', 'is', 'the', 'table', 'appendix', 'esa', 'environment', 'environmental', \n",
    "             'sheet', 'report', 'assessment', 'nan', 'plan', 'protection', 'section', 'effects',\n",
    "            'project'] \n",
    "Text_clean = []\n",
    "for line in Text:\n",
    "    line_clean = \"\"\n",
    "    line = remove_string_special_characters(str(line))\n",
    "    for x in str(line).split():\n",
    "        if (x not in stop_words) and (x not in your_list) and len(x) > 2:\n",
    "            line_clean = line_clean + \" \" + str(x)\n",
    "    Text_clean.append(line_clean.strip())\n",
    "len(Text_clean)\n",
    "Text_clean[5:13]\n"
   ]
  },
  {
   "cell_type": "markdown",
   "metadata": {},
   "source": [
    "# Frequency"
   ]
  },
  {
   "cell_type": "code",
   "execution_count": 146,
   "metadata": {},
   "outputs": [
    {
     "data": {
      "text/plain": [
       "3586"
      ]
     },
     "execution_count": 146,
     "metadata": {},
     "output_type": "execute_result"
    },
    {
     "data": {
      "text/plain": [
       "3586"
      ]
     },
     "execution_count": 146,
     "metadata": {},
     "output_type": "execute_result"
    },
    {
     "data": {
      "text/plain": [
       "364"
      ]
     },
     "execution_count": 146,
     "metadata": {},
     "output_type": "execute_result"
    },
    {
     "data": {
      "text/plain": [
       "364"
      ]
     },
     "execution_count": 146,
     "metadata": {},
     "output_type": "execute_result"
    },
    {
     "data": {
      "text/html": [
       "<div>\n",
       "<style scoped>\n",
       "    .dataframe tbody tr th:only-of-type {\n",
       "        vertical-align: middle;\n",
       "    }\n",
       "\n",
       "    .dataframe tbody tr th {\n",
       "        vertical-align: top;\n",
       "    }\n",
       "\n",
       "    .dataframe thead th {\n",
       "        text-align: right;\n",
       "    }\n",
       "</style>\n",
       "<table border=\"1\" class=\"dataframe\">\n",
       "  <thead>\n",
       "    <tr style=\"text-align: right;\">\n",
       "      <th></th>\n",
       "      <th>Word</th>\n",
       "      <th>Freq</th>\n",
       "    </tr>\n",
       "  </thead>\n",
       "  <tbody>\n",
       "    <tr>\n",
       "      <td>0</td>\n",
       "      <td>alignment</td>\n",
       "      <td>446</td>\n",
       "    </tr>\n",
       "    <tr>\n",
       "      <td>1</td>\n",
       "      <td>package</td>\n",
       "      <td>33</td>\n",
       "    </tr>\n",
       "    <tr>\n",
       "      <td>2</td>\n",
       "      <td>soil</td>\n",
       "      <td>37</td>\n",
       "    </tr>\n",
       "    <tr>\n",
       "      <td>3</td>\n",
       "      <td>productivity</td>\n",
       "      <td>1</td>\n",
       "    </tr>\n",
       "    <tr>\n",
       "      <td>4</td>\n",
       "      <td>water</td>\n",
       "      <td>11</td>\n",
       "    </tr>\n",
       "  </tbody>\n",
       "</table>\n",
       "</div>"
      ],
      "text/plain": [
       "           Word  Freq\n",
       "0     alignment   446\n",
       "1       package    33\n",
       "2          soil    37\n",
       "3  productivity     1\n",
       "4         water    11"
      ]
     },
     "execution_count": 146,
     "metadata": {},
     "output_type": "execute_result"
    },
    {
     "data": {
      "text/html": [
       "<div>\n",
       "<style scoped>\n",
       "    .dataframe tbody tr th:only-of-type {\n",
       "        vertical-align: middle;\n",
       "    }\n",
       "\n",
       "    .dataframe tbody tr th {\n",
       "        vertical-align: top;\n",
       "    }\n",
       "\n",
       "    .dataframe thead th {\n",
       "        text-align: right;\n",
       "    }\n",
       "</style>\n",
       "<table border=\"1\" class=\"dataframe\">\n",
       "  <thead>\n",
       "    <tr style=\"text-align: right;\">\n",
       "      <th></th>\n",
       "      <th>Word</th>\n",
       "      <th>Freq</th>\n",
       "    </tr>\n",
       "  </thead>\n",
       "  <tbody>\n",
       "    <tr>\n",
       "      <td>0</td>\n",
       "      <td>alignment</td>\n",
       "      <td>446</td>\n",
       "    </tr>\n",
       "    <tr>\n",
       "      <td>116</td>\n",
       "      <td>sheets</td>\n",
       "      <td>414</td>\n",
       "    </tr>\n",
       "    <tr>\n",
       "      <td>104</td>\n",
       "      <td>technical</td>\n",
       "      <td>206</td>\n",
       "    </tr>\n",
       "    <tr>\n",
       "      <td>287</td>\n",
       "      <td>fisheries</td>\n",
       "      <td>81</td>\n",
       "    </tr>\n",
       "    <tr>\n",
       "      <td>34</td>\n",
       "      <td>socioeconomic</td>\n",
       "      <td>61</td>\n",
       "    </tr>\n",
       "    <tr>\n",
       "      <td>54</td>\n",
       "      <td>vegetation</td>\n",
       "      <td>60</td>\n",
       "    </tr>\n",
       "    <tr>\n",
       "      <td>9</td>\n",
       "      <td>wildlife</td>\n",
       "      <td>57</td>\n",
       "    </tr>\n",
       "    <tr>\n",
       "      <td>79</td>\n",
       "      <td>gas</td>\n",
       "      <td>53</td>\n",
       "    </tr>\n",
       "    <tr>\n",
       "      <td>56</td>\n",
       "      <td>baseline</td>\n",
       "      <td>52</td>\n",
       "    </tr>\n",
       "    <tr>\n",
       "      <td>26</td>\n",
       "      <td>project</td>\n",
       "      <td>47</td>\n",
       "    </tr>\n",
       "    <tr>\n",
       "      <td>203</td>\n",
       "      <td>british</td>\n",
       "      <td>46</td>\n",
       "    </tr>\n",
       "    <tr>\n",
       "      <td>204</td>\n",
       "      <td>columbia</td>\n",
       "      <td>46</td>\n",
       "    </tr>\n",
       "    <tr>\n",
       "      <td>7</td>\n",
       "      <td>fish</td>\n",
       "      <td>44</td>\n",
       "    </tr>\n",
       "    <tr>\n",
       "      <td>47</td>\n",
       "      <td>pipeline</td>\n",
       "      <td>42</td>\n",
       "    </tr>\n",
       "    <tr>\n",
       "      <td>69</td>\n",
       "      <td>results</td>\n",
       "      <td>38</td>\n",
       "    </tr>\n",
       "    <tr>\n",
       "      <td>2</td>\n",
       "      <td>soil</td>\n",
       "      <td>37</td>\n",
       "    </tr>\n",
       "    <tr>\n",
       "      <td>35</td>\n",
       "      <td>setting</td>\n",
       "      <td>37</td>\n",
       "    </tr>\n",
       "    <tr>\n",
       "      <td>93</td>\n",
       "      <td>nova</td>\n",
       "      <td>36</td>\n",
       "    </tr>\n",
       "    <tr>\n",
       "      <td>94</td>\n",
       "      <td>transmission</td>\n",
       "      <td>36</td>\n",
       "    </tr>\n",
       "    <tr>\n",
       "      <td>119</td>\n",
       "      <td>expansion</td>\n",
       "      <td>35</td>\n",
       "    </tr>\n",
       "    <tr>\n",
       "      <td>8</td>\n",
       "      <td>habitat</td>\n",
       "      <td>35</td>\n",
       "    </tr>\n",
       "    <tr>\n",
       "      <td>1</td>\n",
       "      <td>package</td>\n",
       "      <td>33</td>\n",
       "    </tr>\n",
       "    <tr>\n",
       "      <td>202</td>\n",
       "      <td>alberta</td>\n",
       "      <td>32</td>\n",
       "    </tr>\n",
       "    <tr>\n",
       "      <td>92</td>\n",
       "      <td>proposed</td>\n",
       "      <td>31</td>\n",
       "    </tr>\n",
       "    <tr>\n",
       "      <td>59</td>\n",
       "      <td>data</td>\n",
       "      <td>31</td>\n",
       "    </tr>\n",
       "    <tr>\n",
       "      <td>5</td>\n",
       "      <td>quality</td>\n",
       "      <td>30</td>\n",
       "    </tr>\n",
       "    <tr>\n",
       "      <td>64</td>\n",
       "      <td>wetland</td>\n",
       "      <td>27</td>\n",
       "    </tr>\n",
       "    <tr>\n",
       "      <td>33</td>\n",
       "      <td>biophysical</td>\n",
       "      <td>26</td>\n",
       "    </tr>\n",
       "    <tr>\n",
       "      <td>153</td>\n",
       "      <td>field</td>\n",
       "      <td>26</td>\n",
       "    </tr>\n",
       "    <tr>\n",
       "      <td>345</td>\n",
       "      <td>volume</td>\n",
       "      <td>25</td>\n",
       "    </tr>\n",
       "    <tr>\n",
       "      <td>177</td>\n",
       "      <td>information</td>\n",
       "      <td>25</td>\n",
       "    </tr>\n",
       "    <tr>\n",
       "      <td>282</td>\n",
       "      <td>groundwater</td>\n",
       "      <td>25</td>\n",
       "    </tr>\n",
       "    <tr>\n",
       "      <td>55</td>\n",
       "      <td>wetlands</td>\n",
       "      <td>24</td>\n",
       "    </tr>\n",
       "    <tr>\n",
       "      <td>117</td>\n",
       "      <td>ngtl</td>\n",
       "      <td>24</td>\n",
       "    </tr>\n",
       "    <tr>\n",
       "      <td>95</td>\n",
       "      <td>ltd</td>\n",
       "      <td>24</td>\n",
       "    </tr>\n",
       "    <tr>\n",
       "      <td>23</td>\n",
       "      <td>summary</td>\n",
       "      <td>23</td>\n",
       "    </tr>\n",
       "    <tr>\n",
       "      <td>118</td>\n",
       "      <td>system</td>\n",
       "      <td>23</td>\n",
       "    </tr>\n",
       "    <tr>\n",
       "      <td>102</td>\n",
       "      <td>north</td>\n",
       "      <td>22</td>\n",
       "    </tr>\n",
       "    <tr>\n",
       "      <td>239</td>\n",
       "      <td>marine</td>\n",
       "      <td>21</td>\n",
       "    </tr>\n",
       "    <tr>\n",
       "      <td>10</td>\n",
       "      <td>air</td>\n",
       "      <td>20</td>\n",
       "    </tr>\n",
       "    <tr>\n",
       "      <td>77</td>\n",
       "      <td>species</td>\n",
       "      <td>19</td>\n",
       "    </tr>\n",
       "    <tr>\n",
       "      <td>145</td>\n",
       "      <td>impact</td>\n",
       "      <td>19</td>\n",
       "    </tr>\n",
       "    <tr>\n",
       "      <td>58</td>\n",
       "      <td>survey</td>\n",
       "      <td>19</td>\n",
       "    </tr>\n",
       "    <tr>\n",
       "      <td>57</td>\n",
       "      <td>figures</td>\n",
       "      <td>18</td>\n",
       "    </tr>\n",
       "    <tr>\n",
       "      <td>18</td>\n",
       "      <td>decommissioning</td>\n",
       "      <td>17</td>\n",
       "    </tr>\n",
       "    <tr>\n",
       "      <td>142</td>\n",
       "      <td>soils</td>\n",
       "      <td>16</td>\n",
       "    </tr>\n",
       "    <tr>\n",
       "      <td>337</td>\n",
       "      <td>keystone</td>\n",
       "      <td>15</td>\n",
       "    </tr>\n",
       "    <tr>\n",
       "      <td>85</td>\n",
       "      <td>resources</td>\n",
       "      <td>15</td>\n",
       "    </tr>\n",
       "    <tr>\n",
       "      <td>336</td>\n",
       "      <td>transcanada</td>\n",
       "      <td>14</td>\n",
       "    </tr>\n",
       "    <tr>\n",
       "      <td>109</td>\n",
       "      <td>noise</td>\n",
       "      <td>14</td>\n",
       "    </tr>\n",
       "  </tbody>\n",
       "</table>\n",
       "</div>"
      ],
      "text/plain": [
       "                Word  Freq\n",
       "0          alignment   446\n",
       "116           sheets   414\n",
       "104        technical   206\n",
       "287        fisheries    81\n",
       "34     socioeconomic    61\n",
       "54        vegetation    60\n",
       "9           wildlife    57\n",
       "79               gas    53\n",
       "56          baseline    52\n",
       "26           project    47\n",
       "203          british    46\n",
       "204         columbia    46\n",
       "7               fish    44\n",
       "47          pipeline    42\n",
       "69           results    38\n",
       "2               soil    37\n",
       "35           setting    37\n",
       "93              nova    36\n",
       "94      transmission    36\n",
       "119        expansion    35\n",
       "8            habitat    35\n",
       "1            package    33\n",
       "202          alberta    32\n",
       "92          proposed    31\n",
       "59              data    31\n",
       "5            quality    30\n",
       "64           wetland    27\n",
       "33       biophysical    26\n",
       "153            field    26\n",
       "345           volume    25\n",
       "177      information    25\n",
       "282      groundwater    25\n",
       "55          wetlands    24\n",
       "117             ngtl    24\n",
       "95               ltd    24\n",
       "23           summary    23\n",
       "118           system    23\n",
       "102            north    22\n",
       "239           marine    21\n",
       "10               air    20\n",
       "77           species    19\n",
       "145           impact    19\n",
       "58            survey    19\n",
       "57           figures    18\n",
       "18   decommissioning    17\n",
       "142            soils    16\n",
       "337         keystone    15\n",
       "85         resources    15\n",
       "336      transcanada    14\n",
       "109            noise    14"
      ]
     },
     "execution_count": 146,
     "metadata": {},
     "output_type": "execute_result"
    }
   ],
   "source": [
    "Big_Text_clean = \"\"\n",
    "for line in Text_clean:\n",
    "    Big_Text_clean = Big_Text_clean + \" \" +line\n",
    "    \n",
    "#len(Big_Text_clean.split())\n",
    "\n",
    "wordlist = Big_Text_clean.split()\n",
    "wordfreq = []\n",
    "for w in Big_Text_clean.split():\n",
    "    wordfreq.append(wordlist.count(w))\n",
    "    \n",
    "len(wordlist)\n",
    "len(wordfreq)\n",
    "\n",
    "wordlist_unique = []\n",
    "wordfreq_unique = []\n",
    "for i in range(len(wordlist)):\n",
    "    if wordlist[i] not in wordlist_unique:\n",
    "        wordlist_unique.append(wordlist[i])\n",
    "        wordfreq_unique.append(wordfreq[i])\n",
    "        #print(\"{} : {}\".format(wordlist[i], wordfreq[i]))\n",
    "len(wordfreq_unique)\n",
    "len(wordlist_unique)\n",
    "\n",
    "df_wordlist = pd.DataFrame({'Word' : wordlist_unique,\n",
    "                            'Freq' : wordfreq_unique})\n",
    "df_wordlist.head()\n",
    "\n",
    "df_wordlist_sort = df_wordlist.sort_values('Freq',ascending = False)\n",
    "df_wordlist_sort.head(50)"
   ]
  },
  {
   "cell_type": "markdown",
   "metadata": {},
   "source": [
    "# Classification Based on these Keywords "
   ]
  },
  {
   "cell_type": "code",
   "execution_count": 147,
   "metadata": {},
   "outputs": [],
   "source": [
    "land1 = ['soil', 'land', 'ground', 'terrain', 'topography', 'ecozones']\n",
    "air2 = ['air', 'emission', 'GHG', 'gas', 'greenhouse', 'weather' , 'climate', 'meteorological']\n",
    "water3 = ['water', 'fish', 'wetlands', 'navigation', 'marine', 'aqua']\n",
    "wildlife4 = ['wild', 'fish', 'species', 'habitat', 'acoustic']\n",
    "vegetation5 = ['vegetation', 'wetlands', 'plant', 'soil']\n",
    "human6 = ['human', 'socio', 'social', 'economic', 'economy' 'occupancy', 'heritage', 'health', 'aesthetics', \n",
    "          'employment', 'acoustic', 'traditional', 'navigation', 'resource', 'infrastructure', 'noise']\n",
    "alignment_sheet7 = ['alignment', 'sheet']\n",
    "tech8 = ['technical', 'tech']"
   ]
  },
  {
   "cell_type": "code",
   "execution_count": 161,
   "metadata": {},
   "outputs": [
    {
     "name": "stdout",
     "output_type": "stream",
     "text": [
      "1196\n"
     ]
    },
    {
     "data": {
      "text/plain": [
       "'Environmental Alignment Sheet Package'"
      ]
     },
     "execution_count": 161,
     "metadata": {},
     "output_type": "execute_result"
    },
    {
     "data": {
      "text/plain": [
       "1196"
      ]
     },
     "execution_count": 161,
     "metadata": {},
     "output_type": "execute_result"
    },
    {
     "data": {
      "text/plain": [
       "1196"
      ]
     },
     "execution_count": 161,
     "metadata": {},
     "output_type": "execute_result"
    },
    {
     "data": {
      "text/plain": [
       "269"
      ]
     },
     "execution_count": 161,
     "metadata": {},
     "output_type": "execute_result"
    }
   ],
   "source": [
    "def check_topic_present(topic, text):\n",
    "    for key in topic:\n",
    "        if key in text:\n",
    "            return 1\n",
    "    return 0\n",
    "\n",
    "Text = df['Component PDF Name']\n",
    "print(len(Text))\n",
    "Text[1]\n",
    "count_blanks = 0\n",
    "\n",
    "topics = []\n",
    "for line in Text:\n",
    "    line = remove_string_special_characters(str(line)).lower()\n",
    "    line_topics = []\n",
    "    \n",
    "    if check_topic_present(land1, line) == 1:\n",
    "        line_topics.append('land')\n",
    "        \n",
    "    if check_topic_present(air2, line) == 1:\n",
    "        line_topics.append('air')\n",
    "    \n",
    "    if check_topic_present(water3, line) == 1:\n",
    "        line_topics.append('water')\n",
    "        \n",
    "    if check_topic_present(wildlife4, line) == 1:\n",
    "        line_topics.append('wildlife')\n",
    "        \n",
    "    if check_topic_present(vegetation5, line) == 1:\n",
    "        line_topics.append('vegetation')\n",
    "        \n",
    "    if check_topic_present(human6, line) == 1:\n",
    "        line_topics.append('human')\n",
    "        \n",
    "    if check_topic_present(alignment_sheet7, line) == 1:\n",
    "        line_topics.append('Alignment Sheet')\n",
    "        \n",
    "    if check_topic_present(tech8, line) == 1:\n",
    "        line_topics.append('tech')\n",
    "        \n",
    "    if line_topics == []:\n",
    "        count_blanks = count_blanks +1 \n",
    "        \n",
    "    topics.append(line_topics)\n",
    "\n",
    "len(topics)\n",
    "len(Text)\n",
    "count_blanks"
   ]
  },
  {
   "cell_type": "code",
   "execution_count": 162,
   "metadata": {},
   "outputs": [
    {
     "data": {
      "text/html": [
       "<div>\n",
       "<style scoped>\n",
       "    .dataframe tbody tr th:only-of-type {\n",
       "        vertical-align: middle;\n",
       "    }\n",
       "\n",
       "    .dataframe tbody tr th {\n",
       "        vertical-align: top;\n",
       "    }\n",
       "\n",
       "    .dataframe thead th {\n",
       "        text-align: right;\n",
       "    }\n",
       "</style>\n",
       "<table border=\"1\" class=\"dataframe\">\n",
       "  <thead>\n",
       "    <tr style=\"text-align: right;\">\n",
       "      <th></th>\n",
       "      <th>Application title short</th>\n",
       "      <th>Component</th>\n",
       "      <th>Component PDF Name</th>\n",
       "      <th>file_name</th>\n",
       "      <th>Component Index</th>\n",
       "      <th>topics</th>\n",
       "    </tr>\n",
       "  </thead>\n",
       "  <tbody>\n",
       "    <tr>\n",
       "      <td>0</td>\n",
       "      <td>Application for 2021 NGTL System Expansion Pro...</td>\n",
       "      <td>Appendix A</td>\n",
       "      <td>Environmental Protection Plan</td>\n",
       "      <td>A92619-16 16 ESA Appendix A EPP - A6F4Q9</td>\n",
       "      <td>1.0</td>\n",
       "      <td>[]</td>\n",
       "    </tr>\n",
       "    <tr>\n",
       "      <td>1</td>\n",
       "      <td>Application for 2021 NGTL System Expansion Pro...</td>\n",
       "      <td>Appendix B</td>\n",
       "      <td>Environmental Alignment Sheet Package</td>\n",
       "      <td>A92619-17 17 ESA Appendix B EAS-Part A - A6F4R0</td>\n",
       "      <td>2.0</td>\n",
       "      <td>[Alignment Sheet]</td>\n",
       "    </tr>\n",
       "    <tr>\n",
       "      <td>2</td>\n",
       "      <td>Application for 2021 NGTL System Expansion Pro...</td>\n",
       "      <td>Appendix B</td>\n",
       "      <td>Environmental Alignment Sheet Package</td>\n",
       "      <td>A92619-18 18 ESA Appendix B EAS-Part B - A6F4R1</td>\n",
       "      <td>3.0</td>\n",
       "      <td>[Alignment Sheet]</td>\n",
       "    </tr>\n",
       "    <tr>\n",
       "      <td>3</td>\n",
       "      <td>Application for 2021 NGTL System Expansion Pro...</td>\n",
       "      <td>Appendix C</td>\n",
       "      <td>Soil and Soil Productivity, Water Quality and ...</td>\n",
       "      <td>A92619-19 19 ESA Appendices C to K - A6F4R2</td>\n",
       "      <td>4.0</td>\n",
       "      <td>[land, air, water, wildlife, vegetation, human]</td>\n",
       "    </tr>\n",
       "    <tr>\n",
       "      <td>4</td>\n",
       "      <td>Application for 2021 NGTL System Expansion Pro...</td>\n",
       "      <td>ESA</td>\n",
       "      <td>ESA</td>\n",
       "      <td>A92619-10 10 ESA Sections 1 to 4 - A6F4Q3</td>\n",
       "      <td>5.0</td>\n",
       "      <td>[]</td>\n",
       "    </tr>\n",
       "  </tbody>\n",
       "</table>\n",
       "</div>"
      ],
      "text/plain": [
       "                             Application title short    Component  \\\n",
       "0  Application for 2021 NGTL System Expansion Pro...  Appendix A    \n",
       "1  Application for 2021 NGTL System Expansion Pro...   Appendix B   \n",
       "2  Application for 2021 NGTL System Expansion Pro...   Appendix B   \n",
       "3  Application for 2021 NGTL System Expansion Pro...   Appendix C   \n",
       "4  Application for 2021 NGTL System Expansion Pro...          ESA   \n",
       "\n",
       "                                  Component PDF Name  \\\n",
       "0                      Environmental Protection Plan   \n",
       "1              Environmental Alignment Sheet Package   \n",
       "2              Environmental Alignment Sheet Package   \n",
       "3  Soil and Soil Productivity, Water Quality and ...   \n",
       "4                                                ESA   \n",
       "\n",
       "                                         file_name  Component Index  \\\n",
       "0         A92619-16 16 ESA Appendix A EPP - A6F4Q9              1.0   \n",
       "1  A92619-17 17 ESA Appendix B EAS-Part A - A6F4R0              2.0   \n",
       "2  A92619-18 18 ESA Appendix B EAS-Part B - A6F4R1              3.0   \n",
       "3      A92619-19 19 ESA Appendices C to K - A6F4R2              4.0   \n",
       "4        A92619-10 10 ESA Sections 1 to 4 - A6F4Q3              5.0   \n",
       "\n",
       "                                            topics  \n",
       "0                                               []  \n",
       "1                                [Alignment Sheet]  \n",
       "2                                [Alignment Sheet]  \n",
       "3  [land, air, water, wildlife, vegetation, human]  \n",
       "4                                               []  "
      ]
     },
     "execution_count": 162,
     "metadata": {},
     "output_type": "execute_result"
    }
   ],
   "source": [
    "df['topics'] = topics\n",
    "df.head()\n"
   ]
  },
  {
   "cell_type": "code",
   "execution_count": 165,
   "metadata": {},
   "outputs": [],
   "source": [
    "file_name = 'F://Environmental Baseline Data//Version 4 - Final//Support files//Table_Title_Topics_for_Brooke.csv'\n",
    "\n",
    "df.to_csv(file_name, index = False, encoding='utf-8-sig')"
   ]
  },
  {
   "cell_type": "code",
   "execution_count": null,
   "metadata": {},
   "outputs": [],
   "source": []
  },
  {
   "cell_type": "code",
   "execution_count": null,
   "metadata": {},
   "outputs": [],
   "source": []
  },
  {
   "cell_type": "code",
   "execution_count": null,
   "metadata": {},
   "outputs": [],
   "source": []
  },
  {
   "cell_type": "code",
   "execution_count": null,
   "metadata": {},
   "outputs": [],
   "source": []
  },
  {
   "cell_type": "code",
   "execution_count": null,
   "metadata": {},
   "outputs": [],
   "source": []
  },
  {
   "cell_type": "code",
   "execution_count": null,
   "metadata": {},
   "outputs": [],
   "source": []
  },
  {
   "cell_type": "code",
   "execution_count": null,
   "metadata": {},
   "outputs": [],
   "source": [
    "response = urllib.request.urlopen(url)\n",
    "html = response.read()\n",
    "text = obo.stripTags(html).lower()\n",
    "fullwordlist = obo.stripNonAlphaNum(text)\n",
    "wordlist = obo.removeStopwords(fullwordlist, obo.stopwords)\n",
    "dictionary = obo.wordListToFreqDict(wordlist)\n",
    "sorteddict = obo.sortFreqDict(dictionary)\n",
    "\n",
    "for s in sorteddict: print(str(s))"
   ]
  },
  {
   "cell_type": "code",
   "execution_count": null,
   "metadata": {},
   "outputs": [],
   "source": [
    "# html-to-freq-2.py\n",
    "import urllib.request, urllib.error, urllib.parse\n",
    "import obo\n",
    "\n"
   ]
  },
  {
   "cell_type": "code",
   "execution_count": null,
   "metadata": {},
   "outputs": [],
   "source": []
  },
  {
   "cell_type": "code",
   "execution_count": null,
   "metadata": {},
   "outputs": [],
   "source": []
  },
  {
   "cell_type": "code",
   "execution_count": null,
   "metadata": {},
   "outputs": [],
   "source": []
  },
  {
   "cell_type": "code",
   "execution_count": null,
   "metadata": {},
   "outputs": [],
   "source": []
  },
  {
   "cell_type": "code",
   "execution_count": null,
   "metadata": {},
   "outputs": [],
   "source": []
  },
  {
   "cell_type": "code",
   "execution_count": null,
   "metadata": {},
   "outputs": [],
   "source": []
  },
  {
   "cell_type": "code",
   "execution_count": null,
   "metadata": {},
   "outputs": [],
   "source": []
  },
  {
   "cell_type": "code",
   "execution_count": null,
   "metadata": {},
   "outputs": [],
   "source": []
  },
  {
   "cell_type": "code",
   "execution_count": 109,
   "metadata": {},
   "outputs": [
    {
     "name": "stdout",
     "output_type": "stream",
     "text": [
      "\n",
      "\n",
      "Features : \n",
      " ['abandonment plan traditional', 'aboriginal engagement activities', 'aboriginal engagement landowner', 'aboriginal engagement outcomes', 'aboriginal field study', 'accidents malfunctions section', 'accidents malfunctions unplanned', 'accounts techncial report', 'acid rock drainage', 'acoustic environment preliminary', 'acoustic environment section', 'acoustic environment technical', 'acoustic evaluation bakken', 'act clearance letters', 'activities considered cumulative', 'activities planned mitigation', 'activity watercource wildlife', 'additional undefined drainages', 'air emissions acoustic', 'air greenhouse gas', 'air quality assessment', 'air quality greenhouse', 'air quality modelling', 'air quality noise', 'air quality technical', 'aitken creek section', 'aitken kahta paragon', 'alberta british columbia', 'alberta technical report', 'alces river compressor', 'alignment sheet package', 'alignment sheets environmental', 'alignment sheets gas', 'alignment sheets gathering', 'alignment sheets maps', 'alignment sheets ngl', 'alignment sheets ngtl', 'alignment sheets nova', 'alignment sheets proposed', 'along liege lateral', 'along northwest mainline', 'alternative crossing methods', 'appendix air quality', 'appendix alternative crossing', 'appendix assessment methods', 'appendix baseline hydrological', 'appendix baseline water', 'appendix conceptual compensation', 'appendix field data', 'appendix hydrology effect', 'appendix mitigation strategies', 'appendix pathways effects', 'appendix predicted increase', 'appendix project inclusion', 'appendix socioeconomic figures', 'appendix soil map', 'appendix watercourse crossings', 'aquatic assessment nova', 'aquatic technical report', 'aquatics summary report', 'aquatics technical data', 'aquatics technical report', 'archaeological impact assessment', 'archaeological resources section', 'archeological resources section', 'area transcanadas health', 'area wildlife wildlife', 'assessement nova gas', 'assessment climate change', 'assessment effect palaeontological', 'assessment effects archeological', 'assessment effects land', 'assessment employment economy', 'assessment environmental assessment', 'assessment environmental effects', 'assessment fish fish', 'assessment groundwater hydrology', 'assessment introduction air', 'assessment methods appendix', 'assessment methods section', 'assessment methods soil', 'assessment noise impact', 'assessment nova gas', 'assessment results appendix', 'assessment section cumulative', 'assessment section environmental', 'assessment section inspection', 'assessment section supplemental', 'assessment soils landforms', 'assessment technical data', 'assessment traditional land', 'assessment watercource gas', 'assessment wellness culture', 'atmospheric baseline information', 'atmospheric environmental technical', 'bakken pipeline project', 'bakken pipeline rightofway', 'bakken pump station', 'baseline environmental setting', 'baseline fish fish', 'baseline groundwater hydrology', 'baseline hydrological data', 'baseline information field', 'baseline infromation field', 'baseline soils landforms', 'baseline water sediment', 'baseline wildlife part', 'bear canyon north', 'bear canyon section', 'biodiversity environmental effects', 'biophysical baseline environmental', 'biophysical baseline fish', 'biophysical baseline groundwater', 'biophysical baseline soils', 'biophysical baseline wildlife', 'biophysical impact assessment', 'biophysical socioeconomic setting', 'birds westridge marine', 'boundary lake section', 'boundry lake section', 'british columbia section', 'british columbia technical', 'canyon north extension', 'caribou habitat restoration', 'central corridor loop', 'change cumulative effects', 'changes appendix soil', 'channel undefined drainages', 'channels wider watercourses', 'chapter environmental socioeconomic', 'chemical changes appendix', 'christina river section', 'clearance letters summary', 'climate change cumulative', 'collected watercourses investigated', 'columbia section atmospheric', 'columbia technical report', 'commitment statement towerbirch', 'compensation plan fish', 'compliance strategy section', 'component southern lights', 'compressor station unit', 'conceptual compensation plan', 'concerns identified aboriginal', 'considered cumulative effects', 'construction bakken pipeline', 'construction follow monitoring', 'consultation aboriginal engagement', 'consultation engagement part', 'consultation relation esa', 'consultation section route', 'consultation section routing', 'consultation section site', 'content section introduction', 'contiguous portions bakken', 'contiguous versus non', 'contingency crossings red', 'corridor expansion hidden', 'corridor expansion north', 'corridor expansion northwest', 'corridor facility site', 'corridor loop north', 'corridor loop red', 'creek section project', 'crossings data navigable', 'crossings red deer', 'crossings sensitivity scale', 'culture land resources', 'cumulative effects assessment', 'cumulative effects biodiversity', 'current biophysical socioeconomic', 'dat data watercource', 'data appendix hydrology', 'data navigable waters', 'data report air', 'data report aitken', 'data report bear', 'data report noise', 'data report project', 'data report proposed', 'data report vegetation', 'data report wetland', 'data report wildlife', 'data reports north', 'data section vegetation', 'data summary tables', 'data watercource tables', 'decommissioning abandonment assessment', 'decommissioning abandonment plan', 'decommissioning environmental technical', 'deer south saskatchewan', 'defined channel undefined', 'defined channels wider', 'description part consultation', 'description section acoustic', 'description section consultation', 'description section public', 'description section scope', 'description watercource crossing', 'detailed acoustic evaluation', 'detailed wildlife watercource', 'determination appendix conceptual', 'dickins lake section', 'directional drilling feasibility', 'drainage metal leaching', 'drainage site records', 'drainages investigated fish', 'drilling feasibility assessment', 'earth section environmental', 'economic effects bakken', 'economic effects enbridge', 'economic impact modelling', 'economy infrastructure services', 'edmonton terminal environmental', 'effect assessment results', 'effect palaeontological resources', 'effects acoustic environment', 'effects archaeological resources', 'effects archeological resources', 'effects assessment section', 'effects atmospheric environment', 'effects bakken pipeline', 'effects biodiversity environmental', 'effects determination appendix', 'effects enbridge pipelines', 'effects environment pipelines', 'effects environment project', 'effects fish fish', 'effects groundwater quantity', 'effects land use', 'effects palaeontological resources', 'effects risk rating', 'effects soils section', 'effects surfave water', 'effects vegetation wetlands', 'effects wetlands section', 'effects wildlife wildlife', 'emissions acoustic environment', 'emissions construction bakken', 'emissions fall wetland', 'emissions fall wetlands', 'emissions technical report', 'employment economy infrastructure', 'enbridge pipeline inc', 'enbridge pipelines inc', 'enbridge pipelines incs', 'engagement activities planned', 'engagement landowner relations', 'engagement part route', 'environment commitment statement', 'environment pipelines tank', 'environment preliminary caribou', 'environment project section', 'environment section soils', 'environment technical data', 'environmental alignment sheet', 'environmental alignment sheets', 'environmental assessment methods', 'environmental compliance strategy', 'environmental effects acoustic', 'environmental effects archaeological', 'environmental effects assessment', 'environmental effects atmospheric', 'environmental effects fish', 'environmental effects groundwater', 'environmental effects palaeontological', 'environmental effects project', 'environmental effects soil', 'environmental effects soils', 'environmental effects surfave', 'environmental effects vegetation', 'environmental effects wetlands', 'environmental effects wildlife', 'environmental monitoring section', 'environmental noise impact', 'environmental protection plan', 'environmental setting air', 'environmental setting facilities', 'environmental setting pipeline', 'environmental setting section', 'environmental site information', 'environmental socioeconomic assessment', 'environmental socioeconomic cumulative', 'environmental socioeconomic effects', 'environmental socioeconomic setting', 'environmental technical data', 'environmental technical report', 'esa section routing', 'evaluation bakken pump', 'events section effects', 'evluation technical report', 'executive summary content', 'executive summary contents', 'expansion alces river', 'expansion grand prairie', 'expansion hidden lake', 'expansion kettle river', 'expansion liege lateral', 'expansion mcleod river', 'expansion north central', 'expansion northwest mainline', 'expansion otter lake', 'expansion project economic', 'extension environmental alignment', 'extension environmental protection', 'extension project economic', 'extension project environmental', 'extension soils technical', 'facilities environmental protection', 'facility environmental protection', 'facility site selection', 'facility soil survey', 'fall vegetation reconnaissance', 'fall wetland report', 'fall wetlands report', 'fall wildlife reconnaissance', 'feasibility assessment nova', 'field data section', 'field study participation', 'filing manual checklist', 'fish collected watercourses', 'fish fish habitat', 'fish habitat appendix', 'fish habitat section', 'fish habitat technical', 'fish habitat wildlife', 'fishbearing drainage site', 'fisheries alberta technical', 'fisheries baseline information', 'fisheries british columbia', 'fisheries habitat assessment', 'follow monitoring section', 'followup monitoring section', 'followup section conclusion', 'followup section supplemental', 'freshwater fish fish', 'gas assessment noise', 'gas emissions construction', 'gas emissions fall', 'gas emissions technical', 'gas pipeline alignment', 'gas pipelines alignment', 'gas technical report', 'gas transmission limited', 'gas transmission ltd', 'gathering pipelines alignment', 'grand prairie mainline', 'greenhouse gas assessment', 'greenhouse gas emissions', 'greenhouse gas technical', 'groundbirch mainline aitken', 'groundbirch pipeline project', 'groundwater baseline information', 'groundwater hydrology water', 'groundwater quantity quality', 'groundwater technical report', 'habitat air emissions', 'habitat appendix watercourse', 'habitat assessement nova', 'habitat habitat vegetation', 'habitat regional study', 'habitat restoration offset', 'habitat section assessment', 'habitat technical data', 'habitat vegetation species', 'habitat wildlife wildlife', 'health safety environment', 'heritage resources act', 'heritage resources permits', 'heritage resources section', 'hidden lake north', 'horizontal directional drilling', 'human occupancy resource', 'hydrogeology section accidents', 'hydrogeology section palaeontological', 'hydrological data appendix', 'hydrological zones appendix', 'hydrology effect assessment', 'hydrology section hydrogeology', 'hydrology water quality', 'identified aboriginal engagement', 'ilsr component southern', 'impact assessment climate', 'impact assessment employment', 'impact assessment fish', 'impact assessment groundwater', 'impact assessment introduction', 'impact assessment soils', 'impact assessment technical', 'impact assessment traditional', 'impact assessment wellness', 'impact assessment wildlife', 'impact modelling report', 'inc ilsr component', 'inc line extension', 'inc lsr component', 'incidental wildlife sightings', 'inclusion list contingency', 'inclusion list environmental', 'inclusion list section', 'inclusion list within', 'increase tss levels', 'incs line extension', 'incs southern lights', 'information field results', 'infromation field results', 'inspection monitoring follow', 'inspection monitoring followup', 'introduction air quality', 'introduction appendix project', 'introduction section project', 'investigated defined channel', 'investigated defined channels', 'investigated fish collected', 'investigated list additional', 'issues concerns identified', 'kahta paragon reports', 'kettle river lateral', 'keystone environmental protection', 'keystone xl pipeline', 'kingman station environmental', 'km pipeline route', 'knowledge literature review', 'knowledge report preliminary', 'knowledge report proposed', 'knowledge study section', 'knowledge technical data', 'knowledge tk report', 'lake compressor station', 'lake north compressor', 'lake section alignment', 'land use assessment', 'land use report', 'land use section', 'land use sites', 'land use survey', 'landforms permafrost vegetation', 'lateral loop christina', 'lateral loop pelican', 'letters summary stakeholder', 'liege lateral loop', 'lights project economic', 'limited groundbirch pipeline', 'limited nps groundbirch', 'line extension project', 'list additional undefined', 'list contingency crossings', 'list environmental protection', 'list section consultation', 'list within reaa', 'literature review north', 'local study area', 'loop bear canyon', 'loop boundary lake', 'loop boundry lake', 'loop christina river', 'loop macleod river', 'loop north star', 'loop pelican lake', 'loop red earth', 'lsr component southern', 'ltd groundbirch mainline', 'ltd ngtl system', 'macleod river section', 'mainline aitken creek', 'mainline loop bear', 'mainline loop boundary', 'mainline loop boundry', 'mainline loop macleod', 'malfunctions section effects', 'malfunctions unplanned events', 'map code descriptions', 'map unit symbology', 'marine birds westridge', 'marine resources westridge', 'marine sediment water', 'marine terminal techincal', 'mcleod river section', 'measures plan preliminary', 'measures plan traditional', 'metal leaching potential', 'methods appendix project', 'methods section environmental', 'methods soil physical', 'mitigation strategies soils', 'mitigation terrain terrain', 'modelling report projects', 'modelling species accounts', 'monitoring followup section', 'monitoring section environmental', 'monitoring section supplemental', 'montney project wildlife', 'mountain expansion project', 'navigable waters site', 'neb filing manual', 'negative effects risk', 'ngl gas pipelines', 'ngtl nwml dickins', 'ngtl system expansion', 'noise impact assessment', 'noise technical data', 'noise vibration technical', 'non contiguous portions', 'north central corridor', 'north compressor station', 'north corridor expansion', 'north extension environmental', 'north extension soils', 'north montney project', 'north star section', 'northwest mainline loop', 'nova gas transmission', 'nps groundbirch pipeline', 'nwml dickins lake', 'observed potential occur', 'occupancy resource use', 'occur terrestrial local', 'occurring local study', 'occurring potentially occurring', 'offset measures plan', 'otter lake compressor', 'overview impact summary', 'palaeontological resources section', 'paragon reports paragon', 'paragon tera wetlands', 'part consultation engagement', 'part environmental socioeconomic', 'part project description', 'part route facility', 'participation traditional land', 'pathways effects determination', 'pelican lake section', 'permits photographic plates', 'physical chemical changes', 'pipeline alignment sheets', 'pipeline environmental protection', 'pipeline inc ilsr', 'pipeline project canada', 'pipeline project fallwinter', 'pipeline project inclusion', 'pipeline project soil', 'pipeline route saskatchewan', 'pipeline soil survey', 'pipelines alignment sheets', 'pipelines inc line', 'pipelines inc lsr', 'pipelines incs line', 'pipelines incs southern', 'pipelines tank terminal', 'plan fish habitat', 'plan nova gas', 'plan preliminary decommissioning', 'plan proposed north', 'plan proposed nova', 'plan traditional knowledge', 'planned mitigation terrain', 'plant survey nova', 'portions bakken pipeline', 'post construction follow', 'postconstruction environmental monitoring', 'potential occur terrestrial', 'potentially occurring local', 'prairie mainline loop', 'predicted increase tss', 'preliminary caribou habitat', 'preliminary decommissioning abandonment', 'preliminary environmental alignment', 'preliminary environmental protection', 'preliminary horizontal directional', 'product releases within', 'productivity water quality', 'project description part', 'project description section', 'project economic effects', 'project economic impact', 'project environmental alignment', 'project inclusion list', 'project interactions environment', 'project section followup', 'project section post', 'project soil survey', 'project traditional knowledge', 'project wildlife technical', 'projects activities considered', 'projectspecific issues concerns', 'proposed enbridge pipeline', 'proposed enbridge pipelines', 'proposed north corridor', 'proposed nova gas', 'protection plan nova', 'protection plan proposed', 'public consultation aboriginal', 'public consultation section', 'pump station acoustic', 'pump station methods', 'quality greenhouse gas', 'quality hydrological zones', 'quality modelling data', 'quality quantity baseline', 'quality quantity fish', 'quality technical data', 'qualty westridge marine', 'quantity baseline information', 'quantity fish fish', 'rare plant survey', 'rating results appendix', 'reaa alberta british', 'reclamation suitability evaluation', 'reconnaissance nova gas', 'reconnaissance proposed enbridge', 'records along liege', 'records along northwest', 'records socioeconomic technical', 'red deer south', 'red earth section', 'regional study area', 'relation esa section', 'releases within km', 'report air greenhouse', 'report aitken kahta', 'report bear canyon', 'report noise technical', 'report preliminary decommissioning', 'report project inclusion', 'report projects activities', 'report proposed enbridge', 'report proposed nova', 'report trans mountain', 'report vegetation technical', 'report wetland technical', 'report wildlife technical', 'reports north star', 'reports paragon tera', 'resources act clearance', 'resources appendix baseline', 'resources permits photographic', 'resources section assessment', 'resources section effects', 'resources section socioeconomic', 'resources westridge marine', 'restoration offset measures', 'restricted activity watercource', 'results appendix alternative', 'results appendix baseline', 'results appendix watercourse', 'results summary traditional', 'review north montney', 'risk rating results', 'risk species management', 'river compressor station', 'river lateral loop', 'river section fish', 'river section soils', 'river section vegetation', 'river section wildlife', 'rivers watercourse crossings', 'rock drainage metal', 'rocky view section', 'route facility site', 'route site selection', 'safety environment commitment', 'saskatchewan rivers watercourse', 'scale negative effects', 'scope assessment environmental', 'section accidents malfunctions', 'section acoustic environment', 'section alignment sheets', 'section assessment effect', 'section assessment effects', 'section assessment environmental', 'section atmospheric environment', 'section consultation relation', 'section consultation section', 'section corridor facility', 'section cumulative effects', 'section current biophysical', 'section effects environment', 'section environmental alignment', 'section environmental assessment', 'section environmental compliance', 'section environmental effects', 'section environmental protection', 'section environmental setting', 'section environmental socioeconomic', 'section fish fish', 'section followup monitoring', 'section followup section', 'section freshwater fish', 'section heritage resources', 'section hydrogeology section', 'section hydrology section', 'section inspection monitoring', 'section introduction appendix', 'section introduction section', 'section palaeontological resources', 'section post construction', 'section postconstruction environmental', 'section project description', 'section project interactions', 'section project traditional', 'section public consultation', 'section route site', 'section routing siting', 'section scope assessment', 'section site selection', 'section socioeconomic assessment', 'section socioeconomic effects', 'section socioeconomic setting', 'section soils appendix', 'section soils technical', 'section soils terrain', 'section supplemental studies', 'section surface water', 'section terrain section', 'section traditional knowledge', 'section vegetation appendix', 'section vegetation section', 'section vegetation technical', 'section wildlife wildlife', 'secttion environmental socioeconomic', 'sediment quality hydrological', 'sediment water qualty', 'selection part environmental', 'selection section environmental', 'selection section project', 'sensitivity scale negative', 'setting air quality', 'setting section project', 'sheets environmental alignment', 'sheets gas pipeline', 'sheets gathering pipelines', 'sheets maps part', 'sheets ngl gas', 'sheets ngtl nwml', 'sheets nova gas', 'sheets proposed north', 'sightings wildlife species', 'site information sheets', 'site records along', 'site records socioeconomic', 'site selection part', 'site selection section', 'socio traditional knowledge', 'socioeconomic baseline information', 'socioeconomic cumulative effects', 'socioeconomic effects assessment', 'socioeconomic effects assessmnet', 'socioeconomic impact assessment', 'socioeconomic setting facilities', 'socioeconomic setting pipeline', 'socioeconomic supporting study', 'socioeconomic technical data', 'socioeconomic technical report', 'soil baseline infromation', 'soil map unit', 'soil physical chemical', 'soil productivity water', 'soil profile descriptions', 'soil soil productivity', 'soil survery proposed', 'soil survey bakken', 'soil survey nova', 'soil survey reclamation', 'soil vegetation wetlands', 'soils appendix assessment', 'soils appendix mitigation', 'soils desktop study', 'soils landforms permafrost', 'soils section assessment', 'soils technical data', 'soils technical report', 'soils terrain appendix', 'soils terrain technical', 'south saskatchewan rivers', 'southern lights project', 'special status observed', 'species accounts techncial', 'species management concern', 'species risk species', 'species risk summary', 'species special status', 'stakeholder consultation aboriginal', 'star section environmental', 'star section soils', 'statement towerbirch expansion', 'station acoustic assessments', 'station environmental noise', 'station methods results', 'station unit addition', 'status observed potential', 'strategies soils appendix', 'strategy section postconstruction', 'strome station environmental', 'studies section conclusion', 'studies section followup', 'study area transcanadas', 'study area wildlife', 'study participation traditional', 'study section hydrology', 'summary content section', 'summary stakeholder consultation', 'summary traditional knowledge', 'supplemental studies section', 'supporting study report', 'surface water quality', 'surface water resources', 'surfave water quantity', 'survery proposed nova', 'survey bakken pipeline', 'survey bakken pump', 'survey nova gas', 'survey reclamation suitability', 'survey results summary', 'surveys methods results', 'system expansion alces', 'system expansion grand', 'system expansion kettle', 'system expansion liege', 'system expansion mcleod', 'system expansion northwest', 'system expansion otter', 'tank terminal section', 'technical data report', 'technical data reports', 'technical report proposed', 'technical report trans', 'tera aquatics summary', 'tera traditional knowledge', 'tera vegetation survey', 'tera wetlands survey', 'tera wildlife summary', 'terminal environmental noise', 'terminal section conclusions', 'terminal techincal report', 'terrain appendix field', 'terrain section vegetation', 'terrain stability mapping', 'terrain technical data', 'terrain terrain stability', 'terrestrial local study', 'terrestrial map code', 'terrestrial noise vibration', 'towerbirch expansion project', 'traditional knowledge literature', 'traditional knowledge report', 'traditional knowledge study', 'traditional knowledge technical', 'traditional knowledge tk', 'traditional land use', 'trans mountain expansion', 'transcanada keystone environmental', 'transcanadas health safety', 'transmission limited groundbirch', 'transmission limited nps', 'transmission ltd groundbirch', 'transmission ltd ngtl', 'undefined drainages investigated', 'unplanned events section', 'use report proposed', 'use section assessment', 'use sites assessment', 'use survey nova', 'vantage environmental protection', 'vegetation appendix air', 'vegetation baseline information', 'vegetation data summary', 'vegetation reconnaissance proposed', 'vegetation section wildlife', 'vegetation species risk', 'vegetation survey results', 'vegetation technical data', 'vegetation technical report', 'vegetation wetlands baseline', 'versus non contiguous', 'vibration technical report', 'view section soils', 'volume biophysical baseline', 'volume biophysical impact', 'volume environmental alignment', 'volume environmental management', 'volume overview impact', 'volume project description', 'volume socioeconomic baseline', 'volume socioeconomic impact', 'water quality part', 'water quality quantity', 'water qualty westridge', 'water quantity quality', 'water resources appendix', 'water sediment quality', 'watercource crossing locations', 'watercource gas emissions', 'watercource surveys methods', 'watercource wildlife occurring', 'watercourse crossing assessment', 'watercourse crossings data', 'watercourse crossings sensitivity', 'watercourse fishbearing drainage', 'watercourses investigated defined', 'watercourses investigated list', 'waters site records', 'wellness culture land', 'westridge marine terminal', 'wetland assessment report', 'wetland baseline information', 'wetland dat data', 'wetland evluation technical', 'wetland reconnaissance nova', 'wetland report proposed', 'wetland technical data', 'wetland technical report', 'wetlands baseline figures', 'wetlands report proposed', 'wetlands section assessment', 'wetlands survey results', 'wider watercourses investigated', 'wildlife baseline information', 'wildlife habitat air', 'wildlife habitat assessement', 'wildlife habitat assessment', 'wildlife habitat habitat', 'wildlife habitat regional', 'wildlife habitat technical', 'wildlife modelling species', 'wildlife occurring potentially', 'wildlife reconnaissance proposed', 'wildlife sightings wildlife', 'wildlife species accounts', 'wildlife species risk', 'wildlife species special', 'wildlife summary report', 'wildlife technical data', 'wildlife technical report', 'wildlife watercource surveys', 'wildlife wildlife habitat', 'within km pipeline', 'within reaa alberta', 'xl pipeline project', 'zones appendix predicted']\n",
      "\n",
      "\n",
      "X1 : \n",
      " [[0 0 0 ... 0 0 0]\n",
      " [0 0 0 ... 0 0 0]\n",
      " [0 0 0 ... 0 0 0]\n",
      " ...\n",
      " [0 0 0 ... 0 0 0]\n",
      " [0 0 0 ... 0 0 0]\n",
      " [0 0 0 ... 0 0 0]]\n",
      "\n",
      "\n",
      "Scores : \n",
      " [[0. 0. 0. ... 0. 0. 0.]\n",
      " [0. 0. 0. ... 0. 0. 0.]\n",
      " [0. 0. 0. ... 0. 0. 0.]\n",
      " ...\n",
      " [0. 0. 0. ... 0. 0. 0.]\n",
      " [0. 0. 0. ... 0. 0. 0.]\n",
      " [0. 0. 0. ... 0. 0. 0.]]\n"
     ]
    }
   ],
   "source": [
    "# Getting trigrams  \n",
    "vectorizer = CountVectorizer(ngram_range = (3,3)) \n",
    "X1 = vectorizer.fit_transform(Text_clean)  \n",
    "features = (vectorizer.get_feature_names()) \n",
    "print(\"\\n\\nFeatures : \\n\", features) \n",
    "print(\"\\n\\nX1 : \\n\", X1.toarray()) \n",
    "  \n",
    "# Applying TFIDF \n",
    "vectorizer = TfidfVectorizer(ngram_range = (3,3)) \n",
    "X2 = vectorizer.fit_transform(Text_clean)\n",
    "scores = (X2.toarray()) \n",
    "print(\"\\n\\nScores : \\n\", scores) \n",
    "  \n"
   ]
  },
  {
   "cell_type": "code",
   "execution_count": 110,
   "metadata": {},
   "outputs": [
    {
     "name": "stdout",
     "output_type": "stream",
     "text": [
      "\n",
      "\n",
      "Words head : \n",
      "                                term        rank\n",
      "256  environmental alignment sheets  392.205149\n",
      "329      fisheries british columbia   25.980762\n",
      "136       columbia technical report   25.980762\n",
      "121      british columbia technical   25.980762\n",
      "871     vegetation technical report   25.625859\n",
      "30          alignment sheet package   23.334524\n",
      "255   environmental alignment sheet   23.334524\n"
     ]
    }
   ],
   "source": [
    "# Getting top ranking features \n",
    "sums = X2.sum(axis = 0) \n",
    "data1 = [] \n",
    "for col, term in enumerate(features): \n",
    "    data1.append( (term, sums[0,col] )) \n",
    "ranking = pd.DataFrame(data1, columns = ['term','rank']) \n",
    "words = (ranking.sort_values('rank', ascending = False)) \n",
    "print (\"\\n\\nWords head : \\n\", words.head(7)) "
   ]
  },
  {
   "cell_type": "markdown",
   "metadata": {},
   "source": [
    "# Bigrams"
   ]
  },
  {
   "cell_type": "code",
   "execution_count": 112,
   "metadata": {},
   "outputs": [
    {
     "name": "stdout",
     "output_type": "stream",
     "text": [
      "\n",
      "\n",
      "Features : \n",
      " ['abandonment assessment', 'abandonment plan', 'aboriginal engagement', 'aboriginal field', 'accidents malfunctions', 'accounts techncial', 'acid rock', 'acoustic assessments', 'acoustic environment', 'acoustic evaluation', 'act clearance', 'activities considered', 'activities planned', 'activity watercource', 'additional undefined', 'air emissions', 'air greenhouse', 'air quality', 'aitken creek', 'aitken kahta', 'alberta british', 'alberta technical', 'alces river', 'alignment sheet', 'alignment sheets', 'along liege', 'along northwest', 'alternative crossing', 'appendix air', 'appendix alternative', 'appendix assessment', 'appendix baseline', 'appendix conceptual', 'appendix field', 'appendix hydrology', 'appendix mitigation', 'appendix pathways', 'appendix predicted', 'appendix project', 'appendix socioeconomic', 'appendix soil', 'appendix watercourse', 'aquatic assessment', 'aquatic resources', 'aquatic technical', 'aquatics summary', 'aquatics technical', 'archaeological impact', 'archaeological resources', 'archeological resources', 'area transcanadas', 'area wildlife', 'assessement nova', 'assessment climate', 'assessment effect', 'assessment effects', 'assessment employment', 'assessment environmental', 'assessment fish', 'assessment groundwater', 'assessment introduction', 'assessment methods', 'assessment noise', 'assessment nova', 'assessment report', 'assessment results', 'assessment section', 'assessment soils', 'assessment technical', 'assessment traditional', 'assessment watercource', 'assessment wellness', 'assessment wildlife', 'atmospheric baseline', 'atmospheric environment', 'atmospheric environmental', 'bakken pipeline', 'bakken pump', 'baseline environmental', 'baseline figures', 'baseline fish', 'baseline groundwater', 'baseline hydrological', 'baseline information', 'baseline infromation', 'baseline soils', 'baseline water', 'baseline wildlife', 'bear canyon', 'biodiversity environmental', 'biophysical baseline', 'biophysical impact', 'biophysical socioeconomic', 'birds westridge', 'boundary lake', 'boundry lake', 'british columbia', 'canyon north', 'canyon section', 'caribou habitat', 'central corridor', 'change cumulative', 'changes appendix', 'channel undefined', 'channels wider', 'chapter environmental', 'chemical changes', 'christina river', 'clearance letters', 'climate change', 'code descriptions', 'collected watercourses', 'columbia section', 'columbia technical', 'commitment statement', 'compensation plan', 'compliance strategy', 'component southern', 'compressor station', 'conceptual compensation', 'concerns identified', 'considered cumulative', 'construction bakken', 'construction follow', 'consultation aboriginal', 'consultation engagement', 'consultation relation', 'consultation section', 'content section', 'contiguous portions', 'contiguous versus', 'contingency crossings', 'corridor expansion', 'corridor facility', 'corridor loop', 'creek section', 'crossing assessment', 'crossing locations', 'crossing methods', 'crossings data', 'crossings red', 'crossings sensitivity', 'culture land', 'cumulative effects', 'current biophysical', 'dat data', 'data appendix', 'data navigable', 'data report', 'data reports', 'data section', 'data summary', 'data watercource', 'decommissioning abandonment', 'decommissioning environmental', 'deer south', 'defined channel', 'defined channels', 'description part', 'description section', 'description watercource', 'desktop study', 'detailed acoustic', 'detailed wildlife', 'determination appendix', 'dickins lake', 'directional drilling', 'drainage metal', 'drainage site', 'drainages investigated', 'drilling feasibility', 'earth section', 'economic effects', 'economic impact', 'economy infrastructure', 'edmonton terminal', 'effect assessment', 'effect palaeontological', 'effects acoustic', 'effects archaeological', 'effects archeological', 'effects assessment', 'effects assessmnet', 'effects atmospheric', 'effects bakken', 'effects biodiversity', 'effects determination', 'effects enbridge', 'effects environment', 'effects fish', 'effects groundwater', 'effects land', 'effects palaeontological', 'effects project', 'effects risk', 'effects soil', 'effects soils', 'effects surfave', 'effects vegetation', 'effects wetlands', 'effects wildlife', 'emissions acoustic', 'emissions construction', 'emissions fall', 'emissions technical', 'employment economy', 'enbridge pipeline', 'enbridge pipelines', 'engagement activities', 'engagement landowner', 'engagement outcomes', 'engagement part', 'environment commitment', 'environment pipelines', 'environment preliminary', 'environment project', 'environment section', 'environment technical', 'environmental alignment', 'environmental assessment', 'environmental compliance', 'environmental effects', 'environmental management', 'environmental monitoring', 'environmental noise', 'environmental protection', 'environmental setting', 'environmental site', 'environmental socioeconomic', 'environmental technical', 'esa section', 'evaluation bakken', 'events section', 'evluation technical', 'executive summary', 'expansion alces', 'expansion grand', 'expansion hidden', 'expansion kettle', 'expansion liege', 'expansion mcleod', 'expansion north', 'expansion northwest', 'expansion otter', 'expansion project', 'extension environmental', 'extension project', 'extension soils', 'facilities environmental', 'facility environmental', 'facility site', 'facility soil', 'fall vegetation', 'fall wetland', 'fall wetlands', 'fall wildlife', 'feasibility assessment', 'field data', 'field results', 'field study', 'filing manual', 'fish collected', 'fish fish', 'fish habitat', 'fishbearing drainage', 'fisheries alberta', 'fisheries baseline', 'fisheries british', 'fisheries habitat', 'follow monitoring', 'followup monitoring', 'followup section', 'freshwater fish', 'gas assessment', 'gas emissions', 'gas pipeline', 'gas pipelines', 'gas technical', 'gas transmission', 'gathering pipelines', 'ghg assessment', 'grand prairie', 'greenhouse gas', 'groundbirch mainline', 'groundbirch pipeline', 'groundwater baseline', 'groundwater hydrology', 'groundwater quantity', 'groundwater technical', 'habitat air', 'habitat appendix', 'habitat assessement', 'habitat assessment', 'habitat habitat', 'habitat regional', 'habitat restoration', 'habitat section', 'habitat technical', 'habitat vegetation', 'habitat wildlife', 'health safety', 'heritage resources', 'hidden lake', 'horizontal directional', 'human environment', 'human occupancy', 'hydrogeology section', 'hydrological data', 'hydrological zones', 'hydrology effect', 'hydrology section', 'hydrology water', 'identified aboriginal', 'ilsr component', 'impact assessment', 'impact modelling', 'impact summary', 'inc ilsr', 'inc line', 'inc lsr', 'incidental wildlife', 'inclusion list', 'increase tss', 'incs line', 'incs southern', 'information field', 'information sheets', 'infrastructure services', 'infromation field', 'inspection monitoring', 'interactions environment', 'introduction air', 'introduction appendix', 'introduction section', 'investigated defined', 'investigated fish', 'investigated list', 'issues concerns', 'kahta paragon', 'kettle river', 'keystone environmental', 'keystone xl', 'kingman station', 'km pipeline', 'knowledge literature', 'knowledge report', 'knowledge study', 'knowledge technical', 'knowledge tk', 'lake compressor', 'lake north', 'lake section', 'land resources', 'land use', 'landforms permafrost', 'landowner relations', 'lateral loop', 'leaching potential', 'letters summary', 'liege lateral', 'lights project', 'limited groundbirch', 'limited nps', 'line extension', 'list additional', 'list contingency', 'list environmental', 'list section', 'list within', 'literature review', 'local study', 'loop bear', 'loop boundary', 'loop boundry', 'loop christina', 'loop macleod', 'loop north', 'loop pelican', 'loop red', 'lsr component', 'ltd groundbirch', 'ltd ngtl', 'macleod river', 'mainline aitken', 'mainline loop', 'malfunctions section', 'malfunctions unplanned', 'management concern', 'manual checklist', 'map code', 'map unit', 'maps part', 'marine birds', 'marine resources', 'marine sediment', 'marine terminal', 'marine transport', 'mcleod river', 'measures plan', 'metal leaching', 'methods appendix', 'methods results', 'methods section', 'methods soil', 'mitigation strategies', 'mitigation terrain', 'modelling data', 'modelling report', 'modelling species', 'monitoring follow', 'monitoring followup', 'monitoring section', 'montney project', 'mountain expansion', 'navigable waters', 'neb filing', 'negative effects', 'ngl gas', 'ngtl nwml', 'ngtl system', 'noise impact', 'noise technical', 'noise vibration', 'non contiguous', 'north central', 'north compressor', 'north corridor', 'north extension', 'north montney', 'north star', 'northwest mainline', 'nova gas', 'nps groundbirch', 'nwml dickins', 'observed potential', 'occupancy resource', 'occur terrestrial', 'occurring local', 'occurring potentially', 'offset measures', 'otter lake', 'overview impact', 'palaeontological resources', 'paragon reports', 'paragon tera', 'part consultation', 'part environmental', 'part project', 'part route', 'participation traditional', 'pathways effects', 'pelican lake', 'permafrost vegetation', 'permits photographic', 'photographic plates', 'physical chemical', 'pipeline alignment', 'pipeline environmental', 'pipeline inc', 'pipeline project', 'pipeline rightofway', 'pipeline route', 'pipeline soil', 'pipelines alignment', 'pipelines inc', 'pipelines incs', 'pipelines tank', 'plan fish', 'plan nova', 'plan preliminary', 'plan proposed', 'plan traditional', 'planned mitigation', 'plant survey', 'portions bakken', 'post construction', 'postconstruction environmental', 'postconstruction monitoring', 'potential occur', 'potentially occurring', 'prairie mainline', 'predicted increase', 'preliminary caribou', 'preliminary decommissioning', 'preliminary environmental', 'preliminary horizontal', 'product releases', 'productivity water', 'profile descriptions', 'project canada', 'project description', 'project economic', 'project environmental', 'project fallwinter', 'project inclusion', 'project interactions', 'project section', 'project soil', 'project traditional', 'project wildlife', 'projects activities', 'projectspecific issues', 'proposed enbridge', 'proposed north', 'proposed nova', 'protection plan', 'public consultation', 'pump station', 'quality assessment', 'quality greenhouse', 'quality hydrological', 'quality modelling', 'quality noise', 'quality part', 'quality quantity', 'quality technical', 'qualty westridge', 'quantity baseline', 'quantity fish', 'quantity quality', 'rare plant', 'rating results', 'reaa alberta', 'reclamation suitability', 'reconnaissance nova', 'reconnaissance proposed', 'records along', 'records socioeconomic', 'red deer', 'red earth', 'regional study', 'relation esa', 'releases within', 'report air', 'report aitken', 'report bear', 'report noise', 'report preliminary', 'report project', 'report projects', 'report proposed', 'report trans', 'report vegetation', 'report wetland', 'report wildlife', 'reports north', 'reports paragon', 'resource use', 'resources act', 'resources appendix', 'resources permits', 'resources section', 'resources westridge', 'restoration offset', 'restricted activity', 'results appendix', 'results summary', 'review north', 'risk rating', 'risk species', 'risk summary', 'river compressor', 'river lateral', 'river section', 'rivers watercourse', 'rock drainage', 'rocky view', 'route facility', 'route saskatchewan', 'route site', 'routing siting', 'safety environment', 'saskatchewan rivers', 'scale negative', 'scope assessment', 'section accidents', 'section acoustic', 'section alignment', 'section assessment', 'section atmospheric', 'section conclusion', 'section conclusions', 'section consultation', 'section corridor', 'section cumulative', 'section current', 'section effects', 'section environmental', 'section fish', 'section followup', 'section freshwater', 'section heritage', 'section hydrogeology', 'section hydrology', 'section inspection', 'section introduction', 'section nonclusions', 'section palaeontological', 'section post', 'section postconstruction', 'section project', 'section public', 'section route', 'section routing', 'section scope', 'section site', 'section socioeconomic', 'section soils', 'section supplemental', 'section surface', 'section terrain', 'section traditional', 'section vegetation', 'section wildlife', 'secttion environmental', 'sediment quality', 'sediment water', 'selection part', 'selection section', 'sensitivity scale', 'setting air', 'setting facilities', 'setting pipeline', 'setting section', 'sheet package', 'sheets environmental', 'sheets gas', 'sheets gathering', 'sheets maps', 'sheets ngl', 'sheets ngtl', 'sheets nova', 'sheets proposed', 'sightings wildlife', 'site information', 'site records', 'site selection', 'sites assessment', 'socio traditional', 'socioeconomic assessment', 'socioeconomic baseline', 'socioeconomic cumulative', 'socioeconomic effects', 'socioeconomic figures', 'socioeconomic impact', 'socioeconomic setting', 'socioeconomic supporting', 'socioeconomic technical', 'soil baseline', 'soil capability', 'soil map', 'soil physical', 'soil productivity', 'soil profile', 'soil soil', 'soil survery', 'soil survey', 'soil vegetation', 'soils appendix', 'soils desktop', 'soils landforms', 'soils section', 'soils technical', 'soils terrain', 'south saskatchewan', 'southern lights', 'special status', 'species accounts', 'species management', 'species risk', 'species special', 'stability mapping', 'stakeholder consultation', 'star section', 'statement towerbirch', 'station acoustic', 'station environmental', 'station methods', 'station unit', 'status observed', 'strategies soils', 'strategy section', 'strome station', 'studies section', 'study area', 'study participation', 'study report', 'study section', 'suitability evaluation', 'summary content', 'summary contents', 'summary report', 'summary stakeholder', 'summary tables', 'summary traditional', 'supplemental studies', 'supporting study', 'surface water', 'surfave water', 'survery proposed', 'survey bakken', 'survey nova', 'survey reclamation', 'survey results', 'surveys methods', 'system expansion', 'tank terminal', 'techincal report', 'techncial report', 'technical data', 'technical report', 'tera aquatics', 'tera traditional', 'tera vegetation', 'tera wetlands', 'tera wildlife', 'terminal environmental', 'terminal section', 'terminal techincal', 'terrain appendix', 'terrain section', 'terrain stability', 'terrain technical', 'terrain terrain', 'terrestrial local', 'terrestrial map', 'terrestrial noise', 'tk report', 'towerbirch expansion', 'traditional knowledge', 'traditional land', 'trans mountain', 'transcanada keystone', 'transcanadas health', 'transmission limited', 'transmission ltd', 'tss levels', 'undefined drainages', 'unit addition', 'unit symbology', 'unplanned events', 'use assessment', 'use report', 'use section', 'use sites', 'use survey', 'vantage environmental', 'vegetation appendix', 'vegetation baseline', 'vegetation data', 'vegetation reconnaissance', 'vegetation section', 'vegetation species', 'vegetation survey', 'vegetation technical', 'vegetation wetlands', 'versus non', 'vibration technical', 'view section', 'volume biophysical', 'volume environmental', 'volume overview', 'volume project', 'volume socioeconomic', 'water quality', 'water qualty', 'water quantity', 'water resources', 'water sediment', 'watercource crossing', 'watercource gas', 'watercource surveys', 'watercource tables', 'watercource wildlife', 'watercourse crossing', 'watercourse crossings', 'watercourse fishbearing', 'watercourses investigated', 'waters site', 'wellness culture', 'westridge marine', 'wetland assessment', 'wetland baseline', 'wetland dat', 'wetland evaluation', 'wetland evluation', 'wetland reconnaissance', 'wetland report', 'wetland technical', 'wetlands baseline', 'wetlands report', 'wetlands section', 'wetlands survey', 'wider watercourses', 'wildlife baseline', 'wildlife habitat', 'wildlife modelling', 'wildlife occurring', 'wildlife part', 'wildlife reconnaissance', 'wildlife report', 'wildlife sightings', 'wildlife species', 'wildlife summary', 'wildlife technical', 'wildlife watercource', 'wildlife wildlife', 'within km', 'within reaa', 'xl pipeline', 'zones appendix']\n",
      "\n",
      "\n",
      "X1 : \n",
      " [[0 0 0 ... 0 0 0]\n",
      " [0 0 0 ... 0 0 0]\n",
      " [0 0 0 ... 0 0 0]\n",
      " ...\n",
      " [0 0 0 ... 0 0 0]\n",
      " [0 0 0 ... 0 0 0]\n",
      " [0 0 0 ... 0 0 0]]\n",
      "\n",
      "\n",
      "Scores : \n",
      " [[0. 0. 0. ... 0. 0. 0.]\n",
      " [0. 0. 0. ... 0. 0. 0.]\n",
      " [0. 0. 0. ... 0. 0. 0.]\n",
      " ...\n",
      " [0. 0. 0. ... 0. 0. 0.]\n",
      " [0. 0. 0. ... 0. 0. 0.]\n",
      " [0. 0. 0. ... 0. 0. 0.]]\n"
     ]
    }
   ],
   "source": [
    "# Getting trigrams  \n",
    "vectorizer = CountVectorizer(ngram_range = (2,2)) \n",
    "X1 = vectorizer.fit_transform(Text_clean)  \n",
    "features = (vectorizer.get_feature_names()) \n",
    "print(\"\\n\\nFeatures : \\n\", features) \n",
    "print(\"\\n\\nX1 : \\n\", X1.toarray()) \n",
    "  \n",
    "# Applying TFIDF \n",
    "vectorizer = TfidfVectorizer(ngram_range = (3,3)) \n",
    "X2 = vectorizer.fit_transform(Text_clean)\n",
    "scores = (X2.toarray()) \n",
    "print(\"\\n\\nScores : \\n\", scores) "
   ]
  },
  {
   "cell_type": "code",
   "execution_count": 113,
   "metadata": {},
   "outputs": [
    {
     "name": "stdout",
     "output_type": "stream",
     "text": [
      "\n",
      "\n",
      "Words head : \n",
      "                        term        rank\n",
      "256  feasibility assessment  392.205149\n",
      "329   inspection monitoring   25.980762\n",
      "136     crossing assessment   25.980762\n",
      "121   considered cumulative   25.980762\n",
      "255           fall wildlife   23.334524\n",
      "30      appendix assessment   23.334524\n",
      "28             appendix air   21.920310\n"
     ]
    }
   ],
   "source": [
    "# Getting top ranking features \n",
    "sums = X2.sum(axis = 0) \n",
    "data1 = [] \n",
    "for col, term in enumerate(features): \n",
    "    data1.append( (term, sums[0,col] )) \n",
    "ranking = pd.DataFrame(data1, columns = ['term','rank']) \n",
    "words = (ranking.sort_values('rank', ascending = False)) \n",
    "print (\"\\n\\nWords head : \\n\", words.head(7)) "
   ]
  },
  {
   "cell_type": "markdown",
   "metadata": {},
   "source": [
    "# Frequency "
   ]
  },
  {
   "cell_type": "code",
   "execution_count": null,
   "metadata": {},
   "outputs": [],
   "source": []
  }
 ],
 "metadata": {
  "kernelspec": {
   "display_name": "Python 3",
   "language": "python",
   "name": "python3"
  },
  "language_info": {
   "codemirror_mode": {
    "name": "ipython",
    "version": 3
   },
   "file_extension": ".py",
   "mimetype": "text/x-python",
   "name": "python",
   "nbconvert_exporter": "python",
   "pygments_lexer": "ipython3",
   "version": "3.7.4"
  }
 },
 "nbformat": 4,
 "nbformat_minor": 2
}
