{
 "cells": [
  {
   "cell_type": "markdown",
   "metadata": {},
   "source": [
    "The code will implement the following functions: \n",
    "\n",
    "1.      Download PDF - Margaret\n",
    "Input: Index 2 – PDFs for major project: List of the PDF downloadable links\n",
    "\n",
    "Output: PDF Files\n",
    "\n",
    " \n",
    "\n",
    "2.     PDF to Tika Conversion – Sousan/Margaret\n",
    "Input: PDF files\n",
    "Output: Tika Files (XML), A text file with all the files which could not be converted\n",
    "\n",
    "\n",
    "3.     Identify the Table Titles  - Vibudh\n",
    "Input: Tika files\n",
    "Output: Support File – 1 with all the table titles, Error files\n",
    "\n",
    "\n",
    "4.     Extracting the Tables - Sousan\n",
    "Input: Support File – 1 with all the table titles\n",
    "Output: CSV Files, Index 3- List of the CSV Files\n",
    " \n",
    "\n",
    "5.     Table rotation – McKenzie Files - Nipun\n",
    "Input: PDF file list for McKenzie Project\n",
    "Output:  More CSV Files, Update Index 3- List of the CSV Files\n",
    "\n",
    "\n",
    "6.      Categorization of the PDFs – Vibudh \n",
    "Input: Index 2- PDFs for Major Projects with ESA with manual Brooke’s tagging\n",
    "Output: Support File - 2: PDF file names with categories assigned (pivoted table)"
   ]
  },
  {
   "cell_type": "code",
   "execution_count": null,
   "metadata": {},
   "outputs": [],
   "source": []
  }
 ],
 "metadata": {
  "kernelspec": {
   "display_name": "Python 3",
   "language": "python",
   "name": "python3"
  },
  "language_info": {
   "codemirror_mode": {
    "name": "ipython",
    "version": 3
   },
   "file_extension": ".py",
   "mimetype": "text/x-python",
   "name": "python",
   "nbconvert_exporter": "python",
   "pygments_lexer": "ipython3",
   "version": "3.7.4"
  }
 },
 "nbformat": 4,
 "nbformat_minor": 2
}
