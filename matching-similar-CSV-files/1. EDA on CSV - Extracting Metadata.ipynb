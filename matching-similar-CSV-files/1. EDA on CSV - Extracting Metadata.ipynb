{
 "cells": [
  {
   "cell_type": "markdown",
   "metadata": {},
   "source": [
    "# 1. CSV Metadata Extraction "
   ]
  },
  {
   "cell_type": "markdown",
   "metadata": {},
   "source": [
    "To extract the metadata you should choose one of the 2 options: <br>\n",
    "    a. Extract the Metadat by traversing through all the files. <br>\n",
    "    b. Open the CSV file to use the already extracted metadata. <br>\n",
    "    \n",
    "Option 1 takes ~2 hours to run "
   ]
  },
  {
   "cell_type": "markdown",
   "metadata": {},
   "source": [
    "This Piece of code helps in extracting the metadat of all the CSV Files at a folder.\n",
    "Taking forward Margaret's Week 1 Code. The code extracts the shape of the files and the first coloumn names. "
   ]
  },
  {
   "cell_type": "code",
   "execution_count": 1,
   "metadata": {},
   "outputs": [],
   "source": [
    "import os\n",
    "import pandas as pd\n",
    "import time\n",
    "import glob \n",
    "import csv"
   ]
  },
  {
   "cell_type": "markdown",
   "metadata": {},
   "source": [
    "## Part 1. Extract the Metadata -1 by traversing through all the files (~2 Hours)"
   ]
  },
  {
   "cell_type": "code",
   "execution_count": 2,
   "metadata": {},
   "outputs": [
    {
     "data": {
      "text/plain": "['F:/D&IMBU/DataScience/2019.10.07 - Environmental Baseline Team Project/Demo Deliverables/Demo ubc csvs/001',\n 'F:/D&IMBU/DataScience/2019.10.07 - Environmental Baseline Team Project/Demo Deliverables/Demo ubc csvs/002']"
     },
     "execution_count": 2,
     "metadata": {},
     "output_type": "execute_result"
    }
   ],
   "source": [
    "path = \"F:/D&IMBU/DataScience/2019.10.07 - Environmental Baseline Team Project/Demo Deliverables/Demo ubc csvs\"\n",
    "all_paths = os.listdir(path)\n",
    "all_paths_folder = [path +  '/' + str(x) for x in all_paths]\n",
    "all_paths_folder"
   ]
  },
  {
   "cell_type": "code",
   "execution_count": 3,
   "metadata": {},
   "outputs": [],
   "source": [
    "path = \"F:/D&IMBU/DataScience/2019.10.07 - Environmental Baseline Team Project/Demo Deliverables/Demo ubc csvs\"\n",
    "all_paths = os.listdir(path)\n",
    "all_paths_folder = [path +  '/' + str(x) for x in all_paths]\n",
    "\n",
    "\n",
    "\n",
    "\n",
    "# Try Using glob.glob instead \n",
    "# flat_list_csv = glob.glob(path+'\\*.pdf')\n",
    "# flat_list_csv\n",
    "all_paths_csv = []\n",
    "for file_path in all_paths_folder:\n",
    "    all_paths = os.listdir(file_path)\n",
    "    all_paths_full = [file_path + '/' + y for y in all_paths]\n",
    "    all_paths_csv.append(all_paths_full)\n",
    "\n",
    "flat_list_csv = [item for sublist in all_paths_csv for item in sublist]"
   ]
  },
  {
   "cell_type": "code",
   "execution_count": 4,
   "metadata": {},
   "outputs": [],
   "source": [
    "# example = flat_list_csv[8:16]\n",
    "len(flat_list_csv)\n",
    "# flat_list_csv1 = flat_list_csv[3:22]\n",
    "\n",
    "# flat_list_csv\n",
    "\n",
    "file = flat_list_csv[1]\n",
    "file_handler = pd.read_csv(file, header = 0)\n",
    "file_name = file.split('/')[-1]\n"
   ]
  },
  {
   "cell_type": "code",
   "execution_count": 5,
   "metadata": {},
   "outputs": [],
   "source": [
    "shape_list = []\n",
    "for file in flat_list_csv:\n",
    "    try:\n",
    "        file_handler = pd.read_csv(file, header = 0)\n",
    "               \n",
    "        shape = (list(file_handler.shape))\n",
    "        \n",
    "        file_name = file.split('/')[-1][:-4]\n",
    "        shape.append(file_name)\n",
    "        \n",
    "        shape.append(file_handler.head(1))\n",
    "        shape1 = shape.insert(0, file)\n",
    "        shape_list.append(shape)\n",
    "        \n",
    "        \n",
    "        # file_handler.close() --- Check if qwe need to close the handler or in Pandas you needn't close the handler\n",
    "        #with open(x, \"rb\") as f:\n",
    "        #reader = csv.reader(f)\n",
    "        #i = reader.next()\n",
    "        #rest = [row for row in reader]\n",
    "        \n",
    "    except:\n",
    "        pass\n",
    "#        shape = (0, 0, 'N/A')\n",
    "#        shape1 = shape.insert(0, file)\n",
    "#        shape_list.append(shape) \n"
   ]
  },
  {
   "cell_type": "code",
   "execution_count": 6,
   "metadata": {},
   "outputs": [
    {
     "data": {
      "text/html": "<div>\n<style scoped>\n    .dataframe tbody tr th:only-of-type {\n        vertical-align: middle;\n    }\n\n    .dataframe tbody tr th {\n        vertical-align: top;\n    }\n\n    .dataframe thead th {\n        text-align: right;\n    }\n</style>\n<table border=\"1\" class=\"dataframe\">\n  <thead>\n    <tr style=\"text-align: right;\">\n      <th></th>\n      <th>Link</th>\n      <th>Postal</th>\n      <th>Row_Numbers</th>\n      <th>Coloumn_Numbers</th>\n      <th>File_Name</th>\n      <th>Coloumn_Names</th>\n    </tr>\n  </thead>\n  <tbody>\n    <tr>\n      <th>0</th>\n      <td>F:/D&amp;IMBU/DataScience/2019.10.07 - Environment...</td>\n      <td>A4F2Z2</td>\n      <td>6</td>\n      <td>4</td>\n      <td>01 ESA MAIN Section01to05 %2D A4F2Z2-page-20-t...</td>\n      <td>Filing Manu...</td>\n    </tr>\n    <tr>\n      <th>1</th>\n      <td>F:/D&amp;IMBU/DataScience/2019.10.07 - Environment...</td>\n      <td>A4F2Z2</td>\n      <td>13</td>\n      <td>4</td>\n      <td>01 ESA MAIN Section01to05 %2D A4F2Z2-page-21-t...</td>\n      <td>Filing Manual No. Filing Requirement...</td>\n    </tr>\n    <tr>\n      <th>2</th>\n      <td>F:/D&amp;IMBU/DataScience/2019.10.07 - Environment...</td>\n      <td>A4F2Z2</td>\n      <td>12</td>\n      <td>4</td>\n      <td>01 ESA MAIN Section01to05 %2D A4F2Z2-page-22-t...</td>\n      <td>Filing Manual No. Filing ...</td>\n    </tr>\n    <tr>\n      <th>3</th>\n      <td>F:/D&amp;IMBU/DataScience/2019.10.07 - Environment...</td>\n      <td>A4F2Z2</td>\n      <td>15</td>\n      <td>4</td>\n      <td>01 ESA MAIN Section01to05 %2D A4F2Z2-page-23-t...</td>\n      <td>Filing Manual No.                           ...</td>\n    </tr>\n    <tr>\n      <th>4</th>\n      <td>F:/D&amp;IMBU/DataScience/2019.10.07 - Environment...</td>\n      <td>A4F2Z2</td>\n      <td>12</td>\n      <td>4</td>\n      <td>01 ESA MAIN Section01to05 %2D A4F2Z2-page-24-t...</td>\n      <td>Filing Manual No.  Filing Requirement  \\\n0  ...</td>\n    </tr>\n  </tbody>\n</table>\n</div>",
      "text/plain": "                                                Link  Postal  Row_Numbers  \\\n0  F:/D&IMBU/DataScience/2019.10.07 - Environment...  A4F2Z2            6   \n1  F:/D&IMBU/DataScience/2019.10.07 - Environment...  A4F2Z2           13   \n2  F:/D&IMBU/DataScience/2019.10.07 - Environment...  A4F2Z2           12   \n3  F:/D&IMBU/DataScience/2019.10.07 - Environment...  A4F2Z2           15   \n4  F:/D&IMBU/DataScience/2019.10.07 - Environment...  A4F2Z2           12   \n\n   Coloumn_Numbers                                          File_Name  \\\n0                4  01 ESA MAIN Section01to05 %2D A4F2Z2-page-20-t...   \n1                4  01 ESA MAIN Section01to05 %2D A4F2Z2-page-21-t...   \n2                4  01 ESA MAIN Section01to05 %2D A4F2Z2-page-22-t...   \n3                4  01 ESA MAIN Section01to05 %2D A4F2Z2-page-23-t...   \n4                4  01 ESA MAIN Section01to05 %2D A4F2Z2-page-24-t...   \n\n                                       Coloumn_Names  \n0                                     Filing Manu...  \n1            Filing Manual No. Filing Requirement...  \n2                       Filing Manual No. Filing ...  \n3    Filing Manual No.                           ...  \n4    Filing Manual No.  Filing Requirement  \\\n0  ...  "
     },
     "execution_count": 6,
     "metadata": {},
     "output_type": "execute_result"
    }
   ],
   "source": [
    "df = pd.DataFrame(shape_list, columns =['Link', 'Row_Numbers', 'Coloumn_Numbers', 'File_Name', 'Coloumn_Names']) \n",
    "\n",
    "postal_series = df['Link'].str.extract('(A\\d\\D...)')\n",
    "df.insert(1, 'Postal', postal_series)\n",
    "\n",
    "df.head(5)"
   ]
  },
  {
   "cell_type": "markdown",
   "metadata": {},
   "source": [
    "The dataframe is saved in a locan CSV file. It is highly recommended to have a look at the csv file before going forward. "
   ]
  },
  {
   "cell_type": "code",
   "execution_count": 7,
   "metadata": {},
   "outputs": [],
   "source": [
    "os.chdir(path + \" Matadata\")\n",
    "df.to_csv('Shape_UBC_Baseline.csv')"
   ]
  },
  {
   "cell_type": "markdown",
   "metadata": {},
   "source": [
    "## Part 2. Extract the Metadata -2 by traversing through all the files (~2 Hours)"
   ]
  },
  {
   "cell_type": "code",
   "execution_count": 8,
   "metadata": {},
   "outputs": [
    {
     "data": {
      "text/plain": "['F:/D&IMBU/DataScience/2019.10.07 - Environmental Baseline Team Project/Demo Deliverables/Demo ubc csvs/001',\n 'F:/D&IMBU/DataScience/2019.10.07 - Environmental Baseline Team Project/Demo Deliverables/Demo ubc csvs/002']"
     },
     "execution_count": 8,
     "metadata": {},
     "output_type": "execute_result"
    }
   ],
   "source": [
    "path = \"F:/D&IMBU/DataScience/2019.10.07 - Environmental Baseline Team Project/Demo Deliverables/Demo ubc csvs\"\n",
    "all_paths = os.listdir(path)\n",
    "all_paths_folder = [path +  '/' + str(x) for x in all_paths]\n",
    "all_paths_folder"
   ]
  },
  {
   "cell_type": "code",
   "execution_count": 9,
   "metadata": {},
   "outputs": [
    {
     "data": {
      "text/plain": "25"
     },
     "execution_count": 9,
     "metadata": {},
     "output_type": "execute_result"
    }
   ],
   "source": [
    "all_paths_csv = []\n",
    "for x in all_paths_folder:\n",
    "    all_paths = os.listdir(x)\n",
    "    all_paths_full = [x + '/' + y for y in all_paths]\n",
    "    all_paths_csv.append(all_paths_full)\n",
    "len(all_paths_csv)\n",
    "\n",
    "len(flat_list_csv)\n",
    "\n",
    "#full path for each csv file\n",
    "flat_list_csv = [item for sublist in all_paths_csv for item in sublist]  \n",
    "len(flat_list_csv)"
   ]
  },
  {
   "cell_type": "code",
   "execution_count": 10,
   "metadata": {},
   "outputs": [
    {
     "data": {
      "text/plain": "['Link', 'Col 1', 'Col 2', 'Col 3', 'Col 4', 'Col 5', 'Col 6']"
     },
     "execution_count": 10,
     "metadata": {},
     "output_type": "execute_result"
    }
   ],
   "source": [
    "#go through each full path and grab the column names and create a new dataframe\n",
    "\n",
    "Max_No_of_coloumns = 0\n",
    "coloumnList = []\n",
    "for file in flat_list_csv:\n",
    "            \n",
    "    file_handler = pd.read_csv(file)\n",
    "    file_handler.insert(0, file, file)\n",
    "           \n",
    "    Col_List = file_handler.columns.tolist()\n",
    "    coloumnList.append(Col_List)\n",
    "    if len(Col_List) > Max_No_of_coloumns:\n",
    "        Max_No_of_coloumns = len(Col_List)\n",
    "    \n",
    "Col_Names = ['Link']\n",
    "for i in range(0,Max_No_of_coloumns-1):\n",
    "    Col_Names.append('Col ' + str(i+1))\n",
    "    \n",
    "Col_Names"
   ]
  },
  {
   "cell_type": "code",
   "execution_count": 11,
   "metadata": {},
   "outputs": [
    {
     "data": {
      "text/plain": "[['F:/D&IMBU/DataScience/2019.10.07 - Environmental Baseline Team Project/Demo Deliverables/Demo ubc csvs/001/01 ESA MAIN Section01to05 %2D A4F2Z2-page-20-table-1.csv',\n  'Filing Manual No.',\n  'Filing Requirement',\n  'In Application? References',\n  'Not in Application? Explanation'],\n ['F:/D&IMBU/DataScience/2019.10.07 - Environmental Baseline Team Project/Demo Deliverables/Demo ubc csvs/001/01 ESA MAIN Section01to05 %2D A4F2Z2-page-21-table-1.csv',\n  'Filing Manual No.',\n  'Filing Requirement',\n  'In Application? References',\n  'Not in Application? Explanation'],\n ['F:/D&IMBU/DataScience/2019.10.07 - Environmental Baseline Team Project/Demo Deliverables/Demo ubc csvs/001/01 ESA MAIN Section01to05 %2D A4F2Z2-page-22-table-1.csv',\n  'Filing Manual No.',\n  'Filing Requirement',\n  'In Application? References',\n  'Not in Application? Explanation'],\n ['F:/D&IMBU/DataScience/2019.10.07 - Environmental Baseline Team Project/Demo Deliverables/Demo ubc csvs/001/01 ESA MAIN Section01to05 %2D A4F2Z2-page-23-table-1.csv',\n  'Filing Manual No.',\n  'Filing Requirement',\n  'In Application? References',\n  'Not in Application? Explanation'],\n ['F:/D&IMBU/DataScience/2019.10.07 - Environmental Baseline Team Project/Demo Deliverables/Demo ubc csvs/001/01 ESA MAIN Section01to05 %2D A4F2Z2-page-24-table-1.csv',\n  'Filing Manual No.',\n  'Filing Requirement',\n  'In Application? References',\n  'Not in Application? Explanation'],\n ['F:/D&IMBU/DataScience/2019.10.07 - Environmental Baseline Team Project/Demo Deliverables/Demo ubc csvs/001/01 ESA MAIN Section01to05 %2D A4F2Z2-page-25-table-1.csv',\n  'Technical Component',\n  'Project Details'],\n ['F:/D&IMBU/DataScience/2019.10.07 - Environmental Baseline Team Project/Demo Deliverables/Demo ubc csvs/001/01 ESA MAIN Section01to05 %2D A4F2Z2-page-26-table-1.csv',\n  'Technical Component',\n  'Project Details'],\n ['F:/D&IMBU/DataScience/2019.10.07 - Environmental Baseline Team Project/Demo Deliverables/Demo ubc csvs/001/01 ESA MAIN Section01to05 %2D A4F2Z2-page-27-table-1.csv',\n  'Pipeline Construction Phase',\n  'Associated Activities'],\n ['F:/D&IMBU/DataScience/2019.10.07 - Environmental Baseline Team Project/Demo Deliverables/Demo ubc csvs/001/01 ESA MAIN Section01to05 %2D A4F2Z2-page-28-table-1.csv',\n  'Pipeline Construction Phase',\n  'Associated Activities'],\n ['F:/D&IMBU/DataScience/2019.10.07 - Environmental Baseline Team Project/Demo Deliverables/Demo ubc csvs/001/01 ESA MAIN Section01to05 %2D A4F2Z2-page-29-table-1.csv',\n  'Agency Permit, Authorization and/or Notification',\n  'Unnamed: 1'],\n ['F:/D&IMBU/DataScience/2019.10.07 - Environmental Baseline Team Project/Demo Deliverables/Demo ubc csvs/001/01 ESA MAIN Section01to05 %2D A4F2Z2-page-30-table-1.csv',\n  'Major Activity',\n  'Estimated Duration of Major Activity'],\n ['F:/D&IMBU/DataScience/2019.10.07 - Environmental Baseline Team Project/Demo Deliverables/Demo ubc csvs/001/01 ESA MAIN Section01to05 %2D A4F2Z2-page-36-table-1.csv',\n  'Environmental and Socio-Economic Elements',\n  'Summary of Considerations'],\n ['F:/D&IMBU/DataScience/2019.10.07 - Environmental Baseline Team Project/Demo Deliverables/Demo ubc csvs/001/01 ESA MAIN Section01to05 %2D A4F2Z2-page-37-table-1.csv',\n  'Environmental and Socio-Economic Elements',\n  'Summary of Considerations'],\n ['F:/D&IMBU/DataScience/2019.10.07 - Environmental Baseline Team Project/Demo Deliverables/Demo ubc csvs/002/A0Y0Z1 %2D Appendix G %2D ESA-page-19-table-1.csv',\n  'Name',\n  'Agency',\n  'Date',\n  'Method',\n  'Information Requested',\n  'Comments / Constraints'],\n ['F:/D&IMBU/DataScience/2019.10.07 - Environmental Baseline Team Project/Demo Deliverables/Demo ubc csvs/002/A0Y0Z1 %2D Appendix G %2D ESA-page-20-table-1.csv',\n  'Name',\n  'Agency',\n  'Date',\n  'Method',\n  'Information Requested',\n  'Comments / Constraints'],\n ['F:/D&IMBU/DataScience/2019.10.07 - Environmental Baseline Team Project/Demo Deliverables/Demo ubc csvs/002/A0Y0Z1 %2D Appendix G %2D ESA-page-22-table-1.csv',\n  'Biophysical and Socio-Economic Elements',\n  'Summary of Considerations'],\n ['F:/D&IMBU/DataScience/2019.10.07 - Environmental Baseline Team Project/Demo Deliverables/Demo ubc csvs/002/A0Y0Z1 %2D Appendix G %2D ESA-page-23-table-1.csv',\n  'Biophysical and Socio-Economic Elements',\n  'Summary of Considerations'],\n ['F:/D&IMBU/DataScience/2019.10.07 - Environmental Baseline Team Project/Demo Deliverables/Demo ubc csvs/002/A0Y0Z1 %2D Appendix G %2D ESA-page-24-table-1.csv',\n  'Biophysical and Socio-Economic Elements',\n  'Summary of Considerations'],\n ['F:/D&IMBU/DataScience/2019.10.07 - Environmental Baseline Team Project/Demo Deliverables/Demo ubc csvs/002/A0Y0Z1 %2D Appendix G %2D ESA-page-25-table-1.csv',\n  'Biophysical and Socio-Economic Elements',\n  'Summary of Considerations'],\n ['F:/D&IMBU/DataScience/2019.10.07 - Environmental Baseline Team Project/Demo Deliverables/Demo ubc csvs/002/A0Y0Z1 %2D Appendix G %2D ESA-page-26-table-1.csv',\n  'Biophysical and Socio-Economic Elements',\n  'Summary of Considerations'],\n ['F:/D&IMBU/DataScience/2019.10.07 - Environmental Baseline Team Project/Demo Deliverables/Demo ubc csvs/002/A0Y0Z1 %2D Appendix G %2D ESA-page-3-table-1.csv',\n  'Filing #',\n  'Filing Requirement',\n  'In Application? References',\n  'Not in Application? Explanation'],\n ['F:/D&IMBU/DataScience/2019.10.07 - Environmental Baseline Team Project/Demo Deliverables/Demo ubc csvs/002/A0Y0Z1 %2D Appendix G %2D ESA-page-31-table-1.csv',\n  'Assessment Criteria Definition',\n  'Unnamed: 1',\n  'Unnamed: 2'],\n ['F:/D&IMBU/DataScience/2019.10.07 - Environmental Baseline Team Project/Demo Deliverables/Demo ubc csvs/002/A0Y0Z1 %2D Appendix G %2D ESA-page-32-table-1.csv',\n  'Assessment Criteria Definition',\n  'Unnamed: 1'],\n ['F:/D&IMBU/DataScience/2019.10.07 - Environmental Baseline Team Project/Demo Deliverables/Demo ubc csvs/002/A0Y0Z1 %2D Appendix G %2D ESA-page-4-table-1.csv',\n  'Filing #',\n  'Filing Requirement',\n  'In Application? References',\n  'Not in Application? Explanation'],\n ['F:/D&IMBU/DataScience/2019.10.07 - Environmental Baseline Team Project/Demo Deliverables/Demo ubc csvs/002/A0Y0Z1 %2D Appendix G %2D ESA-page-5-table-1.csv',\n  'Filing #',\n  'Filing Requirement',\n  'In Application? References',\n  'Not in Application? Explanation']]"
     },
     "execution_count": 11,
     "metadata": {},
     "output_type": "execute_result"
    }
   ],
   "source": [
    "coloumnList"
   ]
  },
  {
   "cell_type": "code",
   "execution_count": 12,
   "metadata": {},
   "outputs": [],
   "source": [
    "df_coloumns = pd.DataFrame(coloumnList, columns = Col_Names) "
   ]
  },
  {
   "cell_type": "code",
   "execution_count": 13,
   "metadata": {},
   "outputs": [],
   "source": [
    "os.chdir(path + \" Matadata\")\n",
    "df_coloumns.to_csv('coloumn_Names_UBC_Baseline.csv')"
   ]
  },
  {
   "cell_type": "code",
   "execution_count": 14,
   "metadata": {},
   "outputs": [
    {
     "data": {
      "text/html": "<div>\n<style scoped>\n    .dataframe tbody tr th:only-of-type {\n        vertical-align: middle;\n    }\n\n    .dataframe tbody tr th {\n        vertical-align: top;\n    }\n\n    .dataframe thead th {\n        text-align: right;\n    }\n</style>\n<table border=\"1\" class=\"dataframe\">\n  <thead>\n    <tr style=\"text-align: right;\">\n      <th></th>\n      <th>Link</th>\n      <th>Col 1</th>\n      <th>Col 2</th>\n      <th>Col 3</th>\n      <th>Col 4</th>\n      <th>Col 5</th>\n      <th>Col 6</th>\n    </tr>\n  </thead>\n  <tbody>\n    <tr>\n      <th>0</th>\n      <td>F:/D&amp;IMBU/DataScience/2019.10.07 - Environment...</td>\n      <td>Filing Manual No.</td>\n      <td>Filing Requirement</td>\n      <td>In Application? References</td>\n      <td>Not in Application? Explanation</td>\n      <td>None</td>\n      <td>None</td>\n    </tr>\n    <tr>\n      <th>1</th>\n      <td>F:/D&amp;IMBU/DataScience/2019.10.07 - Environment...</td>\n      <td>Filing Manual No.</td>\n      <td>Filing Requirement</td>\n      <td>In Application? References</td>\n      <td>Not in Application? Explanation</td>\n      <td>None</td>\n      <td>None</td>\n    </tr>\n    <tr>\n      <th>2</th>\n      <td>F:/D&amp;IMBU/DataScience/2019.10.07 - Environment...</td>\n      <td>Filing Manual No.</td>\n      <td>Filing Requirement</td>\n      <td>In Application? References</td>\n      <td>Not in Application? Explanation</td>\n      <td>None</td>\n      <td>None</td>\n    </tr>\n    <tr>\n      <th>3</th>\n      <td>F:/D&amp;IMBU/DataScience/2019.10.07 - Environment...</td>\n      <td>Filing Manual No.</td>\n      <td>Filing Requirement</td>\n      <td>In Application? References</td>\n      <td>Not in Application? Explanation</td>\n      <td>None</td>\n      <td>None</td>\n    </tr>\n    <tr>\n      <th>4</th>\n      <td>F:/D&amp;IMBU/DataScience/2019.10.07 - Environment...</td>\n      <td>Filing Manual No.</td>\n      <td>Filing Requirement</td>\n      <td>In Application? References</td>\n      <td>Not in Application? Explanation</td>\n      <td>None</td>\n      <td>None</td>\n    </tr>\n    <tr>\n      <th>5</th>\n      <td>F:/D&amp;IMBU/DataScience/2019.10.07 - Environment...</td>\n      <td>Technical Component</td>\n      <td>Project Details</td>\n      <td>None</td>\n      <td>None</td>\n      <td>None</td>\n      <td>None</td>\n    </tr>\n  </tbody>\n</table>\n</div>",
      "text/plain": "                                                Link                Col 1  \\\n0  F:/D&IMBU/DataScience/2019.10.07 - Environment...    Filing Manual No.   \n1  F:/D&IMBU/DataScience/2019.10.07 - Environment...    Filing Manual No.   \n2  F:/D&IMBU/DataScience/2019.10.07 - Environment...    Filing Manual No.   \n3  F:/D&IMBU/DataScience/2019.10.07 - Environment...    Filing Manual No.   \n4  F:/D&IMBU/DataScience/2019.10.07 - Environment...    Filing Manual No.   \n5  F:/D&IMBU/DataScience/2019.10.07 - Environment...  Technical Component   \n\n                Col 2                       Col 3  \\\n0  Filing Requirement  In Application? References   \n1  Filing Requirement  In Application? References   \n2  Filing Requirement  In Application? References   \n3  Filing Requirement  In Application? References   \n4  Filing Requirement  In Application? References   \n5     Project Details                        None   \n\n                             Col 4 Col 5 Col 6  \n0  Not in Application? Explanation  None  None  \n1  Not in Application? Explanation  None  None  \n2  Not in Application? Explanation  None  None  \n3  Not in Application? Explanation  None  None  \n4  Not in Application? Explanation  None  None  \n5                             None  None  None  "
     },
     "execution_count": 14,
     "metadata": {},
     "output_type": "execute_result"
    }
   ],
   "source": [
    "df_coloumns.head(6)"
   ]
  },
  {
   "cell_type": "markdown",
   "metadata": {},
   "source": [
    "# 2. Open the CSV file to use the already extracted metadata"
   ]
  },
  {
   "cell_type": "code",
   "execution_count": 15,
   "metadata": {},
   "outputs": [],
   "source": [
    "# df = pd.read_csv('')\n",
    "# print(df.target_names.unique())\n",
    "# df.Coloumn_Names.head()"
   ]
  },
  {
   "cell_type": "code",
   "execution_count": null,
   "metadata": {},
   "outputs": [],
   "source": []
  },
  {
   "cell_type": "code",
   "execution_count": null,
   "metadata": {},
   "outputs": [],
   "source": []
  },
  {
   "cell_type": "code",
   "execution_count": null,
   "metadata": {},
   "outputs": [],
   "source": []
  },
  {
   "cell_type": "markdown",
   "metadata": {},
   "source": [
    "# 3. Plotting the shape of the csv files "
   ]
  },
  {
   "cell_type": "markdown",
   "metadata": {},
   "source": [
    "Ref -> https://stackoverflow.com/questions/7908636/possible-to-make-labels-appear-when-hovering-over-a-point-in-matplotlib\n",
    "\n",
    "\n",
    "Read the reference to add annotations on hovering for more interesting tooltip visualizations. \n",
    "It didn't work so well for Jupyter notebook for me."
   ]
  },
  {
   "cell_type": "code",
   "execution_count": 16,
   "metadata": {},
   "outputs": [],
   "source": [
    "import matplotlib.pyplot as plt\n",
    "import numpy as np; np.random.seed(1)"
   ]
  },
  {
   "cell_type": "code",
   "execution_count": 17,
   "metadata": {},
   "outputs": [
    {
     "data": {
      "image/png": "[encoded data removed]",
      "image/svg+xml": "<?xml version=\"1.0\" encoding=\"utf-8\" standalone=\"no\"?>\r\n<!DOCTYPE svg PUBLIC \"-//W3C//DTD SVG 1.1//EN\"\r\n  \"http://www.w3.org/Graphics/SVG/1.1/DTD/svg11.dtd\">\r\n<!-- Created with matplotlib (https://matplotlib.org/) -->\r\n<svg height=\"277.314375pt\" version=\"1.1\" viewBox=\"0 0 389.28125 277.314375\" width=\"389.28125pt\" xmlns=\"http://www.w3.org/2000/svg\" xmlns:xlink=\"http://www.w3.org/1999/xlink\">\r\n <defs>\r\n  <style type=\"text/css\">\r\n*{stroke-linecap:butt;stroke-linejoin:round;}\r\n  </style>\r\n </defs>\r\n <g id=\"figure_1\">\r\n  <g id=\"patch_1\">\r\n   <path d=\"M 0 277.314375 \r\nL 389.28125 277.314375 \r\nL 389.28125 0 \r\nL 0 0 \r\nz\r\n\"/>\r\n  </g>\r\n  <g id=\"axes_1\">\r\n   <g id=\"patch_2\">\r\n    <path d=\"M 43.78125 239.758125 \r\nL 378.58125 239.758125 \r\nL 378.58125 22.318125 \r\nL 43.78125 22.318125 \r\nz\r\n\"/>\r\n   </g>\r\n   <g id=\"PathCollection_1\">\r\n    <defs>\r\n     <path d=\"M 0 5 \r\nC 1.326016 5 2.597899 4.473168 3.535534 3.535534 \r\nC 4.473168 2.597899 5 1.326016 5 0 \r\nC 5 -1.326016 4.473168 -2.597899 3.535534 -3.535534 \r\nC 2.597899 -4.473168 1.326016 -5 0 -5 \r\nC -1.326016 -5 -2.597899 -4.473168 -3.535534 -3.535534 \r\nC -4.473168 -2.597899 -5 -1.326016 -5 0 \r\nC -5 1.326016 -4.473168 2.597899 -3.535534 3.535534 \r\nC -2.597899 4.473168 -1.326016 5 0 5 \r\nz\r\n\" id=\"C0_0_98e96a5118\"/>\r\n    </defs>\r\n    <g clip-path=\"url(#pe54c0e36a7)\">\r\n     <use style=\"fill:#006837;stroke:#006837;\" x=\"117.638362\" xlink:href=\"#C0_0_98e96a5118\" y=\"131.038125\"/>\r\n    </g>\r\n    <g clip-path=\"url(#pe54c0e36a7)\">\r\n     <use style=\"fill:#006837;stroke:#006837;\" x=\"199.488389\" xlink:href=\"#C0_0_98e96a5118\" y=\"131.038125\"/>\r\n    </g>\r\n    <g clip-path=\"url(#pe54c0e36a7)\">\r\n     <use style=\"fill:#006837;stroke:#006837;\" x=\"187.795528\" xlink:href=\"#C0_0_98e96a5118\" y=\"131.038125\"/>\r\n    </g>\r\n    <g clip-path=\"url(#pe54c0e36a7)\">\r\n     <use style=\"fill:#006837;stroke:#006837;\" x=\"222.874111\" xlink:href=\"#C0_0_98e96a5118\" y=\"131.038125\"/>\r\n    </g>\r\n    <g clip-path=\"url(#pe54c0e36a7)\">\r\n     <use style=\"fill:#006837;stroke:#006837;\" x=\"187.795528\" xlink:href=\"#C0_0_98e96a5118\" y=\"131.038125\"/>\r\n    </g>\r\n    <g clip-path=\"url(#pe54c0e36a7)\">\r\n     <use style=\"fill:#fdbf6f;stroke:#fdbf6f;\" x=\"129.331223\" xlink:href=\"#C0_0_98e96a5118\" y=\"228.751042\"/>\r\n    </g>\r\n    <g clip-path=\"url(#pe54c0e36a7)\">\r\n     <use style=\"fill:#fdbf6f;stroke:#fdbf6f;\" x=\"176.102667\" xlink:href=\"#C0_0_98e96a5118\" y=\"228.751042\"/>\r\n    </g>\r\n    <g clip-path=\"url(#pe54c0e36a7)\">\r\n     <use style=\"fill:#fdbf6f;stroke:#fdbf6f;\" x=\"141.024084\" xlink:href=\"#C0_0_98e96a5118\" y=\"228.751042\"/>\r\n    </g>\r\n    <g clip-path=\"url(#pe54c0e36a7)\">\r\n     <use style=\"fill:#fdbf6f;stroke:#fdbf6f;\" x=\"117.638362\" xlink:href=\"#C0_0_98e96a5118\" y=\"228.751042\"/>\r\n    </g>\r\n    <g clip-path=\"url(#pe54c0e36a7)\">\r\n     <use style=\"fill:#fdbf6f;stroke:#fdbf6f;\" x=\"129.331223\" xlink:href=\"#C0_0_98e96a5118\" y=\"228.751042\"/>\r\n    </g>\r\n    <g clip-path=\"url(#pe54c0e36a7)\">\r\n     <use style=\"fill:#fdbf6f;stroke:#fdbf6f;\" x=\"269.645555\" xlink:href=\"#C0_0_98e96a5118\" y=\"228.751042\"/>\r\n    </g>\r\n    <g clip-path=\"url(#pe54c0e36a7)\">\r\n     <use style=\"fill:#fdbf6f;stroke:#fdbf6f;\" x=\"94.25264\" xlink:href=\"#C0_0_98e96a5118\" y=\"228.751042\"/>\r\n    </g>\r\n    <g clip-path=\"url(#pe54c0e36a7)\">\r\n     <use style=\"fill:#fdbf6f;stroke:#fdbf6f;\" x=\"70.866917\" xlink:href=\"#C0_0_98e96a5118\" y=\"228.751042\"/>\r\n    </g>\r\n    <g clip-path=\"url(#pe54c0e36a7)\">\r\n     <use style=\"fill:#006837;stroke:#006837;\" x=\"152.716945\" xlink:href=\"#C0_0_98e96a5118\" y=\"33.325208\"/>\r\n    </g>\r\n    <g clip-path=\"url(#pe54c0e36a7)\">\r\n     <use style=\"fill:#006837;stroke:#006837;\" x=\"82.559778\" xlink:href=\"#C0_0_98e96a5118\" y=\"33.325208\"/>\r\n    </g>\r\n    <g clip-path=\"url(#pe54c0e36a7)\">\r\n     <use style=\"fill:#fdbf6f;stroke:#fdbf6f;\" x=\"59.174056\" xlink:href=\"#C0_0_98e96a5118\" y=\"228.751042\"/>\r\n    </g>\r\n    <g clip-path=\"url(#pe54c0e36a7)\">\r\n     <use style=\"fill:#fdbf6f;stroke:#fdbf6f;\" x=\"117.638362\" xlink:href=\"#C0_0_98e96a5118\" y=\"228.751042\"/>\r\n    </g>\r\n    <g clip-path=\"url(#pe54c0e36a7)\">\r\n     <use style=\"fill:#fdbf6f;stroke:#fdbf6f;\" x=\"82.559778\" xlink:href=\"#C0_0_98e96a5118\" y=\"228.751042\"/>\r\n    </g>\r\n    <g clip-path=\"url(#pe54c0e36a7)\">\r\n     <use style=\"fill:#fdbf6f;stroke:#fdbf6f;\" x=\"94.25264\" xlink:href=\"#C0_0_98e96a5118\" y=\"228.751042\"/>\r\n    </g>\r\n    <g clip-path=\"url(#pe54c0e36a7)\">\r\n     <use style=\"fill:#fdbf6f;stroke:#fdbf6f;\" x=\"94.25264\" xlink:href=\"#C0_0_98e96a5118\" y=\"228.751042\"/>\r\n    </g>\r\n    <g clip-path=\"url(#pe54c0e36a7)\">\r\n     <use style=\"fill:#006837;stroke:#006837;\" x=\"222.874111\" xlink:href=\"#C0_0_98e96a5118\" y=\"131.038125\"/>\r\n    </g>\r\n    <g clip-path=\"url(#pe54c0e36a7)\">\r\n     <use style=\"fill:#b7e075;stroke:#b7e075;\" x=\"363.188444\" xlink:href=\"#C0_0_98e96a5118\" y=\"179.894583\"/>\r\n    </g>\r\n    <g clip-path=\"url(#pe54c0e36a7)\">\r\n     <use style=\"fill:#fdbf6f;stroke:#fdbf6f;\" x=\"94.25264\" xlink:href=\"#C0_0_98e96a5118\" y=\"228.751042\"/>\r\n    </g>\r\n    <g clip-path=\"url(#pe54c0e36a7)\">\r\n     <use style=\"fill:#006837;stroke:#006837;\" x=\"269.645555\" xlink:href=\"#C0_0_98e96a5118\" y=\"131.038125\"/>\r\n    </g>\r\n    <g clip-path=\"url(#pe54c0e36a7)\">\r\n     <use style=\"fill:#006837;stroke:#006837;\" x=\"269.645555\" xlink:href=\"#C0_0_98e96a5118\" y=\"131.038125\"/>\r\n    </g>\r\n   </g>\r\n   <g id=\"matplotlib.axis_1\">\r\n    <g id=\"xtick_1\">\r\n     <g id=\"line2d_1\">\r\n      <defs>\r\n       <path d=\"M 0 0 \r\nL 0 3.5 \r\n\" id=\"mb4f04ce226\" style=\"stroke:#ffffff;stroke-width:0.8;\"/>\r\n      </defs>\r\n      <g>\r\n       <use style=\"fill:#ffffff;stroke:#ffffff;stroke-width:0.8;\" x=\"47.481195\" xlink:href=\"#mb4f04ce226\" y=\"239.758125\"/>\r\n      </g>\r\n     </g>\r\n     <g id=\"text_1\">\r\n      <!-- 0 -->\r\n      <defs>\r\n       <path d=\"M 31.78125 66.40625 \r\nQ 24.171875 66.40625 20.328125 58.90625 \r\nQ 16.5 51.421875 16.5 36.375 \r\nQ 16.5 21.390625 20.328125 13.890625 \r\nQ 24.171875 6.390625 31.78125 6.390625 \r\nQ 39.453125 6.390625 43.28125 13.890625 \r\nQ 47.125 21.390625 47.125 36.375 \r\nQ 47.125 51.421875 43.28125 58.90625 \r\nQ 39.453125 66.40625 31.78125 66.40625 \r\nz\r\nM 31.78125 74.21875 \r\nQ 44.046875 74.21875 50.515625 64.515625 \r\nQ 56.984375 54.828125 56.984375 36.375 \r\nQ 56.984375 17.96875 50.515625 8.265625 \r\nQ 44.046875 -1.421875 31.78125 -1.421875 \r\nQ 19.53125 -1.421875 13.0625 8.265625 \r\nQ 6.59375 17.96875 6.59375 36.375 \r\nQ 6.59375 54.828125 13.0625 64.515625 \r\nQ 19.53125 74.21875 31.78125 74.21875 \r\nz\r\n\" id=\"DejaVuSans-48\"/>\r\n      </defs>\r\n      <g style=\"fill:#ffffff;\" transform=\"translate(44.299945 254.356562)scale(0.1 -0.1)\">\r\n       <use xlink:href=\"#DejaVuSans-48\"/>\r\n      </g>\r\n     </g>\r\n    </g>\r\n    <g id=\"xtick_2\">\r\n     <g id=\"line2d_2\">\r\n      <g>\r\n       <use style=\"fill:#ffffff;stroke:#ffffff;stroke-width:0.8;\" x=\"105.945501\" xlink:href=\"#mb4f04ce226\" y=\"239.758125\"/>\r\n      </g>\r\n     </g>\r\n     <g id=\"text_2\">\r\n      <!-- 5 -->\r\n      <defs>\r\n       <path d=\"M 10.796875 72.90625 \r\nL 49.515625 72.90625 \r\nL 49.515625 64.59375 \r\nL 19.828125 64.59375 \r\nL 19.828125 46.734375 \r\nQ 21.96875 47.46875 24.109375 47.828125 \r\nQ 26.265625 48.1875 28.421875 48.1875 \r\nQ 40.625 48.1875 47.75 41.5 \r\nQ 54.890625 34.8125 54.890625 23.390625 \r\nQ 54.890625 11.625 47.5625 5.09375 \r\nQ 40.234375 -1.421875 26.90625 -1.421875 \r\nQ 22.3125 -1.421875 17.546875 -0.640625 \r\nQ 12.796875 0.140625 7.71875 1.703125 \r\nL 7.71875 11.625 \r\nQ 12.109375 9.234375 16.796875 8.0625 \r\nQ 21.484375 6.890625 26.703125 6.890625 \r\nQ 35.15625 6.890625 40.078125 11.328125 \r\nQ 45.015625 15.765625 45.015625 23.390625 \r\nQ 45.015625 31 40.078125 35.4375 \r\nQ 35.15625 39.890625 26.703125 39.890625 \r\nQ 22.75 39.890625 18.8125 39.015625 \r\nQ 14.890625 38.140625 10.796875 36.28125 \r\nz\r\n\" id=\"DejaVuSans-53\"/>\r\n      </defs>\r\n      <g style=\"fill:#ffffff;\" transform=\"translate(102.764251 254.356562)scale(0.1 -0.1)\">\r\n       <use xlink:href=\"#DejaVuSans-53\"/>\r\n      </g>\r\n     </g>\r\n    </g>\r\n    <g id=\"xtick_3\">\r\n     <g id=\"line2d_3\">\r\n      <g>\r\n       <use style=\"fill:#ffffff;stroke:#ffffff;stroke-width:0.8;\" x=\"164.409806\" xlink:href=\"#mb4f04ce226\" y=\"239.758125\"/>\r\n      </g>\r\n     </g>\r\n     <g id=\"text_3\">\r\n      <!-- 10 -->\r\n      <defs>\r\n       <path d=\"M 12.40625 8.296875 \r\nL 28.515625 8.296875 \r\nL 28.515625 63.921875 \r\nL 10.984375 60.40625 \r\nL 10.984375 69.390625 \r\nL 28.421875 72.90625 \r\nL 38.28125 72.90625 \r\nL 38.28125 8.296875 \r\nL 54.390625 8.296875 \r\nL 54.390625 0 \r\nL 12.40625 0 \r\nz\r\n\" id=\"DejaVuSans-49\"/>\r\n      </defs>\r\n      <g style=\"fill:#ffffff;\" transform=\"translate(158.047306 254.356562)scale(0.1 -0.1)\">\r\n       <use xlink:href=\"#DejaVuSans-49\"/>\r\n       <use x=\"63.623047\" xlink:href=\"#DejaVuSans-48\"/>\r\n      </g>\r\n     </g>\r\n    </g>\r\n    <g id=\"xtick_4\">\r\n     <g id=\"line2d_4\">\r\n      <g>\r\n       <use style=\"fill:#ffffff;stroke:#ffffff;stroke-width:0.8;\" x=\"222.874111\" xlink:href=\"#mb4f04ce226\" y=\"239.758125\"/>\r\n      </g>\r\n     </g>\r\n     <g id=\"text_4\">\r\n      <!-- 15 -->\r\n      <g style=\"fill:#ffffff;\" transform=\"translate(216.511611 254.356562)scale(0.1 -0.1)\">\r\n       <use xlink:href=\"#DejaVuSans-49\"/>\r\n       <use x=\"63.623047\" xlink:href=\"#DejaVuSans-53\"/>\r\n      </g>\r\n     </g>\r\n    </g>\r\n    <g id=\"xtick_5\">\r\n     <g id=\"line2d_5\">\r\n      <g>\r\n       <use style=\"fill:#ffffff;stroke:#ffffff;stroke-width:0.8;\" x=\"281.338416\" xlink:href=\"#mb4f04ce226\" y=\"239.758125\"/>\r\n      </g>\r\n     </g>\r\n     <g id=\"text_5\">\r\n      <!-- 20 -->\r\n      <defs>\r\n       <path d=\"M 19.1875 8.296875 \r\nL 53.609375 8.296875 \r\nL 53.609375 0 \r\nL 7.328125 0 \r\nL 7.328125 8.296875 \r\nQ 12.9375 14.109375 22.625 23.890625 \r\nQ 32.328125 33.6875 34.8125 36.53125 \r\nQ 39.546875 41.84375 41.421875 45.53125 \r\nQ 43.3125 49.21875 43.3125 52.78125 \r\nQ 43.3125 58.59375 39.234375 62.25 \r\nQ 35.15625 65.921875 28.609375 65.921875 \r\nQ 23.96875 65.921875 18.8125 64.3125 \r\nQ 13.671875 62.703125 7.8125 59.421875 \r\nL 7.8125 69.390625 \r\nQ 13.765625 71.78125 18.9375 73 \r\nQ 24.125 74.21875 28.421875 74.21875 \r\nQ 39.75 74.21875 46.484375 68.546875 \r\nQ 53.21875 62.890625 53.21875 53.421875 \r\nQ 53.21875 48.921875 51.53125 44.890625 \r\nQ 49.859375 40.875 45.40625 35.40625 \r\nQ 44.1875 33.984375 37.640625 27.21875 \r\nQ 31.109375 20.453125 19.1875 8.296875 \r\nz\r\n\" id=\"DejaVuSans-50\"/>\r\n      </defs>\r\n      <g style=\"fill:#ffffff;\" transform=\"translate(274.975916 254.356562)scale(0.1 -0.1)\">\r\n       <use xlink:href=\"#DejaVuSans-50\"/>\r\n       <use x=\"63.623047\" xlink:href=\"#DejaVuSans-48\"/>\r\n      </g>\r\n     </g>\r\n    </g>\r\n    <g id=\"xtick_6\">\r\n     <g id=\"line2d_6\">\r\n      <g>\r\n       <use style=\"fill:#ffffff;stroke:#ffffff;stroke-width:0.8;\" x=\"339.802722\" xlink:href=\"#mb4f04ce226\" y=\"239.758125\"/>\r\n      </g>\r\n     </g>\r\n     <g id=\"text_6\">\r\n      <!-- 25 -->\r\n      <g style=\"fill:#ffffff;\" transform=\"translate(333.440222 254.356562)scale(0.1 -0.1)\">\r\n       <use xlink:href=\"#DejaVuSans-50\"/>\r\n       <use x=\"63.623047\" xlink:href=\"#DejaVuSans-53\"/>\r\n      </g>\r\n     </g>\r\n    </g>\r\n    <g id=\"text_7\">\r\n     <!-- Number of Rows -->\r\n     <defs>\r\n      <path d=\"M 9.8125 72.90625 \r\nL 23.09375 72.90625 \r\nL 55.421875 11.921875 \r\nL 55.421875 72.90625 \r\nL 64.984375 72.90625 \r\nL 64.984375 0 \r\nL 51.703125 0 \r\nL 19.390625 60.984375 \r\nL 19.390625 0 \r\nL 9.8125 0 \r\nz\r\n\" id=\"DejaVuSans-78\"/>\r\n      <path d=\"M 8.5 21.578125 \r\nL 8.5 54.6875 \r\nL 17.484375 54.6875 \r\nL 17.484375 21.921875 \r\nQ 17.484375 14.15625 20.5 10.265625 \r\nQ 23.53125 6.390625 29.59375 6.390625 \r\nQ 36.859375 6.390625 41.078125 11.03125 \r\nQ 45.3125 15.671875 45.3125 23.6875 \r\nL 45.3125 54.6875 \r\nL 54.296875 54.6875 \r\nL 54.296875 0 \r\nL 45.3125 0 \r\nL 45.3125 8.40625 \r\nQ 42.046875 3.421875 37.71875 1 \r\nQ 33.40625 -1.421875 27.6875 -1.421875 \r\nQ 18.265625 -1.421875 13.375 4.4375 \r\nQ 8.5 10.296875 8.5 21.578125 \r\nz\r\nM 31.109375 56 \r\nz\r\n\" id=\"DejaVuSans-117\"/>\r\n      <path d=\"M 52 44.1875 \r\nQ 55.375 50.25 60.0625 53.125 \r\nQ 64.75 56 71.09375 56 \r\nQ 79.640625 56 84.28125 50.015625 \r\nQ 88.921875 44.046875 88.921875 33.015625 \r\nL 88.921875 0 \r\nL 79.890625 0 \r\nL 79.890625 32.71875 \r\nQ 79.890625 40.578125 77.09375 44.375 \r\nQ 74.3125 48.1875 68.609375 48.1875 \r\nQ 61.625 48.1875 57.5625 43.546875 \r\nQ 53.515625 38.921875 53.515625 30.90625 \r\nL 53.515625 0 \r\nL 44.484375 0 \r\nL 44.484375 32.71875 \r\nQ 44.484375 40.625 41.703125 44.40625 \r\nQ 38.921875 48.1875 33.109375 48.1875 \r\nQ 26.21875 48.1875 22.15625 43.53125 \r\nQ 18.109375 38.875 18.109375 30.90625 \r\nL 18.109375 0 \r\nL 9.078125 0 \r\nL 9.078125 54.6875 \r\nL 18.109375 54.6875 \r\nL 18.109375 46.1875 \r\nQ 21.1875 51.21875 25.484375 53.609375 \r\nQ 29.78125 56 35.6875 56 \r\nQ 41.65625 56 45.828125 52.96875 \r\nQ 50 49.953125 52 44.1875 \r\nz\r\n\" id=\"DejaVuSans-109\"/>\r\n      <path d=\"M 48.6875 27.296875 \r\nQ 48.6875 37.203125 44.609375 42.84375 \r\nQ 40.53125 48.484375 33.40625 48.484375 \r\nQ 26.265625 48.484375 22.1875 42.84375 \r\nQ 18.109375 37.203125 18.109375 27.296875 \r\nQ 18.109375 17.390625 22.1875 11.75 \r\nQ 26.265625 6.109375 33.40625 6.109375 \r\nQ 40.53125 6.109375 44.609375 11.75 \r\nQ 48.6875 17.390625 48.6875 27.296875 \r\nz\r\nM 18.109375 46.390625 \r\nQ 20.953125 51.265625 25.265625 53.625 \r\nQ 29.59375 56 35.59375 56 \r\nQ 45.5625 56 51.78125 48.09375 \r\nQ 58.015625 40.1875 58.015625 27.296875 \r\nQ 58.015625 14.40625 51.78125 6.484375 \r\nQ 45.5625 -1.421875 35.59375 -1.421875 \r\nQ 29.59375 -1.421875 25.265625 0.953125 \r\nQ 20.953125 3.328125 18.109375 8.203125 \r\nL 18.109375 0 \r\nL 9.078125 0 \r\nL 9.078125 75.984375 \r\nL 18.109375 75.984375 \r\nz\r\n\" id=\"DejaVuSans-98\"/>\r\n      <path d=\"M 56.203125 29.59375 \r\nL 56.203125 25.203125 \r\nL 14.890625 25.203125 \r\nQ 15.484375 15.921875 20.484375 11.0625 \r\nQ 25.484375 6.203125 34.421875 6.203125 \r\nQ 39.59375 6.203125 44.453125 7.46875 \r\nQ 49.3125 8.734375 54.109375 11.28125 \r\nL 54.109375 2.78125 \r\nQ 49.265625 0.734375 44.1875 -0.34375 \r\nQ 39.109375 -1.421875 33.890625 -1.421875 \r\nQ 20.796875 -1.421875 13.15625 6.1875 \r\nQ 5.515625 13.8125 5.515625 26.8125 \r\nQ 5.515625 40.234375 12.765625 48.109375 \r\nQ 20.015625 56 32.328125 56 \r\nQ 43.359375 56 49.78125 48.890625 \r\nQ 56.203125 41.796875 56.203125 29.59375 \r\nz\r\nM 47.21875 32.234375 \r\nQ 47.125 39.59375 43.09375 43.984375 \r\nQ 39.0625 48.390625 32.421875 48.390625 \r\nQ 24.90625 48.390625 20.390625 44.140625 \r\nQ 15.875 39.890625 15.1875 32.171875 \r\nz\r\n\" id=\"DejaVuSans-101\"/>\r\n      <path d=\"M 41.109375 46.296875 \r\nQ 39.59375 47.171875 37.8125 47.578125 \r\nQ 36.03125 48 33.890625 48 \r\nQ 26.265625 48 22.1875 43.046875 \r\nQ 18.109375 38.09375 18.109375 28.8125 \r\nL 18.109375 0 \r\nL 9.078125 0 \r\nL 9.078125 54.6875 \r\nL 18.109375 54.6875 \r\nL 18.109375 46.1875 \r\nQ 20.953125 51.171875 25.484375 53.578125 \r\nQ 30.03125 56 36.53125 56 \r\nQ 37.453125 56 38.578125 55.875 \r\nQ 39.703125 55.765625 41.0625 55.515625 \r\nz\r\n\" id=\"DejaVuSans-114\"/>\r\n      <path id=\"DejaVuSans-32\"/>\r\n      <path d=\"M 30.609375 48.390625 \r\nQ 23.390625 48.390625 19.1875 42.75 \r\nQ 14.984375 37.109375 14.984375 27.296875 \r\nQ 14.984375 17.484375 19.15625 11.84375 \r\nQ 23.34375 6.203125 30.609375 6.203125 \r\nQ 37.796875 6.203125 41.984375 11.859375 \r\nQ 46.1875 17.53125 46.1875 27.296875 \r\nQ 46.1875 37.015625 41.984375 42.703125 \r\nQ 37.796875 48.390625 30.609375 48.390625 \r\nz\r\nM 30.609375 56 \r\nQ 42.328125 56 49.015625 48.375 \r\nQ 55.71875 40.765625 55.71875 27.296875 \r\nQ 55.71875 13.875 49.015625 6.21875 \r\nQ 42.328125 -1.421875 30.609375 -1.421875 \r\nQ 18.84375 -1.421875 12.171875 6.21875 \r\nQ 5.515625 13.875 5.515625 27.296875 \r\nQ 5.515625 40.765625 12.171875 48.375 \r\nQ 18.84375 56 30.609375 56 \r\nz\r\n\" id=\"DejaVuSans-111\"/>\r\n      <path d=\"M 37.109375 75.984375 \r\nL 37.109375 68.5 \r\nL 28.515625 68.5 \r\nQ 23.6875 68.5 21.796875 66.546875 \r\nQ 19.921875 64.59375 19.921875 59.515625 \r\nL 19.921875 54.6875 \r\nL 34.71875 54.6875 \r\nL 34.71875 47.703125 \r\nL 19.921875 47.703125 \r\nL 19.921875 0 \r\nL 10.890625 0 \r\nL 10.890625 47.703125 \r\nL 2.296875 47.703125 \r\nL 2.296875 54.6875 \r\nL 10.890625 54.6875 \r\nL 10.890625 58.5 \r\nQ 10.890625 67.625 15.140625 71.796875 \r\nQ 19.390625 75.984375 28.609375 75.984375 \r\nz\r\n\" id=\"DejaVuSans-102\"/>\r\n      <path d=\"M 44.390625 34.1875 \r\nQ 47.5625 33.109375 50.5625 29.59375 \r\nQ 53.5625 26.078125 56.59375 19.921875 \r\nL 66.609375 0 \r\nL 56 0 \r\nL 46.6875 18.703125 \r\nQ 43.0625 26.03125 39.671875 28.421875 \r\nQ 36.28125 30.8125 30.421875 30.8125 \r\nL 19.671875 30.8125 \r\nL 19.671875 0 \r\nL 9.8125 0 \r\nL 9.8125 72.90625 \r\nL 32.078125 72.90625 \r\nQ 44.578125 72.90625 50.734375 67.671875 \r\nQ 56.890625 62.453125 56.890625 51.90625 \r\nQ 56.890625 45.015625 53.6875 40.46875 \r\nQ 50.484375 35.9375 44.390625 34.1875 \r\nz\r\nM 19.671875 64.796875 \r\nL 19.671875 38.921875 \r\nL 32.078125 38.921875 \r\nQ 39.203125 38.921875 42.84375 42.21875 \r\nQ 46.484375 45.515625 46.484375 51.90625 \r\nQ 46.484375 58.296875 42.84375 61.546875 \r\nQ 39.203125 64.796875 32.078125 64.796875 \r\nz\r\n\" id=\"DejaVuSans-82\"/>\r\n      <path d=\"M 4.203125 54.6875 \r\nL 13.1875 54.6875 \r\nL 24.421875 12.015625 \r\nL 35.59375 54.6875 \r\nL 46.1875 54.6875 \r\nL 57.421875 12.015625 \r\nL 68.609375 54.6875 \r\nL 77.59375 54.6875 \r\nL 63.28125 0 \r\nL 52.6875 0 \r\nL 40.921875 44.828125 \r\nL 29.109375 0 \r\nL 18.5 0 \r\nz\r\n\" id=\"DejaVuSans-119\"/>\r\n      <path d=\"M 44.28125 53.078125 \r\nL 44.28125 44.578125 \r\nQ 40.484375 46.53125 36.375 47.5 \r\nQ 32.28125 48.484375 27.875 48.484375 \r\nQ 21.1875 48.484375 17.84375 46.4375 \r\nQ 14.5 44.390625 14.5 40.28125 \r\nQ 14.5 37.15625 16.890625 35.375 \r\nQ 19.28125 33.59375 26.515625 31.984375 \r\nL 29.59375 31.296875 \r\nQ 39.15625 29.25 43.1875 25.515625 \r\nQ 47.21875 21.78125 47.21875 15.09375 \r\nQ 47.21875 7.46875 41.1875 3.015625 \r\nQ 35.15625 -1.421875 24.609375 -1.421875 \r\nQ 20.21875 -1.421875 15.453125 -0.5625 \r\nQ 10.6875 0.296875 5.421875 2 \r\nL 5.421875 11.28125 \r\nQ 10.40625 8.6875 15.234375 7.390625 \r\nQ 20.0625 6.109375 24.8125 6.109375 \r\nQ 31.15625 6.109375 34.5625 8.28125 \r\nQ 37.984375 10.453125 37.984375 14.40625 \r\nQ 37.984375 18.0625 35.515625 20.015625 \r\nQ 33.0625 21.96875 24.703125 23.78125 \r\nL 21.578125 24.515625 \r\nQ 13.234375 26.265625 9.515625 29.90625 \r\nQ 5.8125 33.546875 5.8125 39.890625 \r\nQ 5.8125 47.609375 11.28125 51.796875 \r\nQ 16.75 56 26.8125 56 \r\nQ 31.78125 56 36.171875 55.265625 \r\nQ 40.578125 54.546875 44.28125 53.078125 \r\nz\r\n\" id=\"DejaVuSans-115\"/>\r\n     </defs>\r\n     <g style=\"fill:#ffffff;\" transform=\"translate(169.873437 268.034687)scale(0.1 -0.1)\">\r\n      <use xlink:href=\"#DejaVuSans-78\"/>\r\n      <use x=\"74.804688\" xlink:href=\"#DejaVuSans-117\"/>\r\n      <use x=\"138.183594\" xlink:href=\"#DejaVuSans-109\"/>\r\n      <use x=\"235.595703\" xlink:href=\"#DejaVuSans-98\"/>\r\n      <use x=\"299.072266\" xlink:href=\"#DejaVuSans-101\"/>\r\n      <use x=\"360.595703\" xlink:href=\"#DejaVuSans-114\"/>\r\n      <use x=\"401.708984\" xlink:href=\"#DejaVuSans-32\"/>\r\n      <use x=\"433.496094\" xlink:href=\"#DejaVuSans-111\"/>\r\n      <use x=\"494.677734\" xlink:href=\"#DejaVuSans-102\"/>\r\n      <use x=\"529.882812\" xlink:href=\"#DejaVuSans-32\"/>\r\n      <use x=\"561.669922\" xlink:href=\"#DejaVuSans-82\"/>\r\n      <use x=\"631.089844\" xlink:href=\"#DejaVuSans-111\"/>\r\n      <use x=\"692.271484\" xlink:href=\"#DejaVuSans-119\"/>\r\n      <use x=\"774.058594\" xlink:href=\"#DejaVuSans-115\"/>\r\n     </g>\r\n    </g>\r\n   </g>\r\n   <g id=\"matplotlib.axis_2\">\r\n    <g id=\"ytick_1\">\r\n     <g id=\"line2d_7\">\r\n      <defs>\r\n       <path d=\"M 0 0 \r\nL -3.5 0 \r\n\" id=\"m2af48c8ae6\" style=\"stroke:#ffffff;stroke-width:0.8;\"/>\r\n      </defs>\r\n      <g>\r\n       <use style=\"fill:#ffffff;stroke:#ffffff;stroke-width:0.8;\" x=\"43.78125\" xlink:href=\"#m2af48c8ae6\" y=\"228.751042\"/>\r\n      </g>\r\n     </g>\r\n     <g id=\"text_8\">\r\n      <!-- 2.0 -->\r\n      <defs>\r\n       <path d=\"M 10.6875 12.40625 \r\nL 21 12.40625 \r\nL 21 0 \r\nL 10.6875 0 \r\nz\r\n\" id=\"DejaVuSans-46\"/>\r\n      </defs>\r\n      <g style=\"fill:#ffffff;\" transform=\"translate(20.878125 232.55026)scale(0.1 -0.1)\">\r\n       <use xlink:href=\"#DejaVuSans-50\"/>\r\n       <use x=\"63.623047\" xlink:href=\"#DejaVuSans-46\"/>\r\n       <use x=\"95.410156\" xlink:href=\"#DejaVuSans-48\"/>\r\n      </g>\r\n     </g>\r\n    </g>\r\n    <g id=\"ytick_2\">\r\n     <g id=\"line2d_8\">\r\n      <g>\r\n       <use style=\"fill:#ffffff;stroke:#ffffff;stroke-width:0.8;\" x=\"43.78125\" xlink:href=\"#m2af48c8ae6\" y=\"204.322813\"/>\r\n      </g>\r\n     </g>\r\n     <g id=\"text_9\">\r\n      <!-- 2.5 -->\r\n      <g style=\"fill:#ffffff;\" transform=\"translate(20.878125 208.122031)scale(0.1 -0.1)\">\r\n       <use xlink:href=\"#DejaVuSans-50\"/>\r\n       <use x=\"63.623047\" xlink:href=\"#DejaVuSans-46\"/>\r\n       <use x=\"95.410156\" xlink:href=\"#DejaVuSans-53\"/>\r\n      </g>\r\n     </g>\r\n    </g>\r\n    <g id=\"ytick_3\">\r\n     <g id=\"line2d_9\">\r\n      <g>\r\n       <use style=\"fill:#ffffff;stroke:#ffffff;stroke-width:0.8;\" x=\"43.78125\" xlink:href=\"#m2af48c8ae6\" y=\"179.894583\"/>\r\n      </g>\r\n     </g>\r\n     <g id=\"text_10\">\r\n      <!-- 3.0 -->\r\n      <defs>\r\n       <path d=\"M 40.578125 39.3125 \r\nQ 47.65625 37.796875 51.625 33 \r\nQ 55.609375 28.21875 55.609375 21.1875 \r\nQ 55.609375 10.40625 48.1875 4.484375 \r\nQ 40.765625 -1.421875 27.09375 -1.421875 \r\nQ 22.515625 -1.421875 17.65625 -0.515625 \r\nQ 12.796875 0.390625 7.625 2.203125 \r\nL 7.625 11.71875 \r\nQ 11.71875 9.328125 16.59375 8.109375 \r\nQ 21.484375 6.890625 26.8125 6.890625 \r\nQ 36.078125 6.890625 40.9375 10.546875 \r\nQ 45.796875 14.203125 45.796875 21.1875 \r\nQ 45.796875 27.640625 41.28125 31.265625 \r\nQ 36.765625 34.90625 28.71875 34.90625 \r\nL 20.21875 34.90625 \r\nL 20.21875 43.015625 \r\nL 29.109375 43.015625 \r\nQ 36.375 43.015625 40.234375 45.921875 \r\nQ 44.09375 48.828125 44.09375 54.296875 \r\nQ 44.09375 59.90625 40.109375 62.90625 \r\nQ 36.140625 65.921875 28.71875 65.921875 \r\nQ 24.65625 65.921875 20.015625 65.03125 \r\nQ 15.375 64.15625 9.8125 62.3125 \r\nL 9.8125 71.09375 \r\nQ 15.4375 72.65625 20.34375 73.4375 \r\nQ 25.25 74.21875 29.59375 74.21875 \r\nQ 40.828125 74.21875 47.359375 69.109375 \r\nQ 53.90625 64.015625 53.90625 55.328125 \r\nQ 53.90625 49.265625 50.4375 45.09375 \r\nQ 46.96875 40.921875 40.578125 39.3125 \r\nz\r\n\" id=\"DejaVuSans-51\"/>\r\n      </defs>\r\n      <g style=\"fill:#ffffff;\" transform=\"translate(20.878125 183.693802)scale(0.1 -0.1)\">\r\n       <use xlink:href=\"#DejaVuSans-51\"/>\r\n       <use x=\"63.623047\" xlink:href=\"#DejaVuSans-46\"/>\r\n       <use x=\"95.410156\" xlink:href=\"#DejaVuSans-48\"/>\r\n      </g>\r\n     </g>\r\n    </g>\r\n    <g id=\"ytick_4\">\r\n     <g id=\"line2d_10\">\r\n      <g>\r\n       <use style=\"fill:#ffffff;stroke:#ffffff;stroke-width:0.8;\" x=\"43.78125\" xlink:href=\"#m2af48c8ae6\" y=\"155.466354\"/>\r\n      </g>\r\n     </g>\r\n     <g id=\"text_11\">\r\n      <!-- 3.5 -->\r\n      <g style=\"fill:#ffffff;\" transform=\"translate(20.878125 159.265573)scale(0.1 -0.1)\">\r\n       <use xlink:href=\"#DejaVuSans-51\"/>\r\n       <use x=\"63.623047\" xlink:href=\"#DejaVuSans-46\"/>\r\n       <use x=\"95.410156\" xlink:href=\"#DejaVuSans-53\"/>\r\n      </g>\r\n     </g>\r\n    </g>\r\n    <g id=\"ytick_5\">\r\n     <g id=\"line2d_11\">\r\n      <g>\r\n       <use style=\"fill:#ffffff;stroke:#ffffff;stroke-width:0.8;\" x=\"43.78125\" xlink:href=\"#m2af48c8ae6\" y=\"131.038125\"/>\r\n      </g>\r\n     </g>\r\n     <g id=\"text_12\">\r\n      <!-- 4.0 -->\r\n      <defs>\r\n       <path d=\"M 37.796875 64.3125 \r\nL 12.890625 25.390625 \r\nL 37.796875 25.390625 \r\nz\r\nM 35.203125 72.90625 \r\nL 47.609375 72.90625 \r\nL 47.609375 25.390625 \r\nL 58.015625 25.390625 \r\nL 58.015625 17.1875 \r\nL 47.609375 17.1875 \r\nL 47.609375 0 \r\nL 37.796875 0 \r\nL 37.796875 17.1875 \r\nL 4.890625 17.1875 \r\nL 4.890625 26.703125 \r\nz\r\n\" id=\"DejaVuSans-52\"/>\r\n      </defs>\r\n      <g style=\"fill:#ffffff;\" transform=\"translate(20.878125 134.837344)scale(0.1 -0.1)\">\r\n       <use xlink:href=\"#DejaVuSans-52\"/>\r\n       <use x=\"63.623047\" xlink:href=\"#DejaVuSans-46\"/>\r\n       <use x=\"95.410156\" xlink:href=\"#DejaVuSans-48\"/>\r\n      </g>\r\n     </g>\r\n    </g>\r\n    <g id=\"ytick_6\">\r\n     <g id=\"line2d_12\">\r\n      <g>\r\n       <use style=\"fill:#ffffff;stroke:#ffffff;stroke-width:0.8;\" x=\"43.78125\" xlink:href=\"#m2af48c8ae6\" y=\"106.609896\"/>\r\n      </g>\r\n     </g>\r\n     <g id=\"text_13\">\r\n      <!-- 4.5 -->\r\n      <g style=\"fill:#ffffff;\" transform=\"translate(20.878125 110.409115)scale(0.1 -0.1)\">\r\n       <use xlink:href=\"#DejaVuSans-52\"/>\r\n       <use x=\"63.623047\" xlink:href=\"#DejaVuSans-46\"/>\r\n       <use x=\"95.410156\" xlink:href=\"#DejaVuSans-53\"/>\r\n      </g>\r\n     </g>\r\n    </g>\r\n    <g id=\"ytick_7\">\r\n     <g id=\"line2d_13\">\r\n      <g>\r\n       <use style=\"fill:#ffffff;stroke:#ffffff;stroke-width:0.8;\" x=\"43.78125\" xlink:href=\"#m2af48c8ae6\" y=\"82.181667\"/>\r\n      </g>\r\n     </g>\r\n     <g id=\"text_14\">\r\n      <!-- 5.0 -->\r\n      <g style=\"fill:#ffffff;\" transform=\"translate(20.878125 85.980885)scale(0.1 -0.1)\">\r\n       <use xlink:href=\"#DejaVuSans-53\"/>\r\n       <use x=\"63.623047\" xlink:href=\"#DejaVuSans-46\"/>\r\n       <use x=\"95.410156\" xlink:href=\"#DejaVuSans-48\"/>\r\n      </g>\r\n     </g>\r\n    </g>\r\n    <g id=\"ytick_8\">\r\n     <g id=\"line2d_14\">\r\n      <g>\r\n       <use style=\"fill:#ffffff;stroke:#ffffff;stroke-width:0.8;\" x=\"43.78125\" xlink:href=\"#m2af48c8ae6\" y=\"57.753437\"/>\r\n      </g>\r\n     </g>\r\n     <g id=\"text_15\">\r\n      <!-- 5.5 -->\r\n      <g style=\"fill:#ffffff;\" transform=\"translate(20.878125 61.552656)scale(0.1 -0.1)\">\r\n       <use xlink:href=\"#DejaVuSans-53\"/>\r\n       <use x=\"63.623047\" xlink:href=\"#DejaVuSans-46\"/>\r\n       <use x=\"95.410156\" xlink:href=\"#DejaVuSans-53\"/>\r\n      </g>\r\n     </g>\r\n    </g>\r\n    <g id=\"ytick_9\">\r\n     <g id=\"line2d_15\">\r\n      <g>\r\n       <use style=\"fill:#ffffff;stroke:#ffffff;stroke-width:0.8;\" x=\"43.78125\" xlink:href=\"#m2af48c8ae6\" y=\"33.325208\"/>\r\n      </g>\r\n     </g>\r\n     <g id=\"text_16\">\r\n      <!-- 6.0 -->\r\n      <defs>\r\n       <path d=\"M 33.015625 40.375 \r\nQ 26.375 40.375 22.484375 35.828125 \r\nQ 18.609375 31.296875 18.609375 23.390625 \r\nQ 18.609375 15.53125 22.484375 10.953125 \r\nQ 26.375 6.390625 33.015625 6.390625 \r\nQ 39.65625 6.390625 43.53125 10.953125 \r\nQ 47.40625 15.53125 47.40625 23.390625 \r\nQ 47.40625 31.296875 43.53125 35.828125 \r\nQ 39.65625 40.375 33.015625 40.375 \r\nz\r\nM 52.59375 71.296875 \r\nL 52.59375 62.3125 \r\nQ 48.875 64.0625 45.09375 64.984375 \r\nQ 41.3125 65.921875 37.59375 65.921875 \r\nQ 27.828125 65.921875 22.671875 59.328125 \r\nQ 17.53125 52.734375 16.796875 39.40625 \r\nQ 19.671875 43.65625 24.015625 45.921875 \r\nQ 28.375 48.1875 33.59375 48.1875 \r\nQ 44.578125 48.1875 50.953125 41.515625 \r\nQ 57.328125 34.859375 57.328125 23.390625 \r\nQ 57.328125 12.15625 50.6875 5.359375 \r\nQ 44.046875 -1.421875 33.015625 -1.421875 \r\nQ 20.359375 -1.421875 13.671875 8.265625 \r\nQ 6.984375 17.96875 6.984375 36.375 \r\nQ 6.984375 53.65625 15.1875 63.9375 \r\nQ 23.390625 74.21875 37.203125 74.21875 \r\nQ 40.921875 74.21875 44.703125 73.484375 \r\nQ 48.484375 72.75 52.59375 71.296875 \r\nz\r\n\" id=\"DejaVuSans-54\"/>\r\n      </defs>\r\n      <g style=\"fill:#ffffff;\" transform=\"translate(20.878125 37.124427)scale(0.1 -0.1)\">\r\n       <use xlink:href=\"#DejaVuSans-54\"/>\r\n       <use x=\"63.623047\" xlink:href=\"#DejaVuSans-46\"/>\r\n       <use x=\"95.410156\" xlink:href=\"#DejaVuSans-48\"/>\r\n      </g>\r\n     </g>\r\n    </g>\r\n    <g id=\"text_17\">\r\n     <!-- Number of Coloumns -->\r\n     <defs>\r\n      <path d=\"M 64.40625 67.28125 \r\nL 64.40625 56.890625 \r\nQ 59.421875 61.53125 53.78125 63.8125 \r\nQ 48.140625 66.109375 41.796875 66.109375 \r\nQ 29.296875 66.109375 22.65625 58.46875 \r\nQ 16.015625 50.828125 16.015625 36.375 \r\nQ 16.015625 21.96875 22.65625 14.328125 \r\nQ 29.296875 6.6875 41.796875 6.6875 \r\nQ 48.140625 6.6875 53.78125 8.984375 \r\nQ 59.421875 11.28125 64.40625 15.921875 \r\nL 64.40625 5.609375 \r\nQ 59.234375 2.09375 53.4375 0.328125 \r\nQ 47.65625 -1.421875 41.21875 -1.421875 \r\nQ 24.65625 -1.421875 15.125 8.703125 \r\nQ 5.609375 18.84375 5.609375 36.375 \r\nQ 5.609375 53.953125 15.125 64.078125 \r\nQ 24.65625 74.21875 41.21875 74.21875 \r\nQ 47.75 74.21875 53.53125 72.484375 \r\nQ 59.328125 70.75 64.40625 67.28125 \r\nz\r\n\" id=\"DejaVuSans-67\"/>\r\n      <path d=\"M 9.421875 75.984375 \r\nL 18.40625 75.984375 \r\nL 18.40625 0 \r\nL 9.421875 0 \r\nz\r\n\" id=\"DejaVuSans-108\"/>\r\n      <path d=\"M 54.890625 33.015625 \r\nL 54.890625 0 \r\nL 45.90625 0 \r\nL 45.90625 32.71875 \r\nQ 45.90625 40.484375 42.875 44.328125 \r\nQ 39.84375 48.1875 33.796875 48.1875 \r\nQ 26.515625 48.1875 22.3125 43.546875 \r\nQ 18.109375 38.921875 18.109375 30.90625 \r\nL 18.109375 0 \r\nL 9.078125 0 \r\nL 9.078125 54.6875 \r\nL 18.109375 54.6875 \r\nL 18.109375 46.1875 \r\nQ 21.34375 51.125 25.703125 53.5625 \r\nQ 30.078125 56 35.796875 56 \r\nQ 45.21875 56 50.046875 50.171875 \r\nQ 54.890625 44.34375 54.890625 33.015625 \r\nz\r\n\" id=\"DejaVuSans-110\"/>\r\n     </defs>\r\n     <g style=\"fill:#ffffff;\" transform=\"translate(14.798438 183.933437)rotate(-90)scale(0.1 -0.1)\">\r\n      <use xlink:href=\"#DejaVuSans-78\"/>\r\n      <use x=\"74.804688\" xlink:href=\"#DejaVuSans-117\"/>\r\n      <use x=\"138.183594\" xlink:href=\"#DejaVuSans-109\"/>\r\n      <use x=\"235.595703\" xlink:href=\"#DejaVuSans-98\"/>\r\n      <use x=\"299.072266\" xlink:href=\"#DejaVuSans-101\"/>\r\n      <use x=\"360.595703\" xlink:href=\"#DejaVuSans-114\"/>\r\n      <use x=\"401.708984\" xlink:href=\"#DejaVuSans-32\"/>\r\n      <use x=\"433.496094\" xlink:href=\"#DejaVuSans-111\"/>\r\n      <use x=\"494.677734\" xlink:href=\"#DejaVuSans-102\"/>\r\n      <use x=\"529.882812\" xlink:href=\"#DejaVuSans-32\"/>\r\n      <use x=\"561.669922\" xlink:href=\"#DejaVuSans-67\"/>\r\n      <use x=\"631.494141\" xlink:href=\"#DejaVuSans-111\"/>\r\n      <use x=\"692.675781\" xlink:href=\"#DejaVuSans-108\"/>\r\n      <use x=\"720.458984\" xlink:href=\"#DejaVuSans-111\"/>\r\n      <use x=\"781.640625\" xlink:href=\"#DejaVuSans-117\"/>\r\n      <use x=\"845.019531\" xlink:href=\"#DejaVuSans-109\"/>\r\n      <use x=\"942.431641\" xlink:href=\"#DejaVuSans-110\"/>\r\n      <use x=\"1005.810547\" xlink:href=\"#DejaVuSans-115\"/>\r\n     </g>\r\n    </g>\r\n   </g>\r\n   <g id=\"patch_3\">\r\n    <path d=\"M 43.78125 239.758125 \r\nL 43.78125 22.318125 \r\n\" style=\"fill:none;stroke:#ffffff;stroke-linecap:square;stroke-linejoin:miter;stroke-width:0.8;\"/>\r\n   </g>\r\n   <g id=\"patch_4\">\r\n    <path d=\"M 378.58125 239.758125 \r\nL 378.58125 22.318125 \r\n\" style=\"fill:none;stroke:#ffffff;stroke-linecap:square;stroke-linejoin:miter;stroke-width:0.8;\"/>\r\n   </g>\r\n   <g id=\"patch_5\">\r\n    <path d=\"M 43.78125 239.758125 \r\nL 378.58125 239.758125 \r\n\" style=\"fill:none;stroke:#ffffff;stroke-linecap:square;stroke-linejoin:miter;stroke-width:0.8;\"/>\r\n   </g>\r\n   <g id=\"patch_6\">\r\n    <path d=\"M 43.78125 22.318125 \r\nL 378.58125 22.318125 \r\n\" style=\"fill:none;stroke:#ffffff;stroke-linecap:square;stroke-linejoin:miter;stroke-width:0.8;\"/>\r\n   </g>\r\n   <g id=\"text_18\">\r\n    <!-- Rows and Column numbers of the CSV extracted -->\r\n    <defs>\r\n     <path d=\"M 34.28125 27.484375 \r\nQ 23.390625 27.484375 19.1875 25 \r\nQ 14.984375 22.515625 14.984375 16.5 \r\nQ 14.984375 11.71875 18.140625 8.90625 \r\nQ 21.296875 6.109375 26.703125 6.109375 \r\nQ 34.1875 6.109375 38.703125 11.40625 \r\nQ 43.21875 16.703125 43.21875 25.484375 \r\nL 43.21875 27.484375 \r\nz\r\nM 52.203125 31.203125 \r\nL 52.203125 0 \r\nL 43.21875 0 \r\nL 43.21875 8.296875 \r\nQ 40.140625 3.328125 35.546875 0.953125 \r\nQ 30.953125 -1.421875 24.3125 -1.421875 \r\nQ 15.921875 -1.421875 10.953125 3.296875 \r\nQ 6 8.015625 6 15.921875 \r\nQ 6 25.140625 12.171875 29.828125 \r\nQ 18.359375 34.515625 30.609375 34.515625 \r\nL 43.21875 34.515625 \r\nL 43.21875 35.40625 \r\nQ 43.21875 41.609375 39.140625 45 \r\nQ 35.0625 48.390625 27.6875 48.390625 \r\nQ 23 48.390625 18.546875 47.265625 \r\nQ 14.109375 46.140625 10.015625 43.890625 \r\nL 10.015625 52.203125 \r\nQ 14.9375 54.109375 19.578125 55.046875 \r\nQ 24.21875 56 28.609375 56 \r\nQ 40.484375 56 46.34375 49.84375 \r\nQ 52.203125 43.703125 52.203125 31.203125 \r\nz\r\n\" id=\"DejaVuSans-97\"/>\r\n     <path d=\"M 45.40625 46.390625 \r\nL 45.40625 75.984375 \r\nL 54.390625 75.984375 \r\nL 54.390625 0 \r\nL 45.40625 0 \r\nL 45.40625 8.203125 \r\nQ 42.578125 3.328125 38.25 0.953125 \r\nQ 33.9375 -1.421875 27.875 -1.421875 \r\nQ 17.96875 -1.421875 11.734375 6.484375 \r\nQ 5.515625 14.40625 5.515625 27.296875 \r\nQ 5.515625 40.1875 11.734375 48.09375 \r\nQ 17.96875 56 27.875 56 \r\nQ 33.9375 56 38.25 53.625 \r\nQ 42.578125 51.265625 45.40625 46.390625 \r\nz\r\nM 14.796875 27.296875 \r\nQ 14.796875 17.390625 18.875 11.75 \r\nQ 22.953125 6.109375 30.078125 6.109375 \r\nQ 37.203125 6.109375 41.296875 11.75 \r\nQ 45.40625 17.390625 45.40625 27.296875 \r\nQ 45.40625 37.203125 41.296875 42.84375 \r\nQ 37.203125 48.484375 30.078125 48.484375 \r\nQ 22.953125 48.484375 18.875 42.84375 \r\nQ 14.796875 37.203125 14.796875 27.296875 \r\nz\r\n\" id=\"DejaVuSans-100\"/>\r\n     <path d=\"M 18.3125 70.21875 \r\nL 18.3125 54.6875 \r\nL 36.8125 54.6875 \r\nL 36.8125 47.703125 \r\nL 18.3125 47.703125 \r\nL 18.3125 18.015625 \r\nQ 18.3125 11.328125 20.140625 9.421875 \r\nQ 21.96875 7.515625 27.59375 7.515625 \r\nL 36.8125 7.515625 \r\nL 36.8125 0 \r\nL 27.59375 0 \r\nQ 17.1875 0 13.234375 3.875 \r\nQ 9.28125 7.765625 9.28125 18.015625 \r\nL 9.28125 47.703125 \r\nL 2.6875 47.703125 \r\nL 2.6875 54.6875 \r\nL 9.28125 54.6875 \r\nL 9.28125 70.21875 \r\nz\r\n\" id=\"DejaVuSans-116\"/>\r\n     <path d=\"M 54.890625 33.015625 \r\nL 54.890625 0 \r\nL 45.90625 0 \r\nL 45.90625 32.71875 \r\nQ 45.90625 40.484375 42.875 44.328125 \r\nQ 39.84375 48.1875 33.796875 48.1875 \r\nQ 26.515625 48.1875 22.3125 43.546875 \r\nQ 18.109375 38.921875 18.109375 30.90625 \r\nL 18.109375 0 \r\nL 9.078125 0 \r\nL 9.078125 75.984375 \r\nL 18.109375 75.984375 \r\nL 18.109375 46.1875 \r\nQ 21.34375 51.125 25.703125 53.5625 \r\nQ 30.078125 56 35.796875 56 \r\nQ 45.21875 56 50.046875 50.171875 \r\nQ 54.890625 44.34375 54.890625 33.015625 \r\nz\r\n\" id=\"DejaVuSans-104\"/>\r\n     <path d=\"M 53.515625 70.515625 \r\nL 53.515625 60.890625 \r\nQ 47.90625 63.578125 42.921875 64.890625 \r\nQ 37.9375 66.21875 33.296875 66.21875 \r\nQ 25.25 66.21875 20.875 63.09375 \r\nQ 16.5 59.96875 16.5 54.203125 \r\nQ 16.5 49.359375 19.40625 46.890625 \r\nQ 22.3125 44.4375 30.421875 42.921875 \r\nL 36.375 41.703125 \r\nQ 47.40625 39.59375 52.65625 34.296875 \r\nQ 57.90625 29 57.90625 20.125 \r\nQ 57.90625 9.515625 50.796875 4.046875 \r\nQ 43.703125 -1.421875 29.984375 -1.421875 \r\nQ 24.8125 -1.421875 18.96875 -0.25 \r\nQ 13.140625 0.921875 6.890625 3.21875 \r\nL 6.890625 13.375 \r\nQ 12.890625 10.015625 18.65625 8.296875 \r\nQ 24.421875 6.59375 29.984375 6.59375 \r\nQ 38.421875 6.59375 43.015625 9.90625 \r\nQ 47.609375 13.234375 47.609375 19.390625 \r\nQ 47.609375 24.75 44.3125 27.78125 \r\nQ 41.015625 30.8125 33.5 32.328125 \r\nL 27.484375 33.5 \r\nQ 16.453125 35.6875 11.515625 40.375 \r\nQ 6.59375 45.0625 6.59375 53.421875 \r\nQ 6.59375 63.09375 13.40625 68.65625 \r\nQ 20.21875 74.21875 32.171875 74.21875 \r\nQ 37.3125 74.21875 42.625 73.28125 \r\nQ 47.953125 72.359375 53.515625 70.515625 \r\nz\r\n\" id=\"DejaVuSans-83\"/>\r\n     <path d=\"M 28.609375 0 \r\nL 0.78125 72.90625 \r\nL 11.078125 72.90625 \r\nL 34.1875 11.53125 \r\nL 57.328125 72.90625 \r\nL 67.578125 72.90625 \r\nL 39.796875 0 \r\nz\r\n\" id=\"DejaVuSans-86\"/>\r\n     <path d=\"M 54.890625 54.6875 \r\nL 35.109375 28.078125 \r\nL 55.90625 0 \r\nL 45.3125 0 \r\nL 29.390625 21.484375 \r\nL 13.484375 0 \r\nL 2.875 0 \r\nL 24.125 28.609375 \r\nL 4.6875 54.6875 \r\nL 15.28125 54.6875 \r\nL 29.78125 35.203125 \r\nL 44.28125 54.6875 \r\nz\r\n\" id=\"DejaVuSans-120\"/>\r\n     <path d=\"M 48.78125 52.59375 \r\nL 48.78125 44.1875 \r\nQ 44.96875 46.296875 41.140625 47.34375 \r\nQ 37.3125 48.390625 33.40625 48.390625 \r\nQ 24.65625 48.390625 19.8125 42.84375 \r\nQ 14.984375 37.3125 14.984375 27.296875 \r\nQ 14.984375 17.28125 19.8125 11.734375 \r\nQ 24.65625 6.203125 33.40625 6.203125 \r\nQ 37.3125 6.203125 41.140625 7.25 \r\nQ 44.96875 8.296875 48.78125 10.40625 \r\nL 48.78125 2.09375 \r\nQ 45.015625 0.34375 40.984375 -0.53125 \r\nQ 36.96875 -1.421875 32.421875 -1.421875 \r\nQ 20.0625 -1.421875 12.78125 6.34375 \r\nQ 5.515625 14.109375 5.515625 27.296875 \r\nQ 5.515625 40.671875 12.859375 48.328125 \r\nQ 20.21875 56 33.015625 56 \r\nQ 37.15625 56 41.109375 55.140625 \r\nQ 45.0625 54.296875 48.78125 52.59375 \r\nz\r\n\" id=\"DejaVuSans-99\"/>\r\n    </defs>\r\n    <g style=\"fill:#ffffff;\" transform=\"translate(64.532813 16.318125)scale(0.12 -0.12)\">\r\n     <use xlink:href=\"#DejaVuSans-82\"/>\r\n     <use x=\"69.419922\" xlink:href=\"#DejaVuSans-111\"/>\r\n     <use x=\"130.601562\" xlink:href=\"#DejaVuSans-119\"/>\r\n     <use x=\"212.388672\" xlink:href=\"#DejaVuSans-115\"/>\r\n     <use x=\"264.488281\" xlink:href=\"#DejaVuSans-32\"/>\r\n     <use x=\"296.275391\" xlink:href=\"#DejaVuSans-97\"/>\r\n     <use x=\"357.554688\" xlink:href=\"#DejaVuSans-110\"/>\r\n     <use x=\"420.933594\" xlink:href=\"#DejaVuSans-100\"/>\r\n     <use x=\"484.410156\" xlink:href=\"#DejaVuSans-32\"/>\r\n     <use x=\"516.197266\" xlink:href=\"#DejaVuSans-67\"/>\r\n     <use x=\"586.021484\" xlink:href=\"#DejaVuSans-111\"/>\r\n     <use x=\"647.203125\" xlink:href=\"#DejaVuSans-108\"/>\r\n     <use x=\"674.986328\" xlink:href=\"#DejaVuSans-117\"/>\r\n     <use x=\"738.365234\" xlink:href=\"#DejaVuSans-109\"/>\r\n     <use x=\"835.777344\" xlink:href=\"#DejaVuSans-110\"/>\r\n     <use x=\"899.15625\" xlink:href=\"#DejaVuSans-32\"/>\r\n     <use x=\"930.943359\" xlink:href=\"#DejaVuSans-110\"/>\r\n     <use x=\"994.322266\" xlink:href=\"#DejaVuSans-117\"/>\r\n     <use x=\"1057.701172\" xlink:href=\"#DejaVuSans-109\"/>\r\n     <use x=\"1155.113281\" xlink:href=\"#DejaVuSans-98\"/>\r\n     <use x=\"1218.589844\" xlink:href=\"#DejaVuSans-101\"/>\r\n     <use x=\"1280.113281\" xlink:href=\"#DejaVuSans-114\"/>\r\n     <use x=\"1321.226562\" xlink:href=\"#DejaVuSans-115\"/>\r\n     <use x=\"1373.326172\" xlink:href=\"#DejaVuSans-32\"/>\r\n     <use x=\"1405.113281\" xlink:href=\"#DejaVuSans-111\"/>\r\n     <use x=\"1466.294922\" xlink:href=\"#DejaVuSans-102\"/>\r\n     <use x=\"1501.5\" xlink:href=\"#DejaVuSans-32\"/>\r\n     <use x=\"1533.287109\" xlink:href=\"#DejaVuSans-116\"/>\r\n     <use x=\"1572.496094\" xlink:href=\"#DejaVuSans-104\"/>\r\n     <use x=\"1635.875\" xlink:href=\"#DejaVuSans-101\"/>\r\n     <use x=\"1697.398438\" xlink:href=\"#DejaVuSans-32\"/>\r\n     <use x=\"1729.185547\" xlink:href=\"#DejaVuSans-67\"/>\r\n     <use x=\"1799.009766\" xlink:href=\"#DejaVuSans-83\"/>\r\n     <use x=\"1862.486328\" xlink:href=\"#DejaVuSans-86\"/>\r\n     <use x=\"1930.894531\" xlink:href=\"#DejaVuSans-32\"/>\r\n     <use x=\"1962.681641\" xlink:href=\"#DejaVuSans-101\"/>\r\n     <use x=\"2024.189453\" xlink:href=\"#DejaVuSans-120\"/>\r\n     <use x=\"2083.369141\" xlink:href=\"#DejaVuSans-116\"/>\r\n     <use x=\"2122.578125\" xlink:href=\"#DejaVuSans-114\"/>\r\n     <use x=\"2163.691406\" xlink:href=\"#DejaVuSans-97\"/>\r\n     <use x=\"2224.970703\" xlink:href=\"#DejaVuSans-99\"/>\r\n     <use x=\"2279.951172\" xlink:href=\"#DejaVuSans-116\"/>\r\n     <use x=\"2319.160156\" xlink:href=\"#DejaVuSans-101\"/>\r\n     <use x=\"2380.683594\" xlink:href=\"#DejaVuSans-100\"/>\r\n    </g>\r\n   </g>\r\n  </g>\r\n </g>\r\n <defs>\r\n  <clipPath id=\"pe54c0e36a7\">\r\n   <rect height=\"217.44\" width=\"334.8\" x=\"43.78125\" y=\"22.318125\"/>\r\n  </clipPath>\r\n </defs>\r\n</svg>\r\n",
      "text/plain": "<Figure size 432x288 with 1 Axes>"
     },
     "metadata": {},
     "output_type": "display_data"
    }
   ],
   "source": [
    "fig,ax = plt.subplots()\n",
    "\n",
    "norm = plt.Normalize(1,4)\n",
    "cmap = plt.cm.RdYlGn\n",
    "\n",
    "sc = plt.scatter(df['Row_Numbers'],df['Coloumn_Numbers'],c=df['Coloumn_Numbers'], s=100, cmap=cmap, norm=norm)\n",
    "plt.xlabel('Number of Rows')\n",
    "plt.ylabel('Number of Coloumns')\n",
    "plt.title('Rows and Column numbers of the CSV extracted')\n",
    "\n",
    "plt.show()"
   ]
  },
  {
   "cell_type": "markdown",
   "metadata": {},
   "source": [
    "Code is continued in 2. EDA on CSV - Topic Modelling"
   ]
  },
  {
   "cell_type": "code",
   "execution_count": null,
   "metadata": {},
   "outputs": [],
   "source": []
  }
 ],
 "metadata": {
  "kernelspec": {
   "display_name": "Python 3",
   "language": "python",
   "name": "python3"
  },
  "language_info": {
   "codemirror_mode": {
    "name": "ipython",
    "version": 3
   },
   "file_extension": ".py",
   "mimetype": "text/x-python",
   "name": "python",
   "nbconvert_exporter": "python",
   "pygments_lexer": "ipython3",
   "version": "3.7.3"
  }
 },
 "nbformat": 4,
 "nbformat_minor": 2
}