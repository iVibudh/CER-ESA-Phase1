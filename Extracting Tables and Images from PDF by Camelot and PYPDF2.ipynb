{
 "cells": [
  {
   "cell_type": "markdown",
   "metadata": {},
   "source": [
    "# Extracting Tables and Images from PDF "
   ]
  },
  {
   "cell_type": "markdown",
   "metadata": {},
   "source": [
    "Ref -> https://stackoverflow.com/questions/2693820/extract-images-from-pdf-without-resampling-in-python"
   ]
  },
  {
   "cell_type": "code",
   "execution_count": 11,
   "metadata": {},
   "outputs": [],
   "source": [
    "import pandas as pd\n",
    "import PyPDF2 as p2\n",
    "import camelot\n",
    "import re\n",
    "import os\n",
    "from IPython.core.interactiveshell import InteractiveShell\n",
    "InteractiveShell.ast_node_interactivity = \"all\"\n",
    "\n",
    "from PIL import Image\n",
    "# import ghostscript\n",
    "\n",
    "#from pdf2image import convert_from_path"
   ]
  },
  {
   "cell_type": "code",
   "execution_count": 12,
   "metadata": {},
   "outputs": [],
   "source": [
    "index2 = pd.read_csv('F:\\Environmental Baseline Data\\Version 3\\Indices\\Final\\Index 2 - List of PDFs for Major Projects with ESAs.csv')\n",
    "ngtl_2021 = index2[index2['Application title short'].str.contains(\"Application for 2021 NGTL System Expansion Project\")]"
   ]
  },
  {
   "cell_type": "code",
   "execution_count": null,
   "metadata": {},
   "outputs": [],
   "source": [
    "index2 = pd.read_csv('F:\\Environmental Baseline Data\\Version 3\\Indices\\Final\\Index 2 - List of PDFs for Major Projects with ESAs.csv')\n",
    "ngtl_2021 = index2[index2['Application title short'].str.contains(\"Application for 2021 NGTL System Expansion Project\")]\n",
    "ngtl_2021_pdfs = ngtl_2021['PDF file name'].tolist()\n",
    "\n",
    "path = 'F:/Environmental Baseline Data/Version 3/Data/PDF/'\n",
    "ngtl_2021_pdfs_path = [path + x for x in ngtl_2021_pdfs]\n",
    "\n",
    "\n",
    "def get_list_elements(s, level):\n",
    "    if isinstance(s, list):\n",
    "        for x in s:\n",
    "            get_list_elements(x, level+1)\n",
    "    else:\n",
    "        data.append({'Outline Item' : s.title, 'Page Number' : pdf_reader.getDestinationPageNumber(s) + 1, 'Level' : level, 'file' : y})\n",
    "    return\n",
    "\n",
    "data = []\n",
    "for y in ngtl_2021_pdfs_path:\n",
    "    PDFfile = open(y, 'rb')\n",
    "    pdf_reader = p2.PdfFileReader(PDFfile)\n",
    "    \n",
    "    get_list_elements(pdf_reader.outlines, 0)\n",
    "df_outlines = pd.DataFrame(data)"
   ]
  },
  {
   "cell_type": "markdown",
   "metadata": {},
   "source": [
    "### Extracting Tables from the Outlines "
   ]
  },
  {
   "cell_type": "code",
   "execution_count": 4,
   "metadata": {},
   "outputs": [
    {
     "data": {
      "text/html": [
       "<div>\n",
       "<style scoped>\n",
       "    .dataframe tbody tr th:only-of-type {\n",
       "        vertical-align: middle;\n",
       "    }\n",
       "\n",
       "    .dataframe tbody tr th {\n",
       "        vertical-align: top;\n",
       "    }\n",
       "\n",
       "    .dataframe thead th {\n",
       "        text-align: right;\n",
       "    }\n",
       "</style>\n",
       "<table border=\"1\" class=\"dataframe\">\n",
       "  <thead>\n",
       "    <tr style=\"text-align: right;\">\n",
       "      <th></th>\n",
       "      <th>Outline Item</th>\n",
       "      <th>Page Number</th>\n",
       "      <th>Level</th>\n",
       "      <th>file</th>\n",
       "    </tr>\n",
       "  </thead>\n",
       "  <tbody>\n",
       "    <tr>\n",
       "      <td>1</td>\n",
       "      <td>Master Table of Contents</td>\n",
       "      <td>3</td>\n",
       "      <td>2</td>\n",
       "      <td>F:/Environmental Baseline Data/Version 3/Data/...</td>\n",
       "    </tr>\n",
       "    <tr>\n",
       "      <td>10</td>\n",
       "      <td>1.5 Applicable Legislation and Additional Regu...</td>\n",
       "      <td>18</td>\n",
       "      <td>4</td>\n",
       "      <td>F:/Environmental Baseline Data/Version 3/Data/...</td>\n",
       "    </tr>\n",
       "    <tr>\n",
       "      <td>11</td>\n",
       "      <td>Table 1.5–1: Additional Regulatory and Environ...</td>\n",
       "      <td>19</td>\n",
       "      <td>5</td>\n",
       "      <td>F:/Environmental Baseline Data/Version 3/Data/...</td>\n",
       "    </tr>\n",
       "    <tr>\n",
       "      <td>14</td>\n",
       "      <td>Table 1.7–1: Concordance with Guide A – A.2 En...</td>\n",
       "      <td>21</td>\n",
       "      <td>5</td>\n",
       "      <td>F:/Environmental Baseline Data/Version 3/Data/...</td>\n",
       "    </tr>\n",
       "    <tr>\n",
       "      <td>16</td>\n",
       "      <td>Table 1.8–1: Concordance with Canadian Environ...</td>\n",
       "      <td>24</td>\n",
       "      <td>5</td>\n",
       "      <td>F:/Environmental Baseline Data/Version 3/Data/...</td>\n",
       "    </tr>\n",
       "    <tr>\n",
       "      <td>18</td>\n",
       "      <td>Table 1.9–1: Project Environmental and Socio-e...</td>\n",
       "      <td>26</td>\n",
       "      <td>5</td>\n",
       "      <td>F:/Environmental Baseline Data/Version 3/Data/...</td>\n",
       "    </tr>\n",
       "    <tr>\n",
       "      <td>28</td>\n",
       "      <td>Table 2.3–1: Parallel Rights-of-Way and Non-Pa...</td>\n",
       "      <td>33</td>\n",
       "      <td>5</td>\n",
       "      <td>F:/Environmental Baseline Data/Version 3/Data/...</td>\n",
       "    </tr>\n",
       "    <tr>\n",
       "      <td>33</td>\n",
       "      <td>Table 2.4–1: Technical Details of Pipeline Com...</td>\n",
       "      <td>36</td>\n",
       "      <td>5</td>\n",
       "      <td>F:/Environmental Baseline Data/Version 3/Data/...</td>\n",
       "    </tr>\n",
       "    <tr>\n",
       "      <td>36</td>\n",
       "      <td>Table 2.4–2: Details of Proposed Compressor St...</td>\n",
       "      <td>43</td>\n",
       "      <td>5</td>\n",
       "      <td>F:/Environmental Baseline Data/Version 3/Data/...</td>\n",
       "    </tr>\n",
       "    <tr>\n",
       "      <td>37</td>\n",
       "      <td>Table 2.4–3: Preliminary Compressor Station Lo...</td>\n",
       "      <td>44</td>\n",
       "      <td>5</td>\n",
       "      <td>F:/Environmental Baseline Data/Version 3/Data/...</td>\n",
       "    </tr>\n",
       "  </tbody>\n",
       "</table>\n",
       "</div>"
      ],
      "text/plain": [
       "                                         Outline Item  Page Number  Level  \\\n",
       "1                            Master Table of Contents            3      2   \n",
       "10  1.5 Applicable Legislation and Additional Regu...           18      4   \n",
       "11  Table 1.5–1: Additional Regulatory and Environ...           19      5   \n",
       "14  Table 1.7–1: Concordance with Guide A – A.2 En...           21      5   \n",
       "16  Table 1.8–1: Concordance with Canadian Environ...           24      5   \n",
       "18  Table 1.9–1: Project Environmental and Socio-e...           26      5   \n",
       "28  Table 2.3–1: Parallel Rights-of-Way and Non-Pa...           33      5   \n",
       "33  Table 2.4–1: Technical Details of Pipeline Com...           36      5   \n",
       "36  Table 2.4–2: Details of Proposed Compressor St...           43      5   \n",
       "37  Table 2.4–3: Preliminary Compressor Station Lo...           44      5   \n",
       "\n",
       "                                                 file  \n",
       "1   F:/Environmental Baseline Data/Version 3/Data/...  \n",
       "10  F:/Environmental Baseline Data/Version 3/Data/...  \n",
       "11  F:/Environmental Baseline Data/Version 3/Data/...  \n",
       "14  F:/Environmental Baseline Data/Version 3/Data/...  \n",
       "16  F:/Environmental Baseline Data/Version 3/Data/...  \n",
       "18  F:/Environmental Baseline Data/Version 3/Data/...  \n",
       "28  F:/Environmental Baseline Data/Version 3/Data/...  \n",
       "33  F:/Environmental Baseline Data/Version 3/Data/...  \n",
       "36  F:/Environmental Baseline Data/Version 3/Data/...  \n",
       "37  F:/Environmental Baseline Data/Version 3/Data/...  "
      ]
     },
     "execution_count": 4,
     "metadata": {},
     "output_type": "execute_result"
    }
   ],
   "source": [
    "df_outlines_tables = df_outlines[df_outlines['Outline Item'].str.contains(\"able\", na = False)]\n",
    "df_outlines_tables_sample = df_outlines_tables\n",
    "df_outlines_tables_sample.head(10)"
   ]
  },
  {
   "cell_type": "code",
   "execution_count": 5,
   "metadata": {},
   "outputs": [
    {
     "ename": "AttributeError",
     "evalue": "module 'camelot' has no attribute 'read_pdf'",
     "output_type": "error",
     "traceback": [
      "\u001b[1;31m---------------------------------------------------------------------------\u001b[0m",
      "\u001b[1;31mAttributeError\u001b[0m                            Traceback (most recent call last)",
      "\u001b[1;32m<ipython-input-5-539e35d3dee5>\u001b[0m in \u001b[0;36m<module>\u001b[1;34m\u001b[0m\n\u001b[0;32m      8\u001b[0m     \u001b[0mpath_start\u001b[0m \u001b[1;33m=\u001b[0m \u001b[0mstr\u001b[0m\u001b[1;33m(\u001b[0m\u001b[1;34m'F:/Evironmental Baseline Data/Version 2/Data/PDF test NGTL 2021/'\u001b[0m\u001b[1;33m)\u001b[0m\u001b[1;33m\u001b[0m\u001b[1;33m\u001b[0m\u001b[0m\n\u001b[0;32m      9\u001b[0m \u001b[1;33m\u001b[0m\u001b[0m\n\u001b[1;32m---> 10\u001b[1;33m     \u001b[0mtables\u001b[0m \u001b[1;33m=\u001b[0m \u001b[0mcamelot\u001b[0m\u001b[1;33m.\u001b[0m\u001b[0mread_pdf\u001b[0m\u001b[1;33m(\u001b[0m\u001b[0mz\u001b[0m\u001b[1;33m,\u001b[0m \u001b[0mpages\u001b[0m \u001b[1;33m=\u001b[0m \u001b[0mstr\u001b[0m\u001b[1;33m(\u001b[0m\u001b[0mx\u001b[0m\u001b[1;33m)\u001b[0m\u001b[1;33m,\u001b[0m \u001b[0mflag_size\u001b[0m\u001b[1;33m=\u001b[0m\u001b[1;32mTrue\u001b[0m\u001b[1;33m)\u001b[0m  \u001b[1;31m#loop len(tables)\u001b[0m\u001b[1;33m\u001b[0m\u001b[1;33m\u001b[0m\u001b[0m\n\u001b[0m\u001b[0;32m     11\u001b[0m \u001b[1;33m\u001b[0m\u001b[0m\n\u001b[0;32m     12\u001b[0m     \u001b[0mdf\u001b[0m \u001b[1;33m=\u001b[0m \u001b[0mtables\u001b[0m\u001b[1;33m[\u001b[0m\u001b[1;36m0\u001b[0m\u001b[1;33m]\u001b[0m\u001b[1;33m.\u001b[0m\u001b[0mdf\u001b[0m \u001b[1;31m#tables may be greater than 1, add loop\u001b[0m\u001b[1;33m\u001b[0m\u001b[1;33m\u001b[0m\u001b[0m\n",
      "\u001b[1;31mAttributeError\u001b[0m: module 'camelot' has no attribute 'read_pdf'"
     ]
    }
   ],
   "source": [
    "for x, y, z, m in zip(df_outlines_tables_sample['Page Number'], \n",
    "                      df_outlines_tables_sample['Outline Item'], \n",
    "                      df_outlines_tables_sample['file'], \n",
    "                      df_outlines_tables_sample['file']):\n",
    "    \n",
    "    figure_name = str(y).replace(':', '_')\n",
    "    file_short = str(re.search('([a-zA-Z]\\d[a-zA-Z]\\d[a-zA-Z]\\d)', z).group(1))\n",
    "    path_start = str('F:/Evironmental Baseline Data/Version 2/Data/PDF test NGTL 2021/')\n",
    "    \n",
    "    tables = camelot.read_pdf(z, pages = str(x), flag_size=True)  #loop len(tables)\n",
    "      \n",
    "    df = tables[0].df #tables may be greater than 1, add loop\n",
    "    df = df.replace('/na', '_', regex = True)\n",
    "    path = str('F:/Environmental Baseline Data/Version 3/PDF test NGTL 2021/')\n",
    "\n",
    "    save_string = path + '2021 NGTL expansion_' + str(figure_name) + '-pg.' + str(x) + '-' + str(file_short) + '.csv'\n",
    "    df.to_csv(save_string, index = False)\n",
    "    \n",
    "    print(z)"
   ]
  },
  {
   "cell_type": "code",
   "execution_count": null,
   "metadata": {},
   "outputs": [],
   "source": []
  },
  {
   "cell_type": "code",
   "execution_count": null,
   "metadata": {},
   "outputs": [],
   "source": []
  },
  {
   "cell_type": "code",
   "execution_count": null,
   "metadata": {},
   "outputs": [],
   "source": []
  },
  {
   "cell_type": "markdown",
   "metadata": {},
   "source": [
    "### Extracting Images from the Outlines "
   ]
  },
  {
   "cell_type": "code",
   "execution_count": 6,
   "metadata": {},
   "outputs": [
    {
     "data": {
      "text/plain": [
       "100"
      ]
     },
     "execution_count": 6,
     "metadata": {},
     "output_type": "execute_result"
    },
    {
     "data": {
      "text/html": [
       "<div>\n",
       "<style scoped>\n",
       "    .dataframe tbody tr th:only-of-type {\n",
       "        vertical-align: middle;\n",
       "    }\n",
       "\n",
       "    .dataframe tbody tr th {\n",
       "        vertical-align: top;\n",
       "    }\n",
       "\n",
       "    .dataframe thead th {\n",
       "        text-align: right;\n",
       "    }\n",
       "</style>\n",
       "<table border=\"1\" class=\"dataframe\">\n",
       "  <thead>\n",
       "    <tr style=\"text-align: right;\">\n",
       "      <th></th>\n",
       "      <th>Outline Item</th>\n",
       "      <th>Page Number</th>\n",
       "      <th>Level</th>\n",
       "      <th>file</th>\n",
       "    </tr>\n",
       "  </thead>\n",
       "  <tbody>\n",
       "    <tr>\n",
       "      <td>8</td>\n",
       "      <td>Figure 1.3–1: 2021 NGTL System Expansion Proje...</td>\n",
       "      <td>16</td>\n",
       "      <td>5</td>\n",
       "      <td>F:/Environmental Baseline Data/Version 3/Data/...</td>\n",
       "    </tr>\n",
       "    <tr>\n",
       "      <td>46</td>\n",
       "      <td>Figure 2.6–1: Preliminary Construction Schedule</td>\n",
       "      <td>50</td>\n",
       "      <td>5</td>\n",
       "      <td>F:/Environmental Baseline Data/Version 3/Data/...</td>\n",
       "    </tr>\n",
       "    <tr>\n",
       "      <td>68</td>\n",
       "      <td>Figure 4.3–1: Local Study Area (Pipeline)</td>\n",
       "      <td>71</td>\n",
       "      <td>4</td>\n",
       "      <td>F:/Environmental Baseline Data/Version 3/Data/...</td>\n",
       "    </tr>\n",
       "    <tr>\n",
       "      <td>69</td>\n",
       "      <td>Figure 4.3–2: Local Study Area (Compressor Sta...</td>\n",
       "      <td>72</td>\n",
       "      <td>4</td>\n",
       "      <td>F:/Environmental Baseline Data/Version 3/Data/...</td>\n",
       "    </tr>\n",
       "    <tr>\n",
       "      <td>70</td>\n",
       "      <td>Figure 4.3–3: Regional Study Area</td>\n",
       "      <td>73</td>\n",
       "      <td>4</td>\n",
       "      <td>F:/Environmental Baseline Data/Version 3/Data/...</td>\n",
       "    </tr>\n",
       "  </tbody>\n",
       "</table>\n",
       "</div>"
      ],
      "text/plain": [
       "                                         Outline Item  Page Number  Level  \\\n",
       "8   Figure 1.3–1: 2021 NGTL System Expansion Proje...           16      5   \n",
       "46    Figure 2.6–1: Preliminary Construction Schedule           50      5   \n",
       "68          Figure 4.3–1: Local Study Area (Pipeline)           71      4   \n",
       "69  Figure 4.3–2: Local Study Area (Compressor Sta...           72      4   \n",
       "70                  Figure 4.3–3: Regional Study Area           73      4   \n",
       "\n",
       "                                                 file  \n",
       "8   F:/Environmental Baseline Data/Version 3/Data/...  \n",
       "46  F:/Environmental Baseline Data/Version 3/Data/...  \n",
       "68  F:/Environmental Baseline Data/Version 3/Data/...  \n",
       "69  F:/Environmental Baseline Data/Version 3/Data/...  \n",
       "70  F:/Environmental Baseline Data/Version 3/Data/...  "
      ]
     },
     "execution_count": 6,
     "metadata": {},
     "output_type": "execute_result"
    }
   ],
   "source": [
    "df_outlines_figures = df_outlines[df_outlines['Outline Item'].str.contains(\"igure\", na = False)]\n",
    "df_outlines_figures_sample = df_outlines_figures[0:100]\n",
    "len(df_outlines_figures_sample)\n",
    "df_outlines_figures_sample.head(5)"
   ]
  },
  {
   "cell_type": "code",
   "execution_count": 7,
   "metadata": {},
   "outputs": [
    {
     "data": {
      "text/plain": [
       "{'A6F4Q3',\n",
       " 'A6F4Q4',\n",
       " 'A6F4Q5',\n",
       " 'A6F4Q6',\n",
       " 'A6F4Q7',\n",
       " 'A6F4Q8',\n",
       " 'A6F4Q9',\n",
       " 'A6F4R2'}"
      ]
     },
     "execution_count": 7,
     "metadata": {},
     "output_type": "execute_result"
    }
   ],
   "source": [
    "# Making a set of file names \n",
    "file_names_set = []\n",
    "for file_name in df_outlines_tables_sample['file']:\n",
    "    file_names_set.append((file_name.split('/')[-1]).split('.')[0])\n",
    "file_names_set = set(file_names_set)\n",
    "file_names_set\n"
   ]
  },
  {
   "cell_type": "code",
   "execution_count": 8,
   "metadata": {},
   "outputs": [],
   "source": [
    "# Making the Relevand folders for all unique File Names \n",
    "def makedirectory(dirName):\n",
    "    try:\n",
    "        # Create target Directory\n",
    "        os.mkdir(dirName)\n",
    "        print(\"Directory \" , dirName ,  \" Created \") \n",
    "    except FileExistsError:\n",
    "        print(\"Directory \" , dirName ,  \" already exists\")\n"
   ]
  },
  {
   "cell_type": "code",
   "execution_count": 9,
   "metadata": {},
   "outputs": [
    {
     "name": "stdout",
     "output_type": "stream",
     "text": [
      "Directory  F:\\Environmental Baseline Data\\Version 3\\Data\\Images\\  already exists\n",
      "Directory  F:\\Environmental Baseline Data\\Version 3\\Data\\Images\\A6F4Q9  already exists\n",
      "Directory  F:\\Environmental Baseline Data\\Version 3\\Data\\Images\\A6F4Q5  already exists\n",
      "Directory  F:\\Environmental Baseline Data\\Version 3\\Data\\Images\\A6F4Q4  already exists\n",
      "Directory  F:\\Environmental Baseline Data\\Version 3\\Data\\Images\\A6F4Q3  already exists\n",
      "Directory  F:\\Environmental Baseline Data\\Version 3\\Data\\Images\\A6F4Q8  already exists\n",
      "Directory  F:\\Environmental Baseline Data\\Version 3\\Data\\Images\\A6F4Q7  already exists\n",
      "Directory  F:\\Environmental Baseline Data\\Version 3\\Data\\Images\\A6F4Q6  already exists\n",
      "Directory  F:\\Environmental Baseline Data\\Version 3\\Data\\Images\\A6F4R2  already exists\n"
     ]
    }
   ],
   "source": [
    "# Ref-> https://thispointer.com/how-to-create-a-directory-in-python/\n",
    "path = \"F:\\\\Environmental Baseline Data\\\\Version 3\\\\Data\\\\Images\\\\\"\n",
    "makedirectory(path)\n",
    "\n",
    "for file_name in file_names_set:\n",
    "    makedirectory(path + file_name)"
   ]
  },
  {
   "cell_type": "markdown",
   "metadata": {},
   "source": [
    "Ref -> https://stackoverflow.com/questions/2693820/extract-images-from-pdf-without-resampling-in-python <br>\n",
    "Ref -> https://gist.github.com/maphew/fe6ba4bf9ed2bc98ecf5 <br>\n",
    "REf -> https://github.com/Belval/pdf2image  <br>\n",
    "\n",
    "<br>\n",
    "<br>\n",
    "<br>\n",
    "Best Ref -> https://pythonforundergradengineers.com/pdf-to-multiple-images.html\n"
   ]
  },
  {
   "cell_type": "code",
   "execution_count": 10,
   "metadata": {},
   "outputs": [
    {
     "ename": "ModuleNotFoundError",
     "evalue": "No module named 'PythonMagick'",
     "output_type": "error",
     "traceback": [
      "\u001b[1;31m---------------------------------------------------------------------------\u001b[0m",
      "\u001b[1;31mModuleNotFoundError\u001b[0m                       Traceback (most recent call last)",
      "\u001b[1;32m<ipython-input-10-a4bc3ede7288>\u001b[0m in \u001b[0;36m<module>\u001b[1;34m\u001b[0m\n\u001b[0;32m      1\u001b[0m \u001b[1;32mfrom\u001b[0m \u001b[0mPyPDF2\u001b[0m \u001b[1;32mimport\u001b[0m \u001b[0mPdfFileReader\u001b[0m\u001b[1;33m\u001b[0m\u001b[1;33m\u001b[0m\u001b[0m\n\u001b[1;32m----> 2\u001b[1;33m \u001b[1;32mfrom\u001b[0m \u001b[0mPythonMagick\u001b[0m \u001b[1;32mimport\u001b[0m \u001b[0mImage\u001b[0m\u001b[1;33m\u001b[0m\u001b[1;33m\u001b[0m\u001b[0m\n\u001b[0m\u001b[0;32m      3\u001b[0m \u001b[0mmyfile\u001b[0m \u001b[1;33m=\u001b[0m \u001b[0mPdfFileReader\u001b[0m\u001b[1;33m(\u001b[0m\u001b[0mdf_outlines_figures_sample\u001b[0m\u001b[1;33m.\u001b[0m\u001b[0miloc\u001b[0m\u001b[1;33m[\u001b[0m\u001b[1;36m0\u001b[0m\u001b[1;33m]\u001b[0m\u001b[1;33m[\u001b[0m\u001b[1;34m'file'\u001b[0m\u001b[1;33m]\u001b[0m\u001b[1;33m)\u001b[0m\u001b[1;33m\u001b[0m\u001b[1;33m\u001b[0m\u001b[0m\n\u001b[0;32m      4\u001b[0m \u001b[1;33m\u001b[0m\u001b[0m\n\u001b[0;32m      5\u001b[0m \u001b[1;33m\u001b[0m\u001b[0m\n",
      "\u001b[1;31mModuleNotFoundError\u001b[0m: No module named 'PythonMagick'"
     ]
    }
   ],
   "source": [
    "from PyPDF2 import PdfFileReader\n",
    "from PythonMagick import Image\n",
    "myfile = PdfFileReader(df_outlines_figures_sample.iloc[0]['file'])\n",
    "\n",
    "\n",
    "\n",
    "pages = myfile.getNumPages()\n",
    "print(pages)"
   ]
  },
  {
   "cell_type": "code",
   "execution_count": 105,
   "metadata": {},
   "outputs": [
    {
     "ename": "NameError",
     "evalue": "name 'pages' is not defined",
     "output_type": "error",
     "traceback": [
      "\u001b[1;31m---------------------------------------------------------------------------\u001b[0m",
      "\u001b[1;31mNameError\u001b[0m                                 Traceback (most recent call last)",
      "\u001b[1;32m<ipython-input-105-e7cf86fbc5c7>\u001b[0m in \u001b[0;36m<module>\u001b[1;34m\u001b[0m\n\u001b[1;32m----> 1\u001b[1;33m \u001b[1;32mfor\u001b[0m \u001b[0mpage\u001b[0m \u001b[1;32min\u001b[0m \u001b[0mpages\u001b[0m\u001b[1;33m:\u001b[0m\u001b[1;33m\u001b[0m\u001b[1;33m\u001b[0m\u001b[0m\n\u001b[0m\u001b[0;32m      2\u001b[0m     \u001b[0mim\u001b[0m \u001b[1;33m=\u001b[0m \u001b[0mImage\u001b[0m\u001b[1;33m(\u001b[0m\u001b[0mmyfile\u001b[0m\u001b[1;33m.\u001b[0m\u001b[0mgetPage\u001b[0m\u001b[1;33m(\u001b[0m\u001b[0mi\u001b[0m\u001b[1;33m+\u001b[0m\u001b[1;36m1\u001b[0m\u001b[1;33m)\u001b[0m\u001b[1;33m)\u001b[0m\u001b[1;33m\u001b[0m\u001b[1;33m\u001b[0m\u001b[0m\n\u001b[0;32m      3\u001b[0m     \u001b[0mim\u001b[0m\u001b[1;33m.\u001b[0m\u001b[0mwrite\u001b[0m\u001b[1;33m(\u001b[0m\u001b[1;34m'file_image{}.png'\u001b[0m\u001b[1;33m.\u001b[0m\u001b[0mformat\u001b[0m\u001b[1;33m(\u001b[0m\u001b[0mi\u001b[0m\u001b[1;33m+\u001b[0m\u001b[1;36m1\u001b[0m\u001b[1;33m)\u001b[0m\u001b[1;33m)\u001b[0m\u001b[1;33m\u001b[0m\u001b[1;33m\u001b[0m\u001b[0m\n",
      "\u001b[1;31mNameError\u001b[0m: name 'pages' is not defined"
     ]
    }
   ],
   "source": [
    "\n",
    "for page in pages:\n",
    "    im = Image(myfile.getPage(i+1))\n",
    "    im.write('file_image{}.png'.format(i+1))"
   ]
  },
  {
   "cell_type": "code",
   "execution_count": 75,
   "metadata": {},
   "outputs": [
    {
     "name": "stdout",
     "output_type": "stream",
     "text": [
      "The PDF F:/Environmental Baseline Data/Version 3/Data/PDF/A6F4Q3.pdf has 112 number of pages\n",
      "F:\\Environmental Baseline Data\\Version 3\\Data\\Images\\A6F4Q3\\\n",
      "/FlateDecode\n",
      "The PDF F:/Environmental Baseline Data/Version 3/Data/PDF/A6F4Q3.pdf has 112 number of pages\n",
      "F:\\Environmental Baseline Data\\Version 3\\Data\\Images\\A6F4Q3\\\n",
      "/FlateDecode\n",
      "The PDF F:/Environmental Baseline Data/Version 3/Data/PDF/A6F4Q3.pdf has 112 number of pages\n",
      "F:\\Environmental Baseline Data\\Version 3\\Data\\Images\\A6F4Q3\\\n",
      "/FlateDecode\n"
     ]
    },
    {
     "ename": "AttributeError",
     "evalue": "'_io.BufferedWriter' object has no attribute 'transpose'",
     "output_type": "error",
     "traceback": [
      "\u001b[1;31m---------------------------------------------------------------------------\u001b[0m",
      "\u001b[1;31mAttributeError\u001b[0m                            Traceback (most recent call last)",
      "\u001b[1;32m<ipython-input-75-9eb4f1711802>\u001b[0m in \u001b[0;36m<module>\u001b[1;34m\u001b[0m\n\u001b[0;32m     47\u001b[0m                     \u001b[1;32melif\u001b[0m \u001b[0mxObject\u001b[0m\u001b[1;33m[\u001b[0m\u001b[0mobj\u001b[0m\u001b[1;33m]\u001b[0m\u001b[1;33m[\u001b[0m\u001b[1;34m'/Filter'\u001b[0m\u001b[1;33m]\u001b[0m \u001b[1;33m==\u001b[0m \u001b[1;34m'/DCTDecode'\u001b[0m\u001b[1;33m:\u001b[0m\u001b[1;33m\u001b[0m\u001b[1;33m\u001b[0m\u001b[0m\n\u001b[0;32m     48\u001b[0m                         \u001b[0mimg\u001b[0m \u001b[1;33m=\u001b[0m \u001b[0mopen\u001b[0m\u001b[1;33m(\u001b[0m\u001b[0mimage_name\u001b[0m\u001b[1;33m+\u001b[0m \u001b[0mobj\u001b[0m\u001b[1;33m[\u001b[0m\u001b[1;36m1\u001b[0m\u001b[1;33m:\u001b[0m\u001b[1;33m]\u001b[0m \u001b[1;33m+\u001b[0m\u001b[1;34m\".jpg\"\u001b[0m\u001b[1;33m,\u001b[0m \u001b[1;34m\"wb\"\u001b[0m\u001b[1;33m)\u001b[0m\u001b[1;33m\u001b[0m\u001b[1;33m\u001b[0m\u001b[0m\n\u001b[1;32m---> 49\u001b[1;33m                         \u001b[0mimg\u001b[0m \u001b[1;33m=\u001b[0m \u001b[0mimg\u001b[0m\u001b[1;33m.\u001b[0m\u001b[0mtranspose\u001b[0m\u001b[1;33m(\u001b[0m\u001b[0mImage\u001b[0m\u001b[1;33m.\u001b[0m\u001b[0mROTATE_90\u001b[0m\u001b[1;33m)\u001b[0m\u001b[1;33m\u001b[0m\u001b[1;33m\u001b[0m\u001b[0m\n\u001b[0m\u001b[0;32m     50\u001b[0m                         \u001b[0mimg\u001b[0m\u001b[1;33m.\u001b[0m\u001b[0mwrite\u001b[0m\u001b[1;33m(\u001b[0m\u001b[0mdata\u001b[0m\u001b[1;33m)\u001b[0m\u001b[1;33m\u001b[0m\u001b[1;33m\u001b[0m\u001b[0m\n\u001b[0;32m     51\u001b[0m                         \u001b[0mimg\u001b[0m\u001b[1;33m.\u001b[0m\u001b[0mclose\u001b[0m\u001b[1;33m(\u001b[0m\u001b[1;33m)\u001b[0m\u001b[1;33m\u001b[0m\u001b[1;33m\u001b[0m\u001b[0m\n",
      "\u001b[1;31mAttributeError\u001b[0m: '_io.BufferedWriter' object has no attribute 'transpose'"
     ]
    }
   ],
   "source": [
    "project_name = '2021 NGTL expansion_' \n",
    "\n",
    "\n",
    "\n",
    "\n",
    "for i in range(len(df_outlines_figures_sample)):\n",
    "    pdf_reader = p2.PdfFileReader(df_outlines_figures_sample.iloc[i]['file'])\n",
    "    print(\"The PDF {} has {} number of pages\".format(df_outlines_figures_sample.iloc[i]['file'], pdf_reader.getNumPages()))\n",
    "    \n",
    "    pageNo = df_outlines_figures_sample.iloc[i]['Page Number']\n",
    "    \n",
    "    file_name = (df_outlines_figures_sample.iloc[i]['file'].split('/')[-1]).split('.')[0]\n",
    "    print(path + file_name + \"\\\\\")\n",
    "    \n",
    "    figure_name = df_outlines_figures_sample.iloc[i]['Outline Item']\n",
    "    figure_name = re.sub('[^A-Za-z0-9]+', ' ', figure_name)\n",
    "    \n",
    "    page_no = df_outlines_figures_sample.iloc[i]['Page Number']\n",
    "    \n",
    "    \n",
    "    image_name = path + file_name + \"\\\\\" + str(figure_name) + '-pg-' + str(pageNo) + '-' + str(file_name)\n",
    "    \n",
    "    \n",
    "    \n",
    "    \n",
    "    \n",
    "    \n",
    "\"\"\"    #image_name + \"-pg-\" + page_no + \n",
    "    \n",
    "    #os.chdir(r(path + file_name + \"\\\\\"))\n",
    "    # extracting images from the page\n",
    "    page0 = pdf_reader.getPage(pageNo).rotateClockwise(90)\n",
    "    if '/XObject' in page0['/Resources']:\n",
    "        xObject = page0['/Resources']['/XObject'].getObject()\n",
    "\n",
    "        for obj in xObject:\n",
    "            if xObject[obj]['/Subtype'] == '/Image':\n",
    "                size = (xObject[obj]['/Width'], xObject[obj]['/Height'])\n",
    "                data = xObject[obj].getData()\n",
    "                if xObject[obj]['/ColorSpace'] == '/DeviceRGB':\n",
    "                    mode = \"RGB\"\n",
    "                else:\n",
    "                    mode = \"P\"\n",
    "\n",
    "                if '/Filter' in xObject[obj]:\n",
    "                    if xObject[obj]['/Filter'] == '/FlateDecode':\n",
    "                        img = Image.frombytes(mode, size, data)\n",
    "                        img = img.transpose(Image.ROTATE_90)\n",
    "                        img.save(image_name+ obj[1:] + \".png\")\n",
    "                        print('/FlateDecode')\n",
    "                        \n",
    "                    elif xObject[obj]['/Filter'] == '/DCTDecode':\n",
    "                        img = open(image_name+ obj[1:] +\".jpg\", \"wb\")\n",
    "                        img = img.transpose(Image.ROTATE_90)\n",
    "                        img.write(data)\n",
    "                        img.close()\n",
    "                        print('/DCTDecode')\n",
    "                        \n",
    "                    elif xObject[obj]['/Filter'] == '/JPXDecode':\n",
    "                        img = open(image_name+ obj[1:] + \".jp2\", \"wb\")\n",
    "                        img = img.transpose(Image.ROTATE_90)\n",
    "                        img.write(data)\n",
    "                        img.close()\n",
    "                        print('/JPXDecode')\n",
    "                        \n",
    "                    elif xObject[obj]['/Filter'] == '/CCITTFaxDecode':\n",
    "                        img = open(image_name+ obj[1:] + \".tiff\", \"wb\")\n",
    "                        img = img.transpose(Image.ROTATE_90)\n",
    "                        img.write(data)\n",
    "                        img.close()\n",
    "                        print('/CCITTFaxDecode')\n",
    "                else:\n",
    "                    img = Image.frombytes(mode, size, data)\n",
    "                    img = img.transpose(Image.ROTATE_90)\n",
    "                    img.save(image_name+ obj[1:] + \".png\")\n",
    "    else:\n",
    "        print(\"No image found.\")\"\"\""
   ]
  },
  {
   "cell_type": "code",
   "execution_count": 76,
   "metadata": {},
   "outputs": [
    {
     "data": {
      "text/plain": [
       "_io.BufferedWriter"
      ]
     },
     "execution_count": 76,
     "metadata": {},
     "output_type": "execute_result"
    },
    {
     "data": {
      "text/plain": [
       "<_io.BufferedWriter name='F:\\\\Environmental Baseline Data\\\\Version 3\\\\Data\\\\Images\\\\A6F4Q3\\\\Figure 4 3 1 Local Study Area Pipeline -pg-71-A6F4Q3Im1.jpg'>"
      ]
     },
     "execution_count": 76,
     "metadata": {},
     "output_type": "execute_result"
    }
   ],
   "source": [
    "type(img)\n",
    "img"
   ]
  },
  {
   "cell_type": "code",
   "execution_count": 32,
   "metadata": {},
   "outputs": [
    {
     "data": {
      "text/plain": [
       "str"
      ]
     },
     "execution_count": 32,
     "metadata": {},
     "output_type": "execute_result"
    },
    {
     "data": {
      "text/plain": [
       "'C:\\\\Users\\\\T1Vibudh\\\\Desktop'"
      ]
     },
     "execution_count": 32,
     "metadata": {},
     "output_type": "execute_result"
    }
   ],
   "source": [
    "cwd = os.getcwd() \n",
    "type(cwd)\n",
    "cwd\n"
   ]
  },
  {
   "cell_type": "code",
   "execution_count": null,
   "metadata": {},
   "outputs": [],
   "source": [
    "      save_string = path + '2021 NGTL expansion_' + str(figure_name) + '-pg.' + str(x) + '-' + str(file_short) + '.csv'\n",
    "    df.to_csv(save_string, index = False)"
   ]
  },
  {
   "cell_type": "code",
   "execution_count": 11,
   "metadata": {},
   "outputs": [
    {
     "ename": "KeyError",
     "evalue": "'/xObject'",
     "output_type": "error",
     "traceback": [
      "\u001b[1;31m---------------------------------------------------------------------------\u001b[0m",
      "\u001b[1;31mKeyError\u001b[0m                                  Traceback (most recent call last)",
      "\u001b[1;32m<ipython-input-11-a779624b91b6>\u001b[0m in \u001b[0;36m<module>\u001b[1;34m\u001b[0m\n\u001b[0;32m      2\u001b[0m \u001b[0minput1\u001b[0m \u001b[1;33m=\u001b[0m \u001b[0mp2\u001b[0m\u001b[1;33m.\u001b[0m\u001b[0mPdfFileReader\u001b[0m\u001b[1;33m(\u001b[0m\u001b[0mopen\u001b[0m\u001b[1;33m(\u001b[0m\u001b[0mfile_name\u001b[0m\u001b[1;33m,\u001b[0m \u001b[1;34m\"rb\"\u001b[0m\u001b[1;33m)\u001b[0m\u001b[1;33m)\u001b[0m\u001b[1;33m\u001b[0m\u001b[1;33m\u001b[0m\u001b[0m\n\u001b[0;32m      3\u001b[0m \u001b[0mpage0\u001b[0m \u001b[1;33m=\u001b[0m \u001b[0minput1\u001b[0m\u001b[1;33m.\u001b[0m\u001b[0mgetPage\u001b[0m\u001b[1;33m(\u001b[0m\u001b[1;36m0\u001b[0m\u001b[1;33m)\u001b[0m\u001b[1;33m\u001b[0m\u001b[1;33m\u001b[0m\u001b[0m\n\u001b[1;32m----> 4\u001b[1;33m \u001b[0mxObject\u001b[0m \u001b[1;33m=\u001b[0m \u001b[0mpage0\u001b[0m\u001b[1;33m[\u001b[0m\u001b[1;34m'/Resources'\u001b[0m\u001b[1;33m]\u001b[0m\u001b[1;33m[\u001b[0m\u001b[1;34m'/xObject'\u001b[0m\u001b[1;33m]\u001b[0m\u001b[1;33m.\u001b[0m\u001b[0mgetObject\u001b[0m\u001b[1;33m(\u001b[0m\u001b[1;33m)\u001b[0m\u001b[1;33m\u001b[0m\u001b[1;33m\u001b[0m\u001b[0m\n\u001b[0m\u001b[0;32m      5\u001b[0m \u001b[1;33m\u001b[0m\u001b[0m\n\u001b[0;32m      6\u001b[0m \u001b[1;32mfor\u001b[0m \u001b[0mobj\u001b[0m \u001b[1;32min\u001b[0m \u001b[0mxObject\u001b[0m\u001b[1;33m:\u001b[0m\u001b[1;33m\u001b[0m\u001b[1;33m\u001b[0m\u001b[0m\n",
      "\u001b[1;32mC:\\ProgramData\\Anaconda3\\lib\\site-packages\\PyPDF2\\generic.py\u001b[0m in \u001b[0;36m__getitem__\u001b[1;34m(self, key)\u001b[0m\n\u001b[0;32m    514\u001b[0m \u001b[1;33m\u001b[0m\u001b[0m\n\u001b[0;32m    515\u001b[0m     \u001b[1;32mdef\u001b[0m \u001b[0m__getitem__\u001b[0m\u001b[1;33m(\u001b[0m\u001b[0mself\u001b[0m\u001b[1;33m,\u001b[0m \u001b[0mkey\u001b[0m\u001b[1;33m)\u001b[0m\u001b[1;33m:\u001b[0m\u001b[1;33m\u001b[0m\u001b[1;33m\u001b[0m\u001b[0m\n\u001b[1;32m--> 516\u001b[1;33m         \u001b[1;32mreturn\u001b[0m \u001b[0mdict\u001b[0m\u001b[1;33m.\u001b[0m\u001b[0m__getitem__\u001b[0m\u001b[1;33m(\u001b[0m\u001b[0mself\u001b[0m\u001b[1;33m,\u001b[0m \u001b[0mkey\u001b[0m\u001b[1;33m)\u001b[0m\u001b[1;33m.\u001b[0m\u001b[0mgetObject\u001b[0m\u001b[1;33m(\u001b[0m\u001b[1;33m)\u001b[0m\u001b[1;33m\u001b[0m\u001b[1;33m\u001b[0m\u001b[0m\n\u001b[0m\u001b[0;32m    517\u001b[0m \u001b[1;33m\u001b[0m\u001b[0m\n\u001b[0;32m    518\u001b[0m     \u001b[1;31m##\u001b[0m\u001b[1;33m\u001b[0m\u001b[1;33m\u001b[0m\u001b[1;33m\u001b[0m\u001b[0m\n",
      "\u001b[1;31mKeyError\u001b[0m: '/xObject'"
     ]
    }
   ],
   "source": [
    "file_name = 'F:/Environmental Baseline Data/Version 3/Data/PDF/A6F4R2.pdf'\n",
    "input1 = p2.PdfFileReader(open(file_name, \"rb\"))\n",
    "page0 = input1.getPage(0)\n",
    "xObject = page0['/Resources']['/xObject'].getObject()\n",
    "\n",
    "for obj in xObject:\n",
    "    if xObject[obj]['/Subtype'] == '/Image':\n",
    "        size = (xObject[obj]['/Width'], xObject[obj]['/Height'])\n",
    "        data = xObject[obj].getData()\n",
    "        if xObject[obj]['/ColorSpace'] == '/DeviceRGB':\n",
    "            mode = \"RGB\"\n",
    "        else:\n",
    "            mode = \"P\"\n",
    "\n",
    "        if xObject[obj]['/Filter'] == '/FlateDecode':\n",
    "            img = Image.frombytes(mode, size, data)\n",
    "            img.save(obj[1:] + \".png\")\n",
    "        elif xObject[obj]['/Filter'] == '/DCTDecode':\n",
    "            img = open(obj[1:] + \".jpg\", \"wb\")\n",
    "            img.write(data)\n",
    "            img.close()\n",
    "        elif xObject[obj]['/Filter'] == '/JPXDecode':\n",
    "            img = open(obj[1:] + \".jp2\", \"wb\")\n",
    "            img.write(data)\n",
    "            img.close()"
   ]
  },
  {
   "cell_type": "code",
   "execution_count": null,
   "metadata": {},
   "outputs": [],
   "source": []
  }
 ],
 "metadata": {
  "kernelspec": {
   "display_name": "Python 3",
   "language": "python",
   "name": "python3"
  },
  "language_info": {
   "codemirror_mode": {
    "name": "ipython",
    "version": 3
   },
   "file_extension": ".py",
   "mimetype": "text/x-python",
   "name": "python",
   "nbconvert_exporter": "python",
   "pygments_lexer": "ipython3",
   "version": "3.7.4"
  }
 },
 "nbformat": 4,
 "nbformat_minor": 2
}
