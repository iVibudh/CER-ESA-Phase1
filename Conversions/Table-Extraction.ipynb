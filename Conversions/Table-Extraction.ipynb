{
 "cells": [
  {
   "cell_type": "markdown",
   "metadata": {
    "ExecuteTime": {
     "end_time": "2019-08-26T03:23:41.112129Z",
     "start_time": "2019-08-26T03:23:41.107836Z"
    }
   },
   "source": [
    "### Table Extraction"
   ]
  },
  {
   "cell_type": "code",
   "execution_count": null,
   "metadata": {},
   "outputs": [],
   "source": [
    "# Read the table-pages as json file. For example {key:value} key is the file name and the value is the \n",
    "# corresponding page numbers with tables on it.\n",
    "# version of the python package:\n",
    "import json\n",
    "# jsonschema 3.0.1\n",
    "\n",
    "# Extract tables\n",
    "#!pip install camelot-py\n",
    "import camelot\n",
    "# camelot-py 0.7.1\n",
    "# Ghostscript must be installed\n",
    "\n",
    "# Load and read the pdf files\n",
    "from PyPDF2 import PdfFileReader\n",
    "# PyPDF2 1.26.0\n",
    "# Use the command to install python package with the version specified.\n",
    "# pip install package_name==version"
   ]
  },
  {
   "cell_type": "code",
   "execution_count": null,
   "metadata": {
    "ExecuteTime": {
     "end_time": "2019-08-13T04:20:19.764953Z",
     "start_time": "2019-08-13T04:20:19.747460Z"
    }
   },
   "outputs": [],
   "source": [
    "# open the txt file and read this txt file as json format\n",
    "with open('C:/Users/yazdsous/Documents/UBC/Code/code-for-html/htmls/output/table-pages.txt') as json_file:\n",
    "    data = json.load(json_file)\n",
    "# get the file names from the json file\n",
    "file_name = data.keys()    \n",
    "for name in file_name:\n",
    "    print(name)"
   ]
  },
  {
   "cell_type": "code",
   "execution_count": null,
   "metadata": {
    "ExecuteTime": {
     "end_time": "2019-08-01T18:12:28.970209Z",
     "start_time": "2019-08-01T18:12:28.939282Z"
    }
   },
   "outputs": [],
   "source": [
    "def gettables(file,page_list):\n",
    "    path = file\n",
    "    print(path)\n",
    "    # open the pdf file\n",
    "    input = PdfFileReader(open(path, \"rb\"))\n",
    "    page_list = list(map(lambda x:x+1,page_list))\n",
    "    # go through the pdf file with for loop to get the tables\n",
    "    for i in page_list:\n",
    "        print(\"The page number is :\",i)\n",
    "        tables = camelot.read_pdf(path,pages='%d'%i,strip_text = '\\n',line_scale=40,copy_text=['v'])\n",
    "        if(len(tables)>0):\n",
    "            print(\"There is \"+str(len(tables)) +\" table on the page\")\n",
    "            # save the tables in target folder\n",
    "            tables.export(r\"C:\\Users\\yazdsous\\Documents\\UBC\\Code\\code-for-html\\htmls\\out_/%s.csv\"%file.split('/')[-1][:-4],f='csv')\n",
    "        else:\n",
    "            # if there is no tables on it, then print \"There is no tables on the page\"\n",
    "            print(\"There is no tables on the page\")"
   ]
  },
  {
   "cell_type": "code",
   "execution_count": null,
   "metadata": {
    "scrolled": false
   },
   "outputs": [],
   "source": [
    "# Use for loop to go through all the file with the file name from the txt file.\n",
    "for name in file_name:\n",
    "    path = r\"C:/Users/yazdsous/Desktop/Data/PDFs/\"+name+\".pdf\"\n",
    "    # Use key to get the value from the json file\n",
    "    pages = data[name]\n",
    "    try:\n",
    "        # call the gettables function to extract tables on specific pages\n",
    "        gettables(path,pages)\n",
    "    except Exception as e:\n",
    "        # if some errors occur, print the error and continue\n",
    "        print(e)\n",
    "        continue"
   ]
  }
 ],
 "metadata": {
  "kernelspec": {
   "display_name": "Python 3",
   "language": "python",
   "name": "python3"
  },
  "language_info": {
   "codemirror_mode": {
    "name": "ipython",
    "version": 3
   },
   "file_extension": ".py",
   "mimetype": "text/x-python",
   "name": "python",
   "nbconvert_exporter": "python",
   "pygments_lexer": "ipython3",
   "version": "3.7.1"
  }
 },
 "nbformat": 4,
 "nbformat_minor": 2
}
