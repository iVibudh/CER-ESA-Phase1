{
 "cells": [
  {
   "cell_type": "markdown",
   "metadata": {
    "ExecuteTime": {
     "end_time": "2019-08-26T03:23:41.112129Z",
     "start_time": "2019-08-26T03:23:41.107836Z"
    }
   },
   "source": [
    "### Text Extraction"
   ]
  },
  {
   "cell_type": "code",
   "execution_count": null,
   "metadata": {},
   "outputs": [],
   "source": [
    "!pip install tika-py --user"
   ]
  },
  {
   "cell_type": "code",
   "execution_count": null,
   "metadata": {},
   "outputs": [],
   "source": [
    "from tika import parser\n",
    "import glob"
   ]
  },
  {
   "cell_type": "code",
   "execution_count": null,
   "metadata": {
    "ExecuteTime": {
     "end_time": "2019-08-27T18:18:43.746518Z",
     "start_time": "2019-08-27T18:18:43.729776Z"
    }
   },
   "outputs": [],
   "source": [
    "def gettext(file):\n",
    "    file_name = file.split('\\\\')[-1]\n",
    "    path = \"C:/Users/yazdsous/Desktop/Data/PDFs/\"+file_name\n",
    "    raw = parser.from_file(path)\n",
    "    name = path.split('/')[-1][:-4]\n",
    "    print(name)\n",
    "    file_name = \"C:/Users/yazdsous/Desktop/Data/Text/\"+name+\".txt\"\n",
    "    # write the text content in the target folder in utf-8 encoding.\n",
    "    text_file = open(file_name,\"w\",encoding=\"utf-8\")\n",
    "    # some of the pdf files would be empty in terms of content because some of the pdf files are simple images.\n",
    "    if raw['content'] is not None:\n",
    "        text_file = open(file_name,\"w\",encoding=\"utf-8\")\n",
    "        text_file.write(raw['content'])\n",
    "    # close the pipleline\n",
    "        text_file.close()"
   ]
  },
  {
   "cell_type": "code",
   "execution_count": null,
   "metadata": {},
   "outputs": [],
   "source": [
    "for file in glob.glob(\"C:/Users/yazdsous/Desktop/Data/PDFs/*.pdf\"):\n",
    "    gettext(file)"
   ]
  }
 ],
 "metadata": {
  "kernelspec": {
   "display_name": "Python 3",
   "language": "python",
   "name": "python3"
  },
  "language_info": {
   "codemirror_mode": {
    "name": "ipython",
    "version": 3
   },
   "file_extension": ".py",
   "mimetype": "text/x-python",
   "name": "python",
   "nbconvert_exporter": "python",
   "pygments_lexer": "ipython3",
   "version": "3.7.1"
  }
 },
 "nbformat": 4,
 "nbformat_minor": 2
}
