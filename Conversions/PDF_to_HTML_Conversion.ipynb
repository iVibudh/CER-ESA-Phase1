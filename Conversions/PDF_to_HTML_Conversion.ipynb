{
 "cells": [
  {
   "cell_type": "markdown",
   "metadata": {},
   "source": [
    "# PDF to HTML Conversion"
   ]
  },
  {
   "cell_type": "markdown",
   "metadata": {},
   "source": [
    "#### 1.1 Import python packages"
   ]
  },
  {
   "cell_type": "code",
   "execution_count": null,
   "metadata": {
    "ExecuteTime": {
     "end_time": "2019-08-20T18:31:15.206282Z",
     "start_time": "2019-08-20T18:31:15.201330Z"
    }
   },
   "outputs": [],
   "source": [
    "import glob\n",
    "import os\n",
    "import subprocess"
   ]
  },
  {
   "cell_type": "markdown",
   "metadata": {},
   "source": [
    "#### 1.2 Function to quote the string"
   ]
  },
  {
   "cell_type": "code",
   "execution_count": null,
   "metadata": {},
   "outputs": [],
   "source": [
    "##########################################################################################################\n",
    "#Reference: http://code.activestate.com/recipes/498202-quote-python-strings-for-safe-use-in-posix-shells/#\n",
    "##########################################################################################################\n",
    "\n",
    "def QuoteForPOSIX(string):\n",
    "    '''quote a string so it can be used as an argument in a  posix shell\n",
    "\n",
    "          Enclosing characters in single-quotes ( '' ) shall preserve\n",
    "          the literal value of each character within the single-quotes.\n",
    "          A single-quote cannot occur within single-quotes.\n",
    "\n",
    "    '''\n",
    "\n",
    "    return (\"\\\"\" + string + \"\\\"\" )\n"
   ]
  },
  {
   "cell_type": "markdown",
   "metadata": {},
   "source": [
    "#### 1.3 Change the current work directory"
   ]
  },
  {
   "cell_type": "code",
   "execution_count": null,
   "metadata": {
    "ExecuteTime": {
     "end_time": "2019-08-20T18:31:15.416932Z",
     "start_time": "2019-08-20T18:31:15.413154Z"
    }
   },
   "outputs": [],
   "source": [
    "os.chdir(\"F:/Environmental Baseline Data/Version 2/Data/HTML/\")"
   ]
  },
  {
   "cell_type": "markdown",
   "metadata": {},
   "source": [
    "#### 1.4 Use for loop to go through all the pdf files and use pdf2html function to convert the PDF file to HTML"
   ]
  },
  {
   "cell_type": "code",
   "execution_count": null,
   "metadata": {},
   "outputs": [],
   "source": [
    "import shlex\n",
    "from subprocess import Popen, PIPE\n",
    "from threading import Timer\n",
    "\n",
    "def run(cmd, timeout_sec):\n",
    "    proc = Popen(cmd, stdout=PIPE, stderr=PIPE)\n",
    "    timer = Timer(timeout_sec, proc.kill)\n",
    "    try:\n",
    "        timer.start()\n",
    "        stdout, stderr = proc.communicate()\n",
    "    finally:\n",
    "        timer.cancel()"
   ]
  },
  {
   "cell_type": "code",
   "execution_count": null,
   "metadata": {},
   "outputs": [],
   "source": [
    "for pdf in glob.glob(\"C:/Users/yazdsous/Desktop/Data/not_converted_html_2/*.pdf\"):\n",
    "    pdf_name = pdf.split(\"\\\\\")[-1]\n",
    "    print(pdf_name)\n",
    "    #pdf_name = pdf_name.replace(\" \",\"\\ \")\n",
    "    #print(pdf_name)\n",
    "    pdf_path_name = \"C:/Users/yazdsous/Desktop/Data/not_converted_html_2/\"+pdf_name\n",
    "    print(QuoteForPOSIX(pdf_path_name)) \n",
    "#    subprocess.run([\"C:/Users/yazdsous/Desktop/Data/tmp/pdf2htmlEX-win32-0.14.6-upx-with-poppler-data/pdf2htmlEX\" ,pdf_path_name], shell = True, capture_output = True, timeout =600)\n",
    "    #15 mins time out\n",
    "    run(['C:/Users/yazdsous/Desktop/Data/tmp/pdf2htmlEX-win32-0.14.6-upx-with-poppler-data/pdf2htmlEX', pdf_path_name], 900)\n"
   ]
  },
  {
   "cell_type": "code",
   "execution_count": null,
   "metadata": {},
   "outputs": [],
   "source": [
    "#for pdf in glob.glob(\"F:/Environmental Baseline Data/Version 2/Data/HTML/*.pdf\")[0:3]:\n",
    "#[0:101] --> got stuck at 58 so skipped 58 and started over this time from 59:101\n",
    "for pdf in glob.glob(\"C:/Users/yazdsous/Desktop/Data/not_converted/*.pdf\")[34:]:\n",
    "    pdf_name = pdf.split(\"\\\\\")[-1]\n",
    "    print(pdf_name)\n",
    "\n",
    "    pdf_path_name = \"C:/Users/yazdsous/Desktop/Data/not_converted/\"+pdf_name\n",
    "    print(QuoteForPOSIX(pdf_path_name)) \n",
    "#   subprocess.run([\"C:/Users/yazdsous/Desktop/Data/tmp/pdf2htmlEX-win32-0.14.6-upx-with-poppler-data/pdf2htmlEX\" ,pdf_path_name], shell = True, capture_output = True, timeout =600)\n",
    "    subprocess.call([\"C:/Users/yazdsous/Desktop/Data/tmp/pdf2htmlEX-0.12-win32-static-with-poppler-data/pdf2htmlEX\" ,pdf_path_name])\n",
    "\n"
   ]
  },
  {
   "cell_type": "markdown",
   "metadata": {},
   "source": [
    "##### Test"
   ]
  },
  {
   "cell_type": "code",
   "execution_count": null,
   "metadata": {},
   "outputs": [],
   "source": [
    "L = glob.glob(\"C:/Users/yazdsous/Desktop/Data/not_converted/*.pdf\")"
   ]
  },
  {
   "cell_type": "code",
   "execution_count": null,
   "metadata": {},
   "outputs": [],
   "source": [
    "L[336]"
   ]
  },
  {
   "cell_type": "code",
   "execution_count": null,
   "metadata": {},
   "outputs": [],
   "source": [
    "L.index('C:/Users/yazdsous/Desktop/Data/not_converted\\\\a77032%2d35 v21_pump_stations_4of4 %2d a5a8g7.pdf')"
   ]
  },
  {
   "cell_type": "code",
   "execution_count": null,
   "metadata": {},
   "outputs": [],
   "source": []
  }
 ],
 "metadata": {
  "kernelspec": {
   "display_name": "Python 3",
   "language": "python",
   "name": "python3"
  },
  "language_info": {
   "codemirror_mode": {
    "name": "ipython",
    "version": 3
   },
   "file_extension": ".py",
   "mimetype": "text/x-python",
   "name": "python",
   "nbconvert_exporter": "python",
   "pygments_lexer": "ipython3",
   "version": "3.7.1"
  }
 },
 "nbformat": 4,
 "nbformat_minor": 2
}
