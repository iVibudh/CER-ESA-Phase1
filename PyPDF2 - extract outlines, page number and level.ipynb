{
 "cells": [
  {
   "cell_type": "code",
   "execution_count": 6,
   "metadata": {},
   "outputs": [],
   "source": [
    "import PyPDF2 as p2\n",
    "import pandas as pd\n",
    "ttf_resolution_file = 'C03833-2_Attachment_1_Unanimous_TTF_Resolution_02.2019_-_A7C1U2.pdf'"
   ]
  },
  {
   "cell_type": "code",
   "execution_count": 7,
   "metadata": {},
   "outputs": [],
   "source": [
    "PDFfile = open(ttf_resolution_file, 'rb')\n",
    "pdfread = p2.PdfFileReader(PDFfile)"
   ]
  },
  {
   "cell_type": "code",
   "execution_count": 8,
   "metadata": {},
   "outputs": [
    {
     "data": {
      "text/html": [
       "<div>\n",
       "<style scoped>\n",
       "    .dataframe tbody tr th:only-of-type {\n",
       "        vertical-align: middle;\n",
       "    }\n",
       "\n",
       "    .dataframe tbody tr th {\n",
       "        vertical-align: top;\n",
       "    }\n",
       "\n",
       "    .dataframe thead th {\n",
       "        text-align: right;\n",
       "    }\n",
       "</style>\n",
       "<table border=\"1\" class=\"dataframe\">\n",
       "  <thead>\n",
       "    <tr style=\"text-align: right;\">\n",
       "      <th></th>\n",
       "      <th>outline_items</th>\n",
       "      <th>page_numbers</th>\n",
       "      <th>level</th>\n",
       "    </tr>\n",
       "  </thead>\n",
       "  <tbody>\n",
       "    <tr>\n",
       "      <th>0</th>\n",
       "      <td>Attachment 1 to the Application</td>\n",
       "      <td>1</td>\n",
       "      <td>1</td>\n",
       "    </tr>\n",
       "    <tr>\n",
       "      <th>1</th>\n",
       "      <td>Unanimous TTF Resolution 02.2019</td>\n",
       "      <td>2</td>\n",
       "      <td>1</td>\n",
       "    </tr>\n",
       "    <tr>\n",
       "      <th>2</th>\n",
       "      <td>Settlement</td>\n",
       "      <td>3</td>\n",
       "      <td>1</td>\n",
       "    </tr>\n",
       "    <tr>\n",
       "      <th>3</th>\n",
       "      <td>Appendix A 2021 to 2026 Mainline Revenue Requi...</td>\n",
       "      <td>20</td>\n",
       "      <td>2</td>\n",
       "    </tr>\n",
       "    <tr>\n",
       "      <th>4</th>\n",
       "      <td>Appendix B Methodology to Allocation Revenue R...</td>\n",
       "      <td>26</td>\n",
       "      <td>2</td>\n",
       "    </tr>\n",
       "  </tbody>\n",
       "</table>\n",
       "</div>"
      ],
      "text/plain": [
       "                                       outline_items  page_numbers level\n",
       "0                    Attachment 1 to the Application             1     1\n",
       "1                   Unanimous TTF Resolution 02.2019             2     1\n",
       "2                                         Settlement             3     1\n",
       "3  Appendix A 2021 to 2026 Mainline Revenue Requi...            20     2\n",
       "4  Appendix B Methodology to Allocation Revenue R...            26     2"
      ]
     },
     "execution_count": 8,
     "metadata": {},
     "output_type": "execute_result"
    }
   ],
   "source": [
    "outlines = pdfread.outlines\n",
    "outline_items = []\n",
    "page_numbers = []\n",
    "levels = []\n",
    "\n",
    "for x in outlines: \n",
    "    if isinstance(x, dict):\n",
    "        outline_items.extend([x.title])\n",
    "        page_numbers.extend([pdfread.getDestinationPageNumber(x)])\n",
    "        levels.extend(['1'])\n",
    "    if isinstance(x, list):\n",
    "        for y in x:\n",
    "            if isinstance(y, dict):\n",
    "                outline_items.extend([y.title])\n",
    "                page_numbers.extend([pdfread.getDestinationPageNumber(y)])\n",
    "                levels.extend(['2'])\n",
    "            if isinstance(y, list):\n",
    "                for z in y:\n",
    "                    if isinstance(z, dict):\n",
    "                        outline_items.extend([z.title])\n",
    "                        page_numbers.extend([pdfread.getDestinationPageNumber(z)])\n",
    "                        levels.extend(['3'])\n",
    "                    if isinstance(z, list):\n",
    "                        for a in z:\n",
    "                            if isinstance (a, dict):\n",
    "                                outline_items.extend([a.title])\n",
    "                                page_numbers.extend([pdfread.getDestinationPageNumber(a)])\n",
    "                                levels.extend(['4'])\n",
    "                                                       \n",
    "outline_df = pd.DataFrame({'outline_items' : outline_items, 'page_numbers' : page_numbers, 'level' : levels}) \n",
    "outline_df['page_numbers'] = outline_df['page_numbers'] + 1 \n",
    "outline_df.head()"
   ]
  },
  {
   "cell_type": "code",
   "execution_count": null,
   "metadata": {},
   "outputs": [],
   "source": []
  }
 ],
 "metadata": {
  "kernelspec": {
   "display_name": "Python 3",
   "language": "python",
   "name": "python3"
  },
  "language_info": {
   "codemirror_mode": {
    "name": "ipython",
    "version": 3
   },
   "file_extension": ".py",
   "mimetype": "text/x-python",
   "name": "python",
   "nbconvert_exporter": "python",
   "pygments_lexer": "ipython3",
   "version": "3.6.5"
  }
 },
 "nbformat": 4,
 "nbformat_minor": 2
}
