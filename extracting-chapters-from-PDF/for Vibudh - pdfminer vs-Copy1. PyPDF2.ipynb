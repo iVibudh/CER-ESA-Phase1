{
 "cells": [
  {
   "cell_type": "code",
   "execution_count": 1,
   "metadata": {},
   "outputs": [],
   "source": [
    "import PyPDF2 as p2\n",
    "from pdfminer.pdfparser import PDFParser\n",
    "from pdfminer.pdfdocument import PDFDocument\n",
    "import pandas as pd\n",
    "import os\n",
    "from IPython.core.interactiveshell import InteractiveShell\n",
    "InteractiveShell.ast_node_interactivity = \"all\""
   ]
  },
  {
   "cell_type": "code",
   "execution_count": 2,
   "metadata": {},
   "outputs": [
    {
     "data": {
      "text/plain": [
       "1322"
      ]
     },
     "execution_count": 2,
     "metadata": {},
     "output_type": "execute_result"
    },
    {
     "data": {
      "text/plain": [
       "'F:/Environmental Baseline Data/Version 2/Data/PDFs/A63951%2D1 V3 %2D ESA_Sec_1%2D11 %2D A4D9H6.pdf'"
      ]
     },
     "execution_count": 2,
     "metadata": {},
     "output_type": "execute_result"
    }
   ],
   "source": [
    "path = 'F:/Environmental Baseline Data/Version 2/Data/PDFs'\n",
    "pdfs = os.listdir(path)\n",
    "path_pdfs = [str(path) + '/' + str(x) for x in pdfs]\n",
    "len(path_pdfs)\n",
    "path_pdfs[4]"
   ]
  },
  {
   "cell_type": "markdown",
   "metadata": {},
   "source": [
    "### PyPDF2 example - implemented by nested loop "
   ]
  },
  {
   "cell_type": "code",
   "execution_count": 6,
   "metadata": {},
   "outputs": [],
   "source": [
    "test2 = 'F:/Environmental Baseline Data/Version 2/Data/PDFs/A92619%2D10 10 ESA Sections 1 to 4 %2D A6F4Q3.pdf'\n",
    "test2 = 'F:/Environmental Baseline Data/Version 2/Data/PDFs/A63951%2D30 V4 %2D ESA_Appendix E to I_Sec5 Baseline Appendices %2D A4D9K5.pdf'\n",
    "test2 = \"F:/Environmental Baseline Data/Version 3/Data/PDF/A6F4Q3.pdf\"\n",
    "\n",
    "pdfread = p2.PdfFileReader(test2)\n",
    "# pdfread = p2.PdfFileReader(path_pdfs[5])\n",
    "s = pdfread.outlines\n"
   ]
  },
  {
   "cell_type": "code",
   "execution_count": 10,
   "metadata": {},
   "outputs": [],
   "source": [
    "def nested_is_instance_check(s, level, chapters, levels, pages):\n",
    "    level +=1\n",
    "    if isinstance(s, (int, list, float, complex)):\n",
    "        for x in s:\n",
    "            nested_is_instance_check(x, level, chapters, levels, pages)\n",
    "    else:\n",
    "        chapters.extend([s.title])\n",
    "        levels.extend([level])\n",
    "        pages.extend([pdfread.getDestinationPageNumber(s)])\n",
    "    "
   ]
  },
  {
   "cell_type": "code",
   "execution_count": 11,
   "metadata": {},
   "outputs": [
    {
     "data": {
      "text/plain": [
       "0"
      ]
     },
     "execution_count": 11,
     "metadata": {},
     "output_type": "execute_result"
    }
   ],
   "source": [
    "len(s)\n",
    "\n",
    "chapters = []\n",
    "pages = []\n",
    "levels = []\n",
    "level = -1\n",
    "\n",
    "for x in s:\n",
    "    nested_is_instance_check(s, level, chapters, levels, pages)\n"
   ]
  },
  {
   "cell_type": "code",
   "execution_count": 12,
   "metadata": {},
   "outputs": [
    {
     "data": {
      "text/html": [
       "<div>\n",
       "<style scoped>\n",
       "    .dataframe tbody tr th:only-of-type {\n",
       "        vertical-align: middle;\n",
       "    }\n",
       "\n",
       "    .dataframe tbody tr th {\n",
       "        vertical-align: top;\n",
       "    }\n",
       "\n",
       "    .dataframe thead th {\n",
       "        text-align: right;\n",
       "    }\n",
       "</style>\n",
       "<table border=\"1\" class=\"dataframe\">\n",
       "  <thead>\n",
       "    <tr style=\"text-align: right;\">\n",
       "      <th></th>\n",
       "      <th>chapters</th>\n",
       "      <th>pages</th>\n",
       "      <th>levels</th>\n",
       "    </tr>\n",
       "  </thead>\n",
       "  <tbody>\n",
       "  </tbody>\n",
       "</table>\n",
       "</div>"
      ],
      "text/plain": [
       "Empty DataFrame\n",
       "Columns: [chapters, pages, levels]\n",
       "Index: []"
      ]
     },
     "execution_count": 12,
     "metadata": {},
     "output_type": "execute_result"
    }
   ],
   "source": [
    "df = pd.DataFrame({'chapters': chapters, 'pages' : pages, 'levels' : levels})\n",
    "df.head(44)\n",
    "\n"
   ]
  },
  {
   "cell_type": "markdown",
   "metadata": {},
   "source": [
    "### PyPDF2 example - implemented by if loop loop "
   ]
  },
  {
   "cell_type": "code",
   "execution_count": 7,
   "metadata": {},
   "outputs": [],
   "source": [
    "chapters = []\n",
    "pages = []\n",
    "levels = []\n",
    "files = []\n",
    "\n",
    "#change to recursive function: https://stackoverflow.com/questions/59262016/python-isinstance-in-loop-nested \n",
    "\n",
    "for x in s:\n",
    "    if isinstance(x, (int, list, float, complex)):\n",
    "        for y in x:\n",
    "            if isinstance(y, (int, list, float, complex)):\n",
    "                for z in y:\n",
    "                    if isinstance(z, (int, list, float, complex)): \n",
    "                        for a in z:\n",
    "                            if isinstance(a, (int, list, float, complex)): \n",
    "                                for c in a:\n",
    "                                    if isinstance(c, (int, list, float, complex)): \n",
    "                                        print(c.title)\n",
    "                                    else:\n",
    "                                        chapters.extend([c.title])\n",
    "                                        pages.extend([pdfread.getDestinationPageNumber(c)])\n",
    "                                        levels.extend(['5'])\n",
    "                                        \n",
    "                            else:\n",
    "                                chapters.extend([a.title])\n",
    "                                pages.extend([pdfread.getDestinationPageNumber(a)])\n",
    "                                levels.extend(['4'])\n",
    "                                \n",
    "                    else:\n",
    "                        chapters.extend([z.title])\n",
    "                        levels.extend(['3'])\n",
    "                        pages.extend([pdfread.getDestinationPageNumber(z)])\n",
    "            else:\n",
    "                chapters.extend([y.title])\n",
    "                levels.extend(['2'])\n",
    "                pages.extend([pdfread.getDestinationPageNumber(y)])\n",
    "    else:\n",
    "        chapters.extend([x.title])\n",
    "        levels.extend(['1'])\n",
    "        pages.extend([pdfread.getDestinationPageNumber(x)])\n",
    "\n",
    "df = pd.DataFrame({'chapters': chapters, 'pages' : pages, 'levels' : levels})\n"
   ]
  },
  {
   "cell_type": "code",
   "execution_count": null,
   "metadata": {},
   "outputs": [],
   "source": []
  },
  {
   "cell_type": "code",
   "execution_count": null,
   "metadata": {},
   "outputs": [],
   "source": []
  },
  {
   "cell_type": "code",
   "execution_count": null,
   "metadata": {},
   "outputs": [],
   "source": []
  },
  {
   "cell_type": "code",
   "execution_count": null,
   "metadata": {},
   "outputs": [],
   "source": []
  },
  {
   "cell_type": "markdown",
   "metadata": {},
   "source": [
    "### pdfminer example"
   ]
  },
  {
   "cell_type": "code",
   "execution_count": 20,
   "metadata": {},
   "outputs": [
    {
     "data": {
      "text/html": [
       "<div>\n",
       "<style scoped>\n",
       "    .dataframe tbody tr th:only-of-type {\n",
       "        vertical-align: middle;\n",
       "    }\n",
       "\n",
       "    .dataframe tbody tr th {\n",
       "        vertical-align: top;\n",
       "    }\n",
       "\n",
       "    .dataframe thead th {\n",
       "        text-align: right;\n",
       "    }\n",
       "</style>\n",
       "<table border=\"1\" class=\"dataframe\">\n",
       "  <thead>\n",
       "    <tr style=\"text-align: right;\">\n",
       "      <th></th>\n",
       "      <th>0</th>\n",
       "      <th>1</th>\n",
       "      <th>2</th>\n",
       "      <th>3</th>\n",
       "      <th>4</th>\n",
       "    </tr>\n",
       "  </thead>\n",
       "  <tbody>\n",
       "    <tr>\n",
       "      <th>0</th>\n",
       "      <td>1</td>\n",
       "      <td>Cover</td>\n",
       "      <td>None</td>\n",
       "      <td>&lt;PDFObjRef:979&gt;</td>\n",
       "      <td>&lt;PDFObjRef:10071&gt;</td>\n",
       "    </tr>\n",
       "    <tr>\n",
       "      <th>1</th>\n",
       "      <td>2</td>\n",
       "      <td>Master Table of Contents</td>\n",
       "      <td>None</td>\n",
       "      <td>&lt;PDFObjRef:1177&gt;</td>\n",
       "      <td>None</td>\n",
       "    </tr>\n",
       "    <tr>\n",
       "      <th>2</th>\n",
       "      <td>2</td>\n",
       "      <td>Acronyms and Abbreviations</td>\n",
       "      <td>None</td>\n",
       "      <td>&lt;PDFObjRef:998&gt;</td>\n",
       "      <td>None</td>\n",
       "    </tr>\n",
       "    <tr>\n",
       "      <th>3</th>\n",
       "      <td>2</td>\n",
       "      <td>1.0 INTRODUCTION</td>\n",
       "      <td>None</td>\n",
       "      <td>&lt;PDFObjRef:994&gt;</td>\n",
       "      <td>None</td>\n",
       "    </tr>\n",
       "    <tr>\n",
       "      <th>4</th>\n",
       "      <td>3</td>\n",
       "      <td>TABLE OF CONTENTS</td>\n",
       "      <td>None</td>\n",
       "      <td>&lt;PDFObjRef:11486&gt;</td>\n",
       "      <td>None</td>\n",
       "    </tr>\n",
       "  </tbody>\n",
       "</table>\n",
       "</div>"
      ],
      "text/plain": [
       "   0                           1     2                  3                  4\n",
       "0  1                       Cover  None    <PDFObjRef:979>  <PDFObjRef:10071>\n",
       "1  2    Master Table of Contents  None   <PDFObjRef:1177>               None\n",
       "2  2  Acronyms and Abbreviations  None    <PDFObjRef:998>               None\n",
       "3  2            1.0 INTRODUCTION  None    <PDFObjRef:994>               None\n",
       "4  3           TABLE OF CONTENTS  None  <PDFObjRef:11486>               None"
      ]
     },
     "execution_count": 20,
     "metadata": {},
     "output_type": "execute_result"
    }
   ],
   "source": [
    "open_file = open(test2, 'rb')\n",
    "parser = PDFParser(open_file)\n",
    "document = PDFDocument(parser)\n",
    "outlines = document.get_outlines() #creates a generator\n",
    "\n",
    "# for (level, title, dest, a, se) in outlines:\n",
    "#     print(level, title)\n",
    "df = pd.DataFrame(outlines)\n",
    "df.head()\n",
    "\n",
    "#how to get page numbers using this method?"
   ]
  },
  {
   "cell_type": "code",
   "execution_count": 24,
   "metadata": {},
   "outputs": [
    {
     "data": {
      "text/plain": [
       "(104, 3)"
      ]
     },
     "execution_count": 24,
     "metadata": {},
     "output_type": "execute_result"
    }
   ],
   "source": [
    "df.shape\n"
   ]
  },
  {
   "cell_type": "code",
   "execution_count": null,
   "metadata": {},
   "outputs": [],
   "source": []
  }
 ],
 "metadata": {
  "kernelspec": {
   "display_name": "Python 3",
   "language": "python",
   "name": "python3"
  },
  "language_info": {
   "codemirror_mode": {
    "name": "ipython",
    "version": 3
   },
   "file_extension": ".py",
   "mimetype": "text/x-python",
   "name": "python",
   "nbconvert_exporter": "python",
   "pygments_lexer": "ipython3",
   "version": "3.7.4"
  }
 },
 "nbformat": 4,
 "nbformat_minor": 2
}
