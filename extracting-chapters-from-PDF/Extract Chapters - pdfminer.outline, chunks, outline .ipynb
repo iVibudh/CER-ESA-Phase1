{
 "cells": [
  {
   "cell_type": "markdown",
   "metadata": {},
   "source": [
    "# Extracting Outlines from PDFs"
   ]
  },
  {
   "cell_type": "markdown",
   "metadata": {},
   "source": [
    "The objective of this piece of code is to go through all the PDFs and detect if there are outlines present. The output of this code is the following: <br>\n",
    "\n",
    "1. Outline_Present.csv - This has the list of the PDF files and then there is an indicator is the outline i spresent or not. <br>\n",
    "\n",
    "2. Index 4 - Chapters.csv - This table has a detailed list of all the chapters present in all the PDF files present. "
   ]
  },
  {
   "cell_type": "code",
   "execution_count": 184,
   "metadata": {},
   "outputs": [],
   "source": [
    "import PyPDF2 as p2\n",
    "from pdfminer.pdfparser import PDFParser\n",
    "from pdfminer.pdfdocument import PDFDocument\n",
    "import pandas as pd\n",
    "import os\n",
    "from IPython.core.interactiveshell import InteractiveShell\n",
    "InteractiveShell.ast_node_interactivity = \"all\""
   ]
  },
  {
   "cell_type": "code",
   "execution_count": 185,
   "metadata": {},
   "outputs": [
    {
     "data": {
      "text/plain": [
       "1328"
      ]
     },
     "execution_count": 185,
     "metadata": {},
     "output_type": "execute_result"
    }
   ],
   "source": [
    "#define the paths of the PDF scrapped \n",
    "\n",
    "path = 'F:/Environmental Baseline Data/Version 3/Data/PDF'\n",
    "pdfs = os.listdir(path)\n",
    "pdf_paths = [str(path) + '/' + str(x) for x in pdfs]\n",
    "len(pdf_paths)"
   ]
  },
  {
   "cell_type": "markdown",
   "metadata": {},
   "source": [
    "## Extract Outlines for all the PDFs"
   ]
  },
  {
   "cell_type": "code",
   "execution_count": 190,
   "metadata": {},
   "outputs": [],
   "source": [
    "# Functtion that runs recursively to extract the outlines of the PDF files\n",
    "def nested_is_instance_check(s, level, file_name, file_names_ch, chapters, levels, pages):\n",
    "    level +=1\n",
    "    if isinstance(s, (int, list, float, complex)):\n",
    "        for x in s:\n",
    "            nested_is_instance_check(x, level, file_name, file_names_ch, chapters, levels, pages)\n",
    "    else:\n",
    "        chapters.extend([s.title])\n",
    "        levels.extend([level])\n",
    "        #it was observed that for a lot of PDF files we could not find the page number \n",
    "        # Hence, -999 is the error code added for those cases \n",
    "        try:\n",
    "            pages.extend([pdfread.getDestinationPageNumber(s)])\n",
    "        except: \n",
    "            pages.extend([-999])\n",
    "        file_names_ch.append([file_name])"
   ]
  },
  {
   "cell_type": "code",
   "execution_count": 197,
   "metadata": {},
   "outputs": [],
   "source": [
    "# Varibles for file outline_present.csv\n",
    "file_names = []\n",
    "outline_present = []\n",
    "\n",
    "# Variables for Index 4 - Chapters.csv\n",
    "file_names_ch = []\n",
    "chapters = []\n",
    "levels = []\n",
    "pages = []\n",
    "\n",
    "\n",
    "#pdf_paths = pdf_paths[0:10]\n",
    "\n",
    "for pdf_path in pdf_paths:\n",
    "    file_name = str(pdf_path.split('/')[-1])\n",
    "    file_names.append(file_name)\n",
    "    try:\n",
    "        pdfread = p2.PdfFileReader(pdf_path)\n",
    "        s = pdfread.outlines\n",
    "        len_s = len(s)\n",
    "    except:\n",
    "        outline_present.append(\"Error in reading the outline\")\n",
    "        \n",
    "    if len_s > 0:\n",
    "        level = 0\n",
    "        outline_present.append(1)\n",
    "        nested_is_instance_check(s, level, file_name, file_names_ch, chapters, levels, pages)\n",
    "    elif len_s == 0:\n",
    "        outline_present.append(0)\n",
    "    \n",
    "    # Error Code for s (=pdfraed.outlines) is -999\n",
    "    # the negative number allows exclusivity from the if and the elif conditions above\n",
    "    len_s = -999 "
   ]
  },
  {
   "cell_type": "markdown",
   "metadata": {},
   "source": [
    "#### Saving the file outline_present.csv"
   ]
  },
  {
   "cell_type": "code",
   "execution_count": 203,
   "metadata": {},
   "outputs": [
    {
     "data": {
      "text/plain": [
       "1328"
      ]
     },
     "execution_count": 203,
     "metadata": {},
     "output_type": "execute_result"
    },
    {
     "data": {
      "text/plain": [
       "1328"
      ]
     },
     "execution_count": 203,
     "metadata": {},
     "output_type": "execute_result"
    },
    {
     "data": {
      "text/plain": [
       "1328"
      ]
     },
     "execution_count": 203,
     "metadata": {},
     "output_type": "execute_result"
    }
   ],
   "source": [
    "len(file_names)\n",
    "len(pdf_paths)\n",
    "len(outline_present)"
   ]
  },
  {
   "cell_type": "code",
   "execution_count": 204,
   "metadata": {},
   "outputs": [
    {
     "data": {
      "text/html": [
       "<div>\n",
       "<style scoped>\n",
       "    .dataframe tbody tr th:only-of-type {\n",
       "        vertical-align: middle;\n",
       "    }\n",
       "\n",
       "    .dataframe tbody tr th {\n",
       "        vertical-align: top;\n",
       "    }\n",
       "\n",
       "    .dataframe thead th {\n",
       "        text-align: right;\n",
       "    }\n",
       "</style>\n",
       "<table border=\"1\" class=\"dataframe\">\n",
       "  <thead>\n",
       "    <tr style=\"text-align: right;\">\n",
       "      <th></th>\n",
       "      <th>file_names</th>\n",
       "      <th>pdf_paths</th>\n",
       "      <th>outline_present</th>\n",
       "    </tr>\n",
       "  </thead>\n",
       "  <tbody>\n",
       "    <tr>\n",
       "      <td>0</td>\n",
       "      <td>A0H8C0.pdf</td>\n",
       "      <td>F:/Environmental Baseline Data/Version 3/Data/...</td>\n",
       "      <td>1</td>\n",
       "    </tr>\n",
       "    <tr>\n",
       "      <td>1</td>\n",
       "      <td>A0H8C1.pdf</td>\n",
       "      <td>F:/Environmental Baseline Data/Version 3/Data/...</td>\n",
       "      <td>1</td>\n",
       "    </tr>\n",
       "    <tr>\n",
       "      <td>2</td>\n",
       "      <td>A0H8C2.pdf</td>\n",
       "      <td>F:/Environmental Baseline Data/Version 3/Data/...</td>\n",
       "      <td>0</td>\n",
       "    </tr>\n",
       "    <tr>\n",
       "      <td>3</td>\n",
       "      <td>A0H8C3.pdf</td>\n",
       "      <td>F:/Environmental Baseline Data/Version 3/Data/...</td>\n",
       "      <td>0</td>\n",
       "    </tr>\n",
       "    <tr>\n",
       "      <td>4</td>\n",
       "      <td>A0U3G1.pdf</td>\n",
       "      <td>F:/Environmental Baseline Data/Version 3/Data/...</td>\n",
       "      <td>0</td>\n",
       "    </tr>\n",
       "    <tr>\n",
       "      <td>...</td>\n",
       "      <td>...</td>\n",
       "      <td>...</td>\n",
       "      <td>...</td>\n",
       "    </tr>\n",
       "    <tr>\n",
       "      <td>1323</td>\n",
       "      <td>A6T2W2.pdf</td>\n",
       "      <td>F:/Environmental Baseline Data/Version 3/Data/...</td>\n",
       "      <td>1</td>\n",
       "    </tr>\n",
       "    <tr>\n",
       "      <td>1324</td>\n",
       "      <td>A6T2W3.pdf</td>\n",
       "      <td>F:/Environmental Baseline Data/Version 3/Data/...</td>\n",
       "      <td>1</td>\n",
       "    </tr>\n",
       "    <tr>\n",
       "      <td>1325</td>\n",
       "      <td>A6T2W4.pdf</td>\n",
       "      <td>F:/Environmental Baseline Data/Version 3/Data/...</td>\n",
       "      <td>1</td>\n",
       "    </tr>\n",
       "    <tr>\n",
       "      <td>1326</td>\n",
       "      <td>A6T2W5.pdf</td>\n",
       "      <td>F:/Environmental Baseline Data/Version 3/Data/...</td>\n",
       "      <td>1</td>\n",
       "    </tr>\n",
       "    <tr>\n",
       "      <td>1327</td>\n",
       "      <td>A6T2W6.pdf</td>\n",
       "      <td>F:/Environmental Baseline Data/Version 3/Data/...</td>\n",
       "      <td>1</td>\n",
       "    </tr>\n",
       "  </tbody>\n",
       "</table>\n",
       "<p>1328 rows × 3 columns</p>\n",
       "</div>"
      ],
      "text/plain": [
       "      file_names                                          pdf_paths  \\\n",
       "0     A0H8C0.pdf  F:/Environmental Baseline Data/Version 3/Data/...   \n",
       "1     A0H8C1.pdf  F:/Environmental Baseline Data/Version 3/Data/...   \n",
       "2     A0H8C2.pdf  F:/Environmental Baseline Data/Version 3/Data/...   \n",
       "3     A0H8C3.pdf  F:/Environmental Baseline Data/Version 3/Data/...   \n",
       "4     A0U3G1.pdf  F:/Environmental Baseline Data/Version 3/Data/...   \n",
       "...          ...                                                ...   \n",
       "1323  A6T2W2.pdf  F:/Environmental Baseline Data/Version 3/Data/...   \n",
       "1324  A6T2W3.pdf  F:/Environmental Baseline Data/Version 3/Data/...   \n",
       "1325  A6T2W4.pdf  F:/Environmental Baseline Data/Version 3/Data/...   \n",
       "1326  A6T2W5.pdf  F:/Environmental Baseline Data/Version 3/Data/...   \n",
       "1327  A6T2W6.pdf  F:/Environmental Baseline Data/Version 3/Data/...   \n",
       "\n",
       "     outline_present  \n",
       "0                  1  \n",
       "1                  1  \n",
       "2                  0  \n",
       "3                  0  \n",
       "4                  0  \n",
       "...              ...  \n",
       "1323               1  \n",
       "1324               1  \n",
       "1325               1  \n",
       "1326               1  \n",
       "1327               1  \n",
       "\n",
       "[1328 rows x 3 columns]"
      ]
     },
     "execution_count": 204,
     "metadata": {},
     "output_type": "execute_result"
    }
   ],
   "source": [
    "df_outlines = pd.DataFrame({'file_names': file_names, 'pdf_paths' : pdf_paths, 'outline_present' : outline_present})\n",
    "df_outlines#.head(5)\n",
    "df_outlines.to_csv(\"F:/Environmental Baseline Data/Version 3/Indices/Outline_Present.csv\")"
   ]
  },
  {
   "cell_type": "markdown",
   "metadata": {},
   "source": [
    "#### Saving the file Index 4 - Chapters.csv"
   ]
  },
  {
   "cell_type": "code",
   "execution_count": 205,
   "metadata": {},
   "outputs": [
    {
     "data": {
      "text/plain": [
       "19439"
      ]
     },
     "execution_count": 205,
     "metadata": {},
     "output_type": "execute_result"
    },
    {
     "data": {
      "text/plain": [
       "19439"
      ]
     },
     "execution_count": 205,
     "metadata": {},
     "output_type": "execute_result"
    },
    {
     "data": {
      "text/plain": [
       "19439"
      ]
     },
     "execution_count": 205,
     "metadata": {},
     "output_type": "execute_result"
    },
    {
     "data": {
      "text/plain": [
       "19439"
      ]
     },
     "execution_count": 205,
     "metadata": {},
     "output_type": "execute_result"
    }
   ],
   "source": [
    "len(file_names_ch)\n",
    "len(chapters)\n",
    "len(pages)\n",
    "len(levels)"
   ]
  },
  {
   "cell_type": "code",
   "execution_count": 206,
   "metadata": {},
   "outputs": [
    {
     "data": {
      "text/html": [
       "<div>\n",
       "<style scoped>\n",
       "    .dataframe tbody tr th:only-of-type {\n",
       "        vertical-align: middle;\n",
       "    }\n",
       "\n",
       "    .dataframe tbody tr th {\n",
       "        vertical-align: top;\n",
       "    }\n",
       "\n",
       "    .dataframe thead th {\n",
       "        text-align: right;\n",
       "    }\n",
       "</style>\n",
       "<table border=\"1\" class=\"dataframe\">\n",
       "  <thead>\n",
       "    <tr style=\"text-align: right;\">\n",
       "      <th></th>\n",
       "      <th>file_names</th>\n",
       "      <th>chapters</th>\n",
       "      <th>pages</th>\n",
       "      <th>levels</th>\n",
       "    </tr>\n",
       "  </thead>\n",
       "  <tbody>\n",
       "    <tr>\n",
       "      <td>0</td>\n",
       "      <td>[A0H8C0.pdf]</td>\n",
       "      <td>Environmental Impact Assessment and Mitigation...</td>\n",
       "      <td>24</td>\n",
       "      <td>2</td>\n",
       "    </tr>\n",
       "    <tr>\n",
       "      <td>1</td>\n",
       "      <td>[A0H8C0.pdf]</td>\n",
       "      <td>Introduction</td>\n",
       "      <td>24</td>\n",
       "      <td>3</td>\n",
       "    </tr>\n",
       "    <tr>\n",
       "      <td>2</td>\n",
       "      <td>[A0H8C0.pdf]</td>\n",
       "      <td>Project Background</td>\n",
       "      <td>24</td>\n",
       "      <td>4</td>\n",
       "    </tr>\n",
       "    <tr>\n",
       "      <td>3</td>\n",
       "      <td>[A0H8C0.pdf]</td>\n",
       "      <td>Regulatory Setting</td>\n",
       "      <td>24</td>\n",
       "      <td>4</td>\n",
       "    </tr>\n",
       "    <tr>\n",
       "      <td>4</td>\n",
       "      <td>[A0H8C0.pdf]</td>\n",
       "      <td></td>\n",
       "      <td>-1</td>\n",
       "      <td>5</td>\n",
       "    </tr>\n",
       "  </tbody>\n",
       "</table>\n",
       "</div>"
      ],
      "text/plain": [
       "     file_names                                           chapters  pages  \\\n",
       "0  [A0H8C0.pdf]  Environmental Impact Assessment and Mitigation...     24   \n",
       "1  [A0H8C0.pdf]                                       Introduction     24   \n",
       "2  [A0H8C0.pdf]                                 Project Background     24   \n",
       "3  [A0H8C0.pdf]                                 Regulatory Setting     24   \n",
       "4  [A0H8C0.pdf]                                                        -1   \n",
       "\n",
       "   levels  \n",
       "0       2  \n",
       "1       3  \n",
       "2       4  \n",
       "3       4  \n",
       "4       5  "
      ]
     },
     "execution_count": 206,
     "metadata": {},
     "output_type": "execute_result"
    }
   ],
   "source": [
    "df_chapters = pd.DataFrame({'file_names': file_names_ch, 'chapters': chapters, 'pages' : pages, 'levels' : levels})\n",
    "df_chapters.head(5)\n",
    "df_chapters.to_csv(\"F:/Environmental Baseline Data/Version 3/Indices/Index 4 - Chapters.csv\")"
   ]
  },
  {
   "cell_type": "code",
   "execution_count": null,
   "metadata": {},
   "outputs": [],
   "source": []
  },
  {
   "cell_type": "markdown",
   "metadata": {},
   "source": [
    "## Is Table of contents Present?"
   ]
  },
  {
   "cell_type": "code",
   "execution_count": null,
   "metadata": {},
   "outputs": [],
   "source": []
  },
  {
   "cell_type": "code",
   "execution_count": null,
   "metadata": {},
   "outputs": [],
   "source": []
  },
  {
   "cell_type": "code",
   "execution_count": null,
   "metadata": {},
   "outputs": [],
   "source": []
  },
  {
   "cell_type": "code",
   "execution_count": null,
   "metadata": {},
   "outputs": [],
   "source": []
  },
  {
   "cell_type": "code",
   "execution_count": null,
   "metadata": {},
   "outputs": [],
   "source": []
  },
  {
   "cell_type": "code",
   "execution_count": null,
   "metadata": {},
   "outputs": [],
   "source": []
  }
 ],
 "metadata": {
  "kernelspec": {
   "display_name": "Python 3",
   "language": "python",
   "name": "python3"
  },
  "language_info": {
   "codemirror_mode": {
    "name": "ipython",
    "version": 3
   },
   "file_extension": ".py",
   "mimetype": "text/x-python",
   "name": "python",
   "nbconvert_exporter": "python",
   "pygments_lexer": "ipython3",
   "version": "3.7.4"
  }
 },
 "nbformat": 4,
 "nbformat_minor": 2
}
