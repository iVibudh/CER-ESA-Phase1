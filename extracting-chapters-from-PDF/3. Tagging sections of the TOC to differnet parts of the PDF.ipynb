{
 "cells": [
  {
   "cell_type": "code",
   "execution_count": 109,
   "metadata": {},
   "outputs": [],
   "source": [
    "import json\n",
    "import pandas as pd\n",
    "import numpy as np\n",
    "\n",
    "import PyPDF2\n",
    "import re\n",
    "\n",
    "from IPython.core.interactiveshell import InteractiveShell\n",
    "InteractiveShell.ast_node_interactivity = \"all\""
   ]
  },
  {
   "cell_type": "code",
   "execution_count": 110,
   "metadata": {},
   "outputs": [],
   "source": [
    "path_Text = \"F:/Environmental Baseline Data/Version 2/Data/HTML Images and Tables/A0H8C0 %2D 13.0 EIA %2D Section 13.1 to 13.6/table-of-contents.txt\"\n",
    "path_pdf = \"F:/Environmental Baseline Data/Version 2/Data/PDFs/A0H8C0 %2D 13.0 EIA %2D Section 13.1 to 13.6 .pdf\""
   ]
  },
  {
   "cell_type": "markdown",
   "metadata": {},
   "source": [
    "# Extract Chapter Headings from the TOC text file"
   ]
  },
  {
   "cell_type": "markdown",
   "metadata": {},
   "source": [
    "### Reading the JSON File as text and then extracting teh main chapter names"
   ]
  },
  {
   "cell_type": "markdown",
   "metadata": {},
   "source": [
    "Ref -> https://stackabuse.com/reading-and-writing-json-to-a-file-in-python/"
   ]
  },
  {
   "cell_type": "code",
   "execution_count": 113,
   "metadata": {},
   "outputs": [],
   "source": [
    "def head_clean(head):\n",
    "    index = 0\n",
    "    for i in range(len(head)):\n",
    "        if (head[i] == '.') and (head[i+1] == '.') and (head[i+2] =='.'):\n",
    "            index = i\n",
    "            break\n",
    "        \n",
    "    head_clean = head[:i]\n",
    "    return head_clean"
   ]
  },
  {
   "cell_type": "code",
   "execution_count": 116,
   "metadata": {},
   "outputs": [
    {
     "data": {
      "text/plain": [
       "['0 Before First Chapter',\n",
       " '13  Environmental Impact Assessment and Mitigation Plan',\n",
       " '13.1 Introduction',\n",
       " '13.2 Project Description',\n",
       " '13.3 Assessment Methods',\n",
       " '13.4 Air',\n",
       " '13.5 Terrain and Soils',\n",
       " '13.6 Vegetation',\n",
       " '13.7  Wildlife and Wildlife Habitat',\n",
       " '13.8  Fisheries and Aquatic Resources',\n",
       " '13.9  Land and Resource Use',\n",
       " '13.10  Traditional Land Use Study',\n",
       " '13.11 Heritage/Historical Resources',\n",
       " '13.12  Assessment of Upset Events',\n",
       " '13.13 References',\n",
       " '99 Appendix']"
      ]
     },
     "execution_count": 116,
     "metadata": {},
     "output_type": "execute_result"
    }
   ],
   "source": [
    "with open(path_Text) as json_file:\n",
    "    data = json.load(json_file)\n",
    "    raw_TOC_text = data['raw_text'] #currently the array has a lot of strings which are not main headers \n",
    "        \n",
    "    chapter_keys = [\"0 Before First Chapter\"] \n",
    "    for head in raw_TOC_text:\n",
    "        head = head.strip()\n",
    "        if head[0].isdigit(): # assuming all the headings in the TOC are numbered\n",
    "            head = head_clean(head) # removing soo many filler '.' in the string\n",
    "            \n",
    "            ##########################################\n",
    "            # Here, we night need to set a threshold (On the number of dots) value depending on the PDF and its TOC \n",
    "            ##########################################\n",
    "            \n",
    "            threshold = 2\n",
    "            if head.count('.') < threshold:\n",
    "                head = head.strip()\n",
    "                chapter_keys.append(head)\n",
    "                \n",
    "            # Here we check for Appendix \n",
    "        if \"Appendix\" in head:\n",
    "            chapter_keys.append(\"99 Appendix\")\n",
    "            break\n",
    "                \n",
    "chapter_keys"
   ]
  },
  {
   "cell_type": "code",
   "execution_count": 117,
   "metadata": {},
   "outputs": [],
   "source": [
    "PDF_locations = []\n",
    "PDF_names = []\n",
    "Chapter_numbers = []\n",
    "Chapter_texts = []\n",
    "\n",
    "for chapter_key in chapter_keys:\n",
    "    PDF_locations.append(path_pdf)\n",
    "    PDF_names.append(path_pdf.split('/')[-1])\n",
    "    index = chapter_key.index(' ')\n",
    "    Chapter_numbers.append(chapter_key[:index])\n",
    "    Chapter_texts.append(chapter_key[index+1:])"
   ]
  },
  {
   "cell_type": "code",
   "execution_count": 118,
   "metadata": {},
   "outputs": [
    {
     "data": {
      "text/html": [
       "<div>\n",
       "<style scoped>\n",
       "    .dataframe tbody tr th:only-of-type {\n",
       "        vertical-align: middle;\n",
       "    }\n",
       "\n",
       "    .dataframe tbody tr th {\n",
       "        vertical-align: top;\n",
       "    }\n",
       "\n",
       "    .dataframe thead th {\n",
       "        text-align: right;\n",
       "    }\n",
       "</style>\n",
       "<table border=\"1\" class=\"dataframe\">\n",
       "  <thead>\n",
       "    <tr style=\"text-align: right;\">\n",
       "      <th></th>\n",
       "      <th>PDF_names</th>\n",
       "      <th>Chapter_numbers</th>\n",
       "      <th>Chapter_texts</th>\n",
       "      <th>Chapter_keys</th>\n",
       "      <th>PDF_locations</th>\n",
       "    </tr>\n",
       "  </thead>\n",
       "  <tbody>\n",
       "    <tr>\n",
       "      <th>0</th>\n",
       "      <td>A0H8C0 %2D 13.0 EIA %2D Section 13.1 to 13.6 .pdf</td>\n",
       "      <td>0</td>\n",
       "      <td>Before First Chapter</td>\n",
       "      <td>0 Before First Chapter</td>\n",
       "      <td>F:/Environmental Baseline Data/Version 2/Data/...</td>\n",
       "    </tr>\n",
       "    <tr>\n",
       "      <th>1</th>\n",
       "      <td>A0H8C0 %2D 13.0 EIA %2D Section 13.1 to 13.6 .pdf</td>\n",
       "      <td>13</td>\n",
       "      <td>Environmental Impact Assessment and Mitigatio...</td>\n",
       "      <td>13  Environmental Impact Assessment and Mitiga...</td>\n",
       "      <td>F:/Environmental Baseline Data/Version 2/Data/...</td>\n",
       "    </tr>\n",
       "    <tr>\n",
       "      <th>2</th>\n",
       "      <td>A0H8C0 %2D 13.0 EIA %2D Section 13.1 to 13.6 .pdf</td>\n",
       "      <td>13.1</td>\n",
       "      <td>Introduction</td>\n",
       "      <td>13.1 Introduction</td>\n",
       "      <td>F:/Environmental Baseline Data/Version 2/Data/...</td>\n",
       "    </tr>\n",
       "    <tr>\n",
       "      <th>3</th>\n",
       "      <td>A0H8C0 %2D 13.0 EIA %2D Section 13.1 to 13.6 .pdf</td>\n",
       "      <td>13.2</td>\n",
       "      <td>Project Description</td>\n",
       "      <td>13.2 Project Description</td>\n",
       "      <td>F:/Environmental Baseline Data/Version 2/Data/...</td>\n",
       "    </tr>\n",
       "    <tr>\n",
       "      <th>4</th>\n",
       "      <td>A0H8C0 %2D 13.0 EIA %2D Section 13.1 to 13.6 .pdf</td>\n",
       "      <td>13.3</td>\n",
       "      <td>Assessment Methods</td>\n",
       "      <td>13.3 Assessment Methods</td>\n",
       "      <td>F:/Environmental Baseline Data/Version 2/Data/...</td>\n",
       "    </tr>\n",
       "    <tr>\n",
       "      <th>5</th>\n",
       "      <td>A0H8C0 %2D 13.0 EIA %2D Section 13.1 to 13.6 .pdf</td>\n",
       "      <td>13.4</td>\n",
       "      <td>Air</td>\n",
       "      <td>13.4 Air</td>\n",
       "      <td>F:/Environmental Baseline Data/Version 2/Data/...</td>\n",
       "    </tr>\n",
       "    <tr>\n",
       "      <th>6</th>\n",
       "      <td>A0H8C0 %2D 13.0 EIA %2D Section 13.1 to 13.6 .pdf</td>\n",
       "      <td>13.5</td>\n",
       "      <td>Terrain and Soils</td>\n",
       "      <td>13.5 Terrain and Soils</td>\n",
       "      <td>F:/Environmental Baseline Data/Version 2/Data/...</td>\n",
       "    </tr>\n",
       "    <tr>\n",
       "      <th>7</th>\n",
       "      <td>A0H8C0 %2D 13.0 EIA %2D Section 13.1 to 13.6 .pdf</td>\n",
       "      <td>13.6</td>\n",
       "      <td>Vegetation</td>\n",
       "      <td>13.6 Vegetation</td>\n",
       "      <td>F:/Environmental Baseline Data/Version 2/Data/...</td>\n",
       "    </tr>\n",
       "    <tr>\n",
       "      <th>8</th>\n",
       "      <td>A0H8C0 %2D 13.0 EIA %2D Section 13.1 to 13.6 .pdf</td>\n",
       "      <td>13.7</td>\n",
       "      <td>Wildlife and Wildlife Habitat</td>\n",
       "      <td>13.7  Wildlife and Wildlife Habitat</td>\n",
       "      <td>F:/Environmental Baseline Data/Version 2/Data/...</td>\n",
       "    </tr>\n",
       "    <tr>\n",
       "      <th>9</th>\n",
       "      <td>A0H8C0 %2D 13.0 EIA %2D Section 13.1 to 13.6 .pdf</td>\n",
       "      <td>13.8</td>\n",
       "      <td>Fisheries and Aquatic Resources</td>\n",
       "      <td>13.8  Fisheries and Aquatic Resources</td>\n",
       "      <td>F:/Environmental Baseline Data/Version 2/Data/...</td>\n",
       "    </tr>\n",
       "    <tr>\n",
       "      <th>10</th>\n",
       "      <td>A0H8C0 %2D 13.0 EIA %2D Section 13.1 to 13.6 .pdf</td>\n",
       "      <td>13.9</td>\n",
       "      <td>Land and Resource Use</td>\n",
       "      <td>13.9  Land and Resource Use</td>\n",
       "      <td>F:/Environmental Baseline Data/Version 2/Data/...</td>\n",
       "    </tr>\n",
       "    <tr>\n",
       "      <th>11</th>\n",
       "      <td>A0H8C0 %2D 13.0 EIA %2D Section 13.1 to 13.6 .pdf</td>\n",
       "      <td>13.10</td>\n",
       "      <td>Traditional Land Use Study</td>\n",
       "      <td>13.10  Traditional Land Use Study</td>\n",
       "      <td>F:/Environmental Baseline Data/Version 2/Data/...</td>\n",
       "    </tr>\n",
       "    <tr>\n",
       "      <th>12</th>\n",
       "      <td>A0H8C0 %2D 13.0 EIA %2D Section 13.1 to 13.6 .pdf</td>\n",
       "      <td>13.11</td>\n",
       "      <td>Heritage/Historical Resources</td>\n",
       "      <td>13.11 Heritage/Historical Resources</td>\n",
       "      <td>F:/Environmental Baseline Data/Version 2/Data/...</td>\n",
       "    </tr>\n",
       "    <tr>\n",
       "      <th>13</th>\n",
       "      <td>A0H8C0 %2D 13.0 EIA %2D Section 13.1 to 13.6 .pdf</td>\n",
       "      <td>13.12</td>\n",
       "      <td>Assessment of Upset Events</td>\n",
       "      <td>13.12  Assessment of Upset Events</td>\n",
       "      <td>F:/Environmental Baseline Data/Version 2/Data/...</td>\n",
       "    </tr>\n",
       "    <tr>\n",
       "      <th>14</th>\n",
       "      <td>A0H8C0 %2D 13.0 EIA %2D Section 13.1 to 13.6 .pdf</td>\n",
       "      <td>13.13</td>\n",
       "      <td>References</td>\n",
       "      <td>13.13 References</td>\n",
       "      <td>F:/Environmental Baseline Data/Version 2/Data/...</td>\n",
       "    </tr>\n",
       "    <tr>\n",
       "      <th>15</th>\n",
       "      <td>A0H8C0 %2D 13.0 EIA %2D Section 13.1 to 13.6 .pdf</td>\n",
       "      <td>99</td>\n",
       "      <td>Appendix</td>\n",
       "      <td>99 Appendix</td>\n",
       "      <td>F:/Environmental Baseline Data/Version 2/Data/...</td>\n",
       "    </tr>\n",
       "  </tbody>\n",
       "</table>\n",
       "</div>"
      ],
      "text/plain": [
       "                                            PDF_names Chapter_numbers  \\\n",
       "0   A0H8C0 %2D 13.0 EIA %2D Section 13.1 to 13.6 .pdf               0   \n",
       "1   A0H8C0 %2D 13.0 EIA %2D Section 13.1 to 13.6 .pdf              13   \n",
       "2   A0H8C0 %2D 13.0 EIA %2D Section 13.1 to 13.6 .pdf            13.1   \n",
       "3   A0H8C0 %2D 13.0 EIA %2D Section 13.1 to 13.6 .pdf            13.2   \n",
       "4   A0H8C0 %2D 13.0 EIA %2D Section 13.1 to 13.6 .pdf            13.3   \n",
       "5   A0H8C0 %2D 13.0 EIA %2D Section 13.1 to 13.6 .pdf            13.4   \n",
       "6   A0H8C0 %2D 13.0 EIA %2D Section 13.1 to 13.6 .pdf            13.5   \n",
       "7   A0H8C0 %2D 13.0 EIA %2D Section 13.1 to 13.6 .pdf            13.6   \n",
       "8   A0H8C0 %2D 13.0 EIA %2D Section 13.1 to 13.6 .pdf            13.7   \n",
       "9   A0H8C0 %2D 13.0 EIA %2D Section 13.1 to 13.6 .pdf            13.8   \n",
       "10  A0H8C0 %2D 13.0 EIA %2D Section 13.1 to 13.6 .pdf            13.9   \n",
       "11  A0H8C0 %2D 13.0 EIA %2D Section 13.1 to 13.6 .pdf           13.10   \n",
       "12  A0H8C0 %2D 13.0 EIA %2D Section 13.1 to 13.6 .pdf           13.11   \n",
       "13  A0H8C0 %2D 13.0 EIA %2D Section 13.1 to 13.6 .pdf           13.12   \n",
       "14  A0H8C0 %2D 13.0 EIA %2D Section 13.1 to 13.6 .pdf           13.13   \n",
       "15  A0H8C0 %2D 13.0 EIA %2D Section 13.1 to 13.6 .pdf              99   \n",
       "\n",
       "                                        Chapter_texts  \\\n",
       "0                                Before First Chapter   \n",
       "1    Environmental Impact Assessment and Mitigatio...   \n",
       "2                                        Introduction   \n",
       "3                                 Project Description   \n",
       "4                                  Assessment Methods   \n",
       "5                                                 Air   \n",
       "6                                   Terrain and Soils   \n",
       "7                                          Vegetation   \n",
       "8                       Wildlife and Wildlife Habitat   \n",
       "9                     Fisheries and Aquatic Resources   \n",
       "10                              Land and Resource Use   \n",
       "11                         Traditional Land Use Study   \n",
       "12                      Heritage/Historical Resources   \n",
       "13                         Assessment of Upset Events   \n",
       "14                                         References   \n",
       "15                                           Appendix   \n",
       "\n",
       "                                         Chapter_keys  \\\n",
       "0                              0 Before First Chapter   \n",
       "1   13  Environmental Impact Assessment and Mitiga...   \n",
       "2                                   13.1 Introduction   \n",
       "3                            13.2 Project Description   \n",
       "4                             13.3 Assessment Methods   \n",
       "5                                            13.4 Air   \n",
       "6                              13.5 Terrain and Soils   \n",
       "7                                     13.6 Vegetation   \n",
       "8                 13.7  Wildlife and Wildlife Habitat   \n",
       "9               13.8  Fisheries and Aquatic Resources   \n",
       "10                        13.9  Land and Resource Use   \n",
       "11                  13.10  Traditional Land Use Study   \n",
       "12                13.11 Heritage/Historical Resources   \n",
       "13                  13.12  Assessment of Upset Events   \n",
       "14                                   13.13 References   \n",
       "15                                        99 Appendix   \n",
       "\n",
       "                                        PDF_locations  \n",
       "0   F:/Environmental Baseline Data/Version 2/Data/...  \n",
       "1   F:/Environmental Baseline Data/Version 2/Data/...  \n",
       "2   F:/Environmental Baseline Data/Version 2/Data/...  \n",
       "3   F:/Environmental Baseline Data/Version 2/Data/...  \n",
       "4   F:/Environmental Baseline Data/Version 2/Data/...  \n",
       "5   F:/Environmental Baseline Data/Version 2/Data/...  \n",
       "6   F:/Environmental Baseline Data/Version 2/Data/...  \n",
       "7   F:/Environmental Baseline Data/Version 2/Data/...  \n",
       "8   F:/Environmental Baseline Data/Version 2/Data/...  \n",
       "9   F:/Environmental Baseline Data/Version 2/Data/...  \n",
       "10  F:/Environmental Baseline Data/Version 2/Data/...  \n",
       "11  F:/Environmental Baseline Data/Version 2/Data/...  \n",
       "12  F:/Environmental Baseline Data/Version 2/Data/...  \n",
       "13  F:/Environmental Baseline Data/Version 2/Data/...  \n",
       "14  F:/Environmental Baseline Data/Version 2/Data/...  \n",
       "15  F:/Environmental Baseline Data/Version 2/Data/...  "
      ]
     },
     "execution_count": 118,
     "metadata": {},
     "output_type": "execute_result"
    }
   ],
   "source": [
    "ChaptersDF = pd.DataFrame({'PDF_names' : PDF_names, \n",
    "                           'Chapter_numbers' : Chapter_numbers, \n",
    "                           'Chapter_texts' : Chapter_texts, \n",
    "                           'Chapter_keys' : chapter_keys, \n",
    "                           'PDF_locations' : PDF_locations}, dtype = str)\n",
    "ChaptersDF"
   ]
  },
  {
   "cell_type": "markdown",
   "metadata": {},
   "source": [
    "# Reading PDF File to find the Chapter Headers"
   ]
  },
  {
   "cell_type": "markdown",
   "metadata": {},
   "source": [
    "Ref -> https://stackoverflow.com/questions/17098675/searching-text-in-a-pdf-using-python"
   ]
  },
  {
   "cell_type": "code",
   "execution_count": 119,
   "metadata": {},
   "outputs": [
    {
     "ename": "IndentationError",
     "evalue": "expected an indented block (<ipython-input-119-ce2f9f3c5280>, line 21)",
     "output_type": "error",
     "traceback": [
      "\u001b[1;36m  File \u001b[1;32m\"<ipython-input-119-ce2f9f3c5280>\"\u001b[1;36m, line \u001b[1;32m21\u001b[0m\n\u001b[1;33m    String = \"Social\"\u001b[0m\n\u001b[1;37m         ^\u001b[0m\n\u001b[1;31mIndentationError\u001b[0m\u001b[1;31m:\u001b[0m expected an indented block\n"
     ]
    }
   ],
   "source": [
    "pdf_paths = [path_pdf]\n",
    "for pdf_path in pdf_paths:\n",
    "    # open the pdf file\n",
    "    object = PyPDF2.PdfFileReader(path_pdf)\n",
    "    \n",
    "    # get number of pages\n",
    "    NumPages = object.getNumPages()\n",
    "    \n",
    "    ############################################\n",
    "    # Here we should call the functions to extract the Chapter Names from the PDFs\n",
    "    # input: Path of the text file \n",
    "    # output: ChaptersDF, chapter_keys\n",
    "    ############################################\n",
    "    \n",
    "        \n",
    "    # chapter_key_index is set as 1 because we dont want to search for\"0 Before First Chapter\"\n",
    "    # the array chapter_key_pages has first element 0 for the same reason\n",
    "    chapter_key_index = 1\n",
    "    chapter_key_pages = [0]\n",
    "    # extract text and do the search\n",
    "    for i in range(0, NumPages):\n",
    "        PageObj = object.getPage(i)\n",
    "        #print(\"this is page \" + str(i)) \n",
    "        Text = PageObj.extractText() \n",
    "        # print(Text)\n",
    "        ResSearch = re.search(String, Text)\n",
    "        print(ResSearch)\n",
    "    \n",
    "    \n"
   ]
  },
  {
   "cell_type": "code",
   "execution_count": null,
   "metadata": {},
   "outputs": [],
   "source": []
  },
  {
   "cell_type": "code",
   "execution_count": null,
   "metadata": {},
   "outputs": [],
   "source": []
  },
  {
   "cell_type": "code",
   "execution_count": null,
   "metadata": {},
   "outputs": [],
   "source": []
  },
  {
   "cell_type": "markdown",
   "metadata": {},
   "source": [
    "# Rough Work "
   ]
  },
  {
   "cell_type": "code",
   "execution_count": 53,
   "metadata": {},
   "outputs": [
    {
     "data": {
      "text/plain": [
       "77"
      ]
     },
     "execution_count": 53,
     "metadata": {},
     "output_type": "execute_result"
    },
    {
     "data": {
      "text/plain": [
       "96"
      ]
     },
     "execution_count": 53,
     "metadata": {},
     "output_type": "execute_result"
    },
    {
     "data": {
      "text/plain": [
       "133"
      ]
     },
     "execution_count": 53,
     "metadata": {},
     "output_type": "execute_result"
    }
   ],
   "source": [
    "len(\"Figure 13.4-4  Mean Monthly Precipitation and Number of Days with Measurable\\n\")\n",
    "len(\"Figure 13.7-2  Woodland Caribou Habitat Availability during the Early Winter Season..... 13-113\\n\")\n",
    "len(\"Figure 13D.A-8  Typical Existing Bridge ...........................................................................................9\\n\",)"
   ]
  },
  {
   "cell_type": "code",
   "execution_count": 96,
   "metadata": {},
   "outputs": [
    {
     "data": {
      "text/plain": [
       "2"
      ]
     },
     "execution_count": 96,
     "metadata": {},
     "output_type": "execute_result"
    }
   ],
   "source": [
    "chapter = chapter_keys[2]\n",
    "index = chapter.index(\".\")\n",
    "index"
   ]
  },
  {
   "cell_type": "code",
   "execution_count": 67,
   "metadata": {},
   "outputs": [
    {
     "data": {
      "text/html": [
       "<div>\n",
       "<style scoped>\n",
       "    .dataframe tbody tr th:only-of-type {\n",
       "        vertical-align: middle;\n",
       "    }\n",
       "\n",
       "    .dataframe tbody tr th {\n",
       "        vertical-align: top;\n",
       "    }\n",
       "\n",
       "    .dataframe thead th {\n",
       "        text-align: right;\n",
       "    }\n",
       "</style>\n",
       "<table border=\"1\" class=\"dataframe\">\n",
       "  <thead>\n",
       "    <tr style=\"text-align: right;\">\n",
       "      <th></th>\n",
       "      <th>col1</th>\n",
       "      <th>col2</th>\n",
       "    </tr>\n",
       "  </thead>\n",
       "  <tbody>\n",
       "    <tr>\n",
       "      <th>0</th>\n",
       "      <td>1</td>\n",
       "      <td>3</td>\n",
       "    </tr>\n",
       "    <tr>\n",
       "      <th>1</th>\n",
       "      <td>2</td>\n",
       "      <td>4</td>\n",
       "    </tr>\n",
       "  </tbody>\n",
       "</table>\n",
       "</div>"
      ],
      "text/plain": [
       "   col1  col2\n",
       "0     1     3\n",
       "1     2     4"
      ]
     },
     "execution_count": 67,
     "metadata": {},
     "output_type": "execute_result"
    }
   ],
   "source": [
    "d = {'col1': [1, 2], 'col2': [3, 4]}\n",
    "df = pd.DataFrame(data=d)\n",
    "df"
   ]
  },
  {
   "cell_type": "code",
   "execution_count": 69,
   "metadata": {},
   "outputs": [
    {
     "data": {
      "text/html": [
       "<div>\n",
       "<style scoped>\n",
       "    .dataframe tbody tr th:only-of-type {\n",
       "        vertical-align: middle;\n",
       "    }\n",
       "\n",
       "    .dataframe tbody tr th {\n",
       "        vertical-align: top;\n",
       "    }\n",
       "\n",
       "    .dataframe thead th {\n",
       "        text-align: right;\n",
       "    }\n",
       "</style>\n",
       "<table border=\"1\" class=\"dataframe\">\n",
       "  <thead>\n",
       "    <tr style=\"text-align: right;\">\n",
       "      <th></th>\n",
       "      <th>a</th>\n",
       "      <th>b</th>\n",
       "      <th>c</th>\n",
       "    </tr>\n",
       "  </thead>\n",
       "  <tbody>\n",
       "    <tr>\n",
       "      <th>0</th>\n",
       "      <td>1</td>\n",
       "      <td>2</td>\n",
       "      <td>3</td>\n",
       "    </tr>\n",
       "    <tr>\n",
       "      <th>1</th>\n",
       "      <td>4</td>\n",
       "      <td>5</td>\n",
       "      <td>6</td>\n",
       "    </tr>\n",
       "    <tr>\n",
       "      <th>2</th>\n",
       "      <td>7</td>\n",
       "      <td>8</td>\n",
       "      <td>9</td>\n",
       "    </tr>\n",
       "  </tbody>\n",
       "</table>\n",
       "</div>"
      ],
      "text/plain": [
       "   a  b  c\n",
       "0  1  2  3\n",
       "1  4  5  6\n",
       "2  7  8  9"
      ]
     },
     "execution_count": 69,
     "metadata": {},
     "output_type": "execute_result"
    }
   ],
   "source": [
    "df2 = pd.DataFrame(np.array([[1, 2, 3], [4, 5, 6], [7, 8, 9]]),\n",
    "                    columns=['a', 'b', 'c'])\n",
    "df2"
   ]
  },
  {
   "cell_type": "code",
   "execution_count": null,
   "metadata": {},
   "outputs": [],
   "source": []
  }
 ],
 "metadata": {
  "kernelspec": {
   "display_name": "Python 3",
   "language": "python",
   "name": "python3"
  },
  "language_info": {
   "codemirror_mode": {
    "name": "ipython",
    "version": 3
   },
   "file_extension": ".py",
   "mimetype": "text/x-python",
   "name": "python",
   "nbconvert_exporter": "python",
   "pygments_lexer": "ipython3",
   "version": "3.7.3"
  }
 },
 "nbformat": 4,
 "nbformat_minor": 2
}
