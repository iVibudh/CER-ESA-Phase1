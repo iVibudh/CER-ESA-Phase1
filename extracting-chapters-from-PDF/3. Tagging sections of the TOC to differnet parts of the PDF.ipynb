{
 "cells": [
  {
   "cell_type": "code",
   "execution_count": 8,
   "metadata": {},
   "outputs": [],
   "source": [
    "import json\n",
    "import pandas as pd\n",
    "import numpy as np\n",
    "\n",
    "import PyPDF2\n",
    "import re\n",
    "\n",
    "from IPython.core.interactiveshell import InteractiveShell\n",
    "InteractiveShell.ast_node_interactivity = \"all\""
   ]
  },
  {
   "cell_type": "code",
   "execution_count": 22,
   "metadata": {},
   "outputs": [],
   "source": [
    "path_pdf2 = \"F:/Environmental Baseline Data/Version 2/Data/PDFs/A63951%2D1 V3 %2D ESA_Sec_1%2D11 %2D A4D9H6.pdf\"\n",
    "#Notorious PDF - Chapter Keys = 3XGHIHIH"
   ]
  },
  {
   "cell_type": "code",
   "execution_count": 3,
   "metadata": {},
   "outputs": [],
   "source": [
    "path_pdf3 = \"F:/Environmental Baseline Data/Version 2/Data/PDFs/A63951%2D3 V4 %2D ESA_Appendix B1_CS 134 Bowmanville %2D A4D9H8.pdf\"\n",
    "# works\n",
    "\n",
    "path_pdf4 = \"F:/Environmental Baseline Data/Version 2/Data/PDFs/A72401%2D10 V3 02 ESA Section 1 to Section 5%2DPart 1 %2D A4T0Z0.pdf\"\n",
    "#was not able to use the function to read the contents of the second page of the PDF \n",
    "\n",
    "path_pdf5 = \"F:/Environmental Baseline Data/Version 2/Data/PDFs/A77032%2D2 V21_New_Pipeline_1of30 %2D A5A8D4.pdf\"\n",
    "# File missing in the folder \n",
    "\n",
    "path_pdf6 = \"F:/Environmental Baseline Data/Version 2/Data/PDFs/A77035%2D2 V22_Atmospheric_Environment_AB %2D A5A8H9.pdf\"\n",
    "#Works\n",
    "\n",
    "path_pdf7 = \"F:/Environmental Baseline Data/Version 2/Data/PDFs/A77038%2D9 V22_Quebec_Poisson_et_habitat_du_poisson_1de22 %2D A5A8X1.pdf\"\n",
    "# File missing in the folder \n",
    "\n",
    "path_pdf8 = \"F:/Environmental Baseline Data/Version 2/Data/PDFs/A63951%2D3 V4 %2D ESA_Appendix B1_CS 134 Bowmanville %2D A4D9H8.pdf\"\n",
    "# File missing in the folder \n",
    "\n",
    "path_pdf9 = \"F:/Environmental Baseline Data/Version 2/Data/PDFs/A77017%2D2 V16_PartA_AB_Contents %2D A5A7L4.pdf\"\n",
    "\n",
    "\n",
    "path_pdf10= \"F:/Environmental Baseline Data/Version 2/Data/PDFs/A63951%2D34 V4 %2D ESA_Appendix J%2D4 %2D A4D9L2.pdf\""
   ]
  },
  {
   "cell_type": "code",
   "execution_count": 5,
   "metadata": {},
   "outputs": [
    {
     "name": "stdout",
     "output_type": "stream",
     "text": [
      "The path of the PDF is: F:/Environmental Baseline Data/Version 2/Data/PDFs/A63951%2D34 V4 %2D ESA_Appendix J%2D4 %2D A4D9L2.pdf\n",
      "The path of the TOC is: F:/Environmental Baseline Data/Version 2/Data/HTML Images and Tables/A63951%2D34 V4 %2D ESA_Appendix J%2D4 %2D A4D9L2/table-of-contents.txt\n"
     ]
    }
   ],
   "source": [
    "#path_Text = \"F:/Environmental Baseline Data/Version 2/Data/HTML Images and Tables/A0H8C0 %2D 13.0 EIA %2D Section 13.1 to 13.6/table-of-contents.txt\"\n",
    "path_pdf1 = \"F:/Environmental Baseline Data/Version 2/Data/PDFs/A77017%2D2 V16_PartA_AB_Contents %2D A5A7L4.pdf\"\n",
    "# Works\n",
    "\n",
    "path_pdfs = [path_pdf10]\n",
    "path_Texts = []\n",
    "\n",
    "for path_pdf in path_pdfs:\n",
    "    path_Text = path_pdf.replace(\" .pdf\", \"\")\n",
    "    if \".pdf\" in path_Text:\n",
    "        path_Text = path_pdf.replace(\".pdf\", \"\")\n",
    "    #print(path_Text)\n",
    "    path_Text = path_Text.replace(\"/PDFs\", \"/HTML Images and Tables\")\n",
    "    path_Text = path_Text + \"/table-of-contents.txt\"\n",
    "    path_Texts.append(path_Text)\n",
    "    #print(path_Text)\n",
    "    \n",
    "    \n",
    "for i in range(len(path_pdfs)):\n",
    "    print(\"The path of the PDF is: {0}\".format(path_pdfs[i]))\n",
    "    print(\"The path of the TOC is: {0}\".format(path_Texts[i]))\n",
    "\n",
    "\n",
    "    \n",
    "#Though the arrays would be used when we are dealing with bulk PDFs \n",
    "# in this code, for now, I wil be working the string values instead of the arrays\n",
    "    \n"
   ]
  },
  {
   "cell_type": "markdown",
   "metadata": {},
   "source": [
    "# Extract Chapter Headings from the TOC text file"
   ]
  },
  {
   "cell_type": "markdown",
   "metadata": {},
   "source": [
    "### Reading the JSON File as text and then extracting teh main chapter names"
   ]
  },
  {
   "cell_type": "markdown",
   "metadata": {},
   "source": [
    "Ref -> https://stackabuse.com/reading-and-writing-json-to-a-file-in-python/"
   ]
  },
  {
   "cell_type": "code",
   "execution_count": 10,
   "metadata": {},
   "outputs": [],
   "source": [
    "def head_clean(head):\n",
    "    index = 0\n",
    "    for i in range(len(head)):\n",
    "        if (head[i] == '.') and (head[i+1] == '.') and (head[i+2] =='.'):\n",
    "            index = i\n",
    "            break\n",
    "        \n",
    "    head_clean = head[:i]\n",
    "    return head_clean"
   ]
  },
  {
   "cell_type": "code",
   "execution_count": 13,
   "metadata": {},
   "outputs": [
    {
     "name": "stdout",
     "output_type": "stream",
     "text": [
      "No TOC Found\n"
     ]
    },
    {
     "data": {
      "text/plain": [
       "['0 Before First Chapter', '99 Appendix']"
      ]
     },
     "execution_count": 13,
     "metadata": {},
     "output_type": "execute_result"
    }
   ],
   "source": [
    "with open(path_Text) as json_file:\n",
    "    data = json.load(json_file)\n",
    "    raw_TOC_text = data['raw_text'] #currently the array has a lot of strings which are not main headers \n",
    "    if len(raw_TOC_text) < 1:\n",
    "        print(\"No TOC Found\")\n",
    "        \n",
    "    chapter_keys = [\"0 Before First Chapter\"] \n",
    "    Flag_Appendix_Found = 0\n",
    "    for head in raw_TOC_text:\n",
    "        head = head.strip()\n",
    "        head = re.sub(' +', ' ',head)\n",
    "        if head[0].isdigit() and len(head) > 5: # assuming all the headings in the TOC are numbered\n",
    "            head = head_clean(head) # removing soo many filler '.' in the string\n",
    "            \n",
    "            ##########################################\n",
    "            # Here, we night need to set a threshold (On the number of dots) value depending on the PDF and its TOC \n",
    "            ##########################################\n",
    "            \n",
    "            threshold = 2\n",
    "            if head.count('.') < threshold:\n",
    "                head = head.strip()\n",
    "                chapter_keys.append(head)\n",
    "                \n",
    "            # Here we check for Appendix \n",
    "        if \"Appendix\" in head or \"APPENDIX\" in head:\n",
    "            chapter_keys.append(\"99 Appendix\")\n",
    "            Flag_Appendix_Found = 1\n",
    "            break\n",
    "                \n",
    "    if Flag_Appendix_Found == 0:\n",
    "        chapter_keys.append(\"99 Appendix\")\n",
    "        \n",
    "\n",
    "chapter_keys"
   ]
  },
  {
   "cell_type": "code",
   "execution_count": 2,
   "metadata": {},
   "outputs": [
    {
     "ename": "NameError",
     "evalue": "name 'path_Text' is not defined",
     "output_type": "error",
     "traceback": [
      "\u001b[1;31m---------------------------------------------------------------------------\u001b[0m",
      "\u001b[1;31mNameError\u001b[0m                                 Traceback (most recent call last)",
      "\u001b[1;32m<ipython-input-2-302e6edc632e>\u001b[0m in \u001b[0;36m<module>\u001b[1;34m\u001b[0m\n\u001b[1;32m----> 1\u001b[1;33m \u001b[1;32mwith\u001b[0m \u001b[0mopen\u001b[0m\u001b[1;33m(\u001b[0m\u001b[0mpath_Text\u001b[0m\u001b[1;33m)\u001b[0m \u001b[1;32mas\u001b[0m \u001b[0mjson_file\u001b[0m\u001b[1;33m:\u001b[0m\u001b[1;33m\u001b[0m\u001b[1;33m\u001b[0m\u001b[0m\n\u001b[0m\u001b[0;32m      2\u001b[0m     \u001b[0mdata\u001b[0m \u001b[1;33m=\u001b[0m \u001b[0mjson\u001b[0m\u001b[1;33m.\u001b[0m\u001b[0mload\u001b[0m\u001b[1;33m(\u001b[0m\u001b[0mjson_file\u001b[0m\u001b[1;33m)\u001b[0m\u001b[1;33m\u001b[0m\u001b[1;33m\u001b[0m\u001b[0m\n",
      "\u001b[1;31mNameError\u001b[0m: name 'path_Text' is not defined"
     ]
    }
   ],
   "source": [
    "with open(path_Text) as json_file:\n",
    "    data = json.load(json_file)"
   ]
  },
  {
   "cell_type": "code",
   "execution_count": 393,
   "metadata": {},
   "outputs": [],
   "source": [
    "PDF_locations = []\n",
    "PDF_names = []\n",
    "Chapter_numbers = []\n",
    "Chapter_texts = []\n",
    "index = -1\n",
    "for chapter_key in chapter_keys:\n",
    "    PDF_locations.append(path_pdf)\n",
    "    PDF_names.append(path_pdf.split('/')[-1])\n",
    "    if ' ' in chapter_key:\n",
    "        index = chapter_key.index(' ')\n",
    "    Chapter_numbers.append(chapter_key[:index])\n",
    "    Chapter_texts.append(chapter_key[index+1:])"
   ]
  },
  {
   "cell_type": "code",
   "execution_count": 394,
   "metadata": {},
   "outputs": [
    {
     "data": {
      "text/html": [
       "<div>\n",
       "<style scoped>\n",
       "    .dataframe tbody tr th:only-of-type {\n",
       "        vertical-align: middle;\n",
       "    }\n",
       "\n",
       "    .dataframe tbody tr th {\n",
       "        vertical-align: top;\n",
       "    }\n",
       "\n",
       "    .dataframe thead th {\n",
       "        text-align: right;\n",
       "    }\n",
       "</style>\n",
       "<table border=\"1\" class=\"dataframe\">\n",
       "  <thead>\n",
       "    <tr style=\"text-align: right;\">\n",
       "      <th></th>\n",
       "      <th>PDF_names</th>\n",
       "      <th>Chapter_numbers</th>\n",
       "      <th>Chapter_texts</th>\n",
       "      <th>Chapter_keys</th>\n",
       "      <th>PDF_locations</th>\n",
       "    </tr>\n",
       "  </thead>\n",
       "  <tbody>\n",
       "    <tr>\n",
       "      <th>0</th>\n",
       "      <td>A0H8C0 %2D 13.0 EIA %2D Section 13.1 to 13.6 .pdf</td>\n",
       "      <td>0</td>\n",
       "      <td>Before First Chapter</td>\n",
       "      <td>0 Before First Chapter</td>\n",
       "      <td>F:/Environmental Baseline Data/Version 2/Data/...</td>\n",
       "    </tr>\n",
       "    <tr>\n",
       "      <th>1</th>\n",
       "      <td>A0H8C0 %2D 13.0 EIA %2D Section 13.1 to 13.6 .pdf</td>\n",
       "      <td>13</td>\n",
       "      <td>Environmental Impact Assessment and Mitigation...</td>\n",
       "      <td>13 Environmental Impact Assessment and Mitigat...</td>\n",
       "      <td>F:/Environmental Baseline Data/Version 2/Data/...</td>\n",
       "    </tr>\n",
       "    <tr>\n",
       "      <th>2</th>\n",
       "      <td>A0H8C0 %2D 13.0 EIA %2D Section 13.1 to 13.6 .pdf</td>\n",
       "      <td>13.1</td>\n",
       "      <td>Introduction</td>\n",
       "      <td>13.1 Introduction</td>\n",
       "      <td>F:/Environmental Baseline Data/Version 2/Data/...</td>\n",
       "    </tr>\n",
       "    <tr>\n",
       "      <th>3</th>\n",
       "      <td>A0H8C0 %2D 13.0 EIA %2D Section 13.1 to 13.6 .pdf</td>\n",
       "      <td>13.2</td>\n",
       "      <td>Project Description</td>\n",
       "      <td>13.2 Project Description</td>\n",
       "      <td>F:/Environmental Baseline Data/Version 2/Data/...</td>\n",
       "    </tr>\n",
       "    <tr>\n",
       "      <th>4</th>\n",
       "      <td>A0H8C0 %2D 13.0 EIA %2D Section 13.1 to 13.6 .pdf</td>\n",
       "      <td>13.3</td>\n",
       "      <td>Assessment Methods</td>\n",
       "      <td>13.3 Assessment Methods</td>\n",
       "      <td>F:/Environmental Baseline Data/Version 2/Data/...</td>\n",
       "    </tr>\n",
       "    <tr>\n",
       "      <th>5</th>\n",
       "      <td>A0H8C0 %2D 13.0 EIA %2D Section 13.1 to 13.6 .pdf</td>\n",
       "      <td>13.4</td>\n",
       "      <td>Air</td>\n",
       "      <td>13.4 Air</td>\n",
       "      <td>F:/Environmental Baseline Data/Version 2/Data/...</td>\n",
       "    </tr>\n",
       "    <tr>\n",
       "      <th>6</th>\n",
       "      <td>A0H8C0 %2D 13.0 EIA %2D Section 13.1 to 13.6 .pdf</td>\n",
       "      <td>13.5</td>\n",
       "      <td>Terrain and Soils</td>\n",
       "      <td>13.5 Terrain and Soils</td>\n",
       "      <td>F:/Environmental Baseline Data/Version 2/Data/...</td>\n",
       "    </tr>\n",
       "    <tr>\n",
       "      <th>7</th>\n",
       "      <td>A0H8C0 %2D 13.0 EIA %2D Section 13.1 to 13.6 .pdf</td>\n",
       "      <td>13.6</td>\n",
       "      <td>Vegetation</td>\n",
       "      <td>13.6 Vegetation</td>\n",
       "      <td>F:/Environmental Baseline Data/Version 2/Data/...</td>\n",
       "    </tr>\n",
       "    <tr>\n",
       "      <th>8</th>\n",
       "      <td>A0H8C0 %2D 13.0 EIA %2D Section 13.1 to 13.6 .pdf</td>\n",
       "      <td>13.7</td>\n",
       "      <td>Wildlife and Wildlife Habitat</td>\n",
       "      <td>13.7 Wildlife and Wildlife Habitat</td>\n",
       "      <td>F:/Environmental Baseline Data/Version 2/Data/...</td>\n",
       "    </tr>\n",
       "    <tr>\n",
       "      <th>9</th>\n",
       "      <td>A0H8C0 %2D 13.0 EIA %2D Section 13.1 to 13.6 .pdf</td>\n",
       "      <td>13.8</td>\n",
       "      <td>Fisheries and Aquatic Resources</td>\n",
       "      <td>13.8 Fisheries and Aquatic Resources</td>\n",
       "      <td>F:/Environmental Baseline Data/Version 2/Data/...</td>\n",
       "    </tr>\n",
       "    <tr>\n",
       "      <th>10</th>\n",
       "      <td>A0H8C0 %2D 13.0 EIA %2D Section 13.1 to 13.6 .pdf</td>\n",
       "      <td>13.9</td>\n",
       "      <td>Land and Resource Use</td>\n",
       "      <td>13.9 Land and Resource Use</td>\n",
       "      <td>F:/Environmental Baseline Data/Version 2/Data/...</td>\n",
       "    </tr>\n",
       "    <tr>\n",
       "      <th>11</th>\n",
       "      <td>A0H8C0 %2D 13.0 EIA %2D Section 13.1 to 13.6 .pdf</td>\n",
       "      <td>13.10</td>\n",
       "      <td>Traditional Land Use Study</td>\n",
       "      <td>13.10 Traditional Land Use Study</td>\n",
       "      <td>F:/Environmental Baseline Data/Version 2/Data/...</td>\n",
       "    </tr>\n",
       "    <tr>\n",
       "      <th>12</th>\n",
       "      <td>A0H8C0 %2D 13.0 EIA %2D Section 13.1 to 13.6 .pdf</td>\n",
       "      <td>13.11</td>\n",
       "      <td>Heritage/Historical Resources</td>\n",
       "      <td>13.11 Heritage/Historical Resources</td>\n",
       "      <td>F:/Environmental Baseline Data/Version 2/Data/...</td>\n",
       "    </tr>\n",
       "    <tr>\n",
       "      <th>13</th>\n",
       "      <td>A0H8C0 %2D 13.0 EIA %2D Section 13.1 to 13.6 .pdf</td>\n",
       "      <td>13.12</td>\n",
       "      <td>Assessment of Upset Events</td>\n",
       "      <td>13.12 Assessment of Upset Events</td>\n",
       "      <td>F:/Environmental Baseline Data/Version 2/Data/...</td>\n",
       "    </tr>\n",
       "    <tr>\n",
       "      <th>14</th>\n",
       "      <td>A0H8C0 %2D 13.0 EIA %2D Section 13.1 to 13.6 .pdf</td>\n",
       "      <td>13.13</td>\n",
       "      <td>References</td>\n",
       "      <td>13.13 References</td>\n",
       "      <td>F:/Environmental Baseline Data/Version 2/Data/...</td>\n",
       "    </tr>\n",
       "    <tr>\n",
       "      <th>15</th>\n",
       "      <td>A0H8C0 %2D 13.0 EIA %2D Section 13.1 to 13.6 .pdf</td>\n",
       "      <td>99</td>\n",
       "      <td>Appendix</td>\n",
       "      <td>99 Appendix</td>\n",
       "      <td>F:/Environmental Baseline Data/Version 2/Data/...</td>\n",
       "    </tr>\n",
       "  </tbody>\n",
       "</table>\n",
       "</div>"
      ],
      "text/plain": [
       "                                            PDF_names Chapter_numbers  \\\n",
       "0   A0H8C0 %2D 13.0 EIA %2D Section 13.1 to 13.6 .pdf               0   \n",
       "1   A0H8C0 %2D 13.0 EIA %2D Section 13.1 to 13.6 .pdf              13   \n",
       "2   A0H8C0 %2D 13.0 EIA %2D Section 13.1 to 13.6 .pdf            13.1   \n",
       "3   A0H8C0 %2D 13.0 EIA %2D Section 13.1 to 13.6 .pdf            13.2   \n",
       "4   A0H8C0 %2D 13.0 EIA %2D Section 13.1 to 13.6 .pdf            13.3   \n",
       "5   A0H8C0 %2D 13.0 EIA %2D Section 13.1 to 13.6 .pdf            13.4   \n",
       "6   A0H8C0 %2D 13.0 EIA %2D Section 13.1 to 13.6 .pdf            13.5   \n",
       "7   A0H8C0 %2D 13.0 EIA %2D Section 13.1 to 13.6 .pdf            13.6   \n",
       "8   A0H8C0 %2D 13.0 EIA %2D Section 13.1 to 13.6 .pdf            13.7   \n",
       "9   A0H8C0 %2D 13.0 EIA %2D Section 13.1 to 13.6 .pdf            13.8   \n",
       "10  A0H8C0 %2D 13.0 EIA %2D Section 13.1 to 13.6 .pdf            13.9   \n",
       "11  A0H8C0 %2D 13.0 EIA %2D Section 13.1 to 13.6 .pdf           13.10   \n",
       "12  A0H8C0 %2D 13.0 EIA %2D Section 13.1 to 13.6 .pdf           13.11   \n",
       "13  A0H8C0 %2D 13.0 EIA %2D Section 13.1 to 13.6 .pdf           13.12   \n",
       "14  A0H8C0 %2D 13.0 EIA %2D Section 13.1 to 13.6 .pdf           13.13   \n",
       "15  A0H8C0 %2D 13.0 EIA %2D Section 13.1 to 13.6 .pdf              99   \n",
       "\n",
       "                                        Chapter_texts  \\\n",
       "0                                Before First Chapter   \n",
       "1   Environmental Impact Assessment and Mitigation...   \n",
       "2                                        Introduction   \n",
       "3                                 Project Description   \n",
       "4                                  Assessment Methods   \n",
       "5                                                 Air   \n",
       "6                                   Terrain and Soils   \n",
       "7                                          Vegetation   \n",
       "8                       Wildlife and Wildlife Habitat   \n",
       "9                     Fisheries and Aquatic Resources   \n",
       "10                              Land and Resource Use   \n",
       "11                         Traditional Land Use Study   \n",
       "12                      Heritage/Historical Resources   \n",
       "13                         Assessment of Upset Events   \n",
       "14                                         References   \n",
       "15                                           Appendix   \n",
       "\n",
       "                                         Chapter_keys  \\\n",
       "0                              0 Before First Chapter   \n",
       "1   13 Environmental Impact Assessment and Mitigat...   \n",
       "2                                   13.1 Introduction   \n",
       "3                            13.2 Project Description   \n",
       "4                             13.3 Assessment Methods   \n",
       "5                                            13.4 Air   \n",
       "6                              13.5 Terrain and Soils   \n",
       "7                                     13.6 Vegetation   \n",
       "8                  13.7 Wildlife and Wildlife Habitat   \n",
       "9                13.8 Fisheries and Aquatic Resources   \n",
       "10                         13.9 Land and Resource Use   \n",
       "11                   13.10 Traditional Land Use Study   \n",
       "12                13.11 Heritage/Historical Resources   \n",
       "13                   13.12 Assessment of Upset Events   \n",
       "14                                   13.13 References   \n",
       "15                                        99 Appendix   \n",
       "\n",
       "                                        PDF_locations  \n",
       "0   F:/Environmental Baseline Data/Version 2/Data/...  \n",
       "1   F:/Environmental Baseline Data/Version 2/Data/...  \n",
       "2   F:/Environmental Baseline Data/Version 2/Data/...  \n",
       "3   F:/Environmental Baseline Data/Version 2/Data/...  \n",
       "4   F:/Environmental Baseline Data/Version 2/Data/...  \n",
       "5   F:/Environmental Baseline Data/Version 2/Data/...  \n",
       "6   F:/Environmental Baseline Data/Version 2/Data/...  \n",
       "7   F:/Environmental Baseline Data/Version 2/Data/...  \n",
       "8   F:/Environmental Baseline Data/Version 2/Data/...  \n",
       "9   F:/Environmental Baseline Data/Version 2/Data/...  \n",
       "10  F:/Environmental Baseline Data/Version 2/Data/...  \n",
       "11  F:/Environmental Baseline Data/Version 2/Data/...  \n",
       "12  F:/Environmental Baseline Data/Version 2/Data/...  \n",
       "13  F:/Environmental Baseline Data/Version 2/Data/...  \n",
       "14  F:/Environmental Baseline Data/Version 2/Data/...  \n",
       "15  F:/Environmental Baseline Data/Version 2/Data/...  "
      ]
     },
     "execution_count": 394,
     "metadata": {},
     "output_type": "execute_result"
    }
   ],
   "source": [
    "ChaptersDF = pd.DataFrame({'PDF_names' : PDF_names, \n",
    "                           'Chapter_numbers' : Chapter_numbers, \n",
    "                           'Chapter_texts' : Chapter_texts, \n",
    "                           'Chapter_keys' : chapter_keys, \n",
    "                           'PDF_locations' : PDF_locations}, dtype = str)\n",
    "ChaptersDF"
   ]
  },
  {
   "cell_type": "markdown",
   "metadata": {},
   "source": [
    "# Reading PDF File to find the Chapter Headers"
   ]
  },
  {
   "cell_type": "markdown",
   "metadata": {},
   "source": [
    "Ref -> https://stackoverflow.com/questions/17098675/searching-text-in-a-pdf-using-python"
   ]
  },
  {
   "cell_type": "code",
   "execution_count": 395,
   "metadata": {},
   "outputs": [
    {
     "name": "stderr",
     "output_type": "stream",
     "text": [
      "PdfReadWarning: Xref table not zero-indexed. ID numbers for objects will be corrected. [pdf.py:1736]\n"
     ]
    },
    {
     "name": "stdout",
     "output_type": "stream",
     "text": [
      "this is page 0\n",
      "this is page 1\n",
      "this is page 2\n",
      "this is page 3\n",
      "this is page 4\n",
      "this is page 5\n",
      "this is page 6\n",
      "this is page 7\n",
      "this is page 8\n",
      "this is page 9\n",
      "this is page 10\n",
      "this is page 11\n",
      "this is page 12\n",
      "this is page 13\n",
      "this is page 14\n",
      "this is page 15\n",
      "this is page 16\n",
      "this is page 17\n",
      "this is page 18\n",
      "this is page 19\n",
      "this is page 20\n",
      "this is page 21\n",
      "this is page 22\n",
      "this is page 23\n",
      "this is page 24\n",
      "this is page 25\n",
      "this is page 26\n",
      "this is page 27\n",
      "this is page 28\n",
      "this is page 29\n",
      "this is page 30\n",
      "this is page 31\n",
      "this is page 32\n",
      "this is page 33\n",
      "this is page 34\n",
      "this is page 35\n",
      "this is page 36\n",
      "this is page 37\n",
      "this is page 38\n",
      "this is page 39\n",
      "this is page 40\n",
      "this is page 41\n",
      "this is page 42\n",
      "this is page 43\n",
      "this is page 44\n",
      "this is page 45\n",
      "this is page 46\n",
      "this is page 47\n",
      "this is page 48\n",
      "this is page 49\n",
      "this is page 50\n",
      "this is page 51\n",
      "this is page 52\n",
      "this is page 53\n",
      "this is page 54\n",
      "this is page 55\n",
      "this is page 56\n",
      "this is page 57\n",
      "this is page 58\n",
      "this is page 59\n",
      "this is page 60\n",
      "this is page 61\n",
      "this is page 62\n",
      "this is page 63\n",
      "this is page 64\n",
      "this is page 65\n",
      "this is page 66\n",
      "this is page 67\n",
      "this is page 68\n",
      "this is page 69\n",
      "this is page 70\n",
      "this is page 71\n",
      "this is page 72\n",
      "this is page 73\n",
      "this is page 74\n",
      "this is page 75\n",
      "this is page 76\n",
      "this is page 77\n",
      "this is page 78\n",
      "this is page 79\n",
      "this is page 80\n",
      "this is page 81\n",
      "this is page 82\n",
      "this is page 83\n",
      "this is page 84\n",
      "this is page 85\n",
      "this is page 86\n",
      "this is page 87\n",
      "this is page 88\n",
      "this is page 89\n",
      "this is page 90\n",
      "this is page 91\n",
      "this is page 92\n",
      "this is page 93\n",
      "this is page 94\n",
      "this is page 95\n",
      "this is page 96\n",
      "this is page 97\n",
      "this is page 98\n",
      "this is page 99\n",
      "this is page 100\n",
      "this is page 101\n",
      "this is page 102\n",
      "this is page 103\n",
      "this is page 104\n",
      "this is page 105\n",
      "this is page 106\n",
      "1\n"
     ]
    },
    {
     "data": {
      "text/plain": [
       "[0, 24, 24, 27, 36, 42, 58, 83]"
      ]
     },
     "execution_count": 395,
     "metadata": {},
     "output_type": "execute_result"
    }
   ],
   "source": [
    "pdf_paths = [path_pdf]\n",
    "for pdf_path in pdf_paths:\n",
    "    # open the pdf file\n",
    "    object = PyPDF2.PdfFileReader(path_pdf)\n",
    "       \n",
    "    ############################################\n",
    "    # Here we should call the functions to extract the Chapter Names from the PDFs\n",
    "    # input: Path of the text file \n",
    "    # output: ChaptersDF, chapter_keys\n",
    "    ############################################\n",
    "    \n",
    "    # Searching the extracted Chapter Keys in the PDF and finding their number \n",
    "    \n",
    "    # get number of pages\n",
    "    NumPages = object.getNumPages()    \n",
    "    # chapter_key_index is set as 1 because we dont want to search for\"0 Before First Chapter\"\n",
    "    # the array chapter_key_pages has first element 0 for the same reason\n",
    "    chapter_key_index = 1\n",
    "    chapter_key_page_Nos = [0]\n",
    "    Flag_TOC_over = 0\n",
    "    # extract text and do the search\n",
    "    \n",
    "    for i in range(0, NumPages):\n",
    "        PageObj = object.getPage(i)\n",
    "        print(\"this is page \" + str(i)) \n",
    "        Text = PageObj.extractText()\n",
    "        Text = Text.lower()\n",
    "        Text = Text.replace(\"\\n\", \"\")\n",
    "        # Text = Text\n",
    "        # print (Text)\n",
    "            \n",
    "        #ResSearch = re.search(chapter_keys[chapter_key_index], Text)\n",
    "        key = chapter_keys[chapter_key_index].lower()\n",
    "        while (key in Text) and (Flag_TOC_over == 1):\n",
    "            chapter_key_page_Nos.append(i)\n",
    "            # print(\"YESSSS Found\")\n",
    "            # print(key)\n",
    "            chapter_key_index = chapter_key_index +1\n",
    "            key = chapter_keys[chapter_key_index].lower()\n",
    "        \n",
    "        if \"table of contents\" in Text:\n",
    "            Flag_TOC_over = 1\n",
    "            chapter_key_index = 1 #Reset the index to start \n",
    "            # print(\"TOC Found\") \n",
    "            \n",
    "print(Flag_TOC_over)\n",
    "chapter_key_page_Nos"
   ]
  },
  {
   "cell_type": "markdown",
   "metadata": {},
   "source": [
    "# Rough Work "
   ]
  },
  {
   "cell_type": "code",
   "execution_count": 396,
   "metadata": {},
   "outputs": [
    {
     "name": "stdout",
     "output_type": "stream",
     "text": [
      "13 environmental impact assessment and mitigation plan\n",
      "this is page 24\n",
      " environmental \n",
      "impact \n",
      "assessmentand \n",
      "mitigation \n",
      "plan\n",
      " page 13-1\n",
      "   encana ekwan pipeline inc. \n",
      "13 environmental impact assessment and mitigation plan \n",
      "13.1 introduction 13.1.1 project background \n",
      "encana ekwan pipeline inc. (encana ekwan) is\n",
      " proposing to construct the ekwan pipeline \n",
      "(the project) to carry sweet \n",
      "natural gas from encana™s sierra plant located in the \n",
      "sierra/kyklo gas field in northeastern brit\n",
      "ish columbia to the existing nova gas \n",
      "transmission ltd. (ngtl) pipeline system \n",
      "west of rainbow lake, alberta (see \n",
      "figure 13.1-1). as part of its f\n",
      "iling requirements to the nationa\n",
      "l energy board (neb) for an \n",
      "application for the pipeline, made\n",
      " pursuant to section 52 of the \n",
      "national energy board act\n",
      ", encana ekwan has retained axys environmental\n",
      " consulting ltd. (\n",
      "axys) to prepare this \n",
      "environmental impact assessment (eia) document \n",
      "to identify key bioph\n",
      "ysical resources in \n",
      "the project area, the nat\n",
      "ure of anticipated project effects on these resources, and mitigation \n",
      "plans for minimizing such effects.  \n",
      "more details on the project ar\n",
      "e provided in section 13.2 of\n",
      " this eia document and in \n",
      "volume 1 of the application. 13.1.2 regulatory setting \n",
      "this pipeline is regulated under the \n",
      "national energy board act\n",
      " (the act) as it crosses a \n",
      "provincial border. pursuant to the act, encana ek\n",
      "wan is required to submit environmental \n",
      "information pertaining to the projec\n",
      "t as outlined in part vii of the \n",
      "guidelines for filing \n",
      "requirements\n",
      " (neb 1995). in addition, the work required in and about navigable streams to \n",
      "construct the pipeline will require \n",
      "approvals under the section 108 of the \n",
      "navigable waters \n",
      "protection act. the project will be subjected to review under the \n",
      "canadian environmental assessment act \n",
      "(ceaa), with the neb and canadian coast guar\n",
      "d serving as responsible authorities. \n",
      "environment canada and fisheries and oceans c\n",
      "anada are supporting federal authorities \n",
      "participating in the review of this project.  \n",
      "YESSSS Found\n"
     ]
    }
   ],
   "source": [
    "i = 24\n",
    "object = PyPDF2.PdfFileReader(path_pdf)\n",
    "key = chapter_keys[1].lower()\n",
    "print(key)\n",
    "\n",
    "PageObj = object.getPage(i)\n",
    "print(\"this is page \" + str(i)) \n",
    "Text = PageObj.extractText() \n",
    "Text = Text.lower()\n",
    "print(Text)\n",
    "\n",
    "\n",
    "if key in Text:\n",
    "    print(\"YESSSS Found\")\n",
    "else:\n",
    "    print(\"NOOOOOOOOO\")\n",
    "    \n"
   ]
  },
  {
   "cell_type": "code",
   "execution_count": 397,
   "metadata": {},
   "outputs": [
    {
     "data": {
      "text/plain": [
       "1"
      ]
     },
     "execution_count": 397,
     "metadata": {},
     "output_type": "execute_result"
    }
   ],
   "source": [
    "Flag_TOC_over"
   ]
  },
  {
   "cell_type": "code",
   "execution_count": 398,
   "metadata": {},
   "outputs": [
    {
     "data": {
      "text/plain": [
       "'table of contents'"
      ]
     },
     "execution_count": 398,
     "metadata": {},
     "output_type": "execute_result"
    }
   ],
   "source": [
    "\"Table of Contents\".lower()"
   ]
  },
  {
   "cell_type": "code",
   "execution_count": 399,
   "metadata": {},
   "outputs": [],
   "source": [
    "i = 24\n",
    "Text = \"13 environmental impact assessment and mitigation plan\"\n",
    "while (\"13 Environmental Impact Assessment and Mitigation Plan\".lower() in Text) and (i <10):\n",
    "    print(\"YESSSS Found\")\n",
    "    \n",
    "    i = i+1"
   ]
  },
  {
   "cell_type": "code",
   "execution_count": 400,
   "metadata": {},
   "outputs": [
    {
     "name": "stdout",
     "output_type": "stream",
     "text": [
      "this is page 1\n",
      " environmental \n",
      "impact \n",
      "assessmentand \n",
      "mitigation \n",
      "plan\n",
      "page 13.ii   encana ekwan pipeline inc. \n",
      "table of contents 13 environmental impact assessment and mitigation plan............................................................13-1\n",
      " 13.1 introduction..............................................................................................................\n",
      "............13-1 \n",
      "13.1.1 project background...............................................................................................13-1 \n",
      "\n",
      "13.1.2 regulatory setting................................................................................................13-1 \n",
      "\n",
      "13.1.3 scope of environmental assessment....................................................................13-3 \n",
      "13.2 project description.......................................................................................................\n",
      "........13-4 \n",
      "13.2.1 scope of project....................................................................................................13-4\n",
      " 13.2.2 pipeline details.....................................................................................................13-\n",
      "4 13.2.2.1 routing alternatives...........................................................................13-4 \n",
      "\n",
      "13.2.2.2 pipeline details...................................................................................13-9 \n",
      "13.2.3 other facilities....................................................................................................13-1\n",
      "0 13.2.3.1 ngtl meter station.........................................................................13-10 \n",
      "13.2.4 construction........................................................................................................13-1\n",
      "0 13.2.4.1 schedule and sequencing.................................................................13-10 \n",
      "\n",
      "13.2.4.2 temporary construction facilities...................................................13-10 \n",
      "\n",
      "13.2.4.3 access requirements........................................................................13-11 \n",
      "13.2.5 operational activities.........................................................................................13-11 \n",
      "13.3 assessment methods........................................................................................................\n",
      "..13-13 \n",
      "13.3.1 issues scoping.....................................................................................................13-13\n",
      " 13.3.1.1 early public notification..................................................................13-13 \n",
      "\n",
      "13.3.1.2 traditional knowledge.....................................................................13-13 \n",
      "\n",
      "13.3.1.3 internal scoping................................................................................13-14 \n",
      "13.3.2 defining impact parameters...............................................................................13-14 \n",
      "\n",
      "13.3.3 study areas.........................................................................................................13-1\n",
      "4 13.3.4 assessment scenarios.........................................................................................13-14 \n",
      "\n",
      "13.3.5 identifying mitigation options...........................................................................13-15 \n",
      "\n",
      "13.3.6 quantifying residual project effects.................................................................13-15 \n",
      "\n",
      "13.3.7 cumulative effects implications........................................................................13-16 \n",
      "\n",
      "13.3.8 follow-up and monitoring..................................................................................13-18 \n",
      "13.4 air.......................................................................................................................\n",
      "...............13-19 \n",
      "13.4.1 baseline setting..................................................................................................13-19 \n",
      "13.4.1.1 site description.................................................................................13-19 \n",
      "\n",
      "13.4.1.2 climate..............................................................................................13-19 \n",
      "\n",
      "13.4.1.3 precipitation......................................................................................13-20 \n",
      "\n",
      "13.4.1.4 wind..................................................................................................13-24 \n",
      "\n",
      "13.4.1.5 emission sources..............................................................................13-27 \n",
      "13.4.2 results of issues scoping...................................................................................13-27 \n",
      "13.4.2.1 project effects analysis....................................................................13-27 \n",
      "\n",
      "13.4.2.2 key impact questions.......................................................................13-28 \n",
      "13.4.3 study areas.........................................................................................................13-2\n",
      "9 13.4.4 assessment scenarios.........................................................................................13-29 \n",
      "13.4.4.1 construction scenario.......................................................................13-29 \n",
      "\n"
     ]
    }
   ],
   "source": [
    "i = 1\n",
    "\n",
    "PageObj = object.getPage(i)\n",
    "print(\"this is page \" + str(i)) \n",
    "Text = PageObj.extractText() \n",
    "Text = Text.lower()\n",
    "    \n",
    "print(Text)\n",
    "\n",
    "while (\"13 Environmental Impact Assessment and Mitigation Plan\".lower() in Text) and (i >1):\n",
    "    print(\"YESSSS Found\")\n",
    "    \n",
    "    i = i+1\n"
   ]
  },
  {
   "cell_type": "code",
   "execution_count": null,
   "metadata": {},
   "outputs": [],
   "source": []
  },
  {
   "cell_type": "code",
   "execution_count": null,
   "metadata": {},
   "outputs": [],
   "source": []
  },
  {
   "cell_type": "code",
   "execution_count": 186,
   "metadata": {},
   "outputs": [
    {
     "data": {
      "text/plain": [
       "'13  environmental impact assessment and mitigation plan'"
      ]
     },
     "execution_count": 186,
     "metadata": {},
     "output_type": "execute_result"
    }
   ],
   "source": [
    "\"13  Environmental Impact Assessment and Mitigation Plan\".lower()"
   ]
  },
  {
   "cell_type": "code",
   "execution_count": 187,
   "metadata": {},
   "outputs": [
    {
     "data": {
      "text/plain": [
       "' environmental \\nimpact \\nassessmentand \\nmitigation \\nplan\\n page 13-1\\n   encana ekwan pipeline inc. \\n13 environmental impact assessment and mitigation plan \\n13.1 introduction 13.1.1 project background \\nencana ekwan pipeline inc. (encana ekwan) is\\n proposing to construct the ekwan pipeline \\n(the project) to carry sweet \\nnatural gas from encana™s sierra plant located in the \\nsierra/kyklo gas field in northeastern brit\\nish columbia to the existing nova gas \\ntransmission ltd. (ngtl) pipeline system \\nwest of rainbow lake, alberta (see \\nfigure 13.1-1). as part of its f\\niling requirements to the nationa\\nl energy board (neb) for an \\napplication for the pipeline, made\\n pursuant to section 52 of the \\nnational energy board act\\n, encana ekwan has retained axys environmental\\n consulting ltd. (\\naxys) to prepare this \\nenvironmental impact assessment (eia) document \\nto identify key bioph\\nysical resources in \\nthe project area, the nat\\nure of anticipated project effects on these resources, and mitigation \\nplans for minimizing such effects.  \\nmore details on the project ar\\ne provided in section 13.2 of\\n this eia document and in \\nvolume 1 of the application. 13.1.2 regulatory setting \\nthis pipeline is regulated under the \\nnational energy board act\\n (the act) as it crosses a \\nprovincial border. pursuant to the act, encana ek\\nwan is required to submit environmental \\ninformation pertaining to the projec\\nt as outlined in part vii of the \\nguidelines for filing \\nrequirements\\n (neb 1995). in addition, the work required in and about navigable streams to \\nconstruct the pipeline will require \\napprovals under the section 108 of the \\nnavigable waters \\nprotection act. the project will be subjected to review under the \\ncanadian environmental assessment act \\n(ceaa), with the neb and canadian coast guar\\nd serving as responsible authorities. \\nenvironment canada and fisheries and oceans c\\nanada are supporting federal authorities \\nparticipating in the review of this project.  '"
      ]
     },
     "execution_count": 187,
     "metadata": {},
     "output_type": "execute_result"
    }
   ],
   "source": [
    "Text"
   ]
  },
  {
   "cell_type": "code",
   "execution_count": null,
   "metadata": {},
   "outputs": [],
   "source": [
    "sub = \"gh\"\n",
    "MString = \"Vibudh Singh\"\n",
    "\n",
    "ResSearch = re.search(sub, MString)\n",
    "ResSearch"
   ]
  },
  {
   "cell_type": "code",
   "execution_count": 128,
   "metadata": {},
   "outputs": [
    {
     "name": "stdout",
     "output_type": "stream",
     "text": [
      "1\n",
      "2\n",
      "True\n",
      "3\n",
      "4\n"
     ]
    }
   ],
   "source": [
    "for i in range(1,5):\n",
    "    print(i) \n",
    "    if i == 2:\n",
    "        print(True)\n",
    "        i = i-1"
   ]
  },
  {
   "cell_type": "code",
   "execution_count": null,
   "metadata": {},
   "outputs": [],
   "source": []
  },
  {
   "cell_type": "code",
   "execution_count": 53,
   "metadata": {},
   "outputs": [
    {
     "data": {
      "text/plain": [
       "77"
      ]
     },
     "execution_count": 53,
     "metadata": {},
     "output_type": "execute_result"
    },
    {
     "data": {
      "text/plain": [
       "96"
      ]
     },
     "execution_count": 53,
     "metadata": {},
     "output_type": "execute_result"
    },
    {
     "data": {
      "text/plain": [
       "133"
      ]
     },
     "execution_count": 53,
     "metadata": {},
     "output_type": "execute_result"
    }
   ],
   "source": [
    "len(\"Figure 13.4-4  Mean Monthly Precipitation and Number of Days with Measurable\\n\")\n",
    "len(\"Figure 13.7-2  Woodland Caribou Habitat Availability during the Early Winter Season..... 13-113\\n\")\n",
    "len(\"Figure 13D.A-8  Typical Existing Bridge ...........................................................................................9\\n\",)"
   ]
  },
  {
   "cell_type": "code",
   "execution_count": 96,
   "metadata": {},
   "outputs": [
    {
     "data": {
      "text/plain": [
       "2"
      ]
     },
     "execution_count": 96,
     "metadata": {},
     "output_type": "execute_result"
    }
   ],
   "source": [
    "chapter = chapter_keys[2]\n",
    "index = chapter.index(\".\")\n",
    "index"
   ]
  },
  {
   "cell_type": "code",
   "execution_count": 67,
   "metadata": {},
   "outputs": [
    {
     "data": {
      "text/html": [
       "<div>\n",
       "<style scoped>\n",
       "    .dataframe tbody tr th:only-of-type {\n",
       "        vertical-align: middle;\n",
       "    }\n",
       "\n",
       "    .dataframe tbody tr th {\n",
       "        vertical-align: top;\n",
       "    }\n",
       "\n",
       "    .dataframe thead th {\n",
       "        text-align: right;\n",
       "    }\n",
       "</style>\n",
       "<table border=\"1\" class=\"dataframe\">\n",
       "  <thead>\n",
       "    <tr style=\"text-align: right;\">\n",
       "      <th></th>\n",
       "      <th>col1</th>\n",
       "      <th>col2</th>\n",
       "    </tr>\n",
       "  </thead>\n",
       "  <tbody>\n",
       "    <tr>\n",
       "      <th>0</th>\n",
       "      <td>1</td>\n",
       "      <td>3</td>\n",
       "    </tr>\n",
       "    <tr>\n",
       "      <th>1</th>\n",
       "      <td>2</td>\n",
       "      <td>4</td>\n",
       "    </tr>\n",
       "  </tbody>\n",
       "</table>\n",
       "</div>"
      ],
      "text/plain": [
       "   col1  col2\n",
       "0     1     3\n",
       "1     2     4"
      ]
     },
     "execution_count": 67,
     "metadata": {},
     "output_type": "execute_result"
    }
   ],
   "source": [
    "d = {'col1': [1, 2], 'col2': [3, 4]}\n",
    "df = pd.DataFrame(data=d)\n",
    "df"
   ]
  },
  {
   "cell_type": "code",
   "execution_count": 69,
   "metadata": {},
   "outputs": [
    {
     "data": {
      "text/html": [
       "<div>\n",
       "<style scoped>\n",
       "    .dataframe tbody tr th:only-of-type {\n",
       "        vertical-align: middle;\n",
       "    }\n",
       "\n",
       "    .dataframe tbody tr th {\n",
       "        vertical-align: top;\n",
       "    }\n",
       "\n",
       "    .dataframe thead th {\n",
       "        text-align: right;\n",
       "    }\n",
       "</style>\n",
       "<table border=\"1\" class=\"dataframe\">\n",
       "  <thead>\n",
       "    <tr style=\"text-align: right;\">\n",
       "      <th></th>\n",
       "      <th>a</th>\n",
       "      <th>b</th>\n",
       "      <th>c</th>\n",
       "    </tr>\n",
       "  </thead>\n",
       "  <tbody>\n",
       "    <tr>\n",
       "      <th>0</th>\n",
       "      <td>1</td>\n",
       "      <td>2</td>\n",
       "      <td>3</td>\n",
       "    </tr>\n",
       "    <tr>\n",
       "      <th>1</th>\n",
       "      <td>4</td>\n",
       "      <td>5</td>\n",
       "      <td>6</td>\n",
       "    </tr>\n",
       "    <tr>\n",
       "      <th>2</th>\n",
       "      <td>7</td>\n",
       "      <td>8</td>\n",
       "      <td>9</td>\n",
       "    </tr>\n",
       "  </tbody>\n",
       "</table>\n",
       "</div>"
      ],
      "text/plain": [
       "   a  b  c\n",
       "0  1  2  3\n",
       "1  4  5  6\n",
       "2  7  8  9"
      ]
     },
     "execution_count": 69,
     "metadata": {},
     "output_type": "execute_result"
    }
   ],
   "source": [
    "df2 = pd.DataFrame(np.array([[1, 2, 3], [4, 5, 6], [7, 8, 9]]),\n",
    "                    columns=['a', 'b', 'c'])\n",
    "df2"
   ]
  },
  {
   "cell_type": "code",
   "execution_count": null,
   "metadata": {},
   "outputs": [],
   "source": []
  }
 ],
 "metadata": {
  "kernelspec": {
   "display_name": "Python 3",
   "language": "python",
   "name": "python3"
  },
  "language_info": {
   "codemirror_mode": {
    "name": "ipython",
    "version": 3
   },
   "file_extension": ".py",
   "mimetype": "text/x-python",
   "name": "python",
   "nbconvert_exporter": "python",
   "pygments_lexer": "ipython3",
   "version": "3.7.3"
  }
 },
 "nbformat": 4,
 "nbformat_minor": 2
}
