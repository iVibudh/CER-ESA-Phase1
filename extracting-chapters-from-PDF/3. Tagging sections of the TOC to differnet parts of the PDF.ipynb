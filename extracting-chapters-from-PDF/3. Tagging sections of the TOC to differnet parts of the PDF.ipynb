{
 "cells": [
  {
   "cell_type": "code",
   "execution_count": 301,
   "metadata": {},
   "outputs": [],
   "source": [
    "import json\n",
    "import pandas as pd\n",
    "import numpy as np\n",
    "\n",
    "import PyPDF2\n",
    "import re\n",
    "\n",
    "from IPython.core.interactiveshell import InteractiveShell\n",
    "InteractiveShell.ast_node_interactivity = \"all\""
   ]
  },
  {
   "cell_type": "code",
   "execution_count": 302,
   "metadata": {},
   "outputs": [],
   "source": [
    "path_pdf2 = \"F:/Environmental Baseline Data/Version 2/Data/PDFs/A63951%2D1 V3 %2D ESA_Sec_1%2D11 %2D A4D9H6.pdf\"\n",
    "\n",
    "Notorious PDF "
   ]
  },
  {
   "cell_type": "code",
   "execution_count": 303,
   "metadata": {},
   "outputs": [],
   "source": [
    "path_pdf3 = \"F:/Environmental Baseline Data/Version 2/Data/PDFs/A63951%2D3 V4 %2D ESA_Appendix B1_CS 134 Bowmanville %2D A4D9H8.pdf\""
   ]
  },
  {
   "cell_type": "code",
   "execution_count": null,
   "metadata": {},
   "outputs": [],
   "source": []
  },
  {
   "cell_type": "code",
   "execution_count": null,
   "metadata": {},
   "outputs": [],
   "source": []
  },
  {
   "cell_type": "code",
   "execution_count": 304,
   "metadata": {},
   "outputs": [
    {
     "name": "stdout",
     "output_type": "stream",
     "text": [
      "The path of the PDF is: F:/Environmental Baseline Data/Version 2/Data/PDFs/A63951%2D3 V4 %2D ESA_Appendix B1_CS 134 Bowmanville %2D A4D9H8.pdf\n",
      "The path of the TOC is: F:/Environmental Baseline Data/Version 2/Data/HTML Images and Tables/A63951%2D3 V4 %2D ESA_Appendix B1_CS 134 Bowmanville %2D A4D9H8/table-of-contents.txt\n"
     ]
    }
   ],
   "source": [
    "path_Text = \"F:/Environmental Baseline Data/Version 2/Data/HTML Images and Tables/A0H8C0 %2D 13.0 EIA %2D Section 13.1 to 13.6/table-of-contents.txt\"\n",
    "path_pdfs = [\"F:/Environmental Baseline Data/Version 2/Data/PDFs/A0H8C0 %2D 13.0 EIA %2D Section 13.1 to 13.6 .pdf\"]\n",
    "\n",
    "path_pdfs = [path_pdf3]\n",
    "path_Texts = []\n",
    "\n",
    "for path_pdf in path_pdfs:\n",
    "    path_Text = path_pdf.replace(\" .pdf\", \"\")\n",
    "    if \".pdf\" in path_Text:\n",
    "        path_Text = path_pdf.replace(\".pdf\", \"\")\n",
    "    #print(path_Text)\n",
    "    path_Text = path_Text.replace(\"/PDFs\", \"/HTML Images and Tables\")\n",
    "    path_Text = path_Text + \"/table-of-contents.txt\"\n",
    "    path_Texts.append(path_Text)\n",
    "    #print(path_Text)\n",
    "    \n",
    "    \n",
    "for i in range(len(path_pdfs)):\n",
    "    print(\"The path of the PDF is: {0}\".format(path_pdfs[i]))\n",
    "    print(\"The path of the TOC is: {0}\".format(path_Texts[i]))\n",
    "\n",
    "\n",
    "    \n",
    "#Though the arrays would be used when we are dealing with bulk PDFs \n",
    "# in this code, for now, I wil be working the string values instead of the arrays\n",
    "    \n"
   ]
  },
  {
   "cell_type": "code",
   "execution_count": null,
   "metadata": {},
   "outputs": [],
   "source": []
  },
  {
   "cell_type": "code",
   "execution_count": null,
   "metadata": {},
   "outputs": [],
   "source": []
  },
  {
   "cell_type": "markdown",
   "metadata": {},
   "source": [
    "# Extract Chapter Headings from the TOC text file"
   ]
  },
  {
   "cell_type": "markdown",
   "metadata": {},
   "source": [
    "### Reading the JSON File as text and then extracting teh main chapter names"
   ]
  },
  {
   "cell_type": "markdown",
   "metadata": {},
   "source": [
    "Ref -> https://stackabuse.com/reading-and-writing-json-to-a-file-in-python/"
   ]
  },
  {
   "cell_type": "code",
   "execution_count": 305,
   "metadata": {},
   "outputs": [],
   "source": [
    "def head_clean(head):\n",
    "    index = 0\n",
    "    for i in range(len(head)):\n",
    "        if (head[i] == '.') and (head[i+1] == '.') and (head[i+2] =='.'):\n",
    "            index = i\n",
    "            break\n",
    "        \n",
    "    head_clean = head[:i]\n",
    "    return head_clean"
   ]
  },
  {
   "cell_type": "code",
   "execution_count": 313,
   "metadata": {},
   "outputs": [
    {
     "data": {
      "text/plain": [
       "['0 Before First Chapter',\n",
       " '1.0 INTRODUCTION',\n",
       " '2.0 PURPOSE',\n",
       " '3.0 ENVIRONMENTAL PROTECTION PLAN ORGANIZATION',\n",
       " '3.1 Organization',\n",
       " '3.2 Environmental Setting',\n",
       " '3.3 Non-routine Mitigation',\n",
       " '3.4 Extent and Limits of the EPP',\n",
       " '4.0 ENVIRONMENTAL COMPLIANCE',\n",
       " '5.0 NOTIFICATION OF CONCERNED PARTIES',\n",
       " '6.0 CONSTRUCTION PREPARATION',\n",
       " '7.0 PROJECT SPECIFIC PROTECTION MEASURES',\n",
       " '7.1 Resource Specific Protection Measures',\n",
       " '7.2 Additional Project-Specific Protection Measures',\n",
       " '8.0 FACILITY CONSTRUCTION',\n",
       " '8.1 General Environmental Protection Measures',\n",
       " '8.2 Clearing, Topsoil/Strippings Salvage and Grading',\n",
       " '8.3 Compressor Station Site Development and Operations',\n",
       " '9.0 INTERIM AND FINAL RECLAMATION',\n",
       " '10.0 REFERENCES',\n",
       " '99 Appendix']"
      ]
     },
     "execution_count": 313,
     "metadata": {},
     "output_type": "execute_result"
    }
   ],
   "source": [
    "with open(path_Text) as json_file:\n",
    "    data = json.load(json_file)\n",
    "    raw_TOC_text = data['raw_text'] #currently the array has a lot of strings which are not main headers \n",
    "        \n",
    "    chapter_keys = [\"0 Before First Chapter\"] \n",
    "    for head in raw_TOC_text:\n",
    "        head = head.strip()\n",
    "        head = re.sub(' +', ' ',head)\n",
    "        if head[0].isdigit(): # assuming all the headings in the TOC are numbered\n",
    "            head = head_clean(head) # removing soo many filler '.' in the string\n",
    "            \n",
    "            ##########################################\n",
    "            # Here, we night need to set a threshold (On the number of dots) value depending on the PDF and its TOC \n",
    "            ##########################################\n",
    "            \n",
    "            threshold = 2\n",
    "            if head.count('.') < threshold:\n",
    "                head = head.strip()\n",
    "                chapter_keys.append(head)\n",
    "                \n",
    "            # Here we check for Appendix \n",
    "        if \"Appendix\" in head or \"APPENDIX\" in head:\n",
    "            chapter_keys.append(\"99 Appendix\")\n",
    "            break\n",
    "                \n",
    "chapter_keys"
   ]
  },
  {
   "cell_type": "code",
   "execution_count": 314,
   "metadata": {},
   "outputs": [],
   "source": [
    "PDF_locations = []\n",
    "PDF_names = []\n",
    "Chapter_numbers = []\n",
    "Chapter_texts = []\n",
    "index = -1\n",
    "for chapter_key in chapter_keys:\n",
    "    PDF_locations.append(path_pdf)\n",
    "    PDF_names.append(path_pdf.split('/')[-1])\n",
    "    if ' ' in chapter_key:\n",
    "        index = chapter_key.index(' ')\n",
    "    Chapter_numbers.append(chapter_key[:index])\n",
    "    Chapter_texts.append(chapter_key[index+1:])"
   ]
  },
  {
   "cell_type": "code",
   "execution_count": 315,
   "metadata": {},
   "outputs": [
    {
     "data": {
      "text/html": [
       "<div>\n",
       "<style scoped>\n",
       "    .dataframe tbody tr th:only-of-type {\n",
       "        vertical-align: middle;\n",
       "    }\n",
       "\n",
       "    .dataframe tbody tr th {\n",
       "        vertical-align: top;\n",
       "    }\n",
       "\n",
       "    .dataframe thead th {\n",
       "        text-align: right;\n",
       "    }\n",
       "</style>\n",
       "<table border=\"1\" class=\"dataframe\">\n",
       "  <thead>\n",
       "    <tr style=\"text-align: right;\">\n",
       "      <th></th>\n",
       "      <th>PDF_names</th>\n",
       "      <th>Chapter_numbers</th>\n",
       "      <th>Chapter_texts</th>\n",
       "      <th>Chapter_keys</th>\n",
       "      <th>PDF_locations</th>\n",
       "    </tr>\n",
       "  </thead>\n",
       "  <tbody>\n",
       "    <tr>\n",
       "      <th>0</th>\n",
       "      <td>A63951%2D3 V4 %2D ESA_Appendix B1_CS 134 Bowma...</td>\n",
       "      <td>0</td>\n",
       "      <td>Before First Chapter</td>\n",
       "      <td>0 Before First Chapter</td>\n",
       "      <td>F:/Environmental Baseline Data/Version 2/Data/...</td>\n",
       "    </tr>\n",
       "    <tr>\n",
       "      <th>1</th>\n",
       "      <td>A63951%2D3 V4 %2D ESA_Appendix B1_CS 134 Bowma...</td>\n",
       "      <td>1.0</td>\n",
       "      <td>INTRODUCTION</td>\n",
       "      <td>1.0 INTRODUCTION</td>\n",
       "      <td>F:/Environmental Baseline Data/Version 2/Data/...</td>\n",
       "    </tr>\n",
       "    <tr>\n",
       "      <th>2</th>\n",
       "      <td>A63951%2D3 V4 %2D ESA_Appendix B1_CS 134 Bowma...</td>\n",
       "      <td>2.0</td>\n",
       "      <td>PURPOSE</td>\n",
       "      <td>2.0 PURPOSE</td>\n",
       "      <td>F:/Environmental Baseline Data/Version 2/Data/...</td>\n",
       "    </tr>\n",
       "    <tr>\n",
       "      <th>3</th>\n",
       "      <td>A63951%2D3 V4 %2D ESA_Appendix B1_CS 134 Bowma...</td>\n",
       "      <td>3.0</td>\n",
       "      <td>ENVIRONMENTAL PROTECTION PLAN ORGANIZATION</td>\n",
       "      <td>3.0 ENVIRONMENTAL PROTECTION PLAN ORGANIZATION</td>\n",
       "      <td>F:/Environmental Baseline Data/Version 2/Data/...</td>\n",
       "    </tr>\n",
       "    <tr>\n",
       "      <th>4</th>\n",
       "      <td>A63951%2D3 V4 %2D ESA_Appendix B1_CS 134 Bowma...</td>\n",
       "      <td>3.1</td>\n",
       "      <td>Organization</td>\n",
       "      <td>3.1 Organization</td>\n",
       "      <td>F:/Environmental Baseline Data/Version 2/Data/...</td>\n",
       "    </tr>\n",
       "    <tr>\n",
       "      <th>5</th>\n",
       "      <td>A63951%2D3 V4 %2D ESA_Appendix B1_CS 134 Bowma...</td>\n",
       "      <td>3.2</td>\n",
       "      <td>Environmental Setting</td>\n",
       "      <td>3.2 Environmental Setting</td>\n",
       "      <td>F:/Environmental Baseline Data/Version 2/Data/...</td>\n",
       "    </tr>\n",
       "    <tr>\n",
       "      <th>6</th>\n",
       "      <td>A63951%2D3 V4 %2D ESA_Appendix B1_CS 134 Bowma...</td>\n",
       "      <td>3.3</td>\n",
       "      <td>Non-routine Mitigation</td>\n",
       "      <td>3.3 Non-routine Mitigation</td>\n",
       "      <td>F:/Environmental Baseline Data/Version 2/Data/...</td>\n",
       "    </tr>\n",
       "    <tr>\n",
       "      <th>7</th>\n",
       "      <td>A63951%2D3 V4 %2D ESA_Appendix B1_CS 134 Bowma...</td>\n",
       "      <td>3.4</td>\n",
       "      <td>Extent and Limits of the EPP</td>\n",
       "      <td>3.4 Extent and Limits of the EPP</td>\n",
       "      <td>F:/Environmental Baseline Data/Version 2/Data/...</td>\n",
       "    </tr>\n",
       "    <tr>\n",
       "      <th>8</th>\n",
       "      <td>A63951%2D3 V4 %2D ESA_Appendix B1_CS 134 Bowma...</td>\n",
       "      <td>4.0</td>\n",
       "      <td>ENVIRONMENTAL COMPLIANCE</td>\n",
       "      <td>4.0 ENVIRONMENTAL COMPLIANCE</td>\n",
       "      <td>F:/Environmental Baseline Data/Version 2/Data/...</td>\n",
       "    </tr>\n",
       "    <tr>\n",
       "      <th>9</th>\n",
       "      <td>A63951%2D3 V4 %2D ESA_Appendix B1_CS 134 Bowma...</td>\n",
       "      <td>5.0</td>\n",
       "      <td>NOTIFICATION OF CONCERNED PARTIES</td>\n",
       "      <td>5.0 NOTIFICATION OF CONCERNED PARTIES</td>\n",
       "      <td>F:/Environmental Baseline Data/Version 2/Data/...</td>\n",
       "    </tr>\n",
       "    <tr>\n",
       "      <th>10</th>\n",
       "      <td>A63951%2D3 V4 %2D ESA_Appendix B1_CS 134 Bowma...</td>\n",
       "      <td>6.0</td>\n",
       "      <td>CONSTRUCTION PREPARATION</td>\n",
       "      <td>6.0 CONSTRUCTION PREPARATION</td>\n",
       "      <td>F:/Environmental Baseline Data/Version 2/Data/...</td>\n",
       "    </tr>\n",
       "    <tr>\n",
       "      <th>11</th>\n",
       "      <td>A63951%2D3 V4 %2D ESA_Appendix B1_CS 134 Bowma...</td>\n",
       "      <td>7.0</td>\n",
       "      <td>PROJECT SPECIFIC PROTECTION MEASURES</td>\n",
       "      <td>7.0 PROJECT SPECIFIC PROTECTION MEASURES</td>\n",
       "      <td>F:/Environmental Baseline Data/Version 2/Data/...</td>\n",
       "    </tr>\n",
       "    <tr>\n",
       "      <th>12</th>\n",
       "      <td>A63951%2D3 V4 %2D ESA_Appendix B1_CS 134 Bowma...</td>\n",
       "      <td>7.1</td>\n",
       "      <td>Resource Specific Protection Measures</td>\n",
       "      <td>7.1 Resource Specific Protection Measures</td>\n",
       "      <td>F:/Environmental Baseline Data/Version 2/Data/...</td>\n",
       "    </tr>\n",
       "    <tr>\n",
       "      <th>13</th>\n",
       "      <td>A63951%2D3 V4 %2D ESA_Appendix B1_CS 134 Bowma...</td>\n",
       "      <td>7.2</td>\n",
       "      <td>Additional Project-Specific Protection Measures</td>\n",
       "      <td>7.2 Additional Project-Specific Protection Mea...</td>\n",
       "      <td>F:/Environmental Baseline Data/Version 2/Data/...</td>\n",
       "    </tr>\n",
       "    <tr>\n",
       "      <th>14</th>\n",
       "      <td>A63951%2D3 V4 %2D ESA_Appendix B1_CS 134 Bowma...</td>\n",
       "      <td>8.0</td>\n",
       "      <td>FACILITY CONSTRUCTION</td>\n",
       "      <td>8.0 FACILITY CONSTRUCTION</td>\n",
       "      <td>F:/Environmental Baseline Data/Version 2/Data/...</td>\n",
       "    </tr>\n",
       "    <tr>\n",
       "      <th>15</th>\n",
       "      <td>A63951%2D3 V4 %2D ESA_Appendix B1_CS 134 Bowma...</td>\n",
       "      <td>8.1</td>\n",
       "      <td>General Environmental Protection Measures</td>\n",
       "      <td>8.1 General Environmental Protection Measures</td>\n",
       "      <td>F:/Environmental Baseline Data/Version 2/Data/...</td>\n",
       "    </tr>\n",
       "    <tr>\n",
       "      <th>16</th>\n",
       "      <td>A63951%2D3 V4 %2D ESA_Appendix B1_CS 134 Bowma...</td>\n",
       "      <td>8.2</td>\n",
       "      <td>Clearing, Topsoil/Strippings Salvage and Grading</td>\n",
       "      <td>8.2 Clearing, Topsoil/Strippings Salvage and G...</td>\n",
       "      <td>F:/Environmental Baseline Data/Version 2/Data/...</td>\n",
       "    </tr>\n",
       "    <tr>\n",
       "      <th>17</th>\n",
       "      <td>A63951%2D3 V4 %2D ESA_Appendix B1_CS 134 Bowma...</td>\n",
       "      <td>8.3</td>\n",
       "      <td>Compressor Station Site Development and Operat...</td>\n",
       "      <td>8.3 Compressor Station Site Development and Op...</td>\n",
       "      <td>F:/Environmental Baseline Data/Version 2/Data/...</td>\n",
       "    </tr>\n",
       "    <tr>\n",
       "      <th>18</th>\n",
       "      <td>A63951%2D3 V4 %2D ESA_Appendix B1_CS 134 Bowma...</td>\n",
       "      <td>9.0</td>\n",
       "      <td>INTERIM AND FINAL RECLAMATION</td>\n",
       "      <td>9.0 INTERIM AND FINAL RECLAMATION</td>\n",
       "      <td>F:/Environmental Baseline Data/Version 2/Data/...</td>\n",
       "    </tr>\n",
       "    <tr>\n",
       "      <th>19</th>\n",
       "      <td>A63951%2D3 V4 %2D ESA_Appendix B1_CS 134 Bowma...</td>\n",
       "      <td>10.0</td>\n",
       "      <td>REFERENCES</td>\n",
       "      <td>10.0 REFERENCES</td>\n",
       "      <td>F:/Environmental Baseline Data/Version 2/Data/...</td>\n",
       "    </tr>\n",
       "    <tr>\n",
       "      <th>20</th>\n",
       "      <td>A63951%2D3 V4 %2D ESA_Appendix B1_CS 134 Bowma...</td>\n",
       "      <td>99</td>\n",
       "      <td>Appendix</td>\n",
       "      <td>99 Appendix</td>\n",
       "      <td>F:/Environmental Baseline Data/Version 2/Data/...</td>\n",
       "    </tr>\n",
       "  </tbody>\n",
       "</table>\n",
       "</div>"
      ],
      "text/plain": [
       "                                            PDF_names Chapter_numbers  \\\n",
       "0   A63951%2D3 V4 %2D ESA_Appendix B1_CS 134 Bowma...               0   \n",
       "1   A63951%2D3 V4 %2D ESA_Appendix B1_CS 134 Bowma...             1.0   \n",
       "2   A63951%2D3 V4 %2D ESA_Appendix B1_CS 134 Bowma...             2.0   \n",
       "3   A63951%2D3 V4 %2D ESA_Appendix B1_CS 134 Bowma...             3.0   \n",
       "4   A63951%2D3 V4 %2D ESA_Appendix B1_CS 134 Bowma...             3.1   \n",
       "5   A63951%2D3 V4 %2D ESA_Appendix B1_CS 134 Bowma...             3.2   \n",
       "6   A63951%2D3 V4 %2D ESA_Appendix B1_CS 134 Bowma...             3.3   \n",
       "7   A63951%2D3 V4 %2D ESA_Appendix B1_CS 134 Bowma...             3.4   \n",
       "8   A63951%2D3 V4 %2D ESA_Appendix B1_CS 134 Bowma...             4.0   \n",
       "9   A63951%2D3 V4 %2D ESA_Appendix B1_CS 134 Bowma...             5.0   \n",
       "10  A63951%2D3 V4 %2D ESA_Appendix B1_CS 134 Bowma...             6.0   \n",
       "11  A63951%2D3 V4 %2D ESA_Appendix B1_CS 134 Bowma...             7.0   \n",
       "12  A63951%2D3 V4 %2D ESA_Appendix B1_CS 134 Bowma...             7.1   \n",
       "13  A63951%2D3 V4 %2D ESA_Appendix B1_CS 134 Bowma...             7.2   \n",
       "14  A63951%2D3 V4 %2D ESA_Appendix B1_CS 134 Bowma...             8.0   \n",
       "15  A63951%2D3 V4 %2D ESA_Appendix B1_CS 134 Bowma...             8.1   \n",
       "16  A63951%2D3 V4 %2D ESA_Appendix B1_CS 134 Bowma...             8.2   \n",
       "17  A63951%2D3 V4 %2D ESA_Appendix B1_CS 134 Bowma...             8.3   \n",
       "18  A63951%2D3 V4 %2D ESA_Appendix B1_CS 134 Bowma...             9.0   \n",
       "19  A63951%2D3 V4 %2D ESA_Appendix B1_CS 134 Bowma...            10.0   \n",
       "20  A63951%2D3 V4 %2D ESA_Appendix B1_CS 134 Bowma...              99   \n",
       "\n",
       "                                        Chapter_texts  \\\n",
       "0                                Before First Chapter   \n",
       "1                                        INTRODUCTION   \n",
       "2                                             PURPOSE   \n",
       "3          ENVIRONMENTAL PROTECTION PLAN ORGANIZATION   \n",
       "4                                        Organization   \n",
       "5                               Environmental Setting   \n",
       "6                              Non-routine Mitigation   \n",
       "7                        Extent and Limits of the EPP   \n",
       "8                            ENVIRONMENTAL COMPLIANCE   \n",
       "9                   NOTIFICATION OF CONCERNED PARTIES   \n",
       "10                           CONSTRUCTION PREPARATION   \n",
       "11               PROJECT SPECIFIC PROTECTION MEASURES   \n",
       "12              Resource Specific Protection Measures   \n",
       "13    Additional Project-Specific Protection Measures   \n",
       "14                              FACILITY CONSTRUCTION   \n",
       "15          General Environmental Protection Measures   \n",
       "16   Clearing, Topsoil/Strippings Salvage and Grading   \n",
       "17  Compressor Station Site Development and Operat...   \n",
       "18                      INTERIM AND FINAL RECLAMATION   \n",
       "19                                         REFERENCES   \n",
       "20                                           Appendix   \n",
       "\n",
       "                                         Chapter_keys  \\\n",
       "0                              0 Before First Chapter   \n",
       "1                                    1.0 INTRODUCTION   \n",
       "2                                         2.0 PURPOSE   \n",
       "3      3.0 ENVIRONMENTAL PROTECTION PLAN ORGANIZATION   \n",
       "4                                    3.1 Organization   \n",
       "5                           3.2 Environmental Setting   \n",
       "6                          3.3 Non-routine Mitigation   \n",
       "7                    3.4 Extent and Limits of the EPP   \n",
       "8                        4.0 ENVIRONMENTAL COMPLIANCE   \n",
       "9               5.0 NOTIFICATION OF CONCERNED PARTIES   \n",
       "10                       6.0 CONSTRUCTION PREPARATION   \n",
       "11           7.0 PROJECT SPECIFIC PROTECTION MEASURES   \n",
       "12          7.1 Resource Specific Protection Measures   \n",
       "13  7.2 Additional Project-Specific Protection Mea...   \n",
       "14                          8.0 FACILITY CONSTRUCTION   \n",
       "15      8.1 General Environmental Protection Measures   \n",
       "16  8.2 Clearing, Topsoil/Strippings Salvage and G...   \n",
       "17  8.3 Compressor Station Site Development and Op...   \n",
       "18                  9.0 INTERIM AND FINAL RECLAMATION   \n",
       "19                                    10.0 REFERENCES   \n",
       "20                                        99 Appendix   \n",
       "\n",
       "                                        PDF_locations  \n",
       "0   F:/Environmental Baseline Data/Version 2/Data/...  \n",
       "1   F:/Environmental Baseline Data/Version 2/Data/...  \n",
       "2   F:/Environmental Baseline Data/Version 2/Data/...  \n",
       "3   F:/Environmental Baseline Data/Version 2/Data/...  \n",
       "4   F:/Environmental Baseline Data/Version 2/Data/...  \n",
       "5   F:/Environmental Baseline Data/Version 2/Data/...  \n",
       "6   F:/Environmental Baseline Data/Version 2/Data/...  \n",
       "7   F:/Environmental Baseline Data/Version 2/Data/...  \n",
       "8   F:/Environmental Baseline Data/Version 2/Data/...  \n",
       "9   F:/Environmental Baseline Data/Version 2/Data/...  \n",
       "10  F:/Environmental Baseline Data/Version 2/Data/...  \n",
       "11  F:/Environmental Baseline Data/Version 2/Data/...  \n",
       "12  F:/Environmental Baseline Data/Version 2/Data/...  \n",
       "13  F:/Environmental Baseline Data/Version 2/Data/...  \n",
       "14  F:/Environmental Baseline Data/Version 2/Data/...  \n",
       "15  F:/Environmental Baseline Data/Version 2/Data/...  \n",
       "16  F:/Environmental Baseline Data/Version 2/Data/...  \n",
       "17  F:/Environmental Baseline Data/Version 2/Data/...  \n",
       "18  F:/Environmental Baseline Data/Version 2/Data/...  \n",
       "19  F:/Environmental Baseline Data/Version 2/Data/...  \n",
       "20  F:/Environmental Baseline Data/Version 2/Data/...  "
      ]
     },
     "execution_count": 315,
     "metadata": {},
     "output_type": "execute_result"
    }
   ],
   "source": [
    "ChaptersDF = pd.DataFrame({'PDF_names' : PDF_names, \n",
    "                           'Chapter_numbers' : Chapter_numbers, \n",
    "                           'Chapter_texts' : Chapter_texts, \n",
    "                           'Chapter_keys' : chapter_keys, \n",
    "                           'PDF_locations' : PDF_locations}, dtype = str)\n",
    "ChaptersDF"
   ]
  },
  {
   "cell_type": "markdown",
   "metadata": {},
   "source": [
    "# Reading PDF File to find the Chapter Headers"
   ]
  },
  {
   "cell_type": "markdown",
   "metadata": {},
   "source": [
    "Ref -> https://stackoverflow.com/questions/17098675/searching-text-in-a-pdf-using-python"
   ]
  },
  {
   "cell_type": "code",
   "execution_count": 316,
   "metadata": {},
   "outputs": [
    {
     "name": "stdout",
     "output_type": "stream",
     "text": [
      "this is page 0\n",
      "this is page 1\n",
      "this is page 2\n",
      "this is page 3\n",
      "this is page 4\n",
      "this is page 5\n",
      "this is page 6\n",
      "this is page 7\n",
      "this is page 8\n",
      "this is page 9\n",
      "this is page 10\n",
      "this is page 11\n",
      "this is page 12\n",
      "this is page 13\n",
      "this is page 14\n",
      "this is page 15\n",
      "this is page 16\n",
      "this is page 17\n",
      "this is page 18\n",
      "this is page 19\n",
      "this is page 20\n",
      "this is page 21\n",
      "this is page 22\n",
      "this is page 23\n",
      "this is page 24\n",
      "this is page 25\n",
      "this is page 26\n",
      "this is page 27\n",
      "this is page 28\n",
      "this is page 29\n",
      "this is page 30\n",
      "this is page 31\n",
      "this is page 32\n",
      "this is page 33\n",
      "this is page 34\n",
      "this is page 35\n",
      "this is page 36\n",
      "this is page 37\n",
      "this is page 38\n",
      "this is page 39\n",
      "this is page 40\n",
      "this is page 41\n",
      "this is page 42\n",
      "this is page 43\n",
      "this is page 44\n",
      "this is page 45\n",
      "this is page 46\n",
      "this is page 47\n",
      "this is page 48\n",
      "this is page 49\n",
      "this is page 50\n",
      "this is page 51\n",
      "this is page 52\n",
      "this is page 53\n",
      "this is page 54\n",
      "this is page 55\n",
      "this is page 56\n",
      "this is page 57\n",
      "this is page 58\n",
      "this is page 59\n",
      "this is page 60\n",
      "this is page 61\n",
      "this is page 62\n",
      "this is page 63\n",
      "this is page 64\n",
      "this is page 65\n",
      "this is page 66\n",
      "this is page 67\n",
      "this is page 68\n",
      "this is page 69\n",
      "this is page 70\n",
      "this is page 71\n",
      "this is page 72\n",
      "this is page 73\n",
      "this is page 74\n",
      "this is page 75\n",
      "1\n"
     ]
    },
    {
     "data": {
      "text/plain": [
       "[0, 3, 6, 7, 7, 8, 8, 9, 10, 15, 16, 17, 17, 20, 22, 22, 24, 27, 28, 30]"
      ]
     },
     "execution_count": 316,
     "metadata": {},
     "output_type": "execute_result"
    }
   ],
   "source": [
    "pdf_paths = [path_pdf]\n",
    "for pdf_path in pdf_paths:\n",
    "    # open the pdf file\n",
    "    object = PyPDF2.PdfFileReader(path_pdf)\n",
    "       \n",
    "    ############################################\n",
    "    # Here we should call the functions to extract the Chapter Names from the PDFs\n",
    "    # input: Path of the text file \n",
    "    # output: ChaptersDF, chapter_keys\n",
    "    ############################################\n",
    "    \n",
    "    # Searching the extracted Chapter Keys in the PDF and finding their number \n",
    "    \n",
    "    # get number of pages\n",
    "    NumPages = object.getNumPages()    \n",
    "    # chapter_key_index is set as 1 because we dont want to search for\"0 Before First Chapter\"\n",
    "    # the array chapter_key_pages has first element 0 for the same reason\n",
    "    chapter_key_index = 1\n",
    "    chapter_key_page_Nos = [0]\n",
    "    Flag_TOC_over = 0\n",
    "    # extract text and do the search\n",
    "    \n",
    "    for i in range(0, NumPages):\n",
    "        PageObj = object.getPage(i)\n",
    "        #print(\"this is page \" + str(i)) \n",
    "        Text = PageObj.extractText() \n",
    "        Text = Text.lower()\n",
    "        Text = Text.replace(\"\\n\", \"\")\n",
    "        # Text = Text\n",
    "        # print (Text)\n",
    "            \n",
    "        #ResSearch = re.search(chapter_keys[chapter_key_index], Text)\n",
    "        key = chapter_keys[chapter_key_index].lower()\n",
    "        while (key in Text) and (Flag_TOC_over == 1):\n",
    "            chapter_key_page_Nos.append(i)\n",
    "            # print(\"YESSSS Found\")\n",
    "            # print(key)\n",
    "            chapter_key_index = chapter_key_index +1\n",
    "            key = chapter_keys[chapter_key_index].lower()\n",
    "        \n",
    "        if \"table of contents\" in Text:\n",
    "            Flag_TOC_over = 1\n",
    "            chapter_key_index = 1 #Reset the index to start \n",
    "            # print(\"TOC Found\") \n",
    "            \n",
    "print(Flag_TOC_over)\n",
    "chapter_key_page_Nos"
   ]
  },
  {
   "cell_type": "markdown",
   "metadata": {},
   "source": [
    "# Rough Work "
   ]
  },
  {
   "cell_type": "code",
   "execution_count": 242,
   "metadata": {},
   "outputs": [
    {
     "name": "stdout",
     "output_type": "stream",
     "text": [
      "13 environmental impact assessment and mitigation plan\n",
      "this is page 24\n",
      " environmental \n",
      "impact \n",
      "assessmentand \n",
      "mitigation \n",
      "plan\n",
      " page 13-1\n",
      "   encana ekwan pipeline inc. \n",
      "13 environmental impact assessment and mitigation plan \n",
      "13.1 introduction 13.1.1 project background \n",
      "encana ekwan pipeline inc. (encana ekwan) is\n",
      " proposing to construct the ekwan pipeline \n",
      "(the project) to carry sweet \n",
      "natural gas from encana™s sierra plant located in the \n",
      "sierra/kyklo gas field in northeastern brit\n",
      "ish columbia to the existing nova gas \n",
      "transmission ltd. (ngtl) pipeline system \n",
      "west of rainbow lake, alberta (see \n",
      "figure 13.1-1). as part of its f\n",
      "iling requirements to the nationa\n",
      "l energy board (neb) for an \n",
      "application for the pipeline, made\n",
      " pursuant to section 52 of the \n",
      "national energy board act\n",
      ", encana ekwan has retained axys environmental\n",
      " consulting ltd. (\n",
      "axys) to prepare this \n",
      "environmental impact assessment (eia) document \n",
      "to identify key bioph\n",
      "ysical resources in \n",
      "the project area, the nat\n",
      "ure of anticipated project effects on these resources, and mitigation \n",
      "plans for minimizing such effects.  \n",
      "more details on the project ar\n",
      "e provided in section 13.2 of\n",
      " this eia document and in \n",
      "volume 1 of the application. 13.1.2 regulatory setting \n",
      "this pipeline is regulated under the \n",
      "national energy board act\n",
      " (the act) as it crosses a \n",
      "provincial border. pursuant to the act, encana ek\n",
      "wan is required to submit environmental \n",
      "information pertaining to the projec\n",
      "t as outlined in part vii of the \n",
      "guidelines for filing \n",
      "requirements\n",
      " (neb 1995). in addition, the work required in and about navigable streams to \n",
      "construct the pipeline will require \n",
      "approvals under the section 108 of the \n",
      "navigable waters \n",
      "protection act. the project will be subjected to review under the \n",
      "canadian environmental assessment act \n",
      "(ceaa), with the neb and canadian coast guar\n",
      "d serving as responsible authorities. \n",
      "environment canada and fisheries and oceans c\n",
      "anada are supporting federal authorities \n",
      "participating in the review of this project.  \n",
      "YESSSS Found\n"
     ]
    }
   ],
   "source": [
    "i = 24\n",
    "object = PyPDF2.PdfFileReader(path_pdf)\n",
    "key = chapter_keys[1].lower()\n",
    "print(key)\n",
    "\n",
    "PageObj = object.getPage(i)\n",
    "print(\"this is page \" + str(i)) \n",
    "Text = PageObj.extractText() \n",
    "Text = Text.lower()\n",
    "print(Text)\n",
    "\n",
    "\n",
    "if key in Text:\n",
    "    print(\"YESSSS Found\")\n",
    "else:\n",
    "    print(\"NOOOOOOOOO\")\n",
    "    \n"
   ]
  },
  {
   "cell_type": "code",
   "execution_count": null,
   "metadata": {},
   "outputs": [],
   "source": [
    "Flag_TOC_over"
   ]
  },
  {
   "cell_type": "code",
   "execution_count": 225,
   "metadata": {},
   "outputs": [
    {
     "data": {
      "text/plain": [
       "'table of contents'"
      ]
     },
     "execution_count": 225,
     "metadata": {},
     "output_type": "execute_result"
    }
   ],
   "source": [
    "\"Table of Contents\".lower()"
   ]
  },
  {
   "cell_type": "code",
   "execution_count": 197,
   "metadata": {},
   "outputs": [],
   "source": [
    "i = 24\n",
    "Text = \"13 environmental impact assessment and mitigation plan\"\n",
    "while (\"13 Environmental Impact Assessment and Mitigation Plan\".lower() in Text) and (i <10):\n",
    "    print(\"YESSSS Found\")\n",
    "    \n",
    "    i = i+1"
   ]
  },
  {
   "cell_type": "code",
   "execution_count": 195,
   "metadata": {},
   "outputs": [
    {
     "name": "stdout",
     "output_type": "stream",
     "text": [
      "this is page 1\n",
      " environmental \n",
      "impact \n",
      "assessmentand \n",
      "mitigation \n",
      "plan\n",
      "page 13.ii   encana ekwan pipeline inc. \n",
      "table of contents 13 environmental impact assessment and mitigation plan............................................................13-1\n",
      " 13.1 introduction..............................................................................................................\n",
      "............13-1 \n",
      "13.1.1 project background...............................................................................................13-1 \n",
      "\n",
      "13.1.2 regulatory setting................................................................................................13-1 \n",
      "\n",
      "13.1.3 scope of environmental assessment....................................................................13-3 \n",
      "13.2 project description.......................................................................................................\n",
      "........13-4 \n",
      "13.2.1 scope of project....................................................................................................13-4\n",
      " 13.2.2 pipeline details.....................................................................................................13-\n",
      "4 13.2.2.1 routing alternatives...........................................................................13-4 \n",
      "\n",
      "13.2.2.2 pipeline details...................................................................................13-9 \n",
      "13.2.3 other facilities....................................................................................................13-1\n",
      "0 13.2.3.1 ngtl meter station.........................................................................13-10 \n",
      "13.2.4 construction........................................................................................................13-1\n",
      "0 13.2.4.1 schedule and sequencing.................................................................13-10 \n",
      "\n",
      "13.2.4.2 temporary construction facilities...................................................13-10 \n",
      "\n",
      "13.2.4.3 access requirements........................................................................13-11 \n",
      "13.2.5 operational activities.........................................................................................13-11 \n",
      "13.3 assessment methods........................................................................................................\n",
      "..13-13 \n",
      "13.3.1 issues scoping.....................................................................................................13-13\n",
      " 13.3.1.1 early public notification..................................................................13-13 \n",
      "\n",
      "13.3.1.2 traditional knowledge.....................................................................13-13 \n",
      "\n",
      "13.3.1.3 internal scoping................................................................................13-14 \n",
      "13.3.2 defining impact parameters...............................................................................13-14 \n",
      "\n",
      "13.3.3 study areas.........................................................................................................13-1\n",
      "4 13.3.4 assessment scenarios.........................................................................................13-14 \n",
      "\n",
      "13.3.5 identifying mitigation options...........................................................................13-15 \n",
      "\n",
      "13.3.6 quantifying residual project effects.................................................................13-15 \n",
      "\n",
      "13.3.7 cumulative effects implications........................................................................13-16 \n",
      "\n",
      "13.3.8 follow-up and monitoring..................................................................................13-18 \n",
      "13.4 air.......................................................................................................................\n",
      "...............13-19 \n",
      "13.4.1 baseline setting..................................................................................................13-19 \n",
      "13.4.1.1 site description.................................................................................13-19 \n",
      "\n",
      "13.4.1.2 climate..............................................................................................13-19 \n",
      "\n",
      "13.4.1.3 precipitation......................................................................................13-20 \n",
      "\n",
      "13.4.1.4 wind..................................................................................................13-24 \n",
      "\n",
      "13.4.1.5 emission sources..............................................................................13-27 \n",
      "13.4.2 results of issues scoping...................................................................................13-27 \n",
      "13.4.2.1 project effects analysis....................................................................13-27 \n",
      "\n",
      "13.4.2.2 key impact questions.......................................................................13-28 \n",
      "13.4.3 study areas.........................................................................................................13-2\n",
      "9 13.4.4 assessment scenarios.........................................................................................13-29 \n",
      "13.4.4.1 construction scenario.......................................................................13-29 \n",
      "\n"
     ]
    }
   ],
   "source": [
    "i = 1\n",
    "\n",
    "PageObj = object.getPage(i)\n",
    "print(\"this is page \" + str(i)) \n",
    "Text = PageObj.extractText() \n",
    "Text = Text.lower()\n",
    "    \n",
    "print(Text)\n",
    "\n",
    "while (\"13 Environmental Impact Assessment and Mitigation Plan\".lower() in Text) and (i >1):\n",
    "    print(\"YESSSS Found\")\n",
    "    \n",
    "    i = i+1\n"
   ]
  },
  {
   "cell_type": "code",
   "execution_count": null,
   "metadata": {},
   "outputs": [],
   "source": []
  },
  {
   "cell_type": "code",
   "execution_count": null,
   "metadata": {},
   "outputs": [],
   "source": []
  },
  {
   "cell_type": "code",
   "execution_count": 186,
   "metadata": {},
   "outputs": [
    {
     "data": {
      "text/plain": [
       "'13  environmental impact assessment and mitigation plan'"
      ]
     },
     "execution_count": 186,
     "metadata": {},
     "output_type": "execute_result"
    }
   ],
   "source": [
    "\"13  Environmental Impact Assessment and Mitigation Plan\".lower()"
   ]
  },
  {
   "cell_type": "code",
   "execution_count": 187,
   "metadata": {},
   "outputs": [
    {
     "data": {
      "text/plain": [
       "' environmental \\nimpact \\nassessmentand \\nmitigation \\nplan\\n page 13-1\\n   encana ekwan pipeline inc. \\n13 environmental impact assessment and mitigation plan \\n13.1 introduction 13.1.1 project background \\nencana ekwan pipeline inc. (encana ekwan) is\\n proposing to construct the ekwan pipeline \\n(the project) to carry sweet \\nnatural gas from encana™s sierra plant located in the \\nsierra/kyklo gas field in northeastern brit\\nish columbia to the existing nova gas \\ntransmission ltd. (ngtl) pipeline system \\nwest of rainbow lake, alberta (see \\nfigure 13.1-1). as part of its f\\niling requirements to the nationa\\nl energy board (neb) for an \\napplication for the pipeline, made\\n pursuant to section 52 of the \\nnational energy board act\\n, encana ekwan has retained axys environmental\\n consulting ltd. (\\naxys) to prepare this \\nenvironmental impact assessment (eia) document \\nto identify key bioph\\nysical resources in \\nthe project area, the nat\\nure of anticipated project effects on these resources, and mitigation \\nplans for minimizing such effects.  \\nmore details on the project ar\\ne provided in section 13.2 of\\n this eia document and in \\nvolume 1 of the application. 13.1.2 regulatory setting \\nthis pipeline is regulated under the \\nnational energy board act\\n (the act) as it crosses a \\nprovincial border. pursuant to the act, encana ek\\nwan is required to submit environmental \\ninformation pertaining to the projec\\nt as outlined in part vii of the \\nguidelines for filing \\nrequirements\\n (neb 1995). in addition, the work required in and about navigable streams to \\nconstruct the pipeline will require \\napprovals under the section 108 of the \\nnavigable waters \\nprotection act. the project will be subjected to review under the \\ncanadian environmental assessment act \\n(ceaa), with the neb and canadian coast guar\\nd serving as responsible authorities. \\nenvironment canada and fisheries and oceans c\\nanada are supporting federal authorities \\nparticipating in the review of this project.  '"
      ]
     },
     "execution_count": 187,
     "metadata": {},
     "output_type": "execute_result"
    }
   ],
   "source": [
    "Text"
   ]
  },
  {
   "cell_type": "code",
   "execution_count": null,
   "metadata": {},
   "outputs": [],
   "source": [
    "sub = \"gh\"\n",
    "MString = \"Vibudh Singh\"\n",
    "\n",
    "ResSearch = re.search(sub, MString)\n",
    "ResSearch"
   ]
  },
  {
   "cell_type": "code",
   "execution_count": 128,
   "metadata": {},
   "outputs": [
    {
     "name": "stdout",
     "output_type": "stream",
     "text": [
      "1\n",
      "2\n",
      "True\n",
      "3\n",
      "4\n"
     ]
    }
   ],
   "source": [
    "for i in range(1,5):\n",
    "    print(i) \n",
    "    if i == 2:\n",
    "        print(True)\n",
    "        i = i-1"
   ]
  },
  {
   "cell_type": "code",
   "execution_count": null,
   "metadata": {},
   "outputs": [],
   "source": []
  },
  {
   "cell_type": "code",
   "execution_count": 53,
   "metadata": {},
   "outputs": [
    {
     "data": {
      "text/plain": [
       "77"
      ]
     },
     "execution_count": 53,
     "metadata": {},
     "output_type": "execute_result"
    },
    {
     "data": {
      "text/plain": [
       "96"
      ]
     },
     "execution_count": 53,
     "metadata": {},
     "output_type": "execute_result"
    },
    {
     "data": {
      "text/plain": [
       "133"
      ]
     },
     "execution_count": 53,
     "metadata": {},
     "output_type": "execute_result"
    }
   ],
   "source": [
    "len(\"Figure 13.4-4  Mean Monthly Precipitation and Number of Days with Measurable\\n\")\n",
    "len(\"Figure 13.7-2  Woodland Caribou Habitat Availability during the Early Winter Season..... 13-113\\n\")\n",
    "len(\"Figure 13D.A-8  Typical Existing Bridge ...........................................................................................9\\n\",)"
   ]
  },
  {
   "cell_type": "code",
   "execution_count": 96,
   "metadata": {},
   "outputs": [
    {
     "data": {
      "text/plain": [
       "2"
      ]
     },
     "execution_count": 96,
     "metadata": {},
     "output_type": "execute_result"
    }
   ],
   "source": [
    "chapter = chapter_keys[2]\n",
    "index = chapter.index(\".\")\n",
    "index"
   ]
  },
  {
   "cell_type": "code",
   "execution_count": 67,
   "metadata": {},
   "outputs": [
    {
     "data": {
      "text/html": [
       "<div>\n",
       "<style scoped>\n",
       "    .dataframe tbody tr th:only-of-type {\n",
       "        vertical-align: middle;\n",
       "    }\n",
       "\n",
       "    .dataframe tbody tr th {\n",
       "        vertical-align: top;\n",
       "    }\n",
       "\n",
       "    .dataframe thead th {\n",
       "        text-align: right;\n",
       "    }\n",
       "</style>\n",
       "<table border=\"1\" class=\"dataframe\">\n",
       "  <thead>\n",
       "    <tr style=\"text-align: right;\">\n",
       "      <th></th>\n",
       "      <th>col1</th>\n",
       "      <th>col2</th>\n",
       "    </tr>\n",
       "  </thead>\n",
       "  <tbody>\n",
       "    <tr>\n",
       "      <th>0</th>\n",
       "      <td>1</td>\n",
       "      <td>3</td>\n",
       "    </tr>\n",
       "    <tr>\n",
       "      <th>1</th>\n",
       "      <td>2</td>\n",
       "      <td>4</td>\n",
       "    </tr>\n",
       "  </tbody>\n",
       "</table>\n",
       "</div>"
      ],
      "text/plain": [
       "   col1  col2\n",
       "0     1     3\n",
       "1     2     4"
      ]
     },
     "execution_count": 67,
     "metadata": {},
     "output_type": "execute_result"
    }
   ],
   "source": [
    "d = {'col1': [1, 2], 'col2': [3, 4]}\n",
    "df = pd.DataFrame(data=d)\n",
    "df"
   ]
  },
  {
   "cell_type": "code",
   "execution_count": 69,
   "metadata": {},
   "outputs": [
    {
     "data": {
      "text/html": [
       "<div>\n",
       "<style scoped>\n",
       "    .dataframe tbody tr th:only-of-type {\n",
       "        vertical-align: middle;\n",
       "    }\n",
       "\n",
       "    .dataframe tbody tr th {\n",
       "        vertical-align: top;\n",
       "    }\n",
       "\n",
       "    .dataframe thead th {\n",
       "        text-align: right;\n",
       "    }\n",
       "</style>\n",
       "<table border=\"1\" class=\"dataframe\">\n",
       "  <thead>\n",
       "    <tr style=\"text-align: right;\">\n",
       "      <th></th>\n",
       "      <th>a</th>\n",
       "      <th>b</th>\n",
       "      <th>c</th>\n",
       "    </tr>\n",
       "  </thead>\n",
       "  <tbody>\n",
       "    <tr>\n",
       "      <th>0</th>\n",
       "      <td>1</td>\n",
       "      <td>2</td>\n",
       "      <td>3</td>\n",
       "    </tr>\n",
       "    <tr>\n",
       "      <th>1</th>\n",
       "      <td>4</td>\n",
       "      <td>5</td>\n",
       "      <td>6</td>\n",
       "    </tr>\n",
       "    <tr>\n",
       "      <th>2</th>\n",
       "      <td>7</td>\n",
       "      <td>8</td>\n",
       "      <td>9</td>\n",
       "    </tr>\n",
       "  </tbody>\n",
       "</table>\n",
       "</div>"
      ],
      "text/plain": [
       "   a  b  c\n",
       "0  1  2  3\n",
       "1  4  5  6\n",
       "2  7  8  9"
      ]
     },
     "execution_count": 69,
     "metadata": {},
     "output_type": "execute_result"
    }
   ],
   "source": [
    "df2 = pd.DataFrame(np.array([[1, 2, 3], [4, 5, 6], [7, 8, 9]]),\n",
    "                    columns=['a', 'b', 'c'])\n",
    "df2"
   ]
  },
  {
   "cell_type": "code",
   "execution_count": null,
   "metadata": {},
   "outputs": [],
   "source": []
  }
 ],
 "metadata": {
  "kernelspec": {
   "display_name": "Python 3",
   "language": "python",
   "name": "python3"
  },
  "language_info": {
   "codemirror_mode": {
    "name": "ipython",
    "version": 3
   },
   "file_extension": ".py",
   "mimetype": "text/x-python",
   "name": "python",
   "nbconvert_exporter": "python",
   "pygments_lexer": "ipython3",
   "version": "3.7.3"
  }
 },
 "nbformat": 4,
 "nbformat_minor": 2
}
