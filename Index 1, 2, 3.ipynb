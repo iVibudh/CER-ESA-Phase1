{
 "cells": [
  {
   "cell_type": "code",
   "execution_count": 1,
   "metadata": {},
   "outputs": [],
   "source": [
    "#this code reads projects from master file, combines data from RTS\n",
    "#this code downloads ESAs from section 52 applications\n",
    "\n",
    "import pandas as pd\n",
    "import os\n",
    "import requests\n",
    "from bs4 import BeautifulSoup as bs\n",
    "import wget\n",
    "from IPython.core.interactiveshell import InteractiveShell\n",
    "InteractiveShell.ast_node_interactivity = \"all\""
   ]
  },
  {
   "cell_type": "markdown",
   "metadata": {},
   "source": [
    "## Folder analysis on PDFs and CSVs"
   ]
  },
  {
   "cell_type": "code",
   "execution_count": 2,
   "metadata": {},
   "outputs": [],
   "source": [
    "csv_path = 'F:/Environmental Baseline Data/Version 2/Data/CSV'  \n",
    "csv_paths = os.listdir(csv_path)\n",
    "list_csvs_full_path = [csv_path +  '/' + str(x) for x in csv_paths]\n",
    "\n",
    "pdf_path = 'F:/Environmental Baseline Data/Version 2/Data/PDFs'  \n",
    "pdf_paths = os.listdir(pdf_path)\n",
    "list_pdfs_full_path = [pdf_path +  '/' + str(x) for x in pdf_paths]\n",
    "\n",
    "# len(all_paths_folder)len(all_paths_folder)"
   ]
  },
  {
   "cell_type": "code",
   "execution_count": 3,
   "metadata": {},
   "outputs": [
    {
     "data": {
      "text/plain": [
       "1322"
      ]
     },
     "execution_count": 3,
     "metadata": {},
     "output_type": "execute_result"
    },
    {
     "data": {
      "text/plain": [
       "25077"
      ]
     },
     "execution_count": 3,
     "metadata": {},
     "output_type": "execute_result"
    }
   ],
   "source": [
    "#number of files in each folder\n",
    "len(list_pdfs_full_path)\n",
    "len(list_csvs_full_path)\n"
   ]
  },
  {
   "cell_type": "code",
   "execution_count": 4,
   "metadata": {},
   "outputs": [
    {
     "data": {
      "text/plain": [
       "2"
      ]
     },
     "execution_count": 4,
     "metadata": {},
     "output_type": "execute_result"
    },
    {
     "data": {
      "text/html": [
       "<div>\n",
       "<style scoped>\n",
       "    .dataframe tbody tr th:only-of-type {\n",
       "        vertical-align: middle;\n",
       "    }\n",
       "\n",
       "    .dataframe tbody tr th {\n",
       "        vertical-align: top;\n",
       "    }\n",
       "\n",
       "    .dataframe thead th {\n",
       "        text-align: right;\n",
       "    }\n",
       "</style>\n",
       "<table border=\"1\" class=\"dataframe\">\n",
       "  <thead>\n",
       "    <tr style=\"text-align: right;\">\n",
       "      <th></th>\n",
       "      <th>pdf path</th>\n",
       "      <th>postal</th>\n",
       "    </tr>\n",
       "  </thead>\n",
       "  <tbody>\n",
       "    <tr>\n",
       "      <th>1320</th>\n",
       "      <td>F:/Environmental Baseline Data/Version 2/Data/...</td>\n",
       "      <td>NaN</td>\n",
       "    </tr>\n",
       "    <tr>\n",
       "      <th>1321</th>\n",
       "      <td>F:/Environmental Baseline Data/Version 2/Data/...</td>\n",
       "      <td>NaN</td>\n",
       "    </tr>\n",
       "  </tbody>\n",
       "</table>\n",
       "</div>"
      ],
      "text/plain": [
       "                                               pdf path postal\n",
       "1320  F:/Environmental Baseline Data/Version 2/Data/...    NaN\n",
       "1321  F:/Environmental Baseline Data/Version 2/Data/...    NaN"
      ]
     },
     "execution_count": 4,
     "metadata": {},
     "output_type": "execute_result"
    }
   ],
   "source": [
    "#extract postal from pdfs\n",
    "\n",
    "pdfs_df = pd.DataFrame(list_pdfs_full_path)\n",
    "pdfs_df.columns = ['pdf path']\n",
    "postal_series = pdfs_df['pdf path'].str.extract('([a-zA-Z]\\d[a-zA-Z]\\d[a-zA-Z]\\d)')\n",
    "pdfs_df.insert(1, 'postal', postal_series)\n",
    "\n",
    "#check for nulls\n",
    "pdfs_df['postal'].isnull().sum()\n",
    "pdfs_df.loc[pdfs_df['postal'].isnull()] \n"
   ]
  },
  {
   "cell_type": "code",
   "execution_count": 5,
   "metadata": {},
   "outputs": [
    {
     "data": {
      "text/plain": [
       "0"
      ]
     },
     "execution_count": 5,
     "metadata": {},
     "output_type": "execute_result"
    },
    {
     "data": {
      "text/plain": [
       "0"
      ]
     },
     "execution_count": 5,
     "metadata": {},
     "output_type": "execute_result"
    }
   ],
   "source": [
    "#extract postal from csvs\n",
    "csvs_df = pd.DataFrame(list_csvs_full_path)\n",
    "csvs_df.columns = ['csv path']\n",
    "postal_series = csvs_df['csv path'].str.extract('([a-zA-Z]\\d[a-zA-Z]\\d[a-zA-Z]\\d)')\n",
    "csvs_df.insert(1, 'postal', postal_series)\n",
    "csvs_df['postal'].isnull().sum()\n",
    "\n",
    "csvs_df['postal'].isnull().sum()\n",
    "nulls = csvs_df.loc[csvs_df['postal'].isnull()] "
   ]
  },
  {
   "cell_type": "code",
   "execution_count": 6,
   "metadata": {},
   "outputs": [
    {
     "data": {
      "text/plain": [
       "25077"
      ]
     },
     "execution_count": 6,
     "metadata": {},
     "output_type": "execute_result"
    },
    {
     "data": {
      "text/plain": [
       "796"
      ]
     },
     "execution_count": 6,
     "metadata": {},
     "output_type": "execute_result"
    },
    {
     "data": {
      "text/plain": [
       "1322"
      ]
     },
     "execution_count": 6,
     "metadata": {},
     "output_type": "execute_result"
    },
    {
     "data": {
      "text/plain": [
       "1317"
      ]
     },
     "execution_count": 6,
     "metadata": {},
     "output_type": "execute_result"
    },
    {
     "data": {
      "text/plain": [
       "0.6044039483675019"
      ]
     },
     "execution_count": 6,
     "metadata": {},
     "output_type": "execute_result"
    }
   ],
   "source": [
    "# csvs extracted from documents; \n",
    "len(csvs_df['postal'])\n",
    "csvs_df['postal'].nunique()\n",
    "csvs_df['postal upper'] = csvs_df['postal'].str.upper()\n",
    "\n",
    "len(pdfs_df['postal'])\n",
    "pdfs_df['postal'].nunique()\n",
    "pdfs_df['postal upper'] = pdfs_df['postal'].str.upper()\n",
    "\n",
    "csvs_df['postal'].nunique()/pdfs_df['postal'].nunique()"
   ]
  },
  {
   "cell_type": "markdown",
   "metadata": {},
   "source": [
    "## Create Index 2"
   ]
  },
  {
   "cell_type": "code",
   "execution_count": 7,
   "metadata": {},
   "outputs": [
    {
     "data": {
      "text/html": [
       "<div>\n",
       "<style scoped>\n",
       "    .dataframe tbody tr th:only-of-type {\n",
       "        vertical-align: middle;\n",
       "    }\n",
       "\n",
       "    .dataframe tbody tr th {\n",
       "        vertical-align: top;\n",
       "    }\n",
       "\n",
       "    .dataframe thead th {\n",
       "        text-align: right;\n",
       "    }\n",
       "</style>\n",
       "<table border=\"1\" class=\"dataframe\">\n",
       "  <thead>\n",
       "    <tr style=\"text-align: right;\">\n",
       "      <th></th>\n",
       "      <th>csv path</th>\n",
       "      <th>postal_x</th>\n",
       "      <th>postal upper</th>\n",
       "      <th>pdf path</th>\n",
       "      <th>postal_y</th>\n",
       "    </tr>\n",
       "  </thead>\n",
       "  <tbody>\n",
       "    <tr>\n",
       "      <th>0</th>\n",
       "      <td>F:/Environmental Baseline Data/Version 2/Data/...</td>\n",
       "      <td>A0H8C0</td>\n",
       "      <td>A0H8C0</td>\n",
       "      <td>F:/Environmental Baseline Data/Version 2/Data/...</td>\n",
       "      <td>A0H8C0</td>\n",
       "    </tr>\n",
       "    <tr>\n",
       "      <th>1</th>\n",
       "      <td>F:/Environmental Baseline Data/Version 2/Data/...</td>\n",
       "      <td>A0H8C0</td>\n",
       "      <td>A0H8C0</td>\n",
       "      <td>F:/Environmental Baseline Data/Version 2/Data/...</td>\n",
       "      <td>A0H8C0</td>\n",
       "    </tr>\n",
       "    <tr>\n",
       "      <th>2</th>\n",
       "      <td>F:/Environmental Baseline Data/Version 2/Data/...</td>\n",
       "      <td>A0H8C0</td>\n",
       "      <td>A0H8C0</td>\n",
       "      <td>F:/Environmental Baseline Data/Version 2/Data/...</td>\n",
       "      <td>A0H8C0</td>\n",
       "    </tr>\n",
       "    <tr>\n",
       "      <th>3</th>\n",
       "      <td>F:/Environmental Baseline Data/Version 2/Data/...</td>\n",
       "      <td>A0H8C0</td>\n",
       "      <td>A0H8C0</td>\n",
       "      <td>F:/Environmental Baseline Data/Version 2/Data/...</td>\n",
       "      <td>A0H8C0</td>\n",
       "    </tr>\n",
       "    <tr>\n",
       "      <th>4</th>\n",
       "      <td>F:/Environmental Baseline Data/Version 2/Data/...</td>\n",
       "      <td>A0H8C0</td>\n",
       "      <td>A0H8C0</td>\n",
       "      <td>F:/Environmental Baseline Data/Version 2/Data/...</td>\n",
       "      <td>A0H8C0</td>\n",
       "    </tr>\n",
       "  </tbody>\n",
       "</table>\n",
       "</div>"
      ],
      "text/plain": [
       "                                            csv path postal_x postal upper  \\\n",
       "0  F:/Environmental Baseline Data/Version 2/Data/...   A0H8C0       A0H8C0   \n",
       "1  F:/Environmental Baseline Data/Version 2/Data/...   A0H8C0       A0H8C0   \n",
       "2  F:/Environmental Baseline Data/Version 2/Data/...   A0H8C0       A0H8C0   \n",
       "3  F:/Environmental Baseline Data/Version 2/Data/...   A0H8C0       A0H8C0   \n",
       "4  F:/Environmental Baseline Data/Version 2/Data/...   A0H8C0       A0H8C0   \n",
       "\n",
       "                                            pdf path postal_y  \n",
       "0  F:/Environmental Baseline Data/Version 2/Data/...   A0H8C0  \n",
       "1  F:/Environmental Baseline Data/Version 2/Data/...   A0H8C0  \n",
       "2  F:/Environmental Baseline Data/Version 2/Data/...   A0H8C0  \n",
       "3  F:/Environmental Baseline Data/Version 2/Data/...   A0H8C0  \n",
       "4  F:/Environmental Baseline Data/Version 2/Data/...   A0H8C0  "
      ]
     },
     "execution_count": 7,
     "metadata": {},
     "output_type": "execute_result"
    },
    {
     "data": {
      "text/plain": [
       "(25154, 5)"
      ]
     },
     "execution_count": 7,
     "metadata": {},
     "output_type": "execute_result"
    },
    {
     "data": {
      "text/plain": [
       "0"
      ]
     },
     "execution_count": 7,
     "metadata": {},
     "output_type": "execute_result"
    }
   ],
   "source": [
    "df3 = csvs_df.merge(pdfs_df, on = 'postal upper')\n",
    "df3.head()\n",
    "df3.shape\n",
    "df3.to_csv('test1.csv')\n",
    "df3['postal upper'].isnull().sum()\n",
    "nulls_df3 = df3.loc[df3['postal upper'].isnull()]  "
   ]
  },
  {
   "cell_type": "code",
   "execution_count": 8,
   "metadata": {},
   "outputs": [
    {
     "data": {
      "text/plain": [
       "796"
      ]
     },
     "execution_count": 8,
     "metadata": {},
     "output_type": "execute_result"
    },
    {
     "data": {
      "text/plain": [
       "25154"
      ]
     },
     "execution_count": 8,
     "metadata": {},
     "output_type": "execute_result"
    }
   ],
   "source": [
    "df3['postal upper'].nunique()\n",
    "len(df3['postal upper'])"
   ]
  },
  {
   "cell_type": "code",
   "execution_count": 9,
   "metadata": {},
   "outputs": [
    {
     "data": {
      "text/plain": [
       "(522, 1)"
      ]
     },
     "execution_count": 9,
     "metadata": {},
     "output_type": "execute_result"
    }
   ],
   "source": [
    "#identify pdfs with no tables\n",
    "total_pdfs_list = list(pdfs_df['postal upper'].unique())\n",
    "total_csv_list = list(df3['postal upper'].unique())\n",
    "pdfs_no_tables = list(set(total_pdfs_list) - set(total_csv_list))\n",
    "pdfs_no_tables_df = pd.DataFrame(pdfs_no_tables)\n",
    "pdfs_no_tables_df.shape\n",
    "pdfs_no_tables_df.to_csv('PDFs with no tables.csv')\n",
    "#"
   ]
  },
  {
   "cell_type": "markdown",
   "metadata": {},
   "source": [
    "## Add Project Name to Index 2"
   ]
  },
  {
   "cell_type": "code",
   "execution_count": 10,
   "metadata": {},
   "outputs": [
    {
     "data": {
      "text/plain": [
       "(67, 6)"
      ]
     },
     "execution_count": 10,
     "metadata": {},
     "output_type": "execute_result"
    },
    {
     "data": {
      "text/plain": [
       "36"
      ]
     },
     "execution_count": 10,
     "metadata": {},
     "output_type": "execute_result"
    },
    {
     "data": {
      "text/plain": [
       "1342"
      ]
     },
     "execution_count": 10,
     "metadata": {},
     "output_type": "execute_result"
    },
    {
     "data": {
      "text/html": [
       "<div>\n",
       "<style scoped>\n",
       "    .dataframe tbody tr th:only-of-type {\n",
       "        vertical-align: middle;\n",
       "    }\n",
       "\n",
       "    .dataframe tbody tr th {\n",
       "        vertical-align: top;\n",
       "    }\n",
       "\n",
       "    .dataframe thead th {\n",
       "        text-align: right;\n",
       "    }\n",
       "</style>\n",
       "<table border=\"1\" class=\"dataframe\">\n",
       "  <thead>\n",
       "    <tr style=\"text-align: right;\">\n",
       "      <th></th>\n",
       "      <th>file_name</th>\n",
       "      <th>hrefs</th>\n",
       "      <th>folder</th>\n",
       "      <th>Folder link</th>\n",
       "    </tr>\n",
       "  </thead>\n",
       "  <tbody>\n",
       "    <tr>\n",
       "      <th>5</th>\n",
       "      <td>A0H8C0 - 13.0 EIA - Section 13.1 to 13.6</td>\n",
       "      <td>/REGDOCS/File/Download/268706</td>\n",
       "      <td>https://apps.cer-rec.gc.ca/REGDOCS/Item/LoadRe...</td>\n",
       "      <td>268693</td>\n",
       "    </tr>\n",
       "    <tr>\n",
       "      <th>6</th>\n",
       "      <td>A0H8C1 - 13.0 EIA - Section 13.7 Wildlife Part 1</td>\n",
       "      <td>/REGDOCS/File/Download/268709</td>\n",
       "      <td>https://apps.cer-rec.gc.ca/REGDOCS/Item/LoadRe...</td>\n",
       "      <td>268693</td>\n",
       "    </tr>\n",
       "    <tr>\n",
       "      <th>7</th>\n",
       "      <td>A0H8C2 - 13.0 EIA - Section 13.7 Wildlife Part 2</td>\n",
       "      <td>/REGDOCS/File/Download/268712</td>\n",
       "      <td>https://apps.cer-rec.gc.ca/REGDOCS/Item/LoadRe...</td>\n",
       "      <td>268693</td>\n",
       "    </tr>\n",
       "    <tr>\n",
       "      <th>8</th>\n",
       "      <td>A0H8C3 - 13.0 EIA - Section 13.8 to 13.13</td>\n",
       "      <td>/REGDOCS/File/Download/269018</td>\n",
       "      <td>https://apps.cer-rec.gc.ca/REGDOCS/Item/LoadRe...</td>\n",
       "      <td>268693</td>\n",
       "    </tr>\n",
       "    <tr>\n",
       "      <th>9</th>\n",
       "      <td>A0H8C4 - 13.1 App 13A - Alignment Sheets</td>\n",
       "      <td>/REGDOCS/File/Download/269021</td>\n",
       "      <td>https://apps.cer-rec.gc.ca/REGDOCS/Item/LoadRe...</td>\n",
       "      <td>268693</td>\n",
       "    </tr>\n",
       "  </tbody>\n",
       "</table>\n",
       "</div>"
      ],
      "text/plain": [
       "                                           file_name  \\\n",
       "5          A0H8C0 - 13.0 EIA - Section 13.1 to 13.6    \n",
       "6   A0H8C1 - 13.0 EIA - Section 13.7 Wildlife Part 1   \n",
       "7  A0H8C2 - 13.0 EIA - Section 13.7 Wildlife Part 2    \n",
       "8          A0H8C3 - 13.0 EIA - Section 13.8 to 13.13   \n",
       "9           A0H8C4 - 13.1 App 13A - Alignment Sheets   \n",
       "\n",
       "                           hrefs  \\\n",
       "5  /REGDOCS/File/Download/268706   \n",
       "6  /REGDOCS/File/Download/268709   \n",
       "7  /REGDOCS/File/Download/268712   \n",
       "8  /REGDOCS/File/Download/269018   \n",
       "9  /REGDOCS/File/Download/269021   \n",
       "\n",
       "                                              folder  Folder link  \n",
       "5  https://apps.cer-rec.gc.ca/REGDOCS/Item/LoadRe...       268693  \n",
       "6  https://apps.cer-rec.gc.ca/REGDOCS/Item/LoadRe...       268693  \n",
       "7  https://apps.cer-rec.gc.ca/REGDOCS/Item/LoadRe...       268693  \n",
       "8  https://apps.cer-rec.gc.ca/REGDOCS/Item/LoadRe...       268693  \n",
       "9  https://apps.cer-rec.gc.ca/REGDOCS/Item/LoadRe...       268693  "
      ]
     },
     "execution_count": 10,
     "metadata": {},
     "output_type": "execute_result"
    },
    {
     "data": {
      "text/plain": [
       "1342"
      ]
     },
     "execution_count": 10,
     "metadata": {},
     "output_type": "execute_result"
    }
   ],
   "source": [
    "#list of ESAs by project\n",
    "\n",
    "master = pd.read_csv('F:/Environmental Baseline Data/Version 2/Support files/list_of_Section_52_projects.csv', encoding='ISO-8859-1')\n",
    "master.shape\n",
    "master['Application title'].nunique()\n",
    "\n",
    "#convert links\n",
    "urls_list = master['link to folder with ESA'].tolist()\n",
    "urls_list_load = [str(x).replace('https://apps.cer-rec.gc.ca/REGDOCS/Item/View/', \n",
    "                                 'https://apps.cer-rec.gc.ca/REGDOCS/Item/LoadResult/') for x in urls_list]\n",
    "\n",
    "all_esa = []\n",
    "\n",
    "for x in urls_list_load:\n",
    "    cookies = {'RDI-NumberOfRecords': '200'}\n",
    "    r = requests.get(x, cookies = cookies)\n",
    "    soup = bs(r.text, 'lxml')\n",
    "    tds = soup.find_all('td', {'class' : 'nopadding break-anywhere'})\n",
    "    file_name = [x.text for x in soup.find_all('a', {'class' : 'row-icon'})]\n",
    "    hrefs = [a['href'] for a in soup.find_all('a', {'class' : 'row-icon'})]\n",
    "    df = pd.DataFrame({'file_name' : file_name, 'hrefs' : hrefs, 'folder' : str(x)})\n",
    "    all_esa.append(df)\n",
    "    \n",
    "df_esa = pd.concat(all_esa, axis = 0)\n",
    "df_esa = df_esa[df_esa['file_name'].str.contains('ESA|nvironment|Horn|ocio|EIA|App 13|V14|V15|V16|V17|V18|V19|V20|V21|V22|V23|V24|V25|A1X1|A1C3|A3S1|A3S2|Goldboro')]\n",
    "df_esa['Folder link'] = df_esa['folder'].str.replace('https://apps.cer-rec.gc.ca/REGDOCS/Item/LoadResult/', '').astype(int)\n",
    "df_esa['file_name'].nunique()\n",
    "df_esa.head()\n",
    "\n",
    "#add ESA info to master\n",
    "master_esa = df_esa.merge(master, on = 'Folder link')\n",
    "postal_series = master_esa['file_name'].str.extract('([a-zA-Z]\\d[a-zA-Z]\\d[a-zA-Z]\\d)')\n",
    "master_esa.insert(1, 'postal', postal_series)\n",
    "master_esa['postal upper'] = master_esa['postal'].str.upper()\n",
    "\n",
    "#regular expressions to parse out application date and hearing order \n",
    "application_date = master_esa['Application title'].str.extract('(\\d\\d\\d\\d-\\d\\d-\\d\\d)')\n",
    "master_esa.insert(2, 'Application filing date', application_date)\n",
    "\n",
    "hearing_order = master_esa['Application title'].str.extract(r'(\\D\\D-\\d(.+?)\\d\\d\\d\\d)')\n",
    "hearing_order = hearing_order.drop([1], axis=1)\n",
    "master_esa.insert(4, 'Hearing order', hearing_order)\n",
    "\n",
    "#clean up 'Application title' column to new column 'Application title short'\n",
    "master_esa['Application title short'] = master_esa['Application title'].str.replace(r'(\\d\\d\\d\\d-\\d\\d-\\d\\d)', '', regex = True)\n",
    "master_esa['Application title short'] = master_esa['Application title short'].str.replace(r'(\\D\\D-\\d(.+?)\\d\\d\\d\\d)', '', regex = True)\n",
    "master_esa['Application title short'] = master_esa['Application title short'].str.replace(\"(\", '').str.replace(\")\", '').str.replace(' - ', '').str.replace(' \\x96 ', '').str.strip()\n",
    "\n",
    "#clean up download link\n",
    "master_esa['hrefs'] = master_esa['hrefs'].str.replace('/REGDOCS', 'https://apps.cer-rec.gc.ca/REGDOCS')\n",
    "master_esa = master_esa.rename(columns={'href' : 'download link'})\n",
    "master_esa['file_name'].nunique()"
   ]
  },
  {
   "cell_type": "code",
   "execution_count": 11,
   "metadata": {},
   "outputs": [
    {
     "data": {
      "text/plain": [
       "796"
      ]
     },
     "execution_count": 11,
     "metadata": {},
     "output_type": "execute_result"
    }
   ],
   "source": [
    "#merge with csvs\n",
    "df_csv_with_project = df3.merge(master_esa, on = 'postal upper')\n",
    "df_csv_with_project['postal upper'].nunique()"
   ]
  },
  {
   "cell_type": "code",
   "execution_count": 12,
   "metadata": {},
   "outputs": [
    {
     "data": {
      "text/plain": [
       "(25308, 18)"
      ]
     },
     "execution_count": 12,
     "metadata": {},
     "output_type": "execute_result"
    }
   ],
   "source": [
    "df_csv_with_project.shape"
   ]
  },
  {
   "cell_type": "code",
   "execution_count": 13,
   "metadata": {},
   "outputs": [
    {
     "data": {
      "text/plain": [
       "Index(['csv path', 'postal_x', 'postal upper', 'pdf path', 'postal_y',\n",
       "       'file_name', 'postal', 'Application filing date', 'hrefs',\n",
       "       'Hearing order', 'folder', 'Folder link', 'Section',\n",
       "       'Application title', 'link to folder with ESA', 'Company Name',\n",
       "       'Consultant Name', 'Application title short'],\n",
       "      dtype='object')"
      ]
     },
     "execution_count": 13,
     "metadata": {},
     "output_type": "execute_result"
    }
   ],
   "source": [
    "df_csv_with_project.columns"
   ]
  },
  {
   "cell_type": "markdown",
   "metadata": {},
   "source": [
    "## Add GIS attributes to Index 2"
   ]
  },
  {
   "cell_type": "code",
   "execution_count": 580,
   "metadata": {},
   "outputs": [
    {
     "data": {
      "text/plain": [
       "(36, 9)"
      ]
     },
     "execution_count": 580,
     "metadata": {},
     "output_type": "execute_result"
    },
    {
     "data": {
      "text/plain": [
       "Index(['Section', 'Application title', 'link to folder with ESA',\n",
       "       'Folder link', 'Company Name', 'Status in GIS',\n",
       "       'RTS English Title = Project name', 'Regulatory Instruments Issued',\n",
       "       'Pipeline Named in GIS'],\n",
       "      dtype='object')"
      ]
     },
     "execution_count": 580,
     "metadata": {},
     "output_type": "execute_result"
    },
    {
     "data": {
      "text/plain": [
       "36"
      ]
     },
     "execution_count": 580,
     "metadata": {},
     "output_type": "execute_result"
    }
   ],
   "source": [
    "#read data provided by Tammy\n",
    "df_rts = pd.read_csv('F:\\Environmental Baseline Data\\Version 2\\Support files\\List of Section 52 Projects - RTS details from Tammy.csv', encoding='ISO-8859-1')\n",
    "df_rts = df_rts.drop_duplicates(subset = 'Application title')\n",
    "df_rts = df_rts.ffill(axis = 0)\n",
    "df_rts.shape\n",
    "df_rts.columns\n",
    "df_rts['Application title'].nunique()\n",
    "\n",
    "# master.shape\n",
    "# master.columns\n",
    "# master['postal'].nunique()"
   ]
  },
  {
   "cell_type": "code",
   "execution_count": 581,
   "metadata": {},
   "outputs": [],
   "source": [
    "csvs_with_gis = df_csv_with_project.merge(df_rts[['Application title', 'Status in GIS', 'RTS English Title = Project name', 'Regulatory Instruments Issued', 'Pipeline Named in GIS']], on = 'Application title')"
   ]
  },
  {
   "cell_type": "code",
   "execution_count": 606,
   "metadata": {},
   "outputs": [
    {
     "data": {
      "text/plain": [
       "(25308, 22)"
      ]
     },
     "execution_count": 606,
     "metadata": {},
     "output_type": "execute_result"
    },
    {
     "data": {
      "text/plain": [
       "Index(['csv path', 'postal_x', 'postal upper', 'pdf path', 'postal_y',\n",
       "       'file_name', 'postal', 'Application filing date', 'hrefs',\n",
       "       'Hearing order', 'folder', 'Folder link', 'Section',\n",
       "       'Application title', 'link to folder with ESA', 'Company Name',\n",
       "       'Consultant Name', 'Application title short', 'Status in GIS',\n",
       "       'RTS English Title = Project name', 'Regulatory Instruments Issued',\n",
       "       'Pipeline Named in GIS'],\n",
       "      dtype='object')"
      ]
     },
     "execution_count": 606,
     "metadata": {},
     "output_type": "execute_result"
    },
    {
     "data": {
      "text/html": [
       "<div>\n",
       "<style scoped>\n",
       "    .dataframe tbody tr th:only-of-type {\n",
       "        vertical-align: middle;\n",
       "    }\n",
       "\n",
       "    .dataframe tbody tr th {\n",
       "        vertical-align: top;\n",
       "    }\n",
       "\n",
       "    .dataframe thead th {\n",
       "        text-align: right;\n",
       "    }\n",
       "</style>\n",
       "<table border=\"1\" class=\"dataframe\">\n",
       "  <thead>\n",
       "    <tr style=\"text-align: right;\">\n",
       "      <th></th>\n",
       "      <th>csv path</th>\n",
       "      <th>postal_x</th>\n",
       "      <th>postal upper</th>\n",
       "      <th>pdf path</th>\n",
       "      <th>postal_y</th>\n",
       "      <th>file_name</th>\n",
       "      <th>postal</th>\n",
       "      <th>Application filing date</th>\n",
       "      <th>hrefs</th>\n",
       "      <th>Hearing order</th>\n",
       "      <th>...</th>\n",
       "      <th>Section</th>\n",
       "      <th>Application title</th>\n",
       "      <th>link to folder with ESA</th>\n",
       "      <th>Company Name</th>\n",
       "      <th>Consultant Name</th>\n",
       "      <th>Application title short</th>\n",
       "      <th>Status in GIS</th>\n",
       "      <th>RTS English Title = Project name</th>\n",
       "      <th>Regulatory Instruments Issued</th>\n",
       "      <th>Pipeline Named in GIS</th>\n",
       "    </tr>\n",
       "  </thead>\n",
       "  <tbody>\n",
       "    <tr>\n",
       "      <th>0</th>\n",
       "      <td>F:/Environmental Baseline Data/Version 2/Data/...</td>\n",
       "      <td>A0H8C0</td>\n",
       "      <td>A0H8C0</td>\n",
       "      <td>F:/Environmental Baseline Data/Version 2/Data/...</td>\n",
       "      <td>A0H8C0</td>\n",
       "      <td>A0H8C0 - 13.0 EIA - Section 13.1 to 13.6</td>\n",
       "      <td>A0H8C0</td>\n",
       "      <td>2003-03-17</td>\n",
       "      <td>https://apps.cer-rec.gc.ca/REGDOCS/File/Downlo...</td>\n",
       "      <td>GH-1-2003</td>\n",
       "      <td>...</td>\n",
       "      <td>52</td>\n",
       "      <td>2003-03-17 Application to Construct and Operat...</td>\n",
       "      <td>https://apps.cer-rec.gc.ca/REGDOCS/Item/View/2...</td>\n",
       "      <td>EnCana Ekwan Pipeline Inc.</td>\n",
       "      <td>AXYS Environmental Consulting Ltd.</td>\n",
       "      <td>Application to Construct and Operate Ekwan Pip...</td>\n",
       "      <td>Part provincially regulated</td>\n",
       "      <td>Ekwan Pipeline Application/Horn River Pipeline...</td>\n",
       "      <td>GC-108</td>\n",
       "      <td>Ekwan Pipeline</td>\n",
       "    </tr>\n",
       "    <tr>\n",
       "      <th>1</th>\n",
       "      <td>F:/Environmental Baseline Data/Version 2/Data/...</td>\n",
       "      <td>A0H8C0</td>\n",
       "      <td>A0H8C0</td>\n",
       "      <td>F:/Environmental Baseline Data/Version 2/Data/...</td>\n",
       "      <td>A0H8C0</td>\n",
       "      <td>A0H8C0 - 13.0 EIA - Section 13.1 to 13.6</td>\n",
       "      <td>A0H8C0</td>\n",
       "      <td>2003-03-17</td>\n",
       "      <td>https://apps.cer-rec.gc.ca/REGDOCS/File/Downlo...</td>\n",
       "      <td>GH-1-2003</td>\n",
       "      <td>...</td>\n",
       "      <td>52</td>\n",
       "      <td>2003-03-17 Application to Construct and Operat...</td>\n",
       "      <td>https://apps.cer-rec.gc.ca/REGDOCS/Item/View/2...</td>\n",
       "      <td>EnCana Ekwan Pipeline Inc.</td>\n",
       "      <td>AXYS Environmental Consulting Ltd.</td>\n",
       "      <td>Application to Construct and Operate Ekwan Pip...</td>\n",
       "      <td>Part provincially regulated</td>\n",
       "      <td>Ekwan Pipeline Application/Horn River Pipeline...</td>\n",
       "      <td>GC-108</td>\n",
       "      <td>Ekwan Pipeline</td>\n",
       "    </tr>\n",
       "  </tbody>\n",
       "</table>\n",
       "<p>2 rows × 22 columns</p>\n",
       "</div>"
      ],
      "text/plain": [
       "                                            csv path postal_x postal upper  \\\n",
       "0  F:/Environmental Baseline Data/Version 2/Data/...   A0H8C0       A0H8C0   \n",
       "1  F:/Environmental Baseline Data/Version 2/Data/...   A0H8C0       A0H8C0   \n",
       "\n",
       "                                            pdf path postal_y  \\\n",
       "0  F:/Environmental Baseline Data/Version 2/Data/...   A0H8C0   \n",
       "1  F:/Environmental Baseline Data/Version 2/Data/...   A0H8C0   \n",
       "\n",
       "                                   file_name  postal Application filing date  \\\n",
       "0  A0H8C0 - 13.0 EIA - Section 13.1 to 13.6   A0H8C0              2003-03-17   \n",
       "1  A0H8C0 - 13.0 EIA - Section 13.1 to 13.6   A0H8C0              2003-03-17   \n",
       "\n",
       "                                               hrefs Hearing order  ...  \\\n",
       "0  https://apps.cer-rec.gc.ca/REGDOCS/File/Downlo...     GH-1-2003  ...   \n",
       "1  https://apps.cer-rec.gc.ca/REGDOCS/File/Downlo...     GH-1-2003  ...   \n",
       "\n",
       "  Section                                  Application title  \\\n",
       "0      52  2003-03-17 Application to Construct and Operat...   \n",
       "1      52  2003-03-17 Application to Construct and Operat...   \n",
       "\n",
       "                             link to folder with ESA  \\\n",
       "0  https://apps.cer-rec.gc.ca/REGDOCS/Item/View/2...   \n",
       "1  https://apps.cer-rec.gc.ca/REGDOCS/Item/View/2...   \n",
       "\n",
       "                 Company Name                     Consultant Name  \\\n",
       "0  EnCana Ekwan Pipeline Inc.  AXYS Environmental Consulting Ltd.   \n",
       "1  EnCana Ekwan Pipeline Inc.  AXYS Environmental Consulting Ltd.   \n",
       "\n",
       "                             Application title short  \\\n",
       "0  Application to Construct and Operate Ekwan Pip...   \n",
       "1  Application to Construct and Operate Ekwan Pip...   \n",
       "\n",
       "                 Status in GIS  \\\n",
       "0  Part provincially regulated   \n",
       "1  Part provincially regulated   \n",
       "\n",
       "                    RTS English Title = Project name  \\\n",
       "0  Ekwan Pipeline Application/Horn River Pipeline...   \n",
       "1  Ekwan Pipeline Application/Horn River Pipeline...   \n",
       "\n",
       "  Regulatory Instruments Issued Pipeline Named in GIS  \n",
       "0                        GC-108        Ekwan Pipeline  \n",
       "1                        GC-108        Ekwan Pipeline  \n",
       "\n",
       "[2 rows x 22 columns]"
      ]
     },
     "execution_count": 606,
     "metadata": {},
     "output_type": "execute_result"
    }
   ],
   "source": [
    "csvs_with_gis.shape\n",
    "csvs_with_gis.columns\n",
    "csvs_with_gis.head(2)"
   ]
  },
  {
   "cell_type": "markdown",
   "metadata": {},
   "source": [
    "## Add CSV metadata to Index 2"
   ]
  },
  {
   "cell_type": "code",
   "execution_count": 716,
   "metadata": {},
   "outputs": [
    {
     "data": {
      "text/plain": [
       "25077"
      ]
     },
     "execution_count": 716,
     "metadata": {},
     "output_type": "execute_result"
    }
   ],
   "source": [
    "path = 'F:/Environmental Baseline Data/Version 2/Data/CSV'  \n",
    "csv_paths = os.listdir(path)\n",
    "all_paths_folder = [path +  '/' + str(x) for x in csv_paths]\n",
    "len(all_paths_folder)"
   ]
  },
  {
   "cell_type": "code",
   "execution_count": 634,
   "metadata": {},
   "outputs": [],
   "source": [
    "#go through each full path and grab the headers, shape and size of file; combine into a df\n",
    "\n",
    "# headers = []\n",
    "# path_file = []\n",
    "# columns_count = []\n",
    "# rows = []\n",
    "# missing = []\n",
    "# file_size = []\n",
    "\n",
    "# for x in all_paths_folder: #limit scope via list\n",
    "#     try:\n",
    "#         df = pd.read_csv(x)\n",
    "#         path_file.append(x)\n",
    "#         headers.append(df.columns.to_list())\n",
    "#         columns_count.append(len(df.columns))\n",
    "#         rows.append(len(df.index))\n",
    "#         file_size.append(os.path.getsize(x))\n",
    "#     except:\n",
    "#         missing.append(x)\n"
   ]
  },
  {
   "cell_type": "code",
   "execution_count": 635,
   "metadata": {},
   "outputs": [
    {
     "data": {
      "text/plain": [
       "25"
      ]
     },
     "execution_count": 635,
     "metadata": {},
     "output_type": "execute_result"
    },
    {
     "data": {
      "text/plain": [
       "25052"
      ]
     },
     "execution_count": 635,
     "metadata": {},
     "output_type": "execute_result"
    }
   ],
   "source": [
    "#test number of csv that cannot be accessed \n",
    "len(missing)\n",
    "len(file_size)"
   ]
  },
  {
   "cell_type": "code",
   "execution_count": 746,
   "metadata": {},
   "outputs": [
    {
     "data": {
      "text/plain": [
       "(25052, 7)"
      ]
     },
     "execution_count": 746,
     "metadata": {},
     "output_type": "execute_result"
    },
    {
     "data": {
      "text/plain": [
       "795"
      ]
     },
     "execution_count": 746,
     "metadata": {},
     "output_type": "execute_result"
    }
   ],
   "source": [
    "csv_temp = pd.DataFrame({'csv path': path_file, 'headers': headers, 'number of columns' : columns_count, \n",
    "                   'number of rows' : rows, 'file size' : file_size})\n",
    "\n",
    "postal_series_csv = csv_temp['csv path'].str.extract('([a-zA-Z]\\d[a-zA-Z]\\d[a-zA-Z]\\d)')\n",
    "csv_temp.insert(1, 'postal', postal_series_csv)\n",
    "csv_temp['postal upper'] = csv_temp['postal'].str.upper()\n",
    "# csv_temp['headers'] = csv_temp['headers'].str.replace('[', '')\n",
    "csv_temp = csv_temp.drop_duplicates(subset = 'csv path')\n",
    "csv_temp.shape #some csv files were not read\n",
    "csv_temp['postal upper'].nunique()"
   ]
  },
  {
   "cell_type": "code",
   "execution_count": 747,
   "metadata": {},
   "outputs": [
    {
     "data": {
      "text/plain": [
       "(25052, 28)"
      ]
     },
     "execution_count": 747,
     "metadata": {},
     "output_type": "execute_result"
    }
   ],
   "source": [
    "csvs_with_gis_metadata = csv_temp.merge(csvs_with_gis, on = 'csv path')\n",
    "csvs_with_gis_metadata = csvs_with_gis_metadata.drop_duplicates(subset = 'csv path')\n",
    "csvs_with_gis_metadata.shape"
   ]
  },
  {
   "cell_type": "code",
   "execution_count": 748,
   "metadata": {},
   "outputs": [],
   "source": [
    "#cleanup headers component\n",
    "csvs_with_gis_metadata['headers'] = csvs_with_gis_metadata['headers']\n",
    "csvs_with_gis_metadata['headers'] = csvs_with_gis_metadata['headers'].apply(', '.join)\n",
    "\n",
    "# csvs_with_gis_metadata['headers'] = [','.join(map(str, l)) for l in csvs_with_gis_metadata['headers']] #convert list to string for each row\n",
    "\n",
    "#future additions \n",
    "csvs_with_gis_metadata['ESA data category'] = 'TBD'\n",
    "csvs_with_gis_metadata['Figure title'] = 'TBD'\n",
    "csvs_with_gis_metadata['Geotag location'] = 'TBD'"
   ]
  },
  {
   "cell_type": "code",
   "execution_count": 751,
   "metadata": {
    "scrolled": true
   },
   "outputs": [
    {
     "data": {
      "text/html": [
       "<div>\n",
       "<style scoped>\n",
       "    .dataframe tbody tr th:only-of-type {\n",
       "        vertical-align: middle;\n",
       "    }\n",
       "\n",
       "    .dataframe tbody tr th {\n",
       "        vertical-align: top;\n",
       "    }\n",
       "\n",
       "    .dataframe thead th {\n",
       "        text-align: right;\n",
       "    }\n",
       "</style>\n",
       "<table border=\"1\" class=\"dataframe\">\n",
       "  <thead>\n",
       "    <tr style=\"text-align: right;\">\n",
       "      <th></th>\n",
       "      <th>csv path</th>\n",
       "      <th>postal_x</th>\n",
       "      <th>headers</th>\n",
       "      <th>number of columns</th>\n",
       "      <th>number of rows</th>\n",
       "      <th>file size</th>\n",
       "      <th>postal upper_x</th>\n",
       "      <th>postal_x</th>\n",
       "      <th>postal upper_y</th>\n",
       "      <th>pdf path</th>\n",
       "      <th>...</th>\n",
       "      <th>Company Name</th>\n",
       "      <th>Consultant Name</th>\n",
       "      <th>Application title short</th>\n",
       "      <th>Status in GIS</th>\n",
       "      <th>RTS English Title = Project name</th>\n",
       "      <th>Regulatory Instruments Issued</th>\n",
       "      <th>Pipeline Named in GIS</th>\n",
       "      <th>ESA data category</th>\n",
       "      <th>Figure title</th>\n",
       "      <th>Geotag location</th>\n",
       "    </tr>\n",
       "  </thead>\n",
       "  <tbody>\n",
       "    <tr>\n",
       "      <th>0</th>\n",
       "      <td>F:/Environmental Baseline Data/Version 2/Data/...</td>\n",
       "      <td>A0H8C0</td>\n",
       "      <td>Assessment Scenario, Issue, Magnitude/Extent1,...</td>\n",
       "      <td>6</td>\n",
       "      <td>6</td>\n",
       "      <td>822</td>\n",
       "      <td>A0H8C0</td>\n",
       "      <td>A0H8C0</td>\n",
       "      <td>A0H8C0</td>\n",
       "      <td>F:/Environmental Baseline Data/Version 2/Data/...</td>\n",
       "      <td>...</td>\n",
       "      <td>EnCana Ekwan Pipeline Inc.</td>\n",
       "      <td>AXYS Environmental Consulting Ltd.</td>\n",
       "      <td>Application to Construct and Operate Ekwan Pip...</td>\n",
       "      <td>Part provincially regulated</td>\n",
       "      <td>Ekwan Pipeline Application/Horn River Pipeline...</td>\n",
       "      <td>GC-108</td>\n",
       "      <td>Ekwan Pipeline</td>\n",
       "      <td>TBD</td>\n",
       "      <td>TBD</td>\n",
       "      <td>TBD</td>\n",
       "    </tr>\n",
       "    <tr>\n",
       "      <th>1</th>\n",
       "      <td>F:/Environmental Baseline Data/Version 2/Data/...</td>\n",
       "      <td>A0H8C0</td>\n",
       "      <td>Site Series, Hypothetical Baseline, Unnamed: 2...</td>\n",
       "      <td>14</td>\n",
       "      <td>11</td>\n",
       "      <td>1585</td>\n",
       "      <td>A0H8C0</td>\n",
       "      <td>A0H8C0</td>\n",
       "      <td>A0H8C0</td>\n",
       "      <td>F:/Environmental Baseline Data/Version 2/Data/...</td>\n",
       "      <td>...</td>\n",
       "      <td>EnCana Ekwan Pipeline Inc.</td>\n",
       "      <td>AXYS Environmental Consulting Ltd.</td>\n",
       "      <td>Application to Construct and Operate Ekwan Pip...</td>\n",
       "      <td>Part provincially regulated</td>\n",
       "      <td>Ekwan Pipeline Application/Horn River Pipeline...</td>\n",
       "      <td>GC-108</td>\n",
       "      <td>Ekwan Pipeline</td>\n",
       "      <td>TBD</td>\n",
       "      <td>TBD</td>\n",
       "      <td>TBD</td>\n",
       "    </tr>\n",
       "    <tr>\n",
       "      <th>2</th>\n",
       "      <td>F:/Environmental Baseline Data/Version 2/Data/...</td>\n",
       "      <td>A0H8C0</td>\n",
       "      <td>Structural Stage, Hypothetical Baseline, Unnam...</td>\n",
       "      <td>14</td>\n",
       "      <td>10</td>\n",
       "      <td>1251</td>\n",
       "      <td>A0H8C0</td>\n",
       "      <td>A0H8C0</td>\n",
       "      <td>A0H8C0</td>\n",
       "      <td>F:/Environmental Baseline Data/Version 2/Data/...</td>\n",
       "      <td>...</td>\n",
       "      <td>EnCana Ekwan Pipeline Inc.</td>\n",
       "      <td>AXYS Environmental Consulting Ltd.</td>\n",
       "      <td>Application to Construct and Operate Ekwan Pip...</td>\n",
       "      <td>Part provincially regulated</td>\n",
       "      <td>Ekwan Pipeline Application/Horn River Pipeline...</td>\n",
       "      <td>GC-108</td>\n",
       "      <td>Ekwan Pipeline</td>\n",
       "      <td>TBD</td>\n",
       "      <td>TBD</td>\n",
       "      <td>TBD</td>\n",
       "    </tr>\n",
       "    <tr>\n",
       "      <th>3</th>\n",
       "      <td>F:/Environmental Baseline Data/Version 2/Data/...</td>\n",
       "      <td>A0H8C0</td>\n",
       "      <td>Assessment Scenario, Issue/ Measurable Paramet...</td>\n",
       "      <td>6</td>\n",
       "      <td>5</td>\n",
       "      <td>482</td>\n",
       "      <td>A0H8C0</td>\n",
       "      <td>A0H8C0</td>\n",
       "      <td>A0H8C0</td>\n",
       "      <td>F:/Environmental Baseline Data/Version 2/Data/...</td>\n",
       "      <td>...</td>\n",
       "      <td>EnCana Ekwan Pipeline Inc.</td>\n",
       "      <td>AXYS Environmental Consulting Ltd.</td>\n",
       "      <td>Application to Construct and Operate Ekwan Pip...</td>\n",
       "      <td>Part provincially regulated</td>\n",
       "      <td>Ekwan Pipeline Application/Horn River Pipeline...</td>\n",
       "      <td>GC-108</td>\n",
       "      <td>Ekwan Pipeline</td>\n",
       "      <td>TBD</td>\n",
       "      <td>TBD</td>\n",
       "      <td>TBD</td>\n",
       "    </tr>\n",
       "    <tr>\n",
       "      <th>4</th>\n",
       "      <td>F:/Environmental Baseline Data/Version 2/Data/...</td>\n",
       "      <td>A0H8C0</td>\n",
       "      <td>Assessment Scenario, Issue/Measurable Paramete...</td>\n",
       "      <td>6</td>\n",
       "      <td>6</td>\n",
       "      <td>708</td>\n",
       "      <td>A0H8C0</td>\n",
       "      <td>A0H8C0</td>\n",
       "      <td>A0H8C0</td>\n",
       "      <td>F:/Environmental Baseline Data/Version 2/Data/...</td>\n",
       "      <td>...</td>\n",
       "      <td>EnCana Ekwan Pipeline Inc.</td>\n",
       "      <td>AXYS Environmental Consulting Ltd.</td>\n",
       "      <td>Application to Construct and Operate Ekwan Pip...</td>\n",
       "      <td>Part provincially regulated</td>\n",
       "      <td>Ekwan Pipeline Application/Horn River Pipeline...</td>\n",
       "      <td>GC-108</td>\n",
       "      <td>Ekwan Pipeline</td>\n",
       "      <td>TBD</td>\n",
       "      <td>TBD</td>\n",
       "      <td>TBD</td>\n",
       "    </tr>\n",
       "  </tbody>\n",
       "</table>\n",
       "<p>5 rows × 31 columns</p>\n",
       "</div>"
      ],
      "text/plain": [
       "                                            csv path postal_x  \\\n",
       "0  F:/Environmental Baseline Data/Version 2/Data/...   A0H8C0   \n",
       "1  F:/Environmental Baseline Data/Version 2/Data/...   A0H8C0   \n",
       "2  F:/Environmental Baseline Data/Version 2/Data/...   A0H8C0   \n",
       "3  F:/Environmental Baseline Data/Version 2/Data/...   A0H8C0   \n",
       "4  F:/Environmental Baseline Data/Version 2/Data/...   A0H8C0   \n",
       "\n",
       "                                             headers  number of columns  \\\n",
       "0  Assessment Scenario, Issue, Magnitude/Extent1,...                  6   \n",
       "1  Site Series, Hypothetical Baseline, Unnamed: 2...                 14   \n",
       "2  Structural Stage, Hypothetical Baseline, Unnam...                 14   \n",
       "3  Assessment Scenario, Issue/ Measurable Paramet...                  6   \n",
       "4  Assessment Scenario, Issue/Measurable Paramete...                  6   \n",
       "\n",
       "   number of rows  file size postal upper_x postal_x postal upper_y  \\\n",
       "0               6        822         A0H8C0   A0H8C0         A0H8C0   \n",
       "1              11       1585         A0H8C0   A0H8C0         A0H8C0   \n",
       "2              10       1251         A0H8C0   A0H8C0         A0H8C0   \n",
       "3               5        482         A0H8C0   A0H8C0         A0H8C0   \n",
       "4               6        708         A0H8C0   A0H8C0         A0H8C0   \n",
       "\n",
       "                                            pdf path  ...  \\\n",
       "0  F:/Environmental Baseline Data/Version 2/Data/...  ...   \n",
       "1  F:/Environmental Baseline Data/Version 2/Data/...  ...   \n",
       "2  F:/Environmental Baseline Data/Version 2/Data/...  ...   \n",
       "3  F:/Environmental Baseline Data/Version 2/Data/...  ...   \n",
       "4  F:/Environmental Baseline Data/Version 2/Data/...  ...   \n",
       "\n",
       "                 Company Name                     Consultant Name  \\\n",
       "0  EnCana Ekwan Pipeline Inc.  AXYS Environmental Consulting Ltd.   \n",
       "1  EnCana Ekwan Pipeline Inc.  AXYS Environmental Consulting Ltd.   \n",
       "2  EnCana Ekwan Pipeline Inc.  AXYS Environmental Consulting Ltd.   \n",
       "3  EnCana Ekwan Pipeline Inc.  AXYS Environmental Consulting Ltd.   \n",
       "4  EnCana Ekwan Pipeline Inc.  AXYS Environmental Consulting Ltd.   \n",
       "\n",
       "                             Application title short  \\\n",
       "0  Application to Construct and Operate Ekwan Pip...   \n",
       "1  Application to Construct and Operate Ekwan Pip...   \n",
       "2  Application to Construct and Operate Ekwan Pip...   \n",
       "3  Application to Construct and Operate Ekwan Pip...   \n",
       "4  Application to Construct and Operate Ekwan Pip...   \n",
       "\n",
       "                 Status in GIS  \\\n",
       "0  Part provincially regulated   \n",
       "1  Part provincially regulated   \n",
       "2  Part provincially regulated   \n",
       "3  Part provincially regulated   \n",
       "4  Part provincially regulated   \n",
       "\n",
       "                    RTS English Title = Project name  \\\n",
       "0  Ekwan Pipeline Application/Horn River Pipeline...   \n",
       "1  Ekwan Pipeline Application/Horn River Pipeline...   \n",
       "2  Ekwan Pipeline Application/Horn River Pipeline...   \n",
       "3  Ekwan Pipeline Application/Horn River Pipeline...   \n",
       "4  Ekwan Pipeline Application/Horn River Pipeline...   \n",
       "\n",
       "  Regulatory Instruments Issued Pipeline Named in GIS  ESA data category  \\\n",
       "0                        GC-108        Ekwan Pipeline                TBD   \n",
       "1                        GC-108        Ekwan Pipeline                TBD   \n",
       "2                        GC-108        Ekwan Pipeline                TBD   \n",
       "3                        GC-108        Ekwan Pipeline                TBD   \n",
       "4                        GC-108        Ekwan Pipeline                TBD   \n",
       "\n",
       "   Figure title Geotag location  \n",
       "0           TBD             TBD  \n",
       "1           TBD             TBD  \n",
       "2           TBD             TBD  \n",
       "3           TBD             TBD  \n",
       "4           TBD             TBD  \n",
       "\n",
       "[5 rows x 31 columns]"
      ]
     },
     "execution_count": 751,
     "metadata": {},
     "output_type": "execute_result"
    }
   ],
   "source": [
    "csvs_with_gis_metadata.to_csv('F:\\Environmental Baseline Data\\Version 2\\Beta deliverables\\Index 2 - CSVs - V1.csv')\n",
    "csvs_with_gis_metadata.head()"
   ]
  },
  {
   "cell_type": "markdown",
   "metadata": {},
   "source": [
    "## Create Index 1 (36 projects ∴ 36-rows Index)"
   ]
  },
  {
   "cell_type": "code",
   "execution_count": 695,
   "metadata": {
    "scrolled": true
   },
   "outputs": [
    {
     "data": {
      "text/plain": [
       "(67, 6)"
      ]
     },
     "execution_count": 695,
     "metadata": {},
     "output_type": "execute_result"
    },
    {
     "data": {
      "text/plain": [
       "36"
      ]
     },
     "execution_count": 695,
     "metadata": {},
     "output_type": "execute_result"
    },
    {
     "data": {
      "text/html": [
       "<div>\n",
       "<style scoped>\n",
       "    .dataframe tbody tr th:only-of-type {\n",
       "        vertical-align: middle;\n",
       "    }\n",
       "\n",
       "    .dataframe tbody tr th {\n",
       "        vertical-align: top;\n",
       "    }\n",
       "\n",
       "    .dataframe thead th {\n",
       "        text-align: right;\n",
       "    }\n",
       "</style>\n",
       "<table border=\"1\" class=\"dataframe\">\n",
       "  <thead>\n",
       "    <tr style=\"text-align: right;\">\n",
       "      <th></th>\n",
       "      <th>Section</th>\n",
       "      <th>Application title</th>\n",
       "      <th>link to folder with ESA</th>\n",
       "      <th>Folder link</th>\n",
       "      <th>Company Name</th>\n",
       "      <th>Consultant Name</th>\n",
       "    </tr>\n",
       "  </thead>\n",
       "  <tbody>\n",
       "    <tr>\n",
       "      <th>0</th>\n",
       "      <td>52</td>\n",
       "      <td>2003-03-17 Application to Construct and Operat...</td>\n",
       "      <td>https://apps.cer-rec.gc.ca/REGDOCS/Item/View/2...</td>\n",
       "      <td>268693</td>\n",
       "      <td>EnCana Ekwan Pipeline Inc.</td>\n",
       "      <td>AXYS Environmental Consulting Ltd.</td>\n",
       "    </tr>\n",
       "    <tr>\n",
       "      <th>1</th>\n",
       "      <td>52</td>\n",
       "      <td>2006-05-23 - Application for the Brunswick Pip...</td>\n",
       "      <td>https://apps.cer-rec.gc.ca/REGDOCS/Item/View/4...</td>\n",
       "      <td>408713</td>\n",
       "      <td>Emera Brunswick Pipeline Company Ltd.</td>\n",
       "      <td>Jacques Whitford</td>\n",
       "    </tr>\n",
       "    <tr>\n",
       "      <th>2</th>\n",
       "      <td>52</td>\n",
       "      <td>2007-03-09 - Application for Line 13 Transfer,...</td>\n",
       "      <td>https://apps.cer-rec.gc.ca/REGDOCS/Item/View/4...</td>\n",
       "      <td>456315</td>\n",
       "      <td>Enbridge Southern Lights GP Inc.</td>\n",
       "      <td>TERA Environmental Consultants</td>\n",
       "    </tr>\n",
       "    <tr>\n",
       "      <th>3</th>\n",
       "      <td>52</td>\n",
       "      <td>2007-06-28 - Application for the Line 4 Extens...</td>\n",
       "      <td>https://apps.cer-rec.gc.ca/REGDOCS/Item/View/4...</td>\n",
       "      <td>467952</td>\n",
       "      <td>Enbridge Pipelines Inc.</td>\n",
       "      <td>TERA Environmental Consultants</td>\n",
       "    </tr>\n",
       "    <tr>\n",
       "      <th>4</th>\n",
       "      <td>52</td>\n",
       "      <td>2008-02-27 - Application to construct and oper...</td>\n",
       "      <td>https://apps.cer-rec.gc.ca/REGDOCS/Item/View/5...</td>\n",
       "      <td>500494</td>\n",
       "      <td>Westcoast Energy Inc.</td>\n",
       "      <td>TERA Environmental Consultants</td>\n",
       "    </tr>\n",
       "  </tbody>\n",
       "</table>\n",
       "</div>"
      ],
      "text/plain": [
       "   Section                                  Application title  \\\n",
       "0       52  2003-03-17 Application to Construct and Operat...   \n",
       "1       52  2006-05-23 - Application for the Brunswick Pip...   \n",
       "2       52  2007-03-09 - Application for Line 13 Transfer,...   \n",
       "3       52  2007-06-28 - Application for the Line 4 Extens...   \n",
       "4       52  2008-02-27 - Application to construct and oper...   \n",
       "\n",
       "                             link to folder with ESA  Folder link  \\\n",
       "0  https://apps.cer-rec.gc.ca/REGDOCS/Item/View/2...       268693   \n",
       "1  https://apps.cer-rec.gc.ca/REGDOCS/Item/View/4...       408713   \n",
       "2  https://apps.cer-rec.gc.ca/REGDOCS/Item/View/4...       456315   \n",
       "3  https://apps.cer-rec.gc.ca/REGDOCS/Item/View/4...       467952   \n",
       "4  https://apps.cer-rec.gc.ca/REGDOCS/Item/View/5...       500494   \n",
       "\n",
       "                            Company Name                     Consultant Name  \n",
       "0             EnCana Ekwan Pipeline Inc.  AXYS Environmental Consulting Ltd.  \n",
       "1  Emera Brunswick Pipeline Company Ltd.                    Jacques Whitford  \n",
       "2       Enbridge Southern Lights GP Inc.      TERA Environmental Consultants  \n",
       "3                Enbridge Pipelines Inc.      TERA Environmental Consultants  \n",
       "4                  Westcoast Energy Inc.      TERA Environmental Consultants  "
      ]
     },
     "execution_count": 695,
     "metadata": {},
     "output_type": "execute_result"
    }
   ],
   "source": [
    "master = pd.read_csv('F:/Environmental Baseline Data/Version 2/Support files/list_of_Section_52_projects.csv', encoding='ISO-8859-1')\n",
    "master.shape\n",
    "master['Application title'].nunique()\n",
    "master.head()"
   ]
  },
  {
   "cell_type": "code",
   "execution_count": 715,
   "metadata": {},
   "outputs": [
    {
     "data": {
      "text/plain": [
       "(36, 16)"
      ]
     },
     "execution_count": 715,
     "metadata": {},
     "output_type": "execute_result"
    },
    {
     "data": {
      "text/html": [
       "<div>\n",
       "<style scoped>\n",
       "    .dataframe tbody tr th:only-of-type {\n",
       "        vertical-align: middle;\n",
       "    }\n",
       "\n",
       "    .dataframe tbody tr th {\n",
       "        vertical-align: top;\n",
       "    }\n",
       "\n",
       "    .dataframe thead th {\n",
       "        text-align: right;\n",
       "    }\n",
       "</style>\n",
       "<table border=\"1\" class=\"dataframe\">\n",
       "  <thead>\n",
       "    <tr style=\"text-align: right;\">\n",
       "      <th></th>\n",
       "      <th>Section</th>\n",
       "      <th>Application title</th>\n",
       "      <th>Application filing date</th>\n",
       "      <th>link to folder with ESA</th>\n",
       "      <th>Hearing order</th>\n",
       "      <th>Folder link</th>\n",
       "      <th>Company Name</th>\n",
       "      <th>Consultant Name</th>\n",
       "      <th>Status in GIS</th>\n",
       "      <th>RTS English Title = Project name</th>\n",
       "      <th>Regulatory Instruments Issued</th>\n",
       "      <th>Pipeline Named in GIS</th>\n",
       "      <th>Application title short</th>\n",
       "      <th>Link to Application</th>\n",
       "      <th>Link to Decision</th>\n",
       "      <th>Location</th>\n",
       "    </tr>\n",
       "  </thead>\n",
       "  <tbody>\n",
       "    <tr>\n",
       "      <th>0</th>\n",
       "      <td>52</td>\n",
       "      <td>2003-03-17 Application to Construct and Operat...</td>\n",
       "      <td>2003-03-17</td>\n",
       "      <td>https://apps.cer-rec.gc.ca/REGDOCS/Item/View/2...</td>\n",
       "      <td>GH-1-2003</td>\n",
       "      <td>268693</td>\n",
       "      <td>EnCana Ekwan Pipeline Inc.</td>\n",
       "      <td>AXYS Environmental Consulting Ltd.</td>\n",
       "      <td>Part provincially regulated</td>\n",
       "      <td>Ekwan Pipeline Application/Horn River Pipeline...</td>\n",
       "      <td>GC-108</td>\n",
       "      <td>Ekwan Pipeline</td>\n",
       "      <td>Application to Construct and Operate Ekwan Pip...</td>\n",
       "      <td>TBD</td>\n",
       "      <td>TBD</td>\n",
       "      <td>TBD</td>\n",
       "    </tr>\n",
       "    <tr>\n",
       "      <th>1</th>\n",
       "      <td>52</td>\n",
       "      <td>2006-05-23 - Application for the Brunswick Pip...</td>\n",
       "      <td>2006-05-23</td>\n",
       "      <td>https://apps.cer-rec.gc.ca/REGDOCS/Item/View/4...</td>\n",
       "      <td>GH-1-2006</td>\n",
       "      <td>408713</td>\n",
       "      <td>Emera Brunswick Pipeline Company Ltd.</td>\n",
       "      <td>Jacques Whitford</td>\n",
       "      <td>Operating</td>\n",
       "      <td>Brunswick Pipeline Project</td>\n",
       "      <td>GC-110</td>\n",
       "      <td>Brunswick Pipeline</td>\n",
       "      <td>Application for the Brunswick Pipeline Project</td>\n",
       "      <td>TBD</td>\n",
       "      <td>TBD</td>\n",
       "      <td>TBD</td>\n",
       "    </tr>\n",
       "    <tr>\n",
       "      <th>2</th>\n",
       "      <td>52</td>\n",
       "      <td>2007-03-09 - Application for Line 13 Transfer,...</td>\n",
       "      <td>2007-03-09</td>\n",
       "      <td>https://apps.cer-rec.gc.ca/REGDOCS/Item/View/4...</td>\n",
       "      <td>OH-3-2007</td>\n",
       "      <td>456315</td>\n",
       "      <td>Enbridge Southern Lights GP Inc.</td>\n",
       "      <td>TERA Environmental Consultants</td>\n",
       "      <td>Operating</td>\n",
       "      <td>Line 13 Reversal Facilities Project</td>\n",
       "      <td>XO-E242-03-2008</td>\n",
       "      <td>Line 13</td>\n",
       "      <td>Application for Line 13 Transfer, Line 13 Reve...</td>\n",
       "      <td>TBD</td>\n",
       "      <td>TBD</td>\n",
       "      <td>TBD</td>\n",
       "    </tr>\n",
       "    <tr>\n",
       "      <th>3</th>\n",
       "      <td>52</td>\n",
       "      <td>2007-06-28 - Application for the Line 4 Extens...</td>\n",
       "      <td>2007-06-28</td>\n",
       "      <td>https://apps.cer-rec.gc.ca/REGDOCS/Item/View/4...</td>\n",
       "      <td>OH-5-2007</td>\n",
       "      <td>467952</td>\n",
       "      <td>Enbridge Pipelines Inc.</td>\n",
       "      <td>TERA Environmental Consultants</td>\n",
       "      <td>Operating</td>\n",
       "      <td>Line 4 Extension Project</td>\n",
       "      <td>OC-55</td>\n",
       "      <td>Line 4</td>\n",
       "      <td>Application for the Line 4 Extension Project</td>\n",
       "      <td>TBD</td>\n",
       "      <td>TBD</td>\n",
       "      <td>TBD</td>\n",
       "    </tr>\n",
       "    <tr>\n",
       "      <th>4</th>\n",
       "      <td>52</td>\n",
       "      <td>2008-02-27 - Application to construct and oper...</td>\n",
       "      <td>2008-02-27</td>\n",
       "      <td>https://apps.cer-rec.gc.ca/REGDOCS/Item/View/5...</td>\n",
       "      <td>GH-3-2008</td>\n",
       "      <td>500494</td>\n",
       "      <td>Westcoast Energy Inc.</td>\n",
       "      <td>TERA Environmental Consultants</td>\n",
       "      <td>Operating</td>\n",
       "      <td>South Peace Pipeline Project</td>\n",
       "      <td>GC-112</td>\n",
       "      <td>South Peace Pipeline</td>\n",
       "      <td>Application to construct and operate the South...</td>\n",
       "      <td>TBD</td>\n",
       "      <td>TBD</td>\n",
       "      <td>TBD</td>\n",
       "    </tr>\n",
       "  </tbody>\n",
       "</table>\n",
       "</div>"
      ],
      "text/plain": [
       "   Section                                  Application title  \\\n",
       "0       52  2003-03-17 Application to Construct and Operat...   \n",
       "1       52  2006-05-23 - Application for the Brunswick Pip...   \n",
       "2       52  2007-03-09 - Application for Line 13 Transfer,...   \n",
       "3       52  2007-06-28 - Application for the Line 4 Extens...   \n",
       "4       52  2008-02-27 - Application to construct and oper...   \n",
       "\n",
       "  Application filing date                            link to folder with ESA  \\\n",
       "0              2003-03-17  https://apps.cer-rec.gc.ca/REGDOCS/Item/View/2...   \n",
       "1              2006-05-23  https://apps.cer-rec.gc.ca/REGDOCS/Item/View/4...   \n",
       "2              2007-03-09  https://apps.cer-rec.gc.ca/REGDOCS/Item/View/4...   \n",
       "3              2007-06-28  https://apps.cer-rec.gc.ca/REGDOCS/Item/View/4...   \n",
       "4              2008-02-27  https://apps.cer-rec.gc.ca/REGDOCS/Item/View/5...   \n",
       "\n",
       "  Hearing order  Folder link                           Company Name  \\\n",
       "0     GH-1-2003       268693             EnCana Ekwan Pipeline Inc.   \n",
       "1     GH-1-2006       408713  Emera Brunswick Pipeline Company Ltd.   \n",
       "2     OH-3-2007       456315       Enbridge Southern Lights GP Inc.   \n",
       "3     OH-5-2007       467952                Enbridge Pipelines Inc.   \n",
       "4     GH-3-2008       500494                  Westcoast Energy Inc.   \n",
       "\n",
       "                      Consultant Name                Status in GIS  \\\n",
       "0  AXYS Environmental Consulting Ltd.  Part provincially regulated   \n",
       "1                    Jacques Whitford                    Operating   \n",
       "2      TERA Environmental Consultants                    Operating   \n",
       "3      TERA Environmental Consultants                    Operating   \n",
       "4      TERA Environmental Consultants                    Operating   \n",
       "\n",
       "                    RTS English Title = Project name  \\\n",
       "0  Ekwan Pipeline Application/Horn River Pipeline...   \n",
       "1                         Brunswick Pipeline Project   \n",
       "2                Line 13 Reversal Facilities Project   \n",
       "3                           Line 4 Extension Project   \n",
       "4                       South Peace Pipeline Project   \n",
       "\n",
       "  Regulatory Instruments Issued Pipeline Named in GIS  \\\n",
       "0                        GC-108        Ekwan Pipeline   \n",
       "1                        GC-110    Brunswick Pipeline   \n",
       "2               XO-E242-03-2008               Line 13   \n",
       "3                         OC-55                Line 4   \n",
       "4                        GC-112  South Peace Pipeline   \n",
       "\n",
       "                             Application title short Link to Application  \\\n",
       "0  Application to Construct and Operate Ekwan Pip...                 TBD   \n",
       "1     Application for the Brunswick Pipeline Project                 TBD   \n",
       "2  Application for Line 13 Transfer, Line 13 Reve...                 TBD   \n",
       "3       Application for the Line 4 Extension Project                 TBD   \n",
       "4  Application to construct and operate the South...                 TBD   \n",
       "\n",
       "  Link to Decision Location  \n",
       "0              TBD      TBD  \n",
       "1              TBD      TBD  \n",
       "2              TBD      TBD  \n",
       "3              TBD      TBD  \n",
       "4              TBD      TBD  "
      ]
     },
     "execution_count": 715,
     "metadata": {},
     "output_type": "execute_result"
    }
   ],
   "source": [
    "#merge with RTS data\n",
    "index1_with_gis = master.merge(df_rts[['Application title', 'Status in GIS', 'RTS English Title = Project name', 'Regulatory Instruments Issued', 'Pipeline Named in GIS']], on = 'Application title')\n",
    "\n",
    "#regular expressions to parse out application date and hearing order \n",
    "application_date = index1_with_gis['Application title'].str.extract('(\\d\\d\\d\\d-\\d\\d-\\d\\d)')\n",
    "index1_with_gis.insert(2, 'Application filing date', application_date)\n",
    "\n",
    "#regular expressions to parse out hearing order \n",
    "hearing_order = index1_with_gis['Application title'].str.extract(r'(\\D\\D-\\d(.+?)\\d\\d\\d\\d)')\n",
    "hearing_order = hearing_order.drop([1], axis=1)\n",
    "index1_with_gis.insert(4, 'Hearing order', hearing_order)\n",
    "\n",
    "\n",
    "#clean up 'Application title' column to new column 'Application title short'\n",
    "index1_with_gis['Application title short'] = index1_with_gis['Application title'].str.replace(r'(\\d\\d\\d\\d-\\d\\d-\\d\\d)', '', regex = True)\n",
    "index1_with_gis['Application title short'] = index1_with_gis['Application title short'].str.replace(r'(\\D\\D-\\d(.+?)\\d\\d\\d\\d)', '', regex = True)\n",
    "index1_with_gis['Application title short'] = index1_with_gis['Application title short'].str.replace(\"(\", '').str.replace(\")\", '').str.replace(' - ', '').str.replace(' \\x96 ', '').str.strip()\n",
    "index1_with_gis = index1_with_gis.drop_duplicates(subset = 'Application title')\n",
    "\n",
    "#add link to Application\n",
    "#add link to Decision\n",
    "index1_with_gis['Link to Application'] = 'TBD'\n",
    "index1_with_gis['Link to Decision'] = 'TBD'\n",
    "index1_with_gis['Location'] = 'TBD'\n",
    "\n",
    "index1_with_gis.shape\n",
    "index1_with_gis.head()\n",
    "index1_with_gis.to_csv('F:\\Environmental Baseline Data\\Version 2\\Beta deliverables\\Index 1 - Projects - V1.csv')"
   ]
  },
  {
   "cell_type": "markdown",
   "metadata": {},
   "source": [
    "## Create Index 3"
   ]
  },
  {
   "cell_type": "code",
   "execution_count": 756,
   "metadata": {},
   "outputs": [],
   "source": [
    "#list of ESAs by project\n",
    "\n",
    "master = pd.read_csv('F:/Environmental Baseline Data/Version 2/Support files/list_of_Section_52_projects.csv', encoding='ISO-8859-1')\n",
    "urls_list = master['link to folder with ESA'].tolist()\n",
    "urls_list_load = [str(x).replace('https://apps.cer-rec.gc.ca/REGDOCS/Item/View/', \n",
    "                                 'https://apps.cer-rec.gc.ca/REGDOCS/Item/LoadResult/') for x in urls_list]\n",
    "\n",
    "# all_esa = []\n",
    "\n",
    "# for x in urls_list_load:\n",
    "#     cookies = {'RDI-NumberOfRecords': '200'}\n",
    "#     r = requests.get(x, cookies = cookies)\n",
    "#     soup = bs(r.text, 'lxml')\n",
    "#     tds = soup.find_all('td', {'class' : 'nopadding break-anywhere'})\n",
    "#     file_name = [x.text for x in soup.find_all('a', {'class' : 'row-icon'})]\n",
    "#     hrefs = [a['href'] for a in soup.find_all('a', {'class' : 'row-icon'})]\n",
    "#     df = pd.DataFrame({'file_name' : file_name, 'hrefs' : hrefs, 'folder' : str(x)})\n",
    "#     all_esa.append(df)\n",
    "    \n",
    "df_esa = pd.concat(all_esa, axis = 0)\n",
    "df_esa = df_esa[df_esa['file_name'].str.contains('ESA|nvironment|Horn|ocio|EIA|App 13|V14|V15|V16|V17|V18|V19|V20|V21|V22|V23|V24|V25|A1X1|A1C3|A3S1|A3S2|Goldboro')]\n",
    "df_esa['Folder link'] = df_esa['folder'].str.replace('https://apps.cer-rec.gc.ca/REGDOCS/Item/LoadResult/', '').astype(int)\n",
    "\n",
    "#add ESA info to master\n",
    "master_esa = df_esa.merge(master, on = 'Folder link')\n",
    "postal_series = master_esa['file_name'].str.extract('([a-zA-Z]\\d[a-zA-Z]\\d[a-zA-Z]\\d)')\n",
    "master_esa.insert(1, 'postal', postal_series)\n",
    "master_esa['postal upper'] = master_esa['postal'].str.upper()\n",
    "\n",
    "#regular expressions to parse out application date and hearing order \n",
    "application_date = master_esa['Application title'].str.extract('(\\d\\d\\d\\d-\\d\\d-\\d\\d)')\n",
    "master_esa.insert(2, 'Application filing date', application_date)\n",
    "\n",
    "#regular expressions to parse out hearing order \n",
    "hearing_order = master_esa['Application title'].str.extract(r'(\\D\\D-\\d(.+?)\\d\\d\\d\\d)')\n",
    "hearing_order = hearing_order.drop([1], axis=1)\n",
    "master_esa.insert(4, 'Hearing order', hearing_order)\n",
    "\n",
    "#clean up 'Application title' column to new column 'Application title short'\n",
    "master_esa['Application title short'] = master_esa['Application title'].str.replace(r'(\\d\\d\\d\\d-\\d\\d-\\d\\d)', '', regex = True)\n",
    "master_esa['Application title short'] = master_esa['Application title short'].str.replace(r'(\\D\\D-\\d(.+?)\\d\\d\\d\\d)', '', regex = True)\n",
    "master_esa['Application title short'] = master_esa['Application title short'].str.replace(\"(\", '').str.replace(\")\", '').str.replace(' - ', '').str.replace(' \\x96 ', '').str.strip()\n",
    "\n",
    "#clean up download link\n",
    "master_esa['hrefs'] = master_esa['hrefs'].str.replace('/REGDOCS', 'https://apps.cer-rec.gc.ca/REGDOCS')\n",
    "master_esa = master_esa.rename(columns={'hrefs' : 'download link'})\n",
    "\n",
    "#future content\n",
    "master_esa['file size'] = 'TBD'\n",
    "master_esa['page count'] = 'TBD'\n",
    "\n",
    "#save to csv\n",
    "master_esa.to_csv('F:\\Environmental Baseline Data\\Version 2\\Beta deliverables\\Index 3 - PDFs - V1.csv')"
   ]
  },
  {
   "cell_type": "code",
   "execution_count": 755,
   "metadata": {},
   "outputs": [
    {
     "data": {
      "text/plain": [
       "(1345, 16)"
      ]
     },
     "execution_count": 755,
     "metadata": {},
     "output_type": "execute_result"
    },
    {
     "data": {
      "text/html": [
       "<div>\n",
       "<style scoped>\n",
       "    .dataframe tbody tr th:only-of-type {\n",
       "        vertical-align: middle;\n",
       "    }\n",
       "\n",
       "    .dataframe tbody tr th {\n",
       "        vertical-align: top;\n",
       "    }\n",
       "\n",
       "    .dataframe thead th {\n",
       "        text-align: right;\n",
       "    }\n",
       "</style>\n",
       "<table border=\"1\" class=\"dataframe\">\n",
       "  <thead>\n",
       "    <tr style=\"text-align: right;\">\n",
       "      <th></th>\n",
       "      <th>file_name</th>\n",
       "      <th>postal</th>\n",
       "      <th>Application filing date</th>\n",
       "      <th>download link</th>\n",
       "      <th>Hearing order</th>\n",
       "      <th>folder</th>\n",
       "      <th>Folder link</th>\n",
       "      <th>Section</th>\n",
       "      <th>Application title</th>\n",
       "      <th>link to folder with ESA</th>\n",
       "      <th>Company Name</th>\n",
       "      <th>Consultant Name</th>\n",
       "      <th>postal upper</th>\n",
       "      <th>Application title short</th>\n",
       "      <th>file size</th>\n",
       "      <th>page count</th>\n",
       "    </tr>\n",
       "  </thead>\n",
       "  <tbody>\n",
       "    <tr>\n",
       "      <th>0</th>\n",
       "      <td>A0H8C0 - 13.0 EIA - Section 13.1 to 13.6</td>\n",
       "      <td>A0H8C0</td>\n",
       "      <td>2003-03-17</td>\n",
       "      <td>https://apps.cer-rec.gc.ca/REGDOCS/File/Downlo...</td>\n",
       "      <td>GH-1-2003</td>\n",
       "      <td>https://apps.cer-rec.gc.ca/REGDOCS/Item/LoadRe...</td>\n",
       "      <td>268693</td>\n",
       "      <td>52</td>\n",
       "      <td>2003-03-17 Application to Construct and Operat...</td>\n",
       "      <td>https://apps.cer-rec.gc.ca/REGDOCS/Item/View/2...</td>\n",
       "      <td>EnCana Ekwan Pipeline Inc.</td>\n",
       "      <td>AXYS Environmental Consulting Ltd.</td>\n",
       "      <td>A0H8C0</td>\n",
       "      <td>Application to Construct and Operate Ekwan Pip...</td>\n",
       "      <td>TBD</td>\n",
       "      <td>TBD</td>\n",
       "    </tr>\n",
       "    <tr>\n",
       "      <th>1</th>\n",
       "      <td>A0H8C1 - 13.0 EIA - Section 13.7 Wildlife Part 1</td>\n",
       "      <td>A0H8C1</td>\n",
       "      <td>2003-03-17</td>\n",
       "      <td>https://apps.cer-rec.gc.ca/REGDOCS/File/Downlo...</td>\n",
       "      <td>GH-1-2003</td>\n",
       "      <td>https://apps.cer-rec.gc.ca/REGDOCS/Item/LoadRe...</td>\n",
       "      <td>268693</td>\n",
       "      <td>52</td>\n",
       "      <td>2003-03-17 Application to Construct and Operat...</td>\n",
       "      <td>https://apps.cer-rec.gc.ca/REGDOCS/Item/View/2...</td>\n",
       "      <td>EnCana Ekwan Pipeline Inc.</td>\n",
       "      <td>AXYS Environmental Consulting Ltd.</td>\n",
       "      <td>A0H8C1</td>\n",
       "      <td>Application to Construct and Operate Ekwan Pip...</td>\n",
       "      <td>TBD</td>\n",
       "      <td>TBD</td>\n",
       "    </tr>\n",
       "    <tr>\n",
       "      <th>2</th>\n",
       "      <td>A0H8C2 - 13.0 EIA - Section 13.7 Wildlife Part 2</td>\n",
       "      <td>A0H8C2</td>\n",
       "      <td>2003-03-17</td>\n",
       "      <td>https://apps.cer-rec.gc.ca/REGDOCS/File/Downlo...</td>\n",
       "      <td>GH-1-2003</td>\n",
       "      <td>https://apps.cer-rec.gc.ca/REGDOCS/Item/LoadRe...</td>\n",
       "      <td>268693</td>\n",
       "      <td>52</td>\n",
       "      <td>2003-03-17 Application to Construct and Operat...</td>\n",
       "      <td>https://apps.cer-rec.gc.ca/REGDOCS/Item/View/2...</td>\n",
       "      <td>EnCana Ekwan Pipeline Inc.</td>\n",
       "      <td>AXYS Environmental Consulting Ltd.</td>\n",
       "      <td>A0H8C2</td>\n",
       "      <td>Application to Construct and Operate Ekwan Pip...</td>\n",
       "      <td>TBD</td>\n",
       "      <td>TBD</td>\n",
       "    </tr>\n",
       "    <tr>\n",
       "      <th>3</th>\n",
       "      <td>A0H8C3 - 13.0 EIA - Section 13.8 to 13.13</td>\n",
       "      <td>A0H8C3</td>\n",
       "      <td>2003-03-17</td>\n",
       "      <td>https://apps.cer-rec.gc.ca/REGDOCS/File/Downlo...</td>\n",
       "      <td>GH-1-2003</td>\n",
       "      <td>https://apps.cer-rec.gc.ca/REGDOCS/Item/LoadRe...</td>\n",
       "      <td>268693</td>\n",
       "      <td>52</td>\n",
       "      <td>2003-03-17 Application to Construct and Operat...</td>\n",
       "      <td>https://apps.cer-rec.gc.ca/REGDOCS/Item/View/2...</td>\n",
       "      <td>EnCana Ekwan Pipeline Inc.</td>\n",
       "      <td>AXYS Environmental Consulting Ltd.</td>\n",
       "      <td>A0H8C3</td>\n",
       "      <td>Application to Construct and Operate Ekwan Pip...</td>\n",
       "      <td>TBD</td>\n",
       "      <td>TBD</td>\n",
       "    </tr>\n",
       "    <tr>\n",
       "      <th>4</th>\n",
       "      <td>A0H8C4 - 13.1 App 13A - Alignment Sheets</td>\n",
       "      <td>A0H8C4</td>\n",
       "      <td>2003-03-17</td>\n",
       "      <td>https://apps.cer-rec.gc.ca/REGDOCS/File/Downlo...</td>\n",
       "      <td>GH-1-2003</td>\n",
       "      <td>https://apps.cer-rec.gc.ca/REGDOCS/Item/LoadRe...</td>\n",
       "      <td>268693</td>\n",
       "      <td>52</td>\n",
       "      <td>2003-03-17 Application to Construct and Operat...</td>\n",
       "      <td>https://apps.cer-rec.gc.ca/REGDOCS/Item/View/2...</td>\n",
       "      <td>EnCana Ekwan Pipeline Inc.</td>\n",
       "      <td>AXYS Environmental Consulting Ltd.</td>\n",
       "      <td>A0H8C4</td>\n",
       "      <td>Application to Construct and Operate Ekwan Pip...</td>\n",
       "      <td>TBD</td>\n",
       "      <td>TBD</td>\n",
       "    </tr>\n",
       "  </tbody>\n",
       "</table>\n",
       "</div>"
      ],
      "text/plain": [
       "                                           file_name  postal  \\\n",
       "0          A0H8C0 - 13.0 EIA - Section 13.1 to 13.6   A0H8C0   \n",
       "1   A0H8C1 - 13.0 EIA - Section 13.7 Wildlife Part 1  A0H8C1   \n",
       "2  A0H8C2 - 13.0 EIA - Section 13.7 Wildlife Part 2   A0H8C2   \n",
       "3          A0H8C3 - 13.0 EIA - Section 13.8 to 13.13  A0H8C3   \n",
       "4           A0H8C4 - 13.1 App 13A - Alignment Sheets  A0H8C4   \n",
       "\n",
       "  Application filing date                                      download link  \\\n",
       "0              2003-03-17  https://apps.cer-rec.gc.ca/REGDOCS/File/Downlo...   \n",
       "1              2003-03-17  https://apps.cer-rec.gc.ca/REGDOCS/File/Downlo...   \n",
       "2              2003-03-17  https://apps.cer-rec.gc.ca/REGDOCS/File/Downlo...   \n",
       "3              2003-03-17  https://apps.cer-rec.gc.ca/REGDOCS/File/Downlo...   \n",
       "4              2003-03-17  https://apps.cer-rec.gc.ca/REGDOCS/File/Downlo...   \n",
       "\n",
       "  Hearing order                                             folder  \\\n",
       "0     GH-1-2003  https://apps.cer-rec.gc.ca/REGDOCS/Item/LoadRe...   \n",
       "1     GH-1-2003  https://apps.cer-rec.gc.ca/REGDOCS/Item/LoadRe...   \n",
       "2     GH-1-2003  https://apps.cer-rec.gc.ca/REGDOCS/Item/LoadRe...   \n",
       "3     GH-1-2003  https://apps.cer-rec.gc.ca/REGDOCS/Item/LoadRe...   \n",
       "4     GH-1-2003  https://apps.cer-rec.gc.ca/REGDOCS/Item/LoadRe...   \n",
       "\n",
       "   Folder link  Section                                  Application title  \\\n",
       "0       268693       52  2003-03-17 Application to Construct and Operat...   \n",
       "1       268693       52  2003-03-17 Application to Construct and Operat...   \n",
       "2       268693       52  2003-03-17 Application to Construct and Operat...   \n",
       "3       268693       52  2003-03-17 Application to Construct and Operat...   \n",
       "4       268693       52  2003-03-17 Application to Construct and Operat...   \n",
       "\n",
       "                             link to folder with ESA  \\\n",
       "0  https://apps.cer-rec.gc.ca/REGDOCS/Item/View/2...   \n",
       "1  https://apps.cer-rec.gc.ca/REGDOCS/Item/View/2...   \n",
       "2  https://apps.cer-rec.gc.ca/REGDOCS/Item/View/2...   \n",
       "3  https://apps.cer-rec.gc.ca/REGDOCS/Item/View/2...   \n",
       "4  https://apps.cer-rec.gc.ca/REGDOCS/Item/View/2...   \n",
       "\n",
       "                 Company Name                     Consultant Name  \\\n",
       "0  EnCana Ekwan Pipeline Inc.  AXYS Environmental Consulting Ltd.   \n",
       "1  EnCana Ekwan Pipeline Inc.  AXYS Environmental Consulting Ltd.   \n",
       "2  EnCana Ekwan Pipeline Inc.  AXYS Environmental Consulting Ltd.   \n",
       "3  EnCana Ekwan Pipeline Inc.  AXYS Environmental Consulting Ltd.   \n",
       "4  EnCana Ekwan Pipeline Inc.  AXYS Environmental Consulting Ltd.   \n",
       "\n",
       "  postal upper                            Application title short file size  \\\n",
       "0       A0H8C0  Application to Construct and Operate Ekwan Pip...       TBD   \n",
       "1       A0H8C1  Application to Construct and Operate Ekwan Pip...       TBD   \n",
       "2       A0H8C2  Application to Construct and Operate Ekwan Pip...       TBD   \n",
       "3       A0H8C3  Application to Construct and Operate Ekwan Pip...       TBD   \n",
       "4       A0H8C4  Application to Construct and Operate Ekwan Pip...       TBD   \n",
       "\n",
       "  page count  \n",
       "0        TBD  \n",
       "1        TBD  \n",
       "2        TBD  \n",
       "3        TBD  \n",
       "4        TBD  "
      ]
     },
     "execution_count": 755,
     "metadata": {},
     "output_type": "execute_result"
    }
   ],
   "source": [
    "master_esa.shape\n",
    "master_esa.head()"
   ]
  }
 ],
 "metadata": {
  "kernelspec": {
   "display_name": "Python 3",
   "language": "python",
   "name": "python3"
  },
  "language_info": {
   "codemirror_mode": {
    "name": "ipython",
    "version": 3
   },
   "file_extension": ".py",
   "mimetype": "text/x-python",
   "name": "python",
   "nbconvert_exporter": "python",
   "pygments_lexer": "ipython3",
   "version": "3.7.4"
  }
 },
 "nbformat": 4,
 "nbformat_minor": 2
}
