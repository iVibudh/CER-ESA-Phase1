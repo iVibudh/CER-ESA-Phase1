{
 "cells": [
  {
   "cell_type": "code",
   "execution_count": 10,
   "metadata": {},
   "outputs": [],
   "source": [
    "import pandas as pd\n",
    "import PyPDF2 as p2\n",
    "import camelot\n",
    "import re\n",
    "from IPython.core.interactiveshell import InteractiveShell\n",
    "InteractiveShell.ast_node_interactivity = \"all\""
   ]
  },
  {
   "cell_type": "code",
   "execution_count": 11,
   "metadata": {},
   "outputs": [],
   "source": [
    "index2 = pd.read_csv('F:\\Environmental Baseline Data\\Version 3\\Indices\\Final\\Index 2 - List of PDFs for Major Projects with ESAs.csv')\n",
    "ngtl_2021 = index2[index2['Application title short'].str.contains(\"Application for 2021 NGTL System Expansion Project\")]"
   ]
  },
  {
   "cell_type": "code",
   "execution_count": 12,
   "metadata": {},
   "outputs": [],
   "source": [
    "index2 = pd.read_csv('F:\\Environmental Baseline Data\\Version 3\\Indices\\Final\\Index 2 - List of PDFs for Major Projects with ESAs.csv')\n",
    "ngtl_2021 = index2[index2['Application title short'].str.contains(\"Application for 2021 NGTL System Expansion Project\")]\n",
    "ngtl_2021_pdfs = ngtl_2021['PDF file name'].tolist()\n",
    "\n",
    "path = 'F:/Environmental Baseline Data/Version 3/Data/PDF/'\n",
    "ngtl_2021_pdfs_path = [path + x for x in ngtl_2021_pdfs]\n",
    "\n",
    "data = []\n",
    "for y in ngtl_2021_pdfs_path:\n",
    "    PDFfile = open(y, 'rb')\n",
    "    pdf_reader = p2.PdfFileReader(PDFfile)\n",
    "\n",
    "    def get_list_elements(s, level):\n",
    "        if isinstance(s, list):\n",
    "            for x in s:\n",
    "                get_list_elements(x, level+1)\n",
    "        else:\n",
    "            data.append({'Outline Item' : s.title, 'Page Number' : pdf_reader.getDestinationPageNumber(s) + 1, 'Level' : level, 'file' : y})\n",
    "        return\n",
    "\n",
    "get_list_elements(pdf_reader.outlines, 0)\n",
    "\n",
    "df_outlines = pd.DataFrame(data)"
   ]
  },
  {
   "cell_type": "code",
   "execution_count": 15,
   "metadata": {
    "scrolled": true
   },
   "outputs": [],
   "source": [
    "df_outlines_tables = df_outlines[df_outlines['Outline Item'].str.contains(\"able\", na = False)]\n",
    "df_outlines_tables_sample = df_outlines_tables"
   ]
  },
  {
   "cell_type": "code",
   "execution_count": 16,
   "metadata": {
    "scrolled": false
   },
   "outputs": [
    {
     "name": "stdout",
     "output_type": "stream",
     "text": [
      "F:/Environmental Baseline Data/Version 3/Data/PDF/A6F4R2.pdf\n"
     ]
    }
   ],
   "source": [
    "for x, y, z, m in zip(df_outlines_tables_sample['Page Number'], df_outlines_tables_sample['Outline Item'], df_outlines_tables_sample['file'], df_outlines_tables_sample['file']):\n",
    "    try:\n",
    "        figure_name = str(y).replace(':', '_')\n",
    "        file_short = str(re.search('([a-zA-Z]\\d[a-zA-Z]\\d[a-zA-Z]\\d)', z).group(1))\n",
    "        path_start = str('F:/Evironmental Baseline Data/Version 2/Data/PDF test NGTL 2021/')\n",
    "    \n",
    "        tables = camelot.read_pdf(z, pages = str(x), flag_size=True)  #loop len(tables)\n",
    "      \n",
    "        df = tables[0].df #tables may be greater than 1, add loop\n",
    "        df = df.replace('/na', '_', regex = True)\n",
    "        path = str('F:/Environmental Baseline Data/Version 3/PDF test NGTL 2021/')\n",
    "\n",
    "        save_string = path + '2021 NGTL expansion_' + str(figure_name) + '-pg.' + str(x) + '-' + str(file_short) + '.csv'\n",
    "        df.to_csv(save_string, index = False)\n",
    "    except:\n",
    "        print(z)\n"
   ]
  },
  {
   "cell_type": "code",
   "execution_count": 17,
   "metadata": {},
   "outputs": [
    {
     "data": {
      "text/plain": [
       "100"
      ]
     },
     "execution_count": 17,
     "metadata": {},
     "output_type": "execute_result"
    }
   ],
   "source": [
    "df_outlines_figures = df_outlines[df_outlines['Outline Item'].str.contains(\"igure\", na = False)]\n",
    "\n",
    "df_outlines_figures_sample = df_outlines_figures[0:100]\n",
    "len(df_outlines_figures_sample)"
   ]
  },
  {
   "cell_type": "code",
   "execution_count": null,
   "metadata": {},
   "outputs": [],
   "source": [
    "# save to: 'F:/Environmental Baseline Data/Version 3/PDF test NGTL 2021/Image')"
   ]
  }
 ],
 "metadata": {
  "kernelspec": {
   "display_name": "Python 3",
   "language": "python",
   "name": "python3"
  },
  "language_info": {
   "codemirror_mode": {
    "name": "ipython",
    "version": 3
   },
   "file_extension": ".py",
   "mimetype": "text/x-python",
   "name": "python",
   "nbconvert_exporter": "python",
   "pygments_lexer": "ipython3",
   "version": "3.6.5"
  }
 },
 "nbformat": 4,
 "nbformat_minor": 2
}
