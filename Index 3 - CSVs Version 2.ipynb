{
 "cells": [
  {
   "cell_type": "code",
   "execution_count": 713,
   "metadata": {},
   "outputs": [],
   "source": [
    "import pandas as pd\n",
    "import os\n",
    "import itertools\n",
    "pd.set_option('display.max_colwidth', 400)\n",
    "\n",
    "from IPython.core.interactiveshell import InteractiveShell\n",
    "InteractiveShell.ast_node_interactivity = \"all\""
   ]
  },
  {
   "cell_type": "code",
   "execution_count": 714,
   "metadata": {
    "scrolled": false
   },
   "outputs": [
    {
     "data": {
      "text/plain": [
       "25077"
      ]
     },
     "execution_count": 714,
     "metadata": {},
     "output_type": "execute_result"
    }
   ],
   "source": [
    "path = 'F:/Environmental Baseline Data/Version 2/Data/CSV'  \n",
    "all_paths = os.listdir(path)\n",
    "all_paths_folder = [path +  '/' + str(x) for x in all_paths]\n",
    "len(all_paths_folder)"
   ]
  },
  {
   "cell_type": "markdown",
   "metadata": {},
   "source": [
    "### Extract csv characteristics (shape, column headers, row index, second row, df.to_string)"
   ]
  },
  {
   "cell_type": "code",
   "execution_count": 468,
   "metadata": {
    "scrolled": false
   },
   "outputs": [],
   "source": [
    "exceptions_files = []\n",
    "shape_list = []\n",
    "for x in all_paths_folder:\n",
    "    try:\n",
    "        df = pd.read_csv(x)\n",
    "        shape = (list(df.shape))\n",
    "        shape.insert(0, x)\n",
    "        shape.insert(0, str((list(df.iloc[0]))))\n",
    "        shape.insert(0, str(list(df.iloc[:,0])))\n",
    "        shape.insert(0, str(list(df.columns)))\n",
    "        onestring = df.values.tolist()\n",
    "        onestring_flat = str(list(itertools.chain(*onestring)))\n",
    "        shape.insert(0, onestring_flat)\n",
    "        shape_list.append(shape)\n",
    "    except:\n",
    "        exceptions_files.append(x)"
   ]
  },
  {
   "cell_type": "code",
   "execution_count": 715,
   "metadata": {},
   "outputs": [
    {
     "data": {
      "text/plain": [
       "df_string        object\n",
       "columns_names    object\n",
       "index            object\n",
       "first_row        object\n",
       "file_name        object\n",
       "rows              int64\n",
       "columns           int64\n",
       "dtype: object"
      ]
     },
     "execution_count": 715,
     "metadata": {},
     "output_type": "execute_result"
    }
   ],
   "source": [
    "df_csv_all = pd.DataFrame(shape_list)\n",
    "df_csv_all.columns = ['df_string', 'columns_names', 'index', 'first_row', 'file_name', 'rows', 'columns']\n",
    "df_csv_all.dtypes"
   ]
  },
  {
   "cell_type": "code",
   "execution_count": 716,
   "metadata": {},
   "outputs": [
    {
     "data": {
      "text/plain": [
       "(24498, 7)"
      ]
     },
     "execution_count": 716,
     "metadata": {},
     "output_type": "execute_result"
    },
    {
     "data": {
      "text/plain": [
       "8077"
      ]
     },
     "execution_count": 716,
     "metadata": {},
     "output_type": "execute_result"
    },
    {
     "data": {
      "text/plain": [
       "17446"
      ]
     },
     "execution_count": 716,
     "metadata": {},
     "output_type": "execute_result"
    },
    {
     "data": {
      "text/plain": [
       "19003"
      ]
     },
     "execution_count": 716,
     "metadata": {},
     "output_type": "execute_result"
    }
   ],
   "source": [
    "df_csv_all.shape\n",
    "\n",
    "df_csv_all['columns_names'].nunique()\n",
    "df_csv_all['first_row'].nunique()\n",
    "df_csv_all['index'].nunique()"
   ]
  },
  {
   "cell_type": "code",
   "execution_count": 717,
   "metadata": {},
   "outputs": [
    {
     "data": {
      "text/html": [
       "<div>\n",
       "<style scoped>\n",
       "    .dataframe tbody tr th:only-of-type {\n",
       "        vertical-align: middle;\n",
       "    }\n",
       "\n",
       "    .dataframe tbody tr th {\n",
       "        vertical-align: top;\n",
       "    }\n",
       "\n",
       "    .dataframe thead th {\n",
       "        text-align: right;\n",
       "    }\n",
       "</style>\n",
       "<table border=\"1\" class=\"dataframe\">\n",
       "  <thead>\n",
       "    <tr style=\"text-align: right;\">\n",
       "      <th></th>\n",
       "      <th>df_string</th>\n",
       "      <th>postal</th>\n",
       "      <th>page</th>\n",
       "      <th>table</th>\n",
       "      <th>columns_names</th>\n",
       "      <th>index</th>\n",
       "      <th>first_row</th>\n",
       "      <th>file_name</th>\n",
       "      <th>rows</th>\n",
       "      <th>columns</th>\n",
       "    </tr>\n",
       "  </thead>\n",
       "  <tbody>\n",
       "    <tr>\n",
       "      <th>0</th>\n",
       "      <td>['Construction', 'Community Diversity-effects from ROW preparation and drainage alteration', 'Low', nan, nan, 'No', 'Construction', 'Structural Diversity-effects from ROW preparation', 'Low', nan, nan, 'No', 'Construction', 'Species Diversity-effects from ROW preparation, altered drainage, and weed introductions', 'Moderate', 'Long-term', 'Non-reversible', 'No', 'Operations', 'Community Divers...</td>\n",
       "      <td>A0H8C0</td>\n",
       "      <td>100</td>\n",
       "      <td>1</td>\n",
       "      <td>['Assessment Scenario', 'Issue', 'Magnitude/Extent1', 'Duration2', 'Reversible/ Non-Reversible3', 'Potential for Measurable Contribution to Cumulative Effects4']</td>\n",
       "      <td>['Construction', 'Construction', 'Construction', 'Operations', 'Operations', 'Operations']</td>\n",
       "      <td>['Construction', 'Community Diversity-effects from ROW preparation and drainage alteration', 'Low', nan, nan, 'No']</td>\n",
       "      <td>F:/Environmental Baseline Data/Version 2/Data/CSV/A0H8C0 %2D 13.0 EIA %2D Section 13.1 to 13.6 -page-100-table-1.csv</td>\n",
       "      <td>6</td>\n",
       "      <td>6</td>\n",
       "    </tr>\n",
       "    <tr>\n",
       "      <th>1</th>\n",
       "      <td>['Site Series', 'Area  (ha)', '% of Mapped Corridor', 'Area  (ha)', '% Change from Hypothetical Baseline1', 'Area  (ha)', '% Change from Baseline1', '% Change from Hypothetical Baseline1', 'Area  (ha)', '% Change from Baseline1', '% Change from Hypothetical Baseline', 'Area (ha)', '% Change from Baseline', '% Change from Hypothetical Baseline', 'AH- Mountain Alder – Alaska paper birch – beaked...</td>\n",
       "      <td>A0H8C0</td>\n",
       "      <td>101</td>\n",
       "      <td>1</td>\n",
       "      <td>['Site Series', 'Hypothetical Baseline', 'Unnamed: 2', 'Baseline', 'Unnamed: 4', 'Construction', 'Unnamed: 6', 'Unnamed: 7', 'Operations With Project', 'Unnamed: 9', 'Unnamed: 10', 'Operations, Without Project', 'Unnamed: 12', 'Unnamed: 13']</td>\n",
       "      <td>['Site Series', 'AH- Mountain Alder – Alaska paper birch – beaked sedge – horsetail', 'AM- Stepmoss', 'BS- Cloudberry – sphagnum', 'OW- Open shallow water', 'RI- River', 'SG- Sedge - Grass fen', 'SH- Currant – horsetail', 'TB- Buckbean', 'Anthropogenic', 'Totals']</td>\n",
       "      <td>['Site Series', 'Area  (ha)', '% of Mapped Corridor', 'Area  (ha)', '% Change from Hypothetical Baseline1', 'Area  (ha)', '% Change from Baseline1', '% Change from Hypothetical Baseline1', 'Area  (ha)', '% Change from Baseline1', '% Change from Hypothetical Baseline', 'Area (ha)', '% Change from Baseline', '% Change from Hypothetical Baseline']</td>\n",
       "      <td>F:/Environmental Baseline Data/Version 2/Data/CSV/A0H8C0 %2D 13.0 EIA %2D Section 13.1 to 13.6 -page-101-table-1.csv</td>\n",
       "      <td>11</td>\n",
       "      <td>14</td>\n",
       "    </tr>\n",
       "    <tr>\n",
       "      <th>2</th>\n",
       "      <td>['Structural Stage', 'Area (ha)', 'Percent of Mapped Corridor', 'Area (ha)', '% Change from Hypothetical Baseline', 'Area (ha)', '% Change from Hypothetical Baseline', '% Change From Baseline', 'Area (ha)', '% Change from Hypothetical Baseline', '% Change from Baseline', 'Area (ha)', '% Change from Hypothetical Baseline', '% Change from Baseline', '01', '451', '2.6', '501', '11.1', '711', '57....</td>\n",
       "      <td>A0H8C0</td>\n",
       "      <td>105</td>\n",
       "      <td>1</td>\n",
       "      <td>['Structural Stage', 'Hypothetical Baseline', 'Unnamed: 2', 'Baseline', 'Unnamed: 4', 'Construction', 'Unnamed: 6', 'Unnamed: 7', 'Operations without Project', 'Unnamed: 9', 'Unnamed: 10', 'Operations with Project', 'Unnamed: 12', 'Unnamed: 13']</td>\n",
       "      <td>['Structural Stage', '01', '1', '2', '3', '4', '5', '6', '7', 'Total']</td>\n",
       "      <td>['Structural Stage', 'Area (ha)', 'Percent of Mapped Corridor', 'Area (ha)', '% Change from Hypothetical Baseline', 'Area (ha)', '% Change from Hypothetical Baseline', '% Change From Baseline', 'Area (ha)', '% Change from Hypothetical Baseline', '% Change from Baseline', 'Area (ha)', '% Change from Hypothetical Baseline', '% Change from Baseline']</td>\n",
       "      <td>F:/Environmental Baseline Data/Version 2/Data/CSV/A0H8C0 %2D 13.0 EIA %2D Section 13.1 to 13.6 -page-105-table-1.csv</td>\n",
       "      <td>10</td>\n",
       "      <td>14</td>\n",
       "    </tr>\n",
       "    <tr>\n",
       "      <th>3</th>\n",
       "      <td>['Construction', 'NOx', 'Low', 'Short-term', 'Reversible', 'No', 'Construction', 'CO', 'Low', 'Short-term', 'Reversible', 'No', 'Construction', 'PM', 'Low', 'Short-term', 'Reversible', 'No', 'Construction', 'HC', 'Low', 'Short-term', 'Reversible', 'No', 'Operations', 'HC, NOx, CO, PM', 'Low', 'Medium term', 'Reversible', 'No']</td>\n",
       "      <td>A0H8C0</td>\n",
       "      <td>12</td>\n",
       "      <td>1</td>\n",
       "      <td>['Assessment Scenario', 'Issue/ Measurable Parameter', 'Magnitude/ Extent1', 'Duration2', 'Reversible/ Non-Reversible3', 'Potential for Measurable Contribution to Cumulative Effects4']</td>\n",
       "      <td>['Construction', 'Construction', 'Construction', 'Construction', 'Operations']</td>\n",
       "      <td>['Construction', 'NOx', 'Low', 'Short-term', 'Reversible', 'No']</td>\n",
       "      <td>F:/Environmental Baseline Data/Version 2/Data/CSV/A0H8C0 %2D 13.0 EIA %2D Section 13.1 to 13.6 -page-12-table-1.csv</td>\n",
       "      <td>5</td>\n",
       "      <td>6</td>\n",
       "    </tr>\n",
       "    <tr>\n",
       "      <th>4</th>\n",
       "      <td>['Construction', 'Soil Capability', 'Low', 'Short to medium term', 'Reversible', 'No', 'Construction', 'Surface and Shallow Subsurface Drainage', 'Moderate', 'Medium term', 'Reversible', 'No', 'Construction', 'Permafrost Degradation', 'Moderate', 'Long-term', 'Non-reversible', 'No', 'Operations', 'Soil Capability', 'Low', 'Short to medium term', 'Reversible', 'No', 'Operations', 'Surface and S...</td>\n",
       "      <td>A0H8C0</td>\n",
       "      <td>13</td>\n",
       "      <td>1</td>\n",
       "      <td>['Assessment Scenario', 'Issue/Measurable Parameter', 'Magnitude/ Extent1', 'Duration2', 'Reversible/ Non-Reversible3', 'Potential for Measurable Contribution to Cumulative Effects4']</td>\n",
       "      <td>['Construction', 'Construction', 'Construction', 'Operations', 'Operations', 'Operations']</td>\n",
       "      <td>['Construction', 'Soil Capability', 'Low', 'Short to medium term', 'Reversible', 'No']</td>\n",
       "      <td>F:/Environmental Baseline Data/Version 2/Data/CSV/A0H8C0 %2D 13.0 EIA %2D Section 13.1 to 13.6 -page-13-table-1.csv</td>\n",
       "      <td>6</td>\n",
       "      <td>6</td>\n",
       "    </tr>\n",
       "  </tbody>\n",
       "</table>\n",
       "</div>"
      ],
      "text/plain": [
       "                                                                                                                                                                                                                                                                                                                                                                                                         df_string  \\\n",
       "0  ['Construction', 'Community Diversity-effects from ROW preparation and drainage alteration', 'Low', nan, nan, 'No', 'Construction', 'Structural Diversity-effects from ROW preparation', 'Low', nan, nan, 'No', 'Construction', 'Species Diversity-effects from ROW preparation, altered drainage, and weed introductions', 'Moderate', 'Long-term', 'Non-reversible', 'No', 'Operations', 'Community Divers...   \n",
       "1  ['Site Series', 'Area  (ha)', '% of Mapped Corridor', 'Area  (ha)', '% Change from Hypothetical Baseline1', 'Area  (ha)', '% Change from Baseline1', '% Change from Hypothetical Baseline1', 'Area  (ha)', '% Change from Baseline1', '% Change from Hypothetical Baseline', 'Area (ha)', '% Change from Baseline', '% Change from Hypothetical Baseline', 'AH- Mountain Alder – Alaska paper birch – beaked...   \n",
       "2  ['Structural Stage', 'Area (ha)', 'Percent of Mapped Corridor', 'Area (ha)', '% Change from Hypothetical Baseline', 'Area (ha)', '% Change from Hypothetical Baseline', '% Change From Baseline', 'Area (ha)', '% Change from Hypothetical Baseline', '% Change from Baseline', 'Area (ha)', '% Change from Hypothetical Baseline', '% Change from Baseline', '01', '451', '2.6', '501', '11.1', '711', '57....   \n",
       "3                                                                         ['Construction', 'NOx', 'Low', 'Short-term', 'Reversible', 'No', 'Construction', 'CO', 'Low', 'Short-term', 'Reversible', 'No', 'Construction', 'PM', 'Low', 'Short-term', 'Reversible', 'No', 'Construction', 'HC', 'Low', 'Short-term', 'Reversible', 'No', 'Operations', 'HC, NOx, CO, PM', 'Low', 'Medium term', 'Reversible', 'No']   \n",
       "4  ['Construction', 'Soil Capability', 'Low', 'Short to medium term', 'Reversible', 'No', 'Construction', 'Surface and Shallow Subsurface Drainage', 'Moderate', 'Medium term', 'Reversible', 'No', 'Construction', 'Permafrost Degradation', 'Moderate', 'Long-term', 'Non-reversible', 'No', 'Operations', 'Soil Capability', 'Low', 'Short to medium term', 'Reversible', 'No', 'Operations', 'Surface and S...   \n",
       "\n",
       "   postal page table  \\\n",
       "0  A0H8C0  100     1   \n",
       "1  A0H8C0  101     1   \n",
       "2  A0H8C0  105     1   \n",
       "3  A0H8C0   12     1   \n",
       "4  A0H8C0   13     1   \n",
       "\n",
       "                                                                                                                                                                                                                                           columns_names  \\\n",
       "0                                                                                      ['Assessment Scenario', 'Issue', 'Magnitude/Extent1', 'Duration2', 'Reversible/ Non-Reversible3', 'Potential for Measurable Contribution to Cumulative Effects4']   \n",
       "1      ['Site Series', 'Hypothetical Baseline', 'Unnamed: 2', 'Baseline', 'Unnamed: 4', 'Construction', 'Unnamed: 6', 'Unnamed: 7', 'Operations With Project', 'Unnamed: 9', 'Unnamed: 10', 'Operations, Without Project', 'Unnamed: 12', 'Unnamed: 13']   \n",
       "2  ['Structural Stage', 'Hypothetical Baseline', 'Unnamed: 2', 'Baseline', 'Unnamed: 4', 'Construction', 'Unnamed: 6', 'Unnamed: 7', 'Operations without Project', 'Unnamed: 9', 'Unnamed: 10', 'Operations with Project', 'Unnamed: 12', 'Unnamed: 13']   \n",
       "3                                                               ['Assessment Scenario', 'Issue/ Measurable Parameter', 'Magnitude/ Extent1', 'Duration2', 'Reversible/ Non-Reversible3', 'Potential for Measurable Contribution to Cumulative Effects4']   \n",
       "4                                                                ['Assessment Scenario', 'Issue/Measurable Parameter', 'Magnitude/ Extent1', 'Duration2', 'Reversible/ Non-Reversible3', 'Potential for Measurable Contribution to Cumulative Effects4']   \n",
       "\n",
       "                                                                                                                                                                                                                                                                      index  \\\n",
       "0                                                                                                                                                                                ['Construction', 'Construction', 'Construction', 'Operations', 'Operations', 'Operations']   \n",
       "1  ['Site Series', 'AH- Mountain Alder – Alaska paper birch – beaked sedge – horsetail', 'AM- Stepmoss', 'BS- Cloudberry – sphagnum', 'OW- Open shallow water', 'RI- River', 'SG- Sedge - Grass fen', 'SH- Currant – horsetail', 'TB- Buckbean', 'Anthropogenic', 'Totals']   \n",
       "2                                                                                                                                                                                                    ['Structural Stage', '01', '1', '2', '3', '4', '5', '6', '7', 'Total']   \n",
       "3                                                                                                                                                                                            ['Construction', 'Construction', 'Construction', 'Construction', 'Operations']   \n",
       "4                                                                                                                                                                                ['Construction', 'Construction', 'Construction', 'Operations', 'Operations', 'Operations']   \n",
       "\n",
       "                                                                                                                                                                                                                                                                                                                                                       first_row  \\\n",
       "0                                                                                                                                                                                                                                            ['Construction', 'Community Diversity-effects from ROW preparation and drainage alteration', 'Low', nan, nan, 'No']   \n",
       "1     ['Site Series', 'Area  (ha)', '% of Mapped Corridor', 'Area  (ha)', '% Change from Hypothetical Baseline1', 'Area  (ha)', '% Change from Baseline1', '% Change from Hypothetical Baseline1', 'Area  (ha)', '% Change from Baseline1', '% Change from Hypothetical Baseline', 'Area (ha)', '% Change from Baseline', '% Change from Hypothetical Baseline']   \n",
       "2  ['Structural Stage', 'Area (ha)', 'Percent of Mapped Corridor', 'Area (ha)', '% Change from Hypothetical Baseline', 'Area (ha)', '% Change from Hypothetical Baseline', '% Change From Baseline', 'Area (ha)', '% Change from Hypothetical Baseline', '% Change from Baseline', 'Area (ha)', '% Change from Hypothetical Baseline', '% Change from Baseline']   \n",
       "3                                                                                                                                                                                                                                                                                               ['Construction', 'NOx', 'Low', 'Short-term', 'Reversible', 'No']   \n",
       "4                                                                                                                                                                                                                                                                         ['Construction', 'Soil Capability', 'Low', 'Short to medium term', 'Reversible', 'No']   \n",
       "\n",
       "                                                                                                              file_name  \\\n",
       "0  F:/Environmental Baseline Data/Version 2/Data/CSV/A0H8C0 %2D 13.0 EIA %2D Section 13.1 to 13.6 -page-100-table-1.csv   \n",
       "1  F:/Environmental Baseline Data/Version 2/Data/CSV/A0H8C0 %2D 13.0 EIA %2D Section 13.1 to 13.6 -page-101-table-1.csv   \n",
       "2  F:/Environmental Baseline Data/Version 2/Data/CSV/A0H8C0 %2D 13.0 EIA %2D Section 13.1 to 13.6 -page-105-table-1.csv   \n",
       "3   F:/Environmental Baseline Data/Version 2/Data/CSV/A0H8C0 %2D 13.0 EIA %2D Section 13.1 to 13.6 -page-12-table-1.csv   \n",
       "4   F:/Environmental Baseline Data/Version 2/Data/CSV/A0H8C0 %2D 13.0 EIA %2D Section 13.1 to 13.6 -page-13-table-1.csv   \n",
       "\n",
       "   rows  columns  \n",
       "0     6        6  \n",
       "1    11       14  \n",
       "2    10       14  \n",
       "3     5        6  \n",
       "4     6        6  "
      ]
     },
     "execution_count": 717,
     "metadata": {},
     "output_type": "execute_result"
    },
    {
     "data": {
      "text/plain": [
       "(24498, 10)"
      ]
     },
     "execution_count": 717,
     "metadata": {},
     "output_type": "execute_result"
    }
   ],
   "source": [
    "postal_series = df_csv_all['file_name'].str.extract('([a-zA-Z]\\d[a-zA-Z]\\d[a-zA-Z]\\d)')\n",
    "df_csv_all.insert(1, 'postal', postal_series)\n",
    "\n",
    "pages_series = df_csv_all['file_name'].str.extract('page-([^/]+)-tabl')\n",
    "df_csv_all.insert(2, 'page', pages_series)\n",
    "\n",
    "tables_series = df_csv_all['file_name'].str.extract('(table-\\d)')\n",
    "df_csv_all.insert(3, 'table', tables_series)\n",
    "df_csv_all['table'] = df_csv_all['table'].str.replace('table-','')\n",
    "\n",
    "df_csv_all.head()\n",
    "df_csv_all.shape\n",
    "df_csv_all.to_excel('F:/Environmental Baseline Data/Version 3/Indices/csv_characteristics.xlsx', index = False)"
   ]
  },
  {
   "cell_type": "markdown",
   "metadata": {},
   "source": [
    "### Exceptions"
   ]
  },
  {
   "cell_type": "code",
   "execution_count": 774,
   "metadata": {},
   "outputs": [
    {
     "data": {
      "text/plain": [
       "579"
      ]
     },
     "execution_count": 774,
     "metadata": {},
     "output_type": "execute_result"
    }
   ],
   "source": [
    "#files with errors, likely cid characters not recognized \n",
    "len(exceptions_files)\n",
    "df_exceptions = pd.DataFrame(exceptions_files)\n",
    "df_exceptions.columns = ['file_name']\n",
    "\n",
    "df_exceptions.to_csv('csv_with_cid.csv', index = False)"
   ]
  },
  {
   "cell_type": "code",
   "execution_count": 737,
   "metadata": {},
   "outputs": [],
   "source": [
    "#extract Filing ID and table number\n",
    "postal_series = df_exceptions['file_name'].str.extract('([a-zA-Z]\\d[a-zA-Z]\\d[a-zA-Z]\\d)')\n",
    "df_exceptions.insert(1, 'Filing ID', postal_series)\n",
    "\n",
    "pages_series = df_exceptions['file_name'].str.extract('page-([^/]+)-tabl')\n",
    "df_exceptions.insert(2, 'page', pages_series)\n",
    "\n",
    "tables_series = df_exceptions['file_name'].str.extract('(table-\\d)')\n",
    "df_exceptions.insert(3, 'table', tables_series)"
   ]
  },
  {
   "cell_type": "code",
   "execution_count": 738,
   "metadata": {
    "scrolled": false
   },
   "outputs": [
    {
     "name": "stdout",
     "output_type": "stream",
     "text": [
      "unique PDFs with at least one exception = 73\n",
      "How does this compare with corpus?\n"
     ]
    }
   ],
   "source": [
    "# df_exceptions['Filing ID'].unique()\n",
    "df_exceptions['Filing ID'] = df_exceptions['Filing ID'].str.upper()\n",
    "print('unique PDFs with at least one exception =', df_exceptions['Filing ID'].nunique())\n",
    "print('How does this compare with corpus?')"
   ]
  },
  {
   "cell_type": "code",
   "execution_count": 739,
   "metadata": {},
   "outputs": [
    {
     "data": {
      "text/plain": [
       "1322"
      ]
     },
     "execution_count": 739,
     "metadata": {},
     "output_type": "execute_result"
    },
    {
     "data": {
      "text/plain": [
       "0.05521936459909228"
      ]
     },
     "execution_count": 739,
     "metadata": {},
     "output_type": "execute_result"
    },
    {
     "name": "stdout",
     "output_type": "stream",
     "text": [
      "for which proceedings?\n"
     ]
    }
   ],
   "source": [
    "#merge with Index 2\n",
    "index2path = 'F:\\Environmental Baseline Data\\Version 3\\Indices\\Final\\Index 2 - List of PDFs for Major Projects with ESAs.csv'\n",
    "index2 = pd.read_csv(index2path)\n",
    "\n",
    "# round(int(df_exceptions['Filing ID'].nunique()))\n",
    "int(list(index2.shape)[0])\n",
    "round(int(df_exceptions['Filing ID'].nunique()))/int(list(index2.shape)[0])\n",
    "print('for which proceedings?')"
   ]
  },
  {
   "cell_type": "code",
   "execution_count": 740,
   "metadata": {},
   "outputs": [
    {
     "data": {
      "text/plain": [
       "<matplotlib.axes._subplots.AxesSubplot at 0x22c8e037b70>"
      ]
     },
     "execution_count": 740,
     "metadata": {},
     "output_type": "execute_result"
    },
    {
     "data": {
      "image/png": "[encoded data removed]",
      "text/plain": [
       "<Figure size 432x288 with 1 Axes>"
      ]
     },
     "metadata": {},
     "output_type": "display_data"
    }
   ],
   "source": [
    "df_exceptions = df_exceptions.merge(index2, on = 'Filing ID')\n",
    "pd.value_counts(df_exceptions['Application title short']).plot.barh()"
   ]
  },
  {
   "cell_type": "code",
   "execution_count": 741,
   "metadata": {},
   "outputs": [
    {
     "name": "stdout",
     "output_type": "stream",
     "text": [
      "As percentage of total filings per hearing?\n"
     ]
    },
    {
     "data": {
      "text/plain": [
       "(24498, 10)"
      ]
     },
     "execution_count": 741,
     "metadata": {},
     "output_type": "execute_result"
    }
   ],
   "source": [
    "print('As percentage of total filings per hearing?')\n",
    "df_csv_all.shape"
   ]
  },
  {
   "cell_type": "code",
   "execution_count": 771,
   "metadata": {
    "scrolled": false
   },
   "outputs": [],
   "source": [
    "exceptions_grouped = df_exceptions.groupby('Application title short')[['Filing ID']].count().reset_index()\n",
    "\n",
    "df_csv_all_with_project = df_csv_all.merge(index2, left_on = 'postal', right_on = 'Filing ID')\n",
    "df_csv_all_with_project_grouped = df_csv_all_with_project.groupby('Application title short')[['file_name']].count().reset_index()\n",
    "\n",
    "df_csv_all_with_project_exceptions = df_csv_all_with_project_grouped.merge(exceptions_grouped, left_on = 'Application title short', right_on = 'Application title short')\n",
    "df_csv_all_with_project_exceptions.columns = ['Application title short', 'csv_count', 'csv_exception']\n",
    "\n",
    "df_csv_all_with_project_exceptions['pct'] = round(df_csv_all_with_project_exceptions['csv_exception']/df_csv_all_with_project_exceptions['csv_count'] * 100, 2)"
   ]
  },
  {
   "cell_type": "code",
   "execution_count": 772,
   "metadata": {},
   "outputs": [
    {
     "data": {
      "text/html": [
       "<div>\n",
       "<style scoped>\n",
       "    .dataframe tbody tr th:only-of-type {\n",
       "        vertical-align: middle;\n",
       "    }\n",
       "\n",
       "    .dataframe tbody tr th {\n",
       "        vertical-align: top;\n",
       "    }\n",
       "\n",
       "    .dataframe thead th {\n",
       "        text-align: right;\n",
       "    }\n",
       "</style>\n",
       "<table border=\"1\" class=\"dataframe\">\n",
       "  <thead>\n",
       "    <tr style=\"text-align: right;\">\n",
       "      <th></th>\n",
       "      <th>Application title short</th>\n",
       "      <th>csv_count</th>\n",
       "      <th>csv_exception</th>\n",
       "      <th>pct</th>\n",
       "    </tr>\n",
       "  </thead>\n",
       "  <tbody>\n",
       "    <tr>\n",
       "      <th>0</th>\n",
       "      <td>Application for 2021 NGTL System Expansion Project</td>\n",
       "      <td>113</td>\n",
       "      <td>1</td>\n",
       "      <td>0.88</td>\n",
       "    </tr>\n",
       "    <tr>\n",
       "      <th>1</th>\n",
       "      <td>Application for Bakken Pipeline Project Canada</td>\n",
       "      <td>386</td>\n",
       "      <td>1</td>\n",
       "      <td>0.26</td>\n",
       "    </tr>\n",
       "    <tr>\n",
       "      <th>2</th>\n",
       "      <td>Application for North Montney Project</td>\n",
       "      <td>523</td>\n",
       "      <td>6</td>\n",
       "      <td>1.15</td>\n",
       "    </tr>\n",
       "    <tr>\n",
       "      <th>3</th>\n",
       "      <td>Application for Northwest Mainline Komie North Extension</td>\n",
       "      <td>304</td>\n",
       "      <td>1</td>\n",
       "      <td>0.33</td>\n",
       "    </tr>\n",
       "    <tr>\n",
       "      <th>4</th>\n",
       "      <td>Application for Trans Mountain Expansion Project</td>\n",
       "      <td>2691</td>\n",
       "      <td>27</td>\n",
       "      <td>1.00</td>\n",
       "    </tr>\n",
       "    <tr>\n",
       "      <th>5</th>\n",
       "      <td>Application for the Albersun Pipeline Asset Purchase G</td>\n",
       "      <td>30</td>\n",
       "      <td>1</td>\n",
       "      <td>3.33</td>\n",
       "    </tr>\n",
       "    <tr>\n",
       "      <th>6</th>\n",
       "      <td>Application for the Brunswick Pipeline Project</td>\n",
       "      <td>299</td>\n",
       "      <td>91</td>\n",
       "      <td>30.43</td>\n",
       "    </tr>\n",
       "    <tr>\n",
       "      <th>7</th>\n",
       "      <td>Application for the Construction of Edson Mainline Expansion Project</td>\n",
       "      <td>258</td>\n",
       "      <td>1</td>\n",
       "      <td>0.39</td>\n",
       "    </tr>\n",
       "    <tr>\n",
       "      <th>8</th>\n",
       "      <td>Application for the Construction of North Corridor Expansion Project</td>\n",
       "      <td>959</td>\n",
       "      <td>7</td>\n",
       "      <td>0.73</td>\n",
       "    </tr>\n",
       "    <tr>\n",
       "      <th>9</th>\n",
       "      <td>Application for the Edmonton to Hardisty Pipeline Project</td>\n",
       "      <td>481</td>\n",
       "      <td>1</td>\n",
       "      <td>0.21</td>\n",
       "    </tr>\n",
       "    <tr>\n",
       "      <th>10</th>\n",
       "      <td>Application for the Enbridge Northern Gateway Pipeline Project</td>\n",
       "      <td>771</td>\n",
       "      <td>32</td>\n",
       "      <td>4.15</td>\n",
       "    </tr>\n",
       "    <tr>\n",
       "      <th>11</th>\n",
       "      <td>Application for the Goldboro Gas Plant and 26\" Gathering Pipeline Abandonment</td>\n",
       "      <td>91</td>\n",
       "      <td>3</td>\n",
       "      <td>3.30</td>\n",
       "    </tr>\n",
       "    <tr>\n",
       "      <th>12</th>\n",
       "      <td>Application for the Keystone XL Pipeline</td>\n",
       "      <td>930</td>\n",
       "      <td>7</td>\n",
       "      <td>0.75</td>\n",
       "    </tr>\n",
       "    <tr>\n",
       "      <th>13</th>\n",
       "      <td>Application for the Leismer to Kettle River Crossover</td>\n",
       "      <td>354</td>\n",
       "      <td>58</td>\n",
       "      <td>16.38</td>\n",
       "    </tr>\n",
       "    <tr>\n",
       "      <th>14</th>\n",
       "      <td>Application for the Line 3 Replacement Program</td>\n",
       "      <td>1009</td>\n",
       "      <td>1</td>\n",
       "      <td>0.10</td>\n",
       "    </tr>\n",
       "    <tr>\n",
       "      <th>15</th>\n",
       "      <td>Application for the Spruce Ridge Program</td>\n",
       "      <td>641</td>\n",
       "      <td>8</td>\n",
       "      <td>1.25</td>\n",
       "    </tr>\n",
       "    <tr>\n",
       "      <th>16</th>\n",
       "      <td>Application for the Towerbirch Expansion Project</td>\n",
       "      <td>459</td>\n",
       "      <td>32</td>\n",
       "      <td>6.97</td>\n",
       "    </tr>\n",
       "    <tr>\n",
       "      <th>17</th>\n",
       "      <td>Application for the Wolverine River Lateral Loop Carmon Creek Section</td>\n",
       "      <td>294</td>\n",
       "      <td>95</td>\n",
       "      <td>32.31</td>\n",
       "    </tr>\n",
       "    <tr>\n",
       "      <th>18</th>\n",
       "      <td>Application to construct and operate the South Peace Pipeline Project</td>\n",
       "      <td>127</td>\n",
       "      <td>25</td>\n",
       "      <td>19.69</td>\n",
       "    </tr>\n",
       "    <tr>\n",
       "      <th>19</th>\n",
       "      <td>Applications for Energy East, Asset Transfer and Eastern Mainline</td>\n",
       "      <td>5902</td>\n",
       "      <td>27</td>\n",
       "      <td>0.46</td>\n",
       "    </tr>\n",
       "    <tr>\n",
       "      <th>20</th>\n",
       "      <td>Applications for Energy East, Asset Transfer and Eastern Mainline  Eastern Mainline ESA</td>\n",
       "      <td>584</td>\n",
       "      <td>154</td>\n",
       "      <td>26.37</td>\n",
       "    </tr>\n",
       "  </tbody>\n",
       "</table>\n",
       "</div>"
      ],
      "text/plain": [
       "                                                                    Application title short  \\\n",
       "0                                        Application for 2021 NGTL System Expansion Project   \n",
       "1                                            Application for Bakken Pipeline Project Canada   \n",
       "2                                                     Application for North Montney Project   \n",
       "3                                  Application for Northwest Mainline Komie North Extension   \n",
       "4                                          Application for Trans Mountain Expansion Project   \n",
       "5                                    Application for the Albersun Pipeline Asset Purchase G   \n",
       "6                                            Application for the Brunswick Pipeline Project   \n",
       "7                      Application for the Construction of Edson Mainline Expansion Project   \n",
       "8                      Application for the Construction of North Corridor Expansion Project   \n",
       "9                                 Application for the Edmonton to Hardisty Pipeline Project   \n",
       "10                           Application for the Enbridge Northern Gateway Pipeline Project   \n",
       "11            Application for the Goldboro Gas Plant and 26\" Gathering Pipeline Abandonment   \n",
       "12                                                 Application for the Keystone XL Pipeline   \n",
       "13                                    Application for the Leismer to Kettle River Crossover   \n",
       "14                                           Application for the Line 3 Replacement Program   \n",
       "15                                                 Application for the Spruce Ridge Program   \n",
       "16                                         Application for the Towerbirch Expansion Project   \n",
       "17                    Application for the Wolverine River Lateral Loop Carmon Creek Section   \n",
       "18                    Application to construct and operate the South Peace Pipeline Project   \n",
       "19                        Applications for Energy East, Asset Transfer and Eastern Mainline   \n",
       "20  Applications for Energy East, Asset Transfer and Eastern Mainline  Eastern Mainline ESA   \n",
       "\n",
       "    csv_count  csv_exception    pct  \n",
       "0         113              1   0.88  \n",
       "1         386              1   0.26  \n",
       "2         523              6   1.15  \n",
       "3         304              1   0.33  \n",
       "4        2691             27   1.00  \n",
       "5          30              1   3.33  \n",
       "6         299             91  30.43  \n",
       "7         258              1   0.39  \n",
       "8         959              7   0.73  \n",
       "9         481              1   0.21  \n",
       "10        771             32   4.15  \n",
       "11         91              3   3.30  \n",
       "12        930              7   0.75  \n",
       "13        354             58  16.38  \n",
       "14       1009              1   0.10  \n",
       "15        641              8   1.25  \n",
       "16        459             32   6.97  \n",
       "17        294             95  32.31  \n",
       "18        127             25  19.69  \n",
       "19       5902             27   0.46  \n",
       "20        584            154  26.37  "
      ]
     },
     "execution_count": 772,
     "metadata": {},
     "output_type": "execute_result"
    }
   ],
   "source": [
    "df_csv_all_with_project_exceptions"
   ]
  },
  {
   "cell_type": "code",
   "execution_count": null,
   "metadata": {},
   "outputs": [],
   "source": []
  }
 ],
 "metadata": {
  "kernelspec": {
   "display_name": "Python 3",
   "language": "python",
   "name": "python3"
  },
  "language_info": {
   "codemirror_mode": {
    "name": "ipython",
    "version": 3
   },
   "file_extension": ".py",
   "mimetype": "text/x-python",
   "name": "python",
   "nbconvert_exporter": "python",
   "pygments_lexer": "ipython3",
   "version": "3.6.5"
  }
 },
 "nbformat": 4,
 "nbformat_minor": 2
}
