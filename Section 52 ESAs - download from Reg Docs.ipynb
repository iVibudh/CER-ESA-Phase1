{
 "cells": [
  {
   "cell_type": "code",
   "execution_count": 128,
   "metadata": {},
   "outputs": [],
   "source": [
    "#this code downloads ESAs from section 52 applications\n",
    "import pandas as pd\n",
    "import requests\n",
    "from bs4 import BeautifulSoup as bs\n",
    "import wget\n",
    "from IPython.core.interactiveshell import InteractiveShell\n",
    "InteractiveShell.ast_node_interactivity = \"all\""
   ]
  },
  {
   "cell_type": "code",
   "execution_count": 129,
   "metadata": {
    "scrolled": true
   },
   "outputs": [
    {
     "data": {
      "text/html": [
       "<div>\n",
       "<style scoped>\n",
       "    .dataframe tbody tr th:only-of-type {\n",
       "        vertical-align: middle;\n",
       "    }\n",
       "\n",
       "    .dataframe tbody tr th {\n",
       "        vertical-align: top;\n",
       "    }\n",
       "\n",
       "    .dataframe thead th {\n",
       "        text-align: right;\n",
       "    }\n",
       "</style>\n",
       "<table border=\"1\" class=\"dataframe\">\n",
       "  <thead>\n",
       "    <tr style=\"text-align: right;\">\n",
       "      <th></th>\n",
       "      <th>Section</th>\n",
       "      <th>Application title</th>\n",
       "      <th>link to folder with ESA</th>\n",
       "      <th>Folder link</th>\n",
       "      <th>Company Name</th>\n",
       "    </tr>\n",
       "  </thead>\n",
       "  <tbody>\n",
       "    <tr>\n",
       "      <th>0</th>\n",
       "      <td>52</td>\n",
       "      <td>2003-03-17 Application to Construct and Operat...</td>\n",
       "      <td>https://apps.cer-rec.gc.ca/REGDOCS/Item/View/2...</td>\n",
       "      <td>268693</td>\n",
       "      <td>EnCana Ekwan Pipeline Inc.</td>\n",
       "    </tr>\n",
       "    <tr>\n",
       "      <th>1</th>\n",
       "      <td>52</td>\n",
       "      <td>2006-05-23 - Application for the Brunswick Pip...</td>\n",
       "      <td>https://apps.cer-rec.gc.ca/REGDOCS/Item/View/4...</td>\n",
       "      <td>408713</td>\n",
       "      <td>Emera Brunswick Pipeline Company Ltd.</td>\n",
       "    </tr>\n",
       "    <tr>\n",
       "      <th>2</th>\n",
       "      <td>52</td>\n",
       "      <td>2007-03-09 - Application for Line 13 Transfer,...</td>\n",
       "      <td>https://apps.cer-rec.gc.ca/REGDOCS/Item/View/4...</td>\n",
       "      <td>456315</td>\n",
       "      <td>Enbridge Southern Lights GP Inc.</td>\n",
       "    </tr>\n",
       "    <tr>\n",
       "      <th>3</th>\n",
       "      <td>52</td>\n",
       "      <td>2007-06-28 - Application for the Line 4 Extens...</td>\n",
       "      <td>https://apps.cer-rec.gc.ca/REGDOCS/Item/View/4...</td>\n",
       "      <td>467952</td>\n",
       "      <td>Enbridge Pipelines Inc.</td>\n",
       "    </tr>\n",
       "    <tr>\n",
       "      <th>4</th>\n",
       "      <td>52</td>\n",
       "      <td>2008-02-27 - Application to construct and oper...</td>\n",
       "      <td>https://apps.cer-rec.gc.ca/REGDOCS/Item/View/5...</td>\n",
       "      <td>500494</td>\n",
       "      <td>Westcoast Energy Inc.</td>\n",
       "    </tr>\n",
       "  </tbody>\n",
       "</table>\n",
       "</div>"
      ],
      "text/plain": [
       "   Section                                  Application title  \\\n",
       "0       52  2003-03-17 Application to Construct and Operat...   \n",
       "1       52  2006-05-23 - Application for the Brunswick Pip...   \n",
       "2       52  2007-03-09 - Application for Line 13 Transfer,...   \n",
       "3       52  2007-06-28 - Application for the Line 4 Extens...   \n",
       "4       52  2008-02-27 - Application to construct and oper...   \n",
       "\n",
       "                             link to folder with ESA  Folder link  \\\n",
       "0  https://apps.cer-rec.gc.ca/REGDOCS/Item/View/2...       268693   \n",
       "1  https://apps.cer-rec.gc.ca/REGDOCS/Item/View/4...       408713   \n",
       "2  https://apps.cer-rec.gc.ca/REGDOCS/Item/View/4...       456315   \n",
       "3  https://apps.cer-rec.gc.ca/REGDOCS/Item/View/4...       467952   \n",
       "4  https://apps.cer-rec.gc.ca/REGDOCS/Item/View/5...       500494   \n",
       "\n",
       "                            Company Name  \n",
       "0             EnCana Ekwan Pipeline Inc.  \n",
       "1  Emera Brunswick Pipeline Company Ltd.  \n",
       "2       Enbridge Southern Lights GP Inc.  \n",
       "3                Enbridge Pipelines Inc.  \n",
       "4                  Westcoast Energy Inc.  "
      ]
     },
     "execution_count": 129,
     "metadata": {},
     "output_type": "execute_result"
    },
    {
     "data": {
      "text/plain": [
       "(67, 5)"
      ]
     },
     "execution_count": 129,
     "metadata": {},
     "output_type": "execute_result"
    },
    {
     "data": {
      "text/plain": [
       "36"
      ]
     },
     "execution_count": 129,
     "metadata": {},
     "output_type": "execute_result"
    }
   ],
   "source": [
    "#folder with list of missing ESA folder\n",
    "#df of missing projects\n",
    "missing = pd.read_csv('F:/Environmental Baseline Data/Version 2/Support files/list_of_Section_52_projects.csv', \n",
    "                      encoding='ISO-8859-1')\n",
    "missing.head()\n",
    "missing.shape\n",
    "missing['Application title'].nunique()"
   ]
  },
  {
   "cell_type": "code",
   "execution_count": 130,
   "metadata": {},
   "outputs": [],
   "source": [
    "#list of links \n",
    "urls_list = missing['link to folder with ESA'].tolist()\n",
    "urls_list_load = [str(x).replace('https://apps.cer-rec.gc.ca/REGDOCS/Item/View/', \n",
    "                                 'https://apps.cer-rec.gc.ca/REGDOCS/Item/LoadResult/') for x in urls_list]"
   ]
  },
  {
   "cell_type": "code",
   "execution_count": 131,
   "metadata": {
    "scrolled": true
   },
   "outputs": [
    {
     "data": {
      "text/plain": [
       "(1331, 9)"
      ]
     },
     "execution_count": 131,
     "metadata": {},
     "output_type": "execute_result"
    }
   ],
   "source": [
    "all_esa = []\n",
    "\n",
    "for x in urls_list_load:\n",
    "    cookies = {'RDI-NumberOfRecords': '200'}\n",
    "    r = requests.get(x, cookies = cookies)\n",
    "    soup = bs(r.text, 'lxml')\n",
    "    tds = soup.find_all('td', {'class' : 'nopadding break-anywhere'})\n",
    "    file_name = [x.text for x in soup.find_all('a', {'class' : 'row-icon'})]\n",
    "    hrefs = [a['href'] for a in soup.find_all('a', {'class' : 'row-icon'})]\n",
    "    df = pd.DataFrame({'file_name' : file_name, 'hrefs' : hrefs, 'folder' : str(x)})\n",
    "    all_esa.append(df)\n",
    "\n",
    "df = pd.concat(all_esa, axis = 0)\n",
    "df = df[df['file_name'].str.contains('ESA|nvironment|Horn|ocio|EIA|V14|V15|V16|V17|V18|V19|V20|V21|V22|V23|V24|V25|A1X1|A1C3|A3S1|A3S2|Goldboro')]\n",
    "df['Folder link'] = df['folder'].str.replace('https://apps.cer-rec.gc.ca/REGDOCS/Item/LoadResult/', '').astype(int)\n",
    "df = df.merge(missing, on = 'Folder link')\n",
    "postal_series = df['file_name'].str.extract('(A\\d\\D\\d\\D\\d)')\n",
    "df.insert(1, 'postal', postal_series)\n",
    "# df['Folder link'] = df['Folder link']\n",
    "df.shape"
   ]
  },
  {
   "cell_type": "code",
   "execution_count": 132,
   "metadata": {},
   "outputs": [
    {
     "name": "stdout",
     "output_type": "stream",
     "text": [
      "[]\n"
     ]
    }
   ],
   "source": [
    "#check to ensure all ESPs are captured; should return an empty; if project name, ESAs not captured\n",
    "df_list = df['Application title'].unique()\n",
    "missing_list = missing['Application title'].unique()\n",
    "\n",
    "print(list(set(missing_list) - set(df_list)))\n"
   ]
  },
  {
   "cell_type": "code",
   "execution_count": 133,
   "metadata": {},
   "outputs": [],
   "source": [
    "# leave for future in case need to take Projects out of corpus\n",
    "# remove three projects b/c they already exist in original corpus (ie. ESA data is already in corpus)\n",
    "# searchfor = ['Groundbirch', 'Towerbirch', 'GH-001-2012']\n",
    "# df = df[~df['Application title'].str.contains('|'.join(searchfor))]\n",
    "# df.shape"
   ]
  },
  {
   "cell_type": "code",
   "execution_count": 134,
   "metadata": {},
   "outputs": [
    {
     "data": {
      "text/plain": [
       "1331"
      ]
     },
     "execution_count": 134,
     "metadata": {},
     "output_type": "execute_result"
    },
    {
     "data": {
      "text/plain": [
       "Index(['file_name', 'postal', 'hrefs', 'folder', 'Folder link', 'Section',\n",
       "       'Application title', 'link to folder with ESA', 'Company Name'],\n",
       "      dtype='object')"
      ]
     },
     "execution_count": 134,
     "metadata": {},
     "output_type": "execute_result"
    }
   ],
   "source": [
    "#clean up href link\n",
    "df['hrefs'] = df['hrefs'].str.replace('/REGDOCS', 'https://apps.cer-rec.gc.ca/REGDOCS')\n",
    "download_ESA_links = df['hrefs']\n",
    "len(download_ESA_links)\n",
    "df.columns"
   ]
  },
  {
   "cell_type": "code",
   "execution_count": 135,
   "metadata": {},
   "outputs": [],
   "source": [
    "#downloads all ESA PDFs from list \n",
    "# for x in download_links:\n",
    "#     wget.download(x, 'F:\\Environmental Baseline Data\\Version 2\\Data\\PDFs')"
   ]
  },
  {
   "cell_type": "code",
   "execution_count": 136,
   "metadata": {},
   "outputs": [
    {
     "data": {
      "text/html": [
       "<div>\n",
       "<style scoped>\n",
       "    .dataframe tbody tr th:only-of-type {\n",
       "        vertical-align: middle;\n",
       "    }\n",
       "\n",
       "    .dataframe tbody tr th {\n",
       "        vertical-align: top;\n",
       "    }\n",
       "\n",
       "    .dataframe thead th {\n",
       "        text-align: right;\n",
       "    }\n",
       "</style>\n",
       "<table border=\"1\" class=\"dataframe\">\n",
       "  <thead>\n",
       "    <tr style=\"text-align: right;\">\n",
       "      <th></th>\n",
       "      <th>file_name</th>\n",
       "      <th>postal</th>\n",
       "      <th>hrefs</th>\n",
       "      <th>folder</th>\n",
       "      <th>Folder link</th>\n",
       "      <th>Section</th>\n",
       "      <th>Application title</th>\n",
       "      <th>link to folder with ESA</th>\n",
       "      <th>Company Name</th>\n",
       "    </tr>\n",
       "  </thead>\n",
       "  <tbody>\n",
       "    <tr>\n",
       "      <th>0</th>\n",
       "      <td>A0H8C0 - 13.0 EIA - Section 13.1 to 13.6</td>\n",
       "      <td>A0H8C0</td>\n",
       "      <td>https://apps.cer-rec.gc.ca/REGDOCS/File/Downlo...</td>\n",
       "      <td>https://apps.cer-rec.gc.ca/REGDOCS/Item/LoadRe...</td>\n",
       "      <td>268693</td>\n",
       "      <td>52</td>\n",
       "      <td>2003-03-17 Application to Construct and Operat...</td>\n",
       "      <td>https://apps.cer-rec.gc.ca/REGDOCS/Item/View/2...</td>\n",
       "      <td>EnCana Ekwan Pipeline Inc.</td>\n",
       "    </tr>\n",
       "    <tr>\n",
       "      <th>1</th>\n",
       "      <td>A0H8C1 - 13.0 EIA - Section 13.7 Wildlife Part 1</td>\n",
       "      <td>A0H8C1</td>\n",
       "      <td>https://apps.cer-rec.gc.ca/REGDOCS/File/Downlo...</td>\n",
       "      <td>https://apps.cer-rec.gc.ca/REGDOCS/Item/LoadRe...</td>\n",
       "      <td>268693</td>\n",
       "      <td>52</td>\n",
       "      <td>2003-03-17 Application to Construct and Operat...</td>\n",
       "      <td>https://apps.cer-rec.gc.ca/REGDOCS/Item/View/2...</td>\n",
       "      <td>EnCana Ekwan Pipeline Inc.</td>\n",
       "    </tr>\n",
       "  </tbody>\n",
       "</table>\n",
       "</div>"
      ],
      "text/plain": [
       "                                          file_name  postal  \\\n",
       "0         A0H8C0 - 13.0 EIA - Section 13.1 to 13.6   A0H8C0   \n",
       "1  A0H8C1 - 13.0 EIA - Section 13.7 Wildlife Part 1  A0H8C1   \n",
       "\n",
       "                                               hrefs  \\\n",
       "0  https://apps.cer-rec.gc.ca/REGDOCS/File/Downlo...   \n",
       "1  https://apps.cer-rec.gc.ca/REGDOCS/File/Downlo...   \n",
       "\n",
       "                                              folder  Folder link  Section  \\\n",
       "0  https://apps.cer-rec.gc.ca/REGDOCS/Item/LoadRe...       268693       52   \n",
       "1  https://apps.cer-rec.gc.ca/REGDOCS/Item/LoadRe...       268693       52   \n",
       "\n",
       "                                   Application title  \\\n",
       "0  2003-03-17 Application to Construct and Operat...   \n",
       "1  2003-03-17 Application to Construct and Operat...   \n",
       "\n",
       "                             link to folder with ESA  \\\n",
       "0  https://apps.cer-rec.gc.ca/REGDOCS/Item/View/2...   \n",
       "1  https://apps.cer-rec.gc.ca/REGDOCS/Item/View/2...   \n",
       "\n",
       "                 Company Name  \n",
       "0  EnCana Ekwan Pipeline Inc.  \n",
       "1  EnCana Ekwan Pipeline Inc.  "
      ]
     },
     "execution_count": 136,
     "metadata": {},
     "output_type": "execute_result"
    }
   ],
   "source": [
    "df.head(2)"
   ]
  },
  {
   "cell_type": "code",
   "execution_count": 137,
   "metadata": {},
   "outputs": [],
   "source": [
    "#regular expressions to parse out application date and hearing order \n",
    "application_date = df['Application title'].str.extract('(\\d\\d\\d\\d-\\d\\d-\\d\\d)')\n",
    "df.insert(7, 'application_date', application_date)\n",
    "\n",
    "hearing_order = df['Application title'].str.extract(r'(\\D\\D-\\d(.+?)\\d\\d\\d\\d)')\n",
    "hearing_order = hearing_order.drop([1], axis=1)\n",
    "df.insert(8, 'hearing_order', hearing_order)"
   ]
  },
  {
   "cell_type": "code",
   "execution_count": 141,
   "metadata": {},
   "outputs": [
    {
     "data": {
      "text/plain": [
       "False"
      ]
     },
     "execution_count": 141,
     "metadata": {},
     "output_type": "execute_result"
    },
    {
     "data": {
      "text/plain": [
       "False"
      ]
     },
     "execution_count": 141,
     "metadata": {},
     "output_type": "execute_result"
    }
   ],
   "source": [
    "#check to ensure regex worked\n",
    "hearing_order.isnull().values.any()\n",
    "application_date.isnull().values.any()"
   ]
  },
  {
   "cell_type": "code",
   "execution_count": 139,
   "metadata": {},
   "outputs": [
    {
     "data": {
      "text/plain": [
       "(1331, 11)"
      ]
     },
     "execution_count": 139,
     "metadata": {},
     "output_type": "execute_result"
    },
    {
     "data": {
      "text/plain": [
       "Index(['file_name', 'postal', 'hrefs', 'folder', 'Folder link', 'Section',\n",
       "       'Application title', 'application_date', 'hearing_order',\n",
       "       'link to folder with ESA', 'Company Name'],\n",
       "      dtype='object')"
      ]
     },
     "execution_count": 139,
     "metadata": {},
     "output_type": "execute_result"
    },
    {
     "data": {
      "text/plain": [
       "36"
      ]
     },
     "execution_count": 139,
     "metadata": {},
     "output_type": "execute_result"
    }
   ],
   "source": [
    "df.shape\n",
    "df.columns\n",
    "df['Application title'].nunique()"
   ]
  },
  {
   "cell_type": "code",
   "execution_count": 140,
   "metadata": {},
   "outputs": [],
   "source": [
    "df.to_csv('ESA_Index1.csv')"
   ]
  }
 ],
 "metadata": {
  "kernelspec": {
   "display_name": "Python 3",
   "language": "python",
   "name": "python3"
  },
  "language_info": {
   "codemirror_mode": {
    "name": "ipython",
    "version": 3
   },
   "file_extension": ".py",
   "mimetype": "text/x-python",
   "name": "python",
   "nbconvert_exporter": "python",
   "pygments_lexer": "ipython3",
   "version": "3.6.5"
  }
 },
 "nbformat": 4,
 "nbformat_minor": 2
}
