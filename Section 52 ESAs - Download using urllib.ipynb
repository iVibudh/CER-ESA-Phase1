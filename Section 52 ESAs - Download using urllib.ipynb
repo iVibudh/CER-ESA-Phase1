{
 "cells": [
  {
   "cell_type": "code",
   "execution_count": 1,
   "metadata": {},
   "outputs": [],
   "source": [
    "#this code downloads ESAs from section 52 applications\n",
    "import pandas as pd\n",
    "import requests\n",
    "from bs4 import BeautifulSoup as bs\n",
    "from IPython.core.interactiveshell import InteractiveShell\n",
    "\n",
    "from urllib.request import urlretrieve\n",
    "import os\n",
    "\n",
    "os.getcwd()\n",
    "InteractiveShell.ast_node_interactivity = \"all\""
   ]
  },
  {
   "cell_type": "code",
   "execution_count": 2,
   "metadata": {
    "scrolled": true
   },
   "outputs": [
    {
     "data": {
      "text/html": [
       "<div>\n",
       "<style scoped>\n",
       "    .dataframe tbody tr th:only-of-type {\n",
       "        vertical-align: middle;\n",
       "    }\n",
       "\n",
       "    .dataframe tbody tr th {\n",
       "        vertical-align: top;\n",
       "    }\n",
       "\n",
       "    .dataframe thead th {\n",
       "        text-align: right;\n",
       "    }\n",
       "</style>\n",
       "<table border=\"1\" class=\"dataframe\">\n",
       "  <thead>\n",
       "    <tr style=\"text-align: right;\">\n",
       "      <th></th>\n",
       "      <th>Section</th>\n",
       "      <th>Application title</th>\n",
       "      <th>link to folder with ESA</th>\n",
       "      <th>Folder link</th>\n",
       "      <th>Company Name</th>\n",
       "      <th>Consultant Name</th>\n",
       "    </tr>\n",
       "  </thead>\n",
       "  <tbody>\n",
       "    <tr>\n",
       "      <th>0</th>\n",
       "      <td>52</td>\n",
       "      <td>2003-03-17 Application to Construct and Operat...</td>\n",
       "      <td>https://apps.cer-rec.gc.ca/REGDOCS/Item/View/2...</td>\n",
       "      <td>268693</td>\n",
       "      <td>EnCana Ekwan Pipeline Inc.</td>\n",
       "      <td>AXYS Environmental Consulting Ltd.</td>\n",
       "    </tr>\n",
       "    <tr>\n",
       "      <th>1</th>\n",
       "      <td>52</td>\n",
       "      <td>2006-05-23 - Application for the Brunswick Pip...</td>\n",
       "      <td>https://apps.cer-rec.gc.ca/REGDOCS/Item/View/4...</td>\n",
       "      <td>408713</td>\n",
       "      <td>Emera Brunswick Pipeline Company Ltd.</td>\n",
       "      <td>Jacques Whitford</td>\n",
       "    </tr>\n",
       "    <tr>\n",
       "      <th>2</th>\n",
       "      <td>52</td>\n",
       "      <td>2007-03-09 - Application for Line 13 Transfer,...</td>\n",
       "      <td>https://apps.cer-rec.gc.ca/REGDOCS/Item/View/4...</td>\n",
       "      <td>456315</td>\n",
       "      <td>Enbridge Southern Lights GP Inc.</td>\n",
       "      <td>TERA Environmental Consultants</td>\n",
       "    </tr>\n",
       "    <tr>\n",
       "      <th>3</th>\n",
       "      <td>52</td>\n",
       "      <td>2007-06-28 - Application for the Line 4 Extens...</td>\n",
       "      <td>https://apps.cer-rec.gc.ca/REGDOCS/Item/View/4...</td>\n",
       "      <td>467952</td>\n",
       "      <td>Enbridge Pipelines Inc.</td>\n",
       "      <td>TERA Environmental Consultants</td>\n",
       "    </tr>\n",
       "    <tr>\n",
       "      <th>4</th>\n",
       "      <td>52</td>\n",
       "      <td>2008-02-27 - Application to construct and oper...</td>\n",
       "      <td>https://apps.cer-rec.gc.ca/REGDOCS/Item/View/5...</td>\n",
       "      <td>500494</td>\n",
       "      <td>Westcoast Energy Inc.</td>\n",
       "      <td>TERA Environmental Consultants</td>\n",
       "    </tr>\n",
       "  </tbody>\n",
       "</table>\n",
       "</div>"
      ],
      "text/plain": [
       "   Section                                  Application title  \\\n",
       "0       52  2003-03-17 Application to Construct and Operat...   \n",
       "1       52  2006-05-23 - Application for the Brunswick Pip...   \n",
       "2       52  2007-03-09 - Application for Line 13 Transfer,...   \n",
       "3       52  2007-06-28 - Application for the Line 4 Extens...   \n",
       "4       52  2008-02-27 - Application to construct and oper...   \n",
       "\n",
       "                             link to folder with ESA  Folder link  \\\n",
       "0  https://apps.cer-rec.gc.ca/REGDOCS/Item/View/2...       268693   \n",
       "1  https://apps.cer-rec.gc.ca/REGDOCS/Item/View/4...       408713   \n",
       "2  https://apps.cer-rec.gc.ca/REGDOCS/Item/View/4...       456315   \n",
       "3  https://apps.cer-rec.gc.ca/REGDOCS/Item/View/4...       467952   \n",
       "4  https://apps.cer-rec.gc.ca/REGDOCS/Item/View/5...       500494   \n",
       "\n",
       "                            Company Name                     Consultant Name  \n",
       "0             EnCana Ekwan Pipeline Inc.  AXYS Environmental Consulting Ltd.  \n",
       "1  Emera Brunswick Pipeline Company Ltd.                    Jacques Whitford  \n",
       "2       Enbridge Southern Lights GP Inc.      TERA Environmental Consultants  \n",
       "3                Enbridge Pipelines Inc.      TERA Environmental Consultants  \n",
       "4                  Westcoast Energy Inc.      TERA Environmental Consultants  "
      ]
     },
     "execution_count": 2,
     "metadata": {},
     "output_type": "execute_result"
    },
    {
     "data": {
      "text/plain": [
       "(67, 6)"
      ]
     },
     "execution_count": 2,
     "metadata": {},
     "output_type": "execute_result"
    },
    {
     "data": {
      "text/plain": [
       "36"
      ]
     },
     "execution_count": 2,
     "metadata": {},
     "output_type": "execute_result"
    }
   ],
   "source": [
    "#folder with list of missing ESA folder\n",
    "#df of missing projects\n",
    "missing = pd.read_csv('F:/Environmental Baseline Data/Version 2/Support files/list_of_Section_52_projects.csv', \n",
    "                      encoding='ISO-8859-1')\n",
    "missing.head()\n",
    "missing.shape\n",
    "missing['Application title'].nunique()"
   ]
  },
  {
   "cell_type": "code",
   "execution_count": 3,
   "metadata": {},
   "outputs": [],
   "source": [
    "#list of links \n",
    "urls_list = missing['link to folder with ESA'].tolist()\n",
    "urls_list_load = [str(x).replace('https://apps.cer-rec.gc.ca/REGDOCS/Item/View/', \n",
    "                                 'https://apps.cer-rec.gc.ca/REGDOCS/Item/LoadResult/') for x in urls_list]"
   ]
  },
  {
   "cell_type": "code",
   "execution_count": 4,
   "metadata": {},
   "outputs": [],
   "source": [
    "all_esa = []\n",
    "\n",
    "for x in urls_list_load:\n",
    "    cookies = {'RDI-NumberOfRecords': '200'}\n",
    "    r = requests.get(x, cookies = cookies)\n",
    "    soup = bs(r.text, 'lxml')\n",
    "    tds = soup.find_all('td', {'class' : 'nopadding break-anywhere'})\n",
    "    file_name = [x.text for x in soup.find_all('a', {'class' : 'row-icon'})]\n",
    "    hrefs = [a['href'] for a in soup.find_all('a', {'class' : 'row-icon'})]\n",
    "    df = pd.DataFrame({'file_name' : file_name, 'hrefs' : hrefs, 'folder' : str(x)})\n",
    "    all_esa.append(df)"
   ]
  },
  {
   "cell_type": "code",
   "execution_count": 5,
   "metadata": {
    "scrolled": true
   },
   "outputs": [
    {
     "data": {
      "text/plain": [
       "(1331, 11)"
      ]
     },
     "execution_count": 5,
     "metadata": {},
     "output_type": "execute_result"
    }
   ],
   "source": [
    "\n",
    "df = pd.concat(all_esa, axis = 0)\n",
    "df = df[df['file_name'].str.contains('ESA|nvironment|Horn|ocio|EIA|V14|V15|V16|V17|V18|V19|V20|V21|V22|V23|V24|V25|A1X1|A1C3|A3S1|A3S2|Goldboro')]\n",
    "df['Folder link'] = df['folder'].str.replace('https://apps.cer-rec.gc.ca/REGDOCS/Item/LoadResult/', '').astype(int)\n",
    "df = df.merge(missing, on = 'Folder link')\n",
    "postal_series = df['file_name'].str.extract('(A\\d\\D\\d\\D\\d)')\n",
    "df.insert(1, 'postal', postal_series)\n",
    "\n",
    "###\n",
    "href_id = df['hrefs'].str.rsplit('/' , 1).str[1]\n",
    "df.insert(1, 'hrefs_id', href_id)\n",
    "###\n",
    "\n",
    "# df['Folder link'] = df['Folder link']\n",
    "df.shape"
   ]
  },
  {
   "cell_type": "code",
   "execution_count": 6,
   "metadata": {},
   "outputs": [],
   "source": [
    "df_ = df.drop_duplicates('hrefs_id').reset_index(drop=True)"
   ]
  },
  {
   "cell_type": "code",
   "execution_count": 7,
   "metadata": {},
   "outputs": [
    {
     "data": {
      "text/plain": [
       "(1328, 11)"
      ]
     },
     "execution_count": 7,
     "metadata": {},
     "output_type": "execute_result"
    }
   ],
   "source": [
    "df_.shape"
   ]
  },
  {
   "cell_type": "code",
   "execution_count": 8,
   "metadata": {},
   "outputs": [],
   "source": [
    "\n",
    "#href_id = df['hrefs'].str.split('/' , n= 4, expand=True)\n",
    "#href_id = df['hrefs'].str.rsplit('/' , 1).str[1]\n",
    "\n",
    "#df.insert(1, 'href_id', href_id)\n",
    "#href_id"
   ]
  },
  {
   "cell_type": "code",
   "execution_count": 9,
   "metadata": {},
   "outputs": [
    {
     "name": "stdout",
     "output_type": "stream",
     "text": [
      "[]\n"
     ]
    }
   ],
   "source": [
    "#check to ensure all ESPs are captured; should return an empty; if project name, ESAs not captured\n",
    "df_list = df['Application title'].unique()\n",
    "missing_list = missing['Application title'].unique()\n",
    "\n",
    "print(list(set(missing_list) - set(df_list)))\n"
   ]
  },
  {
   "cell_type": "code",
   "execution_count": 10,
   "metadata": {},
   "outputs": [],
   "source": [
    "# leave for future in case need to take Projects out of corpus\n",
    "# remove three projects b/c they already exist in original corpus (ie. ESA data is already in corpus)\n",
    "# searchfor = ['Groundbirch', 'Towerbirch', 'GH-001-2012']\n",
    "# df = df[~df['Application title'].str.contains('|'.join(searchfor))]\n",
    "# df.shape"
   ]
  },
  {
   "cell_type": "code",
   "execution_count": 11,
   "metadata": {},
   "outputs": [
    {
     "data": {
      "text/plain": [
       "1328"
      ]
     },
     "execution_count": 11,
     "metadata": {},
     "output_type": "execute_result"
    },
    {
     "data": {
      "text/plain": [
       "1328"
      ]
     },
     "execution_count": 11,
     "metadata": {},
     "output_type": "execute_result"
    },
    {
     "data": {
      "text/plain": [
       "Index(['file_name', 'hrefs_id', 'postal', 'hrefs', 'folder', 'Folder link',\n",
       "       'Section', 'Application title', 'link to folder with ESA',\n",
       "       'Company Name', 'Consultant Name', 'dir_pdf'],\n",
       "      dtype='object')"
      ]
     },
     "execution_count": 11,
     "metadata": {},
     "output_type": "execute_result"
    },
    {
     "data": {
      "text/plain": [
       "'https://apps.cer-rec.gc.ca/REGDOCS/File/Download/268706'"
      ]
     },
     "execution_count": 11,
     "metadata": {},
     "output_type": "execute_result"
    },
    {
     "data": {
      "text/plain": [
       "'F:/Environmental Baseline Data/Version 3/Data/PDF/A0H8C0.pdf'"
      ]
     },
     "execution_count": 11,
     "metadata": {},
     "output_type": "execute_result"
    }
   ],
   "source": [
    "#clean up href link\n",
    "\n",
    "\n",
    "df_['hrefs'] = 'https://apps.cer-rec.gc.ca/REGDOCS/File/Download/' + df_['hrefs_id'].astype(str)\n",
    "df_['dir_pdf'] = 'F:/Environmental Baseline Data/Version 3/Data/PDF/' + df_['postal'].astype(str)+'.pdf'\n",
    "download_ESA_links = df_['hrefs']\n",
    "download_ESA_filename = df_['postal']\n",
    "# assing the href_id as file names\n",
    "len(download_ESA_links)\n",
    "len(download_ESA_filename)\n",
    "df_.columns\n",
    "df_.hrefs[0]\n",
    "df_.dir_pdf[0]"
   ]
  },
  {
   "cell_type": "code",
   "execution_count": 12,
   "metadata": {},
   "outputs": [
    {
     "data": {
      "text/plain": [
       "1328"
      ]
     },
     "execution_count": 12,
     "metadata": {},
     "output_type": "execute_result"
    }
   ],
   "source": [
    "df_['file_name'].nunique()"
   ]
  },
  {
   "cell_type": "code",
   "execution_count": 13,
   "metadata": {},
   "outputs": [],
   "source": [
    "#df.to_excel('esas.xlsx')\n",
    "#df_.to_excel('esas_no_duplicates_corrected.xlsx')"
   ]
  },
  {
   "cell_type": "code",
   "execution_count": 14,
   "metadata": {},
   "outputs": [],
   "source": [
    "\n",
    "os.chdir('F:/Environmental Baseline Data/Version 3/Data/PDF/')"
   ]
  },
  {
   "cell_type": "code",
   "execution_count": 15,
   "metadata": {},
   "outputs": [
    {
     "data": {
      "text/plain": [
       "1076"
      ]
     },
     "execution_count": 15,
     "metadata": {},
     "output_type": "execute_result"
    }
   ],
   "source": [
    "import glob\n",
    "len(glob.glob('F:/Environmental Baseline Data/Version 3/Data/PDF/*.pdf'))"
   ]
  },
  {
   "cell_type": "code",
   "execution_count": 18,
   "metadata": {},
   "outputs": [
    {
     "data": {
      "text/plain": [
       "('A4E6Y1.pdf', <http.client.HTTPMessage at 0x259d072c588>)"
      ]
     },
     "execution_count": 18,
     "metadata": {},
     "output_type": "execute_result"
    },
    {
     "data": {
      "text/plain": [
       "('A4E6Y2.pdf', <http.client.HTTPMessage at 0x259d072c080>)"
      ]
     },
     "execution_count": 18,
     "metadata": {},
     "output_type": "execute_result"
    },
    {
     "data": {
      "text/plain": [
       "('A4E6Y3.pdf', <http.client.HTTPMessage at 0x259d072cf98>)"
      ]
     },
     "execution_count": 18,
     "metadata": {},
     "output_type": "execute_result"
    },
    {
     "data": {
      "text/plain": [
       "('A4E6Y4.pdf', <http.client.HTTPMessage at 0x259d072c1d0>)"
      ]
     },
     "execution_count": 18,
     "metadata": {},
     "output_type": "execute_result"
    },
    {
     "data": {
      "text/plain": [
       "('A4E6Y5.pdf', <http.client.HTTPMessage at 0x259d072c908>)"
      ]
     },
     "execution_count": 18,
     "metadata": {},
     "output_type": "execute_result"
    },
    {
     "data": {
      "text/plain": [
       "('A4E6Y6.pdf', <http.client.HTTPMessage at 0x259d072cb00>)"
      ]
     },
     "execution_count": 18,
     "metadata": {},
     "output_type": "execute_result"
    },
    {
     "data": {
      "text/plain": [
       "('A4E6Y7.pdf', <http.client.HTTPMessage at 0x259d072c630>)"
      ]
     },
     "execution_count": 18,
     "metadata": {},
     "output_type": "execute_result"
    },
    {
     "data": {
      "text/plain": [
       "('A4E6Y8.pdf', <http.client.HTTPMessage at 0x259d072c128>)"
      ]
     },
     "execution_count": 18,
     "metadata": {},
     "output_type": "execute_result"
    },
    {
     "data": {
      "text/plain": [
       "('A4E6Y9.pdf', <http.client.HTTPMessage at 0x259d072cdd8>)"
      ]
     },
     "execution_count": 18,
     "metadata": {},
     "output_type": "execute_result"
    },
    {
     "data": {
      "text/plain": [
       "('A4E6Z0.pdf', <http.client.HTTPMessage at 0x259d072cc50>)"
      ]
     },
     "execution_count": 18,
     "metadata": {},
     "output_type": "execute_result"
    },
    {
     "data": {
      "text/plain": [
       "('A4E6Z1.pdf', <http.client.HTTPMessage at 0x259d072c860>)"
      ]
     },
     "execution_count": 18,
     "metadata": {},
     "output_type": "execute_result"
    },
    {
     "data": {
      "text/plain": [
       "('A4E6Z2.pdf', <http.client.HTTPMessage at 0x259d072c7f0>)"
      ]
     },
     "execution_count": 18,
     "metadata": {},
     "output_type": "execute_result"
    },
    {
     "data": {
      "text/plain": [
       "('A4K2Q6.pdf', <http.client.HTTPMessage at 0x259d072c4e0>)"
      ]
     },
     "execution_count": 18,
     "metadata": {},
     "output_type": "execute_result"
    },
    {
     "data": {
      "text/plain": [
       "('A4K2Q7.pdf', <http.client.HTTPMessage at 0x259d072c2b0>)"
      ]
     },
     "execution_count": 18,
     "metadata": {},
     "output_type": "execute_result"
    },
    {
     "data": {
      "text/plain": [
       "('A4K2Q8.pdf', <http.client.HTTPMessage at 0x259d0414b38>)"
      ]
     },
     "execution_count": 18,
     "metadata": {},
     "output_type": "execute_result"
    },
    {
     "data": {
      "text/plain": [
       "('A4K2Q9.pdf', <http.client.HTTPMessage at 0x259d0414400>)"
      ]
     },
     "execution_count": 18,
     "metadata": {},
     "output_type": "execute_result"
    },
    {
     "data": {
      "text/plain": [
       "('A4K2R0.pdf', <http.client.HTTPMessage at 0x259d0414160>)"
      ]
     },
     "execution_count": 18,
     "metadata": {},
     "output_type": "execute_result"
    },
    {
     "data": {
      "text/plain": [
       "('A4K2R1.pdf', <http.client.HTTPMessage at 0x259d04140f0>)"
      ]
     },
     "execution_count": 18,
     "metadata": {},
     "output_type": "execute_result"
    },
    {
     "data": {
      "text/plain": [
       "('A4K2R2.pdf', <http.client.HTTPMessage at 0x259d072cd68>)"
      ]
     },
     "execution_count": 18,
     "metadata": {},
     "output_type": "execute_result"
    },
    {
     "data": {
      "text/plain": [
       "('A4K2R3.pdf', <http.client.HTTPMessage at 0x259d072cdd8>)"
      ]
     },
     "execution_count": 18,
     "metadata": {},
     "output_type": "execute_result"
    },
    {
     "data": {
      "text/plain": [
       "('A4K2R4.pdf', <http.client.HTTPMessage at 0x259d0414da0>)"
      ]
     },
     "execution_count": 18,
     "metadata": {},
     "output_type": "execute_result"
    },
    {
     "data": {
      "text/plain": [
       "('A4K2R5.pdf', <http.client.HTTPMessage at 0x259d0414e10>)"
      ]
     },
     "execution_count": 18,
     "metadata": {},
     "output_type": "execute_result"
    },
    {
     "data": {
      "text/plain": [
       "('A4K2R6.pdf', <http.client.HTTPMessage at 0x259d0414fd0>)"
      ]
     },
     "execution_count": 18,
     "metadata": {},
     "output_type": "execute_result"
    },
    {
     "data": {
      "text/plain": [
       "('A4K2R7.pdf', <http.client.HTTPMessage at 0x259d0414160>)"
      ]
     },
     "execution_count": 18,
     "metadata": {},
     "output_type": "execute_result"
    },
    {
     "data": {
      "text/plain": [
       "('A4K2R8.pdf', <http.client.HTTPMessage at 0x259d072c7b8>)"
      ]
     },
     "execution_count": 18,
     "metadata": {},
     "output_type": "execute_result"
    },
    {
     "data": {
      "text/plain": [
       "('A4K2R9.pdf', <http.client.HTTPMessage at 0x259d072c080>)"
      ]
     },
     "execution_count": 18,
     "metadata": {},
     "output_type": "execute_result"
    },
    {
     "data": {
      "text/plain": [
       "('A4K2S0.pdf', <http.client.HTTPMessage at 0x259d0414f28>)"
      ]
     },
     "execution_count": 18,
     "metadata": {},
     "output_type": "execute_result"
    },
    {
     "data": {
      "text/plain": [
       "('A4K2S1.pdf', <http.client.HTTPMessage at 0x259d0414e48>)"
      ]
     },
     "execution_count": 18,
     "metadata": {},
     "output_type": "execute_result"
    },
    {
     "data": {
      "text/plain": [
       "('A4K2S2.pdf', <http.client.HTTPMessage at 0x259d0414ac8>)"
      ]
     },
     "execution_count": 18,
     "metadata": {},
     "output_type": "execute_result"
    },
    {
     "data": {
      "text/plain": [
       "('A4K2S3.pdf', <http.client.HTTPMessage at 0x259d0414fd0>)"
      ]
     },
     "execution_count": 18,
     "metadata": {},
     "output_type": "execute_result"
    },
    {
     "data": {
      "text/plain": [
       "('A4K2S4.pdf', <http.client.HTTPMessage at 0x259d0414f98>)"
      ]
     },
     "execution_count": 18,
     "metadata": {},
     "output_type": "execute_result"
    },
    {
     "data": {
      "text/plain": [
       "('A4K2S5.pdf', <http.client.HTTPMessage at 0x259d072c4e0>)"
      ]
     },
     "execution_count": 18,
     "metadata": {},
     "output_type": "execute_result"
    },
    {
     "data": {
      "text/plain": [
       "('A4K2S6.pdf', <http.client.HTTPMessage at 0x259d0414da0>)"
      ]
     },
     "execution_count": 18,
     "metadata": {},
     "output_type": "execute_result"
    },
    {
     "data": {
      "text/plain": [
       "('A4K2S7.pdf', <http.client.HTTPMessage at 0x259d0414be0>)"
      ]
     },
     "execution_count": 18,
     "metadata": {},
     "output_type": "execute_result"
    },
    {
     "data": {
      "text/plain": [
       "('A4K2S8.pdf', <http.client.HTTPMessage at 0x259d0414278>)"
      ]
     },
     "execution_count": 18,
     "metadata": {},
     "output_type": "execute_result"
    },
    {
     "data": {
      "text/plain": [
       "('A4K2S9.pdf', <http.client.HTTPMessage at 0x259d0414dd8>)"
      ]
     },
     "execution_count": 18,
     "metadata": {},
     "output_type": "execute_result"
    },
    {
     "data": {
      "text/plain": [
       "('A4K2T0.pdf', <http.client.HTTPMessage at 0x259d0414ef0>)"
      ]
     },
     "execution_count": 18,
     "metadata": {},
     "output_type": "execute_result"
    },
    {
     "data": {
      "text/plain": [
       "('A4K2T2.pdf', <http.client.HTTPMessage at 0x259d072c358>)"
      ]
     },
     "execution_count": 18,
     "metadata": {},
     "output_type": "execute_result"
    },
    {
     "data": {
      "text/plain": [
       "('A4K2T3.pdf', <http.client.HTTPMessage at 0x259d0414e10>)"
      ]
     },
     "execution_count": 18,
     "metadata": {},
     "output_type": "execute_result"
    },
    {
     "data": {
      "text/plain": [
       "('A4K2T4.pdf', <http.client.HTTPMessage at 0x259d0414e80>)"
      ]
     },
     "execution_count": 18,
     "metadata": {},
     "output_type": "execute_result"
    },
    {
     "data": {
      "text/plain": [
       "('A4K2T5.pdf', <http.client.HTTPMessage at 0x259d05023c8>)"
      ]
     },
     "execution_count": 18,
     "metadata": {},
     "output_type": "execute_result"
    },
    {
     "data": {
      "text/plain": [
       "('A4K2T6.pdf', <http.client.HTTPMessage at 0x259d0502278>)"
      ]
     },
     "execution_count": 18,
     "metadata": {},
     "output_type": "execute_result"
    },
    {
     "data": {
      "text/plain": [
       "('A4K2T7.pdf', <http.client.HTTPMessage at 0x259d0414cf8>)"
      ]
     },
     "execution_count": 18,
     "metadata": {},
     "output_type": "execute_result"
    },
    {
     "data": {
      "text/plain": [
       "('A4K2T8.pdf', <http.client.HTTPMessage at 0x259d0502ef0>)"
      ]
     },
     "execution_count": 18,
     "metadata": {},
     "output_type": "execute_result"
    },
    {
     "data": {
      "text/plain": [
       "('A4K2T9.pdf', <http.client.HTTPMessage at 0x259d04140f0>)"
      ]
     },
     "execution_count": 18,
     "metadata": {},
     "output_type": "execute_result"
    },
    {
     "data": {
      "text/plain": [
       "('A4K2U0.pdf', <http.client.HTTPMessage at 0x259d0414048>)"
      ]
     },
     "execution_count": 18,
     "metadata": {},
     "output_type": "execute_result"
    },
    {
     "data": {
      "text/plain": [
       "('A4K2U1.pdf', <http.client.HTTPMessage at 0x259d0502588>)"
      ]
     },
     "execution_count": 18,
     "metadata": {},
     "output_type": "execute_result"
    },
    {
     "data": {
      "text/plain": [
       "('A4K2U2.pdf', <http.client.HTTPMessage at 0x259d05020f0>)"
      ]
     },
     "execution_count": 18,
     "metadata": {},
     "output_type": "execute_result"
    },
    {
     "data": {
      "text/plain": [
       "('A4K2U3.pdf', <http.client.HTTPMessage at 0x259d05025f8>)"
      ]
     },
     "execution_count": 18,
     "metadata": {},
     "output_type": "execute_result"
    },
    {
     "data": {
      "text/plain": [
       "('A4K2U4.pdf', <http.client.HTTPMessage at 0x259d05029b0>)"
      ]
     },
     "execution_count": 18,
     "metadata": {},
     "output_type": "execute_result"
    },
    {
     "data": {
      "text/plain": [
       "('A4K2U9.pdf', <http.client.HTTPMessage at 0x259d04142e8>)"
      ]
     },
     "execution_count": 18,
     "metadata": {},
     "output_type": "execute_result"
    },
    {
     "data": {
      "text/plain": [
       "('A4K2V3.pdf', <http.client.HTTPMessage at 0x259d0414be0>)"
      ]
     },
     "execution_count": 18,
     "metadata": {},
     "output_type": "execute_result"
    },
    {
     "data": {
      "text/plain": [
       "('A4K2V4.pdf', <http.client.HTTPMessage at 0x259d0502908>)"
      ]
     },
     "execution_count": 18,
     "metadata": {},
     "output_type": "execute_result"
    },
    {
     "data": {
      "text/plain": [
       "('A4K2V5.pdf', <http.client.HTTPMessage at 0x259d0502a58>)"
      ]
     },
     "execution_count": 18,
     "metadata": {},
     "output_type": "execute_result"
    },
    {
     "data": {
      "text/plain": [
       "('A4K2V6.pdf', <http.client.HTTPMessage at 0x259d0502b70>)"
      ]
     },
     "execution_count": 18,
     "metadata": {},
     "output_type": "execute_result"
    },
    {
     "data": {
      "text/plain": [
       "('A4K2V7.pdf', <http.client.HTTPMessage at 0x259d05025f8>)"
      ]
     },
     "execution_count": 18,
     "metadata": {},
     "output_type": "execute_result"
    },
    {
     "data": {
      "text/plain": [
       "('A4K2V8.pdf', <http.client.HTTPMessage at 0x259d05020f0>)"
      ]
     },
     "execution_count": 18,
     "metadata": {},
     "output_type": "execute_result"
    },
    {
     "data": {
      "text/plain": [
       "('A4K2V9.pdf', <http.client.HTTPMessage at 0x259d0414ef0>)"
      ]
     },
     "execution_count": 18,
     "metadata": {},
     "output_type": "execute_result"
    },
    {
     "data": {
      "text/plain": [
       "('A4K2W0.pdf', <http.client.HTTPMessage at 0x259d0502a20>)"
      ]
     },
     "execution_count": 18,
     "metadata": {},
     "output_type": "execute_result"
    },
    {
     "data": {
      "text/plain": [
       "('A4K2W1.pdf', <http.client.HTTPMessage at 0x259d0502ef0>)"
      ]
     },
     "execution_count": 18,
     "metadata": {},
     "output_type": "execute_result"
    },
    {
     "data": {
      "text/plain": [
       "('A4K2W2.pdf', <http.client.HTTPMessage at 0x259d0502d68>)"
      ]
     },
     "execution_count": 18,
     "metadata": {},
     "output_type": "execute_result"
    },
    {
     "data": {
      "text/plain": [
       "('A4K2W3.pdf', <http.client.HTTPMessage at 0x259d0502ac8>)"
      ]
     },
     "execution_count": 18,
     "metadata": {},
     "output_type": "execute_result"
    },
    {
     "data": {
      "text/plain": [
       "('A4T0Z0.pdf', <http.client.HTTPMessage at 0x259d0502b00>)"
      ]
     },
     "execution_count": 18,
     "metadata": {},
     "output_type": "execute_result"
    },
    {
     "data": {
      "text/plain": [
       "('A4T0Z1.pdf', <http.client.HTTPMessage at 0x259d0414978>)"
      ]
     },
     "execution_count": 18,
     "metadata": {},
     "output_type": "execute_result"
    },
    {
     "data": {
      "text/plain": [
       "('A4T0Z2.pdf', <http.client.HTTPMessage at 0x259d0502470>)"
      ]
     },
     "execution_count": 18,
     "metadata": {},
     "output_type": "execute_result"
    },
    {
     "data": {
      "text/plain": [
       "('A4T0Z3.pdf', <http.client.HTTPMessage at 0x259d0502be0>)"
      ]
     },
     "execution_count": 18,
     "metadata": {},
     "output_type": "execute_result"
    },
    {
     "data": {
      "text/plain": [
       "('A4T0Z4.pdf', <http.client.HTTPMessage at 0x259d0502668>)"
      ]
     },
     "execution_count": 18,
     "metadata": {},
     "output_type": "execute_result"
    },
    {
     "data": {
      "text/plain": [
       "('A4T0Z5.pdf', <http.client.HTTPMessage at 0x259d0502240>)"
      ]
     },
     "execution_count": 18,
     "metadata": {},
     "output_type": "execute_result"
    },
    {
     "data": {
      "text/plain": [
       "('A4T0Z6.pdf', <http.client.HTTPMessage at 0x259d0502860>)"
      ]
     },
     "execution_count": 18,
     "metadata": {},
     "output_type": "execute_result"
    },
    {
     "data": {
      "text/plain": [
       "('A4T0Z7.pdf', <http.client.HTTPMessage at 0x259d0502208>)"
      ]
     },
     "execution_count": 18,
     "metadata": {},
     "output_type": "execute_result"
    },
    {
     "data": {
      "text/plain": [
       "('A4T0Z8.pdf', <http.client.HTTPMessage at 0x259d0502668>)"
      ]
     },
     "execution_count": 18,
     "metadata": {},
     "output_type": "execute_result"
    },
    {
     "data": {
      "text/plain": [
       "('A4T0Z9.pdf', <http.client.HTTPMessage at 0x259d0502278>)"
      ]
     },
     "execution_count": 18,
     "metadata": {},
     "output_type": "execute_result"
    },
    {
     "data": {
      "text/plain": [
       "('A4T1A0.pdf', <http.client.HTTPMessage at 0x259d0502a20>)"
      ]
     },
     "execution_count": 18,
     "metadata": {},
     "output_type": "execute_result"
    },
    {
     "data": {
      "text/plain": [
       "('A4T1A1.pdf', <http.client.HTTPMessage at 0x259d0502f60>)"
      ]
     },
     "execution_count": 18,
     "metadata": {},
     "output_type": "execute_result"
    },
    {
     "data": {
      "text/plain": [
       "('A4T1A2.pdf', <http.client.HTTPMessage at 0x259d0502908>)"
      ]
     },
     "execution_count": 18,
     "metadata": {},
     "output_type": "execute_result"
    },
    {
     "data": {
      "text/plain": [
       "('A4T1A3.pdf', <http.client.HTTPMessage at 0x259d0502550>)"
      ]
     },
     "execution_count": 18,
     "metadata": {},
     "output_type": "execute_result"
    },
    {
     "data": {
      "text/plain": [
       "('A4T1A4.pdf', <http.client.HTTPMessage at 0x259d0502ef0>)"
      ]
     },
     "execution_count": 18,
     "metadata": {},
     "output_type": "execute_result"
    },
    {
     "data": {
      "text/plain": [
       "('A4T1A5.pdf', <http.client.HTTPMessage at 0x259d05029e8>)"
      ]
     },
     "execution_count": 18,
     "metadata": {},
     "output_type": "execute_result"
    },
    {
     "data": {
      "text/plain": [
       "('A4T1A6.pdf', <http.client.HTTPMessage at 0x259d0502b00>)"
      ]
     },
     "execution_count": 18,
     "metadata": {},
     "output_type": "execute_result"
    },
    {
     "data": {
      "text/plain": [
       "('A4T1A7.pdf', <http.client.HTTPMessage at 0x259d072cc88>)"
      ]
     },
     "execution_count": 18,
     "metadata": {},
     "output_type": "execute_result"
    },
    {
     "data": {
      "text/plain": [
       "('A4T1A8.pdf', <http.client.HTTPMessage at 0x259d072c518>)"
      ]
     },
     "execution_count": 18,
     "metadata": {},
     "output_type": "execute_result"
    },
    {
     "data": {
      "text/plain": [
       "('A4T1A9.pdf', <http.client.HTTPMessage at 0x259d072cc50>)"
      ]
     },
     "execution_count": 18,
     "metadata": {},
     "output_type": "execute_result"
    },
    {
     "data": {
      "text/plain": [
       "('A4T1C0.pdf', <http.client.HTTPMessage at 0x259d0723400>)"
      ]
     },
     "execution_count": 18,
     "metadata": {},
     "output_type": "execute_result"
    },
    {
     "data": {
      "text/plain": [
       "('A4T1C1.pdf', <http.client.HTTPMessage at 0x259d072c470>)"
      ]
     },
     "execution_count": 18,
     "metadata": {},
     "output_type": "execute_result"
    },
    {
     "data": {
      "text/plain": [
       "('A4T1C2.pdf', <http.client.HTTPMessage at 0x259d072c358>)"
      ]
     },
     "execution_count": 18,
     "metadata": {},
     "output_type": "execute_result"
    },
    {
     "data": {
      "text/plain": [
       "('A4T1C3.pdf', <http.client.HTTPMessage at 0x259d072c048>)"
      ]
     },
     "execution_count": 18,
     "metadata": {},
     "output_type": "execute_result"
    },
    {
     "data": {
      "text/plain": [
       "('A4T1C4.pdf', <http.client.HTTPMessage at 0x259d072cda0>)"
      ]
     },
     "execution_count": 18,
     "metadata": {},
     "output_type": "execute_result"
    },
    {
     "data": {
      "text/plain": [
       "('A4T1C5.pdf', <http.client.HTTPMessage at 0x259d072ccc0>)"
      ]
     },
     "execution_count": 18,
     "metadata": {},
     "output_type": "execute_result"
    },
    {
     "data": {
      "text/plain": [
       "('A4T1C6.pdf', <http.client.HTTPMessage at 0x259d072c5c0>)"
      ]
     },
     "execution_count": 18,
     "metadata": {},
     "output_type": "execute_result"
    },
    {
     "data": {
      "text/plain": [
       "('A4Z6H1.pdf', <http.client.HTTPMessage at 0x259d072c080>)"
      ]
     },
     "execution_count": 18,
     "metadata": {},
     "output_type": "execute_result"
    },
    {
     "data": {
      "text/plain": [
       "('A5G2W9.pdf', <http.client.HTTPMessage at 0x259d072ce80>)"
      ]
     },
     "execution_count": 18,
     "metadata": {},
     "output_type": "execute_result"
    },
    {
     "data": {
      "text/plain": [
       "('A5G2X0.pdf', <http.client.HTTPMessage at 0x259d072cc88>)"
      ]
     },
     "execution_count": 18,
     "metadata": {},
     "output_type": "execute_result"
    },
    {
     "data": {
      "text/plain": [
       "('A5G2X1.pdf', <http.client.HTTPMessage at 0x259d0723860>)"
      ]
     },
     "execution_count": 18,
     "metadata": {},
     "output_type": "execute_result"
    },
    {
     "data": {
      "text/plain": [
       "('A5G2X2.pdf', <http.client.HTTPMessage at 0x259d0723780>)"
      ]
     },
     "execution_count": 18,
     "metadata": {},
     "output_type": "execute_result"
    },
    {
     "data": {
      "text/plain": [
       "('A5G2X3.pdf', <http.client.HTTPMessage at 0x259d072c128>)"
      ]
     },
     "execution_count": 18,
     "metadata": {},
     "output_type": "execute_result"
    },
    {
     "data": {
      "text/plain": [
       "('A5G2X4.pdf', <http.client.HTTPMessage at 0x259d0723048>)"
      ]
     },
     "execution_count": 18,
     "metadata": {},
     "output_type": "execute_result"
    },
    {
     "data": {
      "text/plain": [
       "('A5G2X5.pdf', <http.client.HTTPMessage at 0x259d072cb70>)"
      ]
     },
     "execution_count": 18,
     "metadata": {},
     "output_type": "execute_result"
    },
    {
     "data": {
      "text/plain": [
       "('A5G2X6.pdf', <http.client.HTTPMessage at 0x259d072c518>)"
      ]
     },
     "execution_count": 18,
     "metadata": {},
     "output_type": "execute_result"
    },
    {
     "data": {
      "text/plain": [
       "('A5G2X7.pdf', <http.client.HTTPMessage at 0x259d0723550>)"
      ]
     },
     "execution_count": 18,
     "metadata": {},
     "output_type": "execute_result"
    },
    {
     "data": {
      "text/plain": [
       "('A5G2X8.pdf', <http.client.HTTPMessage at 0x259d0723710>)"
      ]
     },
     "execution_count": 18,
     "metadata": {},
     "output_type": "execute_result"
    },
    {
     "data": {
      "text/plain": [
       "('A5G2X9.pdf', <http.client.HTTPMessage at 0x259d07237b8>)"
      ]
     },
     "execution_count": 18,
     "metadata": {},
     "output_type": "execute_result"
    },
    {
     "data": {
      "text/plain": [
       "('A5G2Y0.pdf', <http.client.HTTPMessage at 0x259d0723978>)"
      ]
     },
     "execution_count": 18,
     "metadata": {},
     "output_type": "execute_result"
    },
    {
     "data": {
      "text/plain": [
       "('A5G2Y1.pdf', <http.client.HTTPMessage at 0x259d072cc18>)"
      ]
     },
     "execution_count": 18,
     "metadata": {},
     "output_type": "execute_result"
    },
    {
     "data": {
      "text/plain": [
       "('A5G2Y3.pdf', <http.client.HTTPMessage at 0x259d072c7b8>)"
      ]
     },
     "execution_count": 18,
     "metadata": {},
     "output_type": "execute_result"
    },
    {
     "data": {
      "text/plain": [
       "('A5V8D5.pdf', <http.client.HTTPMessage at 0x259d07237f0>)"
      ]
     },
     "execution_count": 18,
     "metadata": {},
     "output_type": "execute_result"
    },
    {
     "data": {
      "text/plain": [
       "('A5V8D6.pdf', <http.client.HTTPMessage at 0x259d07239b0>)"
      ]
     },
     "execution_count": 18,
     "metadata": {},
     "output_type": "execute_result"
    },
    {
     "data": {
      "text/plain": [
       "('A5V8D7.pdf', <http.client.HTTPMessage at 0x259d07238d0>)"
      ]
     },
     "execution_count": 18,
     "metadata": {},
     "output_type": "execute_result"
    },
    {
     "data": {
      "text/plain": [
       "('A5V8D8.pdf', <http.client.HTTPMessage at 0x259d0723908>)"
      ]
     },
     "execution_count": 18,
     "metadata": {},
     "output_type": "execute_result"
    },
    {
     "data": {
      "text/plain": [
       "('A5V8D9.pdf', <http.client.HTTPMessage at 0x259d0ac57b8>)"
      ]
     },
     "execution_count": 18,
     "metadata": {},
     "output_type": "execute_result"
    },
    {
     "data": {
      "text/plain": [
       "('A5V8E0.pdf', <http.client.HTTPMessage at 0x259d072c9e8>)"
      ]
     },
     "execution_count": 18,
     "metadata": {},
     "output_type": "execute_result"
    },
    {
     "data": {
      "text/plain": [
       "('A5V8E1.pdf', <http.client.HTTPMessage at 0x259d0723a20>)"
      ]
     },
     "execution_count": 18,
     "metadata": {},
     "output_type": "execute_result"
    },
    {
     "data": {
      "text/plain": [
       "('A5V8E2.pdf', <http.client.HTTPMessage at 0x259d07239b0>)"
      ]
     },
     "execution_count": 18,
     "metadata": {},
     "output_type": "execute_result"
    },
    {
     "data": {
      "text/plain": [
       "('A5V8E3.pdf', <http.client.HTTPMessage at 0x259d07237b8>)"
      ]
     },
     "execution_count": 18,
     "metadata": {},
     "output_type": "execute_result"
    },
    {
     "data": {
      "text/plain": [
       "('A5V8E4.pdf', <http.client.HTTPMessage at 0x259d0723550>)"
      ]
     },
     "execution_count": 18,
     "metadata": {},
     "output_type": "execute_result"
    },
    {
     "data": {
      "text/plain": [
       "('A5V8E5.pdf', <http.client.HTTPMessage at 0x259d0723940>)"
      ]
     },
     "execution_count": 18,
     "metadata": {},
     "output_type": "execute_result"
    },
    {
     "data": {
      "text/plain": [
       "('A5V8E6.pdf', <http.client.HTTPMessage at 0x259d072c5c0>)"
      ]
     },
     "execution_count": 18,
     "metadata": {},
     "output_type": "execute_result"
    },
    {
     "data": {
      "text/plain": [
       "('A5V8E7.pdf', <http.client.HTTPMessage at 0x259d0723780>)"
      ]
     },
     "execution_count": 18,
     "metadata": {},
     "output_type": "execute_result"
    },
    {
     "data": {
      "text/plain": [
       "('A5V8E8.pdf', <http.client.HTTPMessage at 0x259d0723668>)"
      ]
     },
     "execution_count": 18,
     "metadata": {},
     "output_type": "execute_result"
    },
    {
     "data": {
      "text/plain": [
       "('A5V8E9.pdf', <http.client.HTTPMessage at 0x259d0723b00>)"
      ]
     },
     "execution_count": 18,
     "metadata": {},
     "output_type": "execute_result"
    },
    {
     "data": {
      "text/plain": [
       "('A5V8F0.pdf', <http.client.HTTPMessage at 0x259d0723908>)"
      ]
     },
     "execution_count": 18,
     "metadata": {},
     "output_type": "execute_result"
    },
    {
     "data": {
      "text/plain": [
       "('A5V8F1.pdf', <http.client.HTTPMessage at 0x259d07237b8>)"
      ]
     },
     "execution_count": 18,
     "metadata": {},
     "output_type": "execute_result"
    },
    {
     "data": {
      "text/plain": [
       "('A5V8F2.pdf', <http.client.HTTPMessage at 0x259d0723550>)"
      ]
     },
     "execution_count": 18,
     "metadata": {},
     "output_type": "execute_result"
    },
    {
     "data": {
      "text/plain": [
       "('A5V8F3.pdf', <http.client.HTTPMessage at 0x259d072c1d0>)"
      ]
     },
     "execution_count": 18,
     "metadata": {},
     "output_type": "execute_result"
    },
    {
     "data": {
      "text/plain": [
       "('A5V8F4.pdf', <http.client.HTTPMessage at 0x259d07236a0>)"
      ]
     },
     "execution_count": 18,
     "metadata": {},
     "output_type": "execute_result"
    },
    {
     "data": {
      "text/plain": [
       "('A5V8F5.pdf', <http.client.HTTPMessage at 0x259d0723400>)"
      ]
     },
     "execution_count": 18,
     "metadata": {},
     "output_type": "execute_result"
    },
    {
     "data": {
      "text/plain": [
       "('A5V8F6.pdf', <http.client.HTTPMessage at 0x259d0502ef0>)"
      ]
     },
     "execution_count": 18,
     "metadata": {},
     "output_type": "execute_result"
    },
    {
     "data": {
      "text/plain": [
       "('A5V8F7.pdf', <http.client.HTTPMessage at 0x259d0502a90>)"
      ]
     },
     "execution_count": 18,
     "metadata": {},
     "output_type": "execute_result"
    },
    {
     "data": {
      "text/plain": [
       "('A5V8F8.pdf', <http.client.HTTPMessage at 0x259d0502dd8>)"
      ]
     },
     "execution_count": 18,
     "metadata": {},
     "output_type": "execute_result"
    },
    {
     "data": {
      "text/plain": [
       "('A5V8F9.pdf', <http.client.HTTPMessage at 0x259d072cbe0>)"
      ]
     },
     "execution_count": 18,
     "metadata": {},
     "output_type": "execute_result"
    },
    {
     "data": {
      "text/plain": [
       "('A5V8G0.pdf', <http.client.HTTPMessage at 0x259d0723400>)"
      ]
     },
     "execution_count": 18,
     "metadata": {},
     "output_type": "execute_result"
    },
    {
     "data": {
      "text/plain": [
       "('A5V8G1.pdf', <http.client.HTTPMessage at 0x259d07237f0>)"
      ]
     },
     "execution_count": 18,
     "metadata": {},
     "output_type": "execute_result"
    },
    {
     "data": {
      "text/plain": [
       "('A5V8G2.pdf', <http.client.HTTPMessage at 0x259d0502550>)"
      ]
     },
     "execution_count": 18,
     "metadata": {},
     "output_type": "execute_result"
    },
    {
     "data": {
      "text/plain": [
       "('A6A2C8.pdf', <http.client.HTTPMessage at 0x259d05023c8>)"
      ]
     },
     "execution_count": 18,
     "metadata": {},
     "output_type": "execute_result"
    },
    {
     "data": {
      "text/plain": [
       "('A6A2C9.pdf', <http.client.HTTPMessage at 0x259d0502ac8>)"
      ]
     },
     "execution_count": 18,
     "metadata": {},
     "output_type": "execute_result"
    },
    {
     "data": {
      "text/plain": [
       "('A6A2D0.pdf', <http.client.HTTPMessage at 0x259d05025c0>)"
      ]
     },
     "execution_count": 18,
     "metadata": {},
     "output_type": "execute_result"
    },
    {
     "data": {
      "text/plain": [
       "('A6A2D1.pdf', <http.client.HTTPMessage at 0x259d072c198>)"
      ]
     },
     "execution_count": 18,
     "metadata": {},
     "output_type": "execute_result"
    },
    {
     "data": {
      "text/plain": [
       "('A6A2D2.pdf', <http.client.HTTPMessage at 0x259d0723780>)"
      ]
     },
     "execution_count": 18,
     "metadata": {},
     "output_type": "execute_result"
    },
    {
     "data": {
      "text/plain": [
       "('A6A2D3.pdf', <http.client.HTTPMessage at 0x259d0502160>)"
      ]
     },
     "execution_count": 18,
     "metadata": {},
     "output_type": "execute_result"
    },
    {
     "data": {
      "text/plain": [
       "('A6A2D4.pdf', <http.client.HTTPMessage at 0x259d0502b38>)"
      ]
     },
     "execution_count": 18,
     "metadata": {},
     "output_type": "execute_result"
    },
    {
     "data": {
      "text/plain": [
       "('A6A2D5.pdf', <http.client.HTTPMessage at 0x259d0502ac8>)"
      ]
     },
     "execution_count": 18,
     "metadata": {},
     "output_type": "execute_result"
    },
    {
     "data": {
      "text/plain": [
       "('A6A2D6.pdf', <http.client.HTTPMessage at 0x259d0502668>)"
      ]
     },
     "execution_count": 18,
     "metadata": {},
     "output_type": "execute_result"
    },
    {
     "data": {
      "text/plain": [
       "('A6I8E1.pdf', <http.client.HTTPMessage at 0x259d07231d0>)"
      ]
     },
     "execution_count": 18,
     "metadata": {},
     "output_type": "execute_result"
    },
    {
     "data": {
      "text/plain": [
       "('A6F4Q3.pdf', <http.client.HTTPMessage at 0x259d0502b00>)"
      ]
     },
     "execution_count": 18,
     "metadata": {},
     "output_type": "execute_result"
    },
    {
     "data": {
      "text/plain": [
       "('A6F4Q4.pdf', <http.client.HTTPMessage at 0x259d0502b38>)"
      ]
     },
     "execution_count": 18,
     "metadata": {},
     "output_type": "execute_result"
    },
    {
     "data": {
      "text/plain": [
       "('A6F4Q5.pdf', <http.client.HTTPMessage at 0x259d0502550>)"
      ]
     },
     "execution_count": 18,
     "metadata": {},
     "output_type": "execute_result"
    },
    {
     "data": {
      "text/plain": [
       "('A6F4Q6.pdf', <http.client.HTTPMessage at 0x259d0502a90>)"
      ]
     },
     "execution_count": 18,
     "metadata": {},
     "output_type": "execute_result"
    },
    {
     "data": {
      "text/plain": [
       "('A6F4Q7.pdf', <http.client.HTTPMessage at 0x259d05020b8>)"
      ]
     },
     "execution_count": 18,
     "metadata": {},
     "output_type": "execute_result"
    },
    {
     "data": {
      "text/plain": [
       "('A6F4Q8.pdf', <http.client.HTTPMessage at 0x259d05021d0>)"
      ]
     },
     "execution_count": 18,
     "metadata": {},
     "output_type": "execute_result"
    },
    {
     "data": {
      "text/plain": [
       "('A6F4Q9.pdf', <http.client.HTTPMessage at 0x259d0723860>)"
      ]
     },
     "execution_count": 18,
     "metadata": {},
     "output_type": "execute_result"
    },
    {
     "data": {
      "text/plain": [
       "('A6F4R0.pdf', <http.client.HTTPMessage at 0x259d0502160>)"
      ]
     },
     "execution_count": 18,
     "metadata": {},
     "output_type": "execute_result"
    },
    {
     "data": {
      "text/plain": [
       "('A6F4R1.pdf', <http.client.HTTPMessage at 0x259d0502a58>)"
      ]
     },
     "execution_count": 18,
     "metadata": {},
     "output_type": "execute_result"
    },
    {
     "data": {
      "text/plain": [
       "('A6F4R2.pdf', <http.client.HTTPMessage at 0x259d0502588>)"
      ]
     },
     "execution_count": 18,
     "metadata": {},
     "output_type": "execute_result"
    },
    {
     "data": {
      "text/plain": [
       "('A6T2G2.pdf', <http.client.HTTPMessage at 0x259d0502ef0>)"
      ]
     },
     "execution_count": 18,
     "metadata": {},
     "output_type": "execute_result"
    },
    {
     "data": {
      "text/plain": [
       "('A6T2G3.pdf', <http.client.HTTPMessage at 0x259d0502b38>)"
      ]
     },
     "execution_count": 18,
     "metadata": {},
     "output_type": "execute_result"
    },
    {
     "data": {
      "text/plain": [
       "('A6T2G4.pdf', <http.client.HTTPMessage at 0x259d07237b8>)"
      ]
     },
     "execution_count": 18,
     "metadata": {},
     "output_type": "execute_result"
    },
    {
     "data": {
      "text/plain": [
       "('A6T2G5.pdf', <http.client.HTTPMessage at 0x259d05027b8>)"
      ]
     },
     "execution_count": 18,
     "metadata": {},
     "output_type": "execute_result"
    },
    {
     "data": {
      "text/plain": [
       "('A6T2G6.pdf', <http.client.HTTPMessage at 0x259d05025c0>)"
      ]
     },
     "execution_count": 18,
     "metadata": {},
     "output_type": "execute_result"
    },
    {
     "data": {
      "text/plain": [
       "('A6T2G7.pdf', <http.client.HTTPMessage at 0x259d0502f98>)"
      ]
     },
     "execution_count": 18,
     "metadata": {},
     "output_type": "execute_result"
    },
    {
     "data": {
      "text/plain": [
       "('A6T2G8.pdf', <http.client.HTTPMessage at 0x259d0502358>)"
      ]
     },
     "execution_count": 18,
     "metadata": {},
     "output_type": "execute_result"
    },
    {
     "data": {
      "text/plain": [
       "('A6T2G9.pdf', <http.client.HTTPMessage at 0x259d0502ba8>)"
      ]
     },
     "execution_count": 18,
     "metadata": {},
     "output_type": "execute_result"
    },
    {
     "data": {
      "text/plain": [
       "('A6T2H0.pdf', <http.client.HTTPMessage at 0x259d0502160>)"
      ]
     },
     "execution_count": 18,
     "metadata": {},
     "output_type": "execute_result"
    },
    {
     "data": {
      "text/plain": [
       "('A6T2H1.pdf', <http.client.HTTPMessage at 0x259d0502208>)"
      ]
     },
     "execution_count": 18,
     "metadata": {},
     "output_type": "execute_result"
    },
    {
     "data": {
      "text/plain": [
       "('A6T2H2.pdf', <http.client.HTTPMessage at 0x259d05020b8>)"
      ]
     },
     "execution_count": 18,
     "metadata": {},
     "output_type": "execute_result"
    },
    {
     "data": {
      "text/plain": [
       "('A6T2H3.pdf', <http.client.HTTPMessage at 0x259d0502b00>)"
      ]
     },
     "execution_count": 18,
     "metadata": {},
     "output_type": "execute_result"
    },
    {
     "data": {
      "text/plain": [
       "('A6T2H4.pdf', <http.client.HTTPMessage at 0x259d0502668>)"
      ]
     },
     "execution_count": 18,
     "metadata": {},
     "output_type": "execute_result"
    },
    {
     "data": {
      "text/plain": [
       "('A6T2H5.pdf', <http.client.HTTPMessage at 0x259d0502ef0>)"
      ]
     },
     "execution_count": 18,
     "metadata": {},
     "output_type": "execute_result"
    },
    {
     "data": {
      "text/plain": [
       "('A6T2H6.pdf', <http.client.HTTPMessage at 0x259d05029b0>)"
      ]
     },
     "execution_count": 18,
     "metadata": {},
     "output_type": "execute_result"
    },
    {
     "data": {
      "text/plain": [
       "('A6T2V6.pdf', <http.client.HTTPMessage at 0x259d0502470>)"
      ]
     },
     "execution_count": 18,
     "metadata": {},
     "output_type": "execute_result"
    },
    {
     "data": {
      "text/plain": [
       "('A6T2V7.pdf', <http.client.HTTPMessage at 0x259d0502518>)"
      ]
     },
     "execution_count": 18,
     "metadata": {},
     "output_type": "execute_result"
    },
    {
     "data": {
      "text/plain": [
       "('A6T2V8.pdf', <http.client.HTTPMessage at 0x259d0502860>)"
      ]
     },
     "execution_count": 18,
     "metadata": {},
     "output_type": "execute_result"
    },
    {
     "data": {
      "text/plain": [
       "('A6T2V9.pdf', <http.client.HTTPMessage at 0x259d0502d30>)"
      ]
     },
     "execution_count": 18,
     "metadata": {},
     "output_type": "execute_result"
    },
    {
     "data": {
      "text/plain": [
       "('A6T2W2.pdf', <http.client.HTTPMessage at 0x259d0502128>)"
      ]
     },
     "execution_count": 18,
     "metadata": {},
     "output_type": "execute_result"
    },
    {
     "data": {
      "text/plain": [
       "('A6T2W3.pdf', <http.client.HTTPMessage at 0x259d0502630>)"
      ]
     },
     "execution_count": 18,
     "metadata": {},
     "output_type": "execute_result"
    },
    {
     "data": {
      "text/plain": [
       "('A6T2W4.pdf', <http.client.HTTPMessage at 0x259d0502080>)"
      ]
     },
     "execution_count": 18,
     "metadata": {},
     "output_type": "execute_result"
    },
    {
     "data": {
      "text/plain": [
       "('A6T2W5.pdf', <http.client.HTTPMessage at 0x259d0502a90>)"
      ]
     },
     "execution_count": 18,
     "metadata": {},
     "output_type": "execute_result"
    },
    {
     "data": {
      "text/plain": [
       "('A6T2W6.pdf', <http.client.HTTPMessage at 0x259d05025f8>)"
      ]
     },
     "execution_count": 18,
     "metadata": {},
     "output_type": "execute_result"
    },
    {
     "data": {
      "text/plain": [
       "('A6C8K0.pdf', <http.client.HTTPMessage at 0x259d0502cc0>)"
      ]
     },
     "execution_count": 18,
     "metadata": {},
     "output_type": "execute_result"
    },
    {
     "data": {
      "text/plain": [
       "('A2C0V3.pdf', <http.client.HTTPMessage at 0x259d0502898>)"
      ]
     },
     "execution_count": 18,
     "metadata": {},
     "output_type": "execute_result"
    },
    {
     "data": {
      "text/plain": [
       "('A2C0V4.pdf', <http.client.HTTPMessage at 0x259d0502c18>)"
      ]
     },
     "execution_count": 18,
     "metadata": {},
     "output_type": "execute_result"
    },
    {
     "data": {
      "text/plain": [
       "('A0Z0Y6.pdf', <http.client.HTTPMessage at 0x259d0502048>)"
      ]
     },
     "execution_count": 18,
     "metadata": {},
     "output_type": "execute_result"
    },
    {
     "data": {
      "text/plain": [
       "('A0Z0Y7.pdf', <http.client.HTTPMessage at 0x259d05021d0>)"
      ]
     },
     "execution_count": 18,
     "metadata": {},
     "output_type": "execute_result"
    },
    {
     "data": {
      "text/plain": [
       "('A0Z0Y8.pdf', <http.client.HTTPMessage at 0x259d0502630>)"
      ]
     },
     "execution_count": 18,
     "metadata": {},
     "output_type": "execute_result"
    },
    {
     "data": {
      "text/plain": [
       "('A0Z0Y9.pdf', <http.client.HTTPMessage at 0x259d05027f0>)"
      ]
     },
     "execution_count": 18,
     "metadata": {},
     "output_type": "execute_result"
    },
    {
     "data": {
      "text/plain": [
       "('A0Z0Z0.pdf', <http.client.HTTPMessage at 0x259d0502b38>)"
      ]
     },
     "execution_count": 18,
     "metadata": {},
     "output_type": "execute_result"
    },
    {
     "data": {
      "text/plain": [
       "('A0Z0Z1.pdf', <http.client.HTTPMessage at 0x259d0502dd8>)"
      ]
     },
     "execution_count": 18,
     "metadata": {},
     "output_type": "execute_result"
    },
    {
     "data": {
      "text/plain": [
       "('A0Z0Z2.pdf', <http.client.HTTPMessage at 0x259d072c7f0>)"
      ]
     },
     "execution_count": 18,
     "metadata": {},
     "output_type": "execute_result"
    },
    {
     "data": {
      "text/plain": [
       "('A0Z0Z3.pdf', <http.client.HTTPMessage at 0x259d072ca58>)"
      ]
     },
     "execution_count": 18,
     "metadata": {},
     "output_type": "execute_result"
    },
    {
     "data": {
      "text/plain": [
       "('A0Z0Z4.pdf', <http.client.HTTPMessage at 0x259d072c128>)"
      ]
     },
     "execution_count": 18,
     "metadata": {},
     "output_type": "execute_result"
    },
    {
     "data": {
      "text/plain": [
       "('A0Z0Z5.pdf', <http.client.HTTPMessage at 0x259d072cd68>)"
      ]
     },
     "execution_count": 18,
     "metadata": {},
     "output_type": "execute_result"
    },
    {
     "data": {
      "text/plain": [
       "('A0Z0Z6.pdf', <http.client.HTTPMessage at 0x259d072c198>)"
      ]
     },
     "execution_count": 18,
     "metadata": {},
     "output_type": "execute_result"
    },
    {
     "data": {
      "text/plain": [
       "('A0Z0Z7.pdf', <http.client.HTTPMessage at 0x259d072cc50>)"
      ]
     },
     "execution_count": 18,
     "metadata": {},
     "output_type": "execute_result"
    },
    {
     "data": {
      "text/plain": [
       "('A0Z0Z8.pdf', <http.client.HTTPMessage at 0x259d072c898>)"
      ]
     },
     "execution_count": 18,
     "metadata": {},
     "output_type": "execute_result"
    },
    {
     "data": {
      "text/plain": [
       "('A0Z0Z9.pdf', <http.client.HTTPMessage at 0x259d072cda0>)"
      ]
     },
     "execution_count": 18,
     "metadata": {},
     "output_type": "execute_result"
    },
    {
     "data": {
      "text/plain": [
       "('A0Z1A0.pdf', <http.client.HTTPMessage at 0x259d072cc18>)"
      ]
     },
     "execution_count": 18,
     "metadata": {},
     "output_type": "execute_result"
    },
    {
     "data": {
      "text/plain": [
       "('A0Z1A1.pdf', <http.client.HTTPMessage at 0x259d072c048>)"
      ]
     },
     "execution_count": 18,
     "metadata": {},
     "output_type": "execute_result"
    },
    {
     "data": {
      "text/plain": [
       "('A0Z1A2.pdf', <http.client.HTTPMessage at 0x259d072c518>)"
      ]
     },
     "execution_count": 18,
     "metadata": {},
     "output_type": "execute_result"
    },
    {
     "data": {
      "text/plain": [
       "('A0Z1A3.pdf', <http.client.HTTPMessage at 0x259d072c208>)"
      ]
     },
     "execution_count": 18,
     "metadata": {},
     "output_type": "execute_result"
    },
    {
     "data": {
      "text/plain": [
       "('A0Z1A4.pdf', <http.client.HTTPMessage at 0x259d072c588>)"
      ]
     },
     "execution_count": 18,
     "metadata": {},
     "output_type": "execute_result"
    },
    {
     "data": {
      "text/plain": [
       "('A0Z1A5.pdf', <http.client.HTTPMessage at 0x259d072c9e8>)"
      ]
     },
     "execution_count": 18,
     "metadata": {},
     "output_type": "execute_result"
    },
    {
     "data": {
      "text/plain": [
       "('A0Z1A6.pdf', <http.client.HTTPMessage at 0x259d072cd68>)"
      ]
     },
     "execution_count": 18,
     "metadata": {},
     "output_type": "execute_result"
    },
    {
     "data": {
      "text/plain": [
       "('A0Z1A7.pdf', <http.client.HTTPMessage at 0x259d072ca58>)"
      ]
     },
     "execution_count": 18,
     "metadata": {},
     "output_type": "execute_result"
    },
    {
     "data": {
      "text/plain": [
       "('A0Z1A8.pdf', <http.client.HTTPMessage at 0x259d072cb00>)"
      ]
     },
     "execution_count": 18,
     "metadata": {},
     "output_type": "execute_result"
    },
    {
     "data": {
      "text/plain": [
       "('A0Z1A9.pdf', <http.client.HTTPMessage at 0x259d072cc50>)"
      ]
     },
     "execution_count": 18,
     "metadata": {},
     "output_type": "execute_result"
    },
    {
     "data": {
      "text/plain": [
       "('A0Z1C0.pdf', <http.client.HTTPMessage at 0x259d0414da0>)"
      ]
     },
     "execution_count": 18,
     "metadata": {},
     "output_type": "execute_result"
    },
    {
     "data": {
      "text/plain": [
       "('A0Z1C1.pdf', <http.client.HTTPMessage at 0x259d0414f28>)"
      ]
     },
     "execution_count": 18,
     "metadata": {},
     "output_type": "execute_result"
    },
    {
     "data": {
      "text/plain": [
       "('A0Z1C2.pdf', <http.client.HTTPMessage at 0x259d072c1d0>)"
      ]
     },
     "execution_count": 18,
     "metadata": {},
     "output_type": "execute_result"
    },
    {
     "data": {
      "text/plain": [
       "('A0Z1C3.pdf', <http.client.HTTPMessage at 0x259d072ca20>)"
      ]
     },
     "execution_count": 18,
     "metadata": {},
     "output_type": "execute_result"
    },
    {
     "data": {
      "text/plain": [
       "('A0Z1C4.pdf', <http.client.HTTPMessage at 0x259d072c898>)"
      ]
     },
     "execution_count": 18,
     "metadata": {},
     "output_type": "execute_result"
    },
    {
     "data": {
      "text/plain": [
       "('A0Z1C5.pdf', <http.client.HTTPMessage at 0x259d072c4e0>)"
      ]
     },
     "execution_count": 18,
     "metadata": {},
     "output_type": "execute_result"
    },
    {
     "data": {
      "text/plain": [
       "('A1C2E2.pdf', <http.client.HTTPMessage at 0x259d0414e48>)"
      ]
     },
     "execution_count": 18,
     "metadata": {},
     "output_type": "execute_result"
    },
    {
     "data": {
      "text/plain": [
       "('A1C2E5.pdf', <http.client.HTTPMessage at 0x259d0414f98>)"
      ]
     },
     "execution_count": 18,
     "metadata": {},
     "output_type": "execute_result"
    },
    {
     "data": {
      "text/plain": [
       "('A1C2E6.pdf', <http.client.HTTPMessage at 0x259d0414278>)"
      ]
     },
     "execution_count": 18,
     "metadata": {},
     "output_type": "execute_result"
    },
    {
     "data": {
      "text/plain": [
       "('A1C2E7.pdf', <http.client.HTTPMessage at 0x259d0414e80>)"
      ]
     },
     "execution_count": 18,
     "metadata": {},
     "output_type": "execute_result"
    },
    {
     "data": {
      "text/plain": [
       "('A1C2E8.pdf', <http.client.HTTPMessage at 0x259d072c2b0>)"
      ]
     },
     "execution_count": 18,
     "metadata": {},
     "output_type": "execute_result"
    },
    {
     "data": {
      "text/plain": [
       "('A1C2E9.pdf', <http.client.HTTPMessage at 0x259d072c198>)"
      ]
     },
     "execution_count": 18,
     "metadata": {},
     "output_type": "execute_result"
    },
    {
     "data": {
      "text/plain": [
       "('A1C2F0.pdf', <http.client.HTTPMessage at 0x259d0414160>)"
      ]
     },
     "execution_count": 18,
     "metadata": {},
     "output_type": "execute_result"
    },
    {
     "data": {
      "text/plain": [
       "('A1C3V5.pdf', <http.client.HTTPMessage at 0x259d0414ef0>)"
      ]
     },
     "execution_count": 18,
     "metadata": {},
     "output_type": "execute_result"
    },
    {
     "data": {
      "text/plain": [
       "('A1C3V6.pdf', <http.client.HTTPMessage at 0x259d0414278>)"
      ]
     },
     "execution_count": 18,
     "metadata": {},
     "output_type": "execute_result"
    },
    {
     "data": {
      "text/plain": [
       "('A1C3V7.pdf', <http.client.HTTPMessage at 0x259d0414358>)"
      ]
     },
     "execution_count": 18,
     "metadata": {},
     "output_type": "execute_result"
    },
    {
     "data": {
      "text/plain": [
       "('A1C3V8.pdf', <http.client.HTTPMessage at 0x259d072c518>)"
      ]
     },
     "execution_count": 18,
     "metadata": {},
     "output_type": "execute_result"
    },
    {
     "data": {
      "text/plain": [
       "('A1C3V9.pdf', <http.client.HTTPMessage at 0x259d0414390>)"
      ]
     },
     "execution_count": 18,
     "metadata": {},
     "output_type": "execute_result"
    },
    {
     "data": {
      "text/plain": [
       "('A1C3W0.pdf', <http.client.HTTPMessage at 0x259d0414ef0>)"
      ]
     },
     "execution_count": 18,
     "metadata": {},
     "output_type": "execute_result"
    },
    {
     "data": {
      "text/plain": [
       "('A1C3W1.pdf', <http.client.HTTPMessage at 0x259d0414e48>)"
      ]
     },
     "execution_count": 18,
     "metadata": {},
     "output_type": "execute_result"
    },
    {
     "data": {
      "text/plain": [
       "('A1C3W2.pdf', <http.client.HTTPMessage at 0x259d0414128>)"
      ]
     },
     "execution_count": 18,
     "metadata": {},
     "output_type": "execute_result"
    },
    {
     "data": {
      "text/plain": [
       "('A1C3W3.pdf', <http.client.HTTPMessage at 0x259d04142e8>)"
      ]
     },
     "execution_count": 18,
     "metadata": {},
     "output_type": "execute_result"
    },
    {
     "data": {
      "text/plain": [
       "('A1C3W4.pdf', <http.client.HTTPMessage at 0x259d0414a58>)"
      ]
     },
     "execution_count": 18,
     "metadata": {},
     "output_type": "execute_result"
    },
    {
     "data": {
      "text/plain": [
       "('A1C3W5.pdf', <http.client.HTTPMessage at 0x259d072c908>)"
      ]
     },
     "execution_count": 18,
     "metadata": {},
     "output_type": "execute_result"
    },
    {
     "data": {
      "text/plain": [
       "('A1C3W6.pdf', <http.client.HTTPMessage at 0x259d0414cf8>)"
      ]
     },
     "execution_count": 18,
     "metadata": {},
     "output_type": "execute_result"
    },
    {
     "data": {
      "text/plain": [
       "('A1C3W7.pdf', <http.client.HTTPMessage at 0x259d0414978>)"
      ]
     },
     "execution_count": 18,
     "metadata": {},
     "output_type": "execute_result"
    },
    {
     "data": {
      "text/plain": [
       "('A1C3W8.pdf', <http.client.HTTPMessage at 0x259d05022b0>)"
      ]
     },
     "execution_count": 18,
     "metadata": {},
     "output_type": "execute_result"
    },
    {
     "data": {
      "text/plain": [
       "('A1C3W9.pdf', <http.client.HTTPMessage at 0x259d0414278>)"
      ]
     },
     "execution_count": 18,
     "metadata": {},
     "output_type": "execute_result"
    },
    {
     "data": {
      "text/plain": [
       "('A1C3X0.pdf', <http.client.HTTPMessage at 0x259d0502da0>)"
      ]
     },
     "execution_count": 18,
     "metadata": {},
     "output_type": "execute_result"
    },
    {
     "data": {
      "text/plain": [
       "('A1C3X1.pdf', <http.client.HTTPMessage at 0x259d072cc88>)"
      ]
     },
     "execution_count": 18,
     "metadata": {},
     "output_type": "execute_result"
    },
    {
     "data": {
      "text/plain": [
       "('A1C3X2.pdf', <http.client.HTTPMessage at 0x259d0414f28>)"
      ]
     },
     "execution_count": 18,
     "metadata": {},
     "output_type": "execute_result"
    },
    {
     "data": {
      "text/plain": [
       "('A1C3X3.pdf', <http.client.HTTPMessage at 0x259d0414fd0>)"
      ]
     },
     "execution_count": 18,
     "metadata": {},
     "output_type": "execute_result"
    },
    {
     "data": {
      "text/plain": [
       "('A1C3X4.pdf', <http.client.HTTPMessage at 0x259d0502f98>)"
      ]
     },
     "execution_count": 18,
     "metadata": {},
     "output_type": "execute_result"
    },
    {
     "data": {
      "text/plain": [
       "('A1C3X5.pdf', <http.client.HTTPMessage at 0x259d05022e8>)"
      ]
     },
     "execution_count": 18,
     "metadata": {},
     "output_type": "execute_result"
    },
    {
     "data": {
      "text/plain": [
       "('A1C3X6.pdf', <http.client.HTTPMessage at 0x259d0502da0>)"
      ]
     },
     "execution_count": 18,
     "metadata": {},
     "output_type": "execute_result"
    },
    {
     "data": {
      "text/plain": [
       "('A1C3X7.pdf', <http.client.HTTPMessage at 0x259d05029b0>)"
      ]
     },
     "execution_count": 18,
     "metadata": {},
     "output_type": "execute_result"
    },
    {
     "data": {
      "text/plain": [
       "('A1C3X8.pdf', <http.client.HTTPMessage at 0x259d0414400>)"
      ]
     },
     "execution_count": 18,
     "metadata": {},
     "output_type": "execute_result"
    },
    {
     "data": {
      "text/plain": [
       "('A1C3X9.pdf', <http.client.HTTPMessage at 0x259d0414390>)"
      ]
     },
     "execution_count": 18,
     "metadata": {},
     "output_type": "execute_result"
    },
    {
     "data": {
      "text/plain": [
       "('A1C3Y0.pdf', <http.client.HTTPMessage at 0x259d05027f0>)"
      ]
     },
     "execution_count": 18,
     "metadata": {},
     "output_type": "execute_result"
    },
    {
     "data": {
      "text/plain": [
       "('A1C3Y1.pdf', <http.client.HTTPMessage at 0x259d0502278>)"
      ]
     },
     "execution_count": 18,
     "metadata": {},
     "output_type": "execute_result"
    },
    {
     "data": {
      "text/plain": [
       "('A1C3Y2.pdf', <http.client.HTTPMessage at 0x259d0502da0>)"
      ]
     },
     "execution_count": 18,
     "metadata": {},
     "output_type": "execute_result"
    },
    {
     "data": {
      "text/plain": [
       "('A1C3Y3.pdf', <http.client.HTTPMessage at 0x259d0502b70>)"
      ]
     },
     "execution_count": 18,
     "metadata": {},
     "output_type": "execute_result"
    },
    {
     "data": {
      "text/plain": [
       "('A1C3Y4.pdf', <http.client.HTTPMessage at 0x259d0414e80>)"
      ]
     },
     "execution_count": 18,
     "metadata": {},
     "output_type": "execute_result"
    },
    {
     "data": {
      "text/plain": [
       "('A1C3Y5.pdf', <http.client.HTTPMessage at 0x259d0502278>)"
      ]
     },
     "execution_count": 18,
     "metadata": {},
     "output_type": "execute_result"
    },
    {
     "data": {
      "text/plain": [
       "('A1C3Y6.pdf', <http.client.HTTPMessage at 0x259d0502f98>)"
      ]
     },
     "execution_count": 18,
     "metadata": {},
     "output_type": "execute_result"
    },
    {
     "data": {
      "text/plain": [
       "('A1C3Y7.pdf', <http.client.HTTPMessage at 0x259d0502940>)"
      ]
     },
     "execution_count": 18,
     "metadata": {},
     "output_type": "execute_result"
    },
    {
     "data": {
      "text/plain": [
       "('A1C3Y8.pdf', <http.client.HTTPMessage at 0x259d05022e8>)"
      ]
     },
     "execution_count": 18,
     "metadata": {},
     "output_type": "execute_result"
    },
    {
     "data": {
      "text/plain": [
       "('A1C3Y9.pdf', <http.client.HTTPMessage at 0x259d05026a0>)"
      ]
     },
     "execution_count": 18,
     "metadata": {},
     "output_type": "execute_result"
    },
    {
     "data": {
      "text/plain": [
       "('A1C3Z0.pdf', <http.client.HTTPMessage at 0x259d0502da0>)"
      ]
     },
     "execution_count": 18,
     "metadata": {},
     "output_type": "execute_result"
    },
    {
     "data": {
      "text/plain": [
       "('A1C3Z1.pdf', <http.client.HTTPMessage at 0x259d04140f0>)"
      ]
     },
     "execution_count": 18,
     "metadata": {},
     "output_type": "execute_result"
    },
    {
     "data": {
      "text/plain": [
       "('A1C3Z2.pdf', <http.client.HTTPMessage at 0x259d0502748>)"
      ]
     },
     "execution_count": 18,
     "metadata": {},
     "output_type": "execute_result"
    },
    {
     "data": {
      "text/plain": [
       "('A1C3Z3.pdf', <http.client.HTTPMessage at 0x259d0502b38>)"
      ]
     },
     "execution_count": 18,
     "metadata": {},
     "output_type": "execute_result"
    },
    {
     "data": {
      "text/plain": [
       "('A1C3Z4.pdf', <http.client.HTTPMessage at 0x259d0502c50>)"
      ]
     },
     "execution_count": 18,
     "metadata": {},
     "output_type": "execute_result"
    },
    {
     "data": {
      "text/plain": [
       "('A1C3Z5.pdf', <http.client.HTTPMessage at 0x259d05022b0>)"
      ]
     },
     "execution_count": 18,
     "metadata": {},
     "output_type": "execute_result"
    }
   ],
   "source": [
    "#downloads all ESA PDFs from list\n",
    "for x in download_ESA_links[1071:]:\n",
    "    try:\n",
    "        urlretrieve(x,download_ESA_filename[pd.Index(download_ESA_links).get_loc(x)]+'.pdf')\n",
    "    except:\n",
    "        print(\"Failed\")\n"
   ]
  },
  {
   "cell_type": "code",
   "execution_count": 137,
   "metadata": {},
   "outputs": [],
   "source": [
    "#regular expressions to parse out application date and hearing order \n",
    "application_date = df['Application title'].str.extract('(\\d\\d\\d\\d-\\d\\d-\\d\\d)')\n",
    "df.insert(7, 'application_date', application_date)\n",
    "\n",
    "hearing_order = df['Application title'].str.extract(r'(\\D\\D-\\d(.+?)\\d\\d\\d\\d)')\n",
    "hearing_order = hearing_order.drop([1], axis=1)\n",
    "df.insert(8, 'hearing_order', hearing_order)"
   ]
  },
  {
   "cell_type": "code",
   "execution_count": 141,
   "metadata": {},
   "outputs": [
    {
     "data": {
      "text/plain": [
       "False"
      ]
     },
     "execution_count": 141,
     "metadata": {},
     "output_type": "execute_result"
    },
    {
     "data": {
      "text/plain": [
       "False"
      ]
     },
     "execution_count": 141,
     "metadata": {},
     "output_type": "execute_result"
    }
   ],
   "source": [
    "#check to ensure regex worked\n",
    "hearing_order.isnull().values.any()\n",
    "application_date.isnull().values.any()"
   ]
  },
  {
   "cell_type": "code",
   "execution_count": 139,
   "metadata": {},
   "outputs": [
    {
     "data": {
      "text/plain": [
       "(1331, 11)"
      ]
     },
     "execution_count": 139,
     "metadata": {},
     "output_type": "execute_result"
    },
    {
     "data": {
      "text/plain": [
       "Index(['file_name', 'postal', 'hrefs', 'folder', 'Folder link', 'Section',\n",
       "       'Application title', 'application_date', 'hearing_order',\n",
       "       'link to folder with ESA', 'Company Name'],\n",
       "      dtype='object')"
      ]
     },
     "execution_count": 139,
     "metadata": {},
     "output_type": "execute_result"
    },
    {
     "data": {
      "text/plain": [
       "36"
      ]
     },
     "execution_count": 139,
     "metadata": {},
     "output_type": "execute_result"
    }
   ],
   "source": [
    "df.shape\n",
    "df.columns\n",
    "df['Application title'].nunique()"
   ]
  },
  {
   "cell_type": "code",
   "execution_count": 140,
   "metadata": {},
   "outputs": [],
   "source": [
    "df.to_csv('ESA_Index1.csv')"
   ]
  }
 ],
 "metadata": {
  "kernelspec": {
   "display_name": "Python 3",
   "language": "python",
   "name": "python3"
  },
  "language_info": {
   "codemirror_mode": {
    "name": "ipython",
    "version": 3
   },
   "file_extension": ".py",
   "mimetype": "text/x-python",
   "name": "python",
   "nbconvert_exporter": "python",
   "pygments_lexer": "ipython3",
   "version": "3.7.1"
  }
 },
 "nbformat": 4,
 "nbformat_minor": 2
}
